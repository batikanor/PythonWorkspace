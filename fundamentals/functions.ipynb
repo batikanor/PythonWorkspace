{
 "metadata": {
  "language_info": {
   "codemirror_mode": {
    "name": "ipython",
    "version": 3
   },
   "file_extension": ".py",
   "mimetype": "text/x-python",
   "name": "python",
   "nbconvert_exporter": "python",
   "pygments_lexer": "ipython3",
   "version": "3.8.3-final"
  },
  "orig_nbformat": 2,
  "kernelspec": {
   "name": "python38364bitbaseconda5efff4bb3b2142ef95edd30167c33665",
   "display_name": "Python 3.8.3 64-bit ('base': conda)"
  }
 },
 "nbformat": 4,
 "nbformat_minor": 2,
 "cells": [
  {
   "source": [
    "# Functions in Python3 "
   ],
   "cell_type": "markdown",
   "metadata": {}
  },
  {
   "source": [
    "## 1.Simple"
   ],
   "cell_type": "markdown",
   "metadata": {}
  },
  {
   "cell_type": "code",
   "execution_count": 4,
   "metadata": {},
   "outputs": [],
   "source": [
    "def add(a, b):\n",
    "    return a + b"
   ]
  },
  {
   "source": [
    "## 2. Utilities"
   ],
   "cell_type": "markdown",
   "metadata": {}
  },
  {
   "source": [
    "### 2.1. Map\n",
    "* Definition: Return an iterator that applies function to every item of iterable, yielding the results. If additional iterable arguments are passed, function must take that many arguments and is applied to the items from all iterables in parallel. With multiple iterables, the iterator stops when the shortest iterable is exhausted. For cases where the function inputs are already arranged into argument tuples, see itertools.starmap().\n",
    "\n",
    "* Syntax: map(function, iterable, ...)\n",
    "* Parameters:\n",
    "  *  function - map() passes each item of the iterable to this function.\n",
    "  *  iterable - iterable which is to be mapped (you can pass more than one of those)\n",
    "* Return value: A list of the results (as a map object) (can then be converted to a list with list() or to a set with set() method.)\n",
    "    "
   ],
   "cell_type": "markdown",
   "metadata": {}
  },
  {
   "cell_type": "code",
   "execution_count": 4,
   "metadata": {},
   "outputs": [
    {
     "output_type": "stream",
     "name": "stdout",
     "text": [
      "6\n"
     ]
    }
   ],
   "source": [
    "# Example for map\n",
    "# INPUT: number of integers \\n integers seperated with space\n",
    "# OUTPUT: sum of nonneg integers\n",
    "\n",
    "n = int(input())\n",
    "sum_nneg = 0\n",
    "list_nums = list(map(lambda x: int(x) if int(x) > 0 else 0, input().split()))\n",
    "\n",
    "for num in list_nums:\n",
    "    if (num > 0):\n",
    "        sum_nneg += num\n",
    "        \n",
    "print(sum_nneg)"
   ]
  },
  {
   "source": [
    "### 2.2. Lambda Function"
   ],
   "cell_type": "markdown",
   "metadata": {}
  },
  {
   "cell_type": "code",
   "execution_count": 3,
   "metadata": {},
   "outputs": [
    {
     "output_type": "stream",
     "name": "stdout",
     "text": [
      "<map object at 0x7fc9ec994a00>\n[1, 4, 9, 16]\n"
     ]
    }
   ],
   "source": [
    "numbers = [1, 2, 3, 4]\n",
    "result = map(lambda x: x*x, numbers)\n",
    "print(result)\n",
    "print(list(result))"
   ]
  },
  {
   "source": [
    "### 2.3. Enumerate Function\n",
    "* Definition: Python’s built-in enumerate function allows us to loop over a list and retrieve both the index and the value of each item in the list:\n",
    "* Equivalent: to the function given below"
   ],
   "cell_type": "markdown",
   "metadata": {}
  },
  {
   "cell_type": "code",
   "execution_count": 6,
   "metadata": {},
   "outputs": [
    {
     "output_type": "stream",
     "name": "stdout",
     "text": [
      "0 izmirin\n1 daglarinda\n"
     ]
    }
   ],
   "source": [
    "# equivalent to\n",
    "def enumerate(sequence, start=0):\n",
    "    n = start\n",
    "    for elem in sequence:\n",
    "        yield n, elem\n",
    "        n += 1\n",
    "\n",
    "for i,v in enumerate([\"izmirin\", \"daglarinda\"]):\n",
    "    print (i,v)\n"
   ]
  },
  {
   "source": [
    "## 3. Sorting"
   ],
   "cell_type": "markdown",
   "metadata": {}
  },
  {
   "source": [
    "### 3.1. Sorted() Function\n",
    "* Syntax:  sorted(iterable, *, key=None, reverse=False)\n",
    "* Has two optional arguments which must be specified as keyword arguments.\n",
    "\n",
    "    * ** key specifies a function of one argument that is used to extract a comparison key from each element in iterable (for example, key=str.lower). The default value is None (compare the elements directly).**\n",
    "\n",
    "    * reverse is a boolean value. If set to True, then the list elements are sorted as if each comparison were reversed."
   ],
   "cell_type": "markdown",
   "metadata": {}
  },
  {
   "cell_type": "code",
   "execution_count": 2,
   "metadata": {},
   "outputs": [
    {
     "output_type": "error",
     "ename": "SyntaxError",
     "evalue": "invalid syntax (<ipython-input-2-55c9bb6155e9>, line 1)",
     "traceback": [
      "\u001b[0;36m  File \u001b[0;32m\"<ipython-input-2-55c9bb6155e9>\"\u001b[0;36m, line \u001b[0;32m1\u001b[0m\n\u001b[0;31m    tuples_array = [(1, 'meow'), (2, 'rawr'). (0, 'first')]\u001b[0m\n\u001b[0m                                              ^\u001b[0m\n\u001b[0;31mSyntaxError\u001b[0m\u001b[0;31m:\u001b[0m invalid syntax\n"
     ]
    }
   ],
   "source": [
    "tuples_array = [(1, 'meow'), (2, 'rawr'), (0, 'first')]\n",
    "sorted_ta = sorted(tuples_array, key=lambda n: n[1]) # Compare the first elements and sort accordingly\n",
    "sorted_ta"
   ]
  }
 ]
}