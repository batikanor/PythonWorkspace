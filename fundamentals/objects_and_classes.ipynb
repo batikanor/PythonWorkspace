{
 "metadata": {
  "language_info": {
   "codemirror_mode": {
    "name": "ipython",
    "version": 3
   },
   "file_extension": ".py",
   "mimetype": "text/x-python",
   "name": "python",
   "nbconvert_exporter": "python",
   "pygments_lexer": "ipython3",
   "version": "3.8.3-final"
  },
  "orig_nbformat": 2,
  "kernelspec": {
   "name": "python38364bitbaseconda5efff4bb3b2142ef95edd30167c33665",
   "display_name": "Python 3.8.3 64-bit ('base': conda)"
  }
 },
 "nbformat": 4,
 "nbformat_minor": 2,
 "cells": [
  {
   "cell_type": "code",
   "execution_count": 26,
   "metadata": {},
   "outputs": [
    {
     "output_type": "execute_result",
     "data": {
      "text/plain": [
       "list"
      ]
     },
     "metadata": {},
     "execution_count": 26
    }
   ],
   "source": [
    "type([1, 2, 3])"
   ]
  },
  {
   "cell_type": "code",
   "execution_count": 20,
   "metadata": {},
   "outputs": [
    {
     "output_type": "execute_result",
     "data": {
      "text/plain": [
       "str"
      ]
     },
     "metadata": {},
     "execution_count": 20
    }
   ],
   "source": [
    "type(\"dfdd\")"
   ]
  },
  {
   "cell_type": "code",
   "execution_count": 31,
   "metadata": {},
   "outputs": [],
   "source": [
    "class Circle(object): # Object is the parent of the class\n",
    "    def __init__(self, radius, color = \"green\"): # __init__ is a special method or constructor used to initialize data attributes.\n",
    "        self.radius = radius;\n",
    "        self.color = color;\n",
    "        \n",
    "    def add_radius(self, r): # You don't need to add the self parameter while calling the method, python will take care of that.\n",
    "        self.radius = self.radius + r\n",
    "        return (self.radius)\n",
    "    \n"
   ]
  },
  {
   "source": [
    "* The **self** parameter refers to the newly created instance of the class\n",
    "* There are other special functions in python (than __init__) to make more comples classes"
   ],
   "cell_type": "markdown",
   "metadata": {}
  },
  {
   "cell_type": "code",
   "execution_count": 38,
   "metadata": {},
   "outputs": [
    {
     "output_type": "stream",
     "name": "stdout",
     "text": [
      "blue\n13\n"
     ]
    },
    {
     "output_type": "execute_result",
     "data": {
      "text/plain": [
       "['__class__',\n",
       " '__delattr__',\n",
       " '__dict__',\n",
       " '__dir__',\n",
       " '__doc__',\n",
       " '__eq__',\n",
       " '__format__',\n",
       " '__ge__',\n",
       " '__getattribute__',\n",
       " '__gt__',\n",
       " '__hash__',\n",
       " '__init__',\n",
       " '__init_subclass__',\n",
       " '__le__',\n",
       " '__lt__',\n",
       " '__module__',\n",
       " '__ne__',\n",
       " '__new__',\n",
       " '__reduce__',\n",
       " '__reduce_ex__',\n",
       " '__repr__',\n",
       " '__setattr__',\n",
       " '__sizeof__',\n",
       " '__str__',\n",
       " '__subclasshook__',\n",
       " '__weakref__',\n",
       " 'add_radius',\n",
       " 'color',\n",
       " 'radius']"
      ]
     },
     "metadata": {},
     "execution_count": 38
    }
   ],
   "source": [
    "myCircle = Circle(10, \"blue\")\n",
    "print(myCircle.color)\n",
    "print(myCircle.add_radius(3))\n",
    "dir(myCircle)"
   ]
  },
  {
   "source": [
    "* The dir function returns a list of the objects data attributes.\n",
    "* The returned attributes which are surrounded by underscores are for internal use.\n",
    "* More info: https://python.org"
   ],
   "cell_type": "markdown",
   "metadata": {}
  },
  {
   "cell_type": "code",
   "execution_count": 35,
   "metadata": {},
   "outputs": [
    {
     "output_type": "stream",
     "name": "stdout",
     "text": [
      "<__main__.Point_2D object at 0x7fa5e570eb80> \n 2 and 5\n"
     ]
    }
   ],
   "source": [
    "\n",
    "class Point_2D:\n",
    "    def __init__(self, x, y):\n",
    "        self.x = x\n",
    "        self.y = y\n",
    "p = Point_2D(2, 5)\n",
    "print(p, \"\\n\", p.x, \"and\", p.y)\n"
   ]
  }
 ]
}