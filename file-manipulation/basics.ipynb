{
 "metadata": {
  "language_info": {
   "codemirror_mode": {
    "name": "ipython",
    "version": 3
   },
   "file_extension": ".py",
   "mimetype": "text/x-python",
   "name": "python",
   "nbconvert_exporter": "python",
   "pygments_lexer": "ipython3",
   "version": "3.8.3-final"
  },
  "orig_nbformat": 2,
  "kernelspec": {
   "name": "python38364bitbaseconda5efff4bb3b2142ef95edd30167c33665",
   "display_name": "Python 3.8.3 64-bit ('base': conda)"
  }
 },
 "nbformat": 4,
 "nbformat_minor": 2,
 "cells": [
  {
   "cell_type": "code",
   "execution_count": 53,
   "metadata": {},
   "outputs": [
    {
     "output_type": "stream",
     "name": "stdout",
     "text": [
      "a resources/basics1.txt\nTrue\n"
     ]
    }
   ],
   "source": [
    "file_path = \"resources/basics1.txt\"\n",
    "try:\n",
    "    file1 = open(file_path, \"a\") # modes: r,w,x,a\n",
    "    file1.write(\"spongebob squarepants\\n\")\n",
    "except FileNotFoundError:\n",
    "    print(\"File not found!\")\n",
    "else:\n",
    "    print(file1.mode, file1.name)\n",
    "    file1.close()\n",
    "    print(file1.closed)"
   ]
  },
  {
   "source": [
    "### file opening modes with meanings\n",
    "* r: reading\n",
    "* w: writing\n",
    "* a: appending\n",
    "* rb: reading binary\n",
    "* r+: reading + writing simultaneously\n",
    "* rb+: writing and reading in binary\n",
    "* ab: appending in binary\n",
    "* a+: appending and reading mode\n",
    "* ab+: appending and reading in binary\n",
    "#### Modes added with python3\n",
    "* x: writing mode but creates FileExistsError if the file already FileExistsError\n",
    "* xb: ^but binary\n",
    "* x+: similar to w+ but may create FileExistsError\n",
    "* xb+: ^ but binary"
   ],
   "cell_type": "markdown",
   "metadata": {}
  },
  {
   "cell_type": "code",
   "execution_count": 55,
   "metadata": {},
   "outputs": [
    {
     "output_type": "stream",
     "name": "stdout",
     "text": [
      "['cat goes meow\\n', 'dog goes woof\\n', 'meow woof moo\\n', 'spongebob squarepants\\n', 'spongebob squarepants\\n', 'spongebob squarepants\\n', 'spongebob squarepants\\n', 'spongebob squarepants\\n', '\\n', 'spongebob squarepants\\n', 'spongebob squarepants\\n']\n197\n['cat goes meow\\n', 'dog goes woof\\n']\n['meow woof moo\\n']\n['spongebob squarepants\\n', 'spongebob squarepants\\n', 'spongebob squarepants\\n', 'spongebob squarepants\\n', 'spongebob squarepants\\n', '\\n', 'spongebob squarepants\\n', 'spongebob squarepants\\n']\n"
     ]
    }
   ],
   "source": [
    "with open(file_path, \"r\") as file1: # file is closed automatically after with block is completed\n",
    "    file_contents = file1.readlines()\n",
    "    print(file_contents)\n",
    "    print(file1.tell()) # current location of the filehandle pointer.and\n",
    "    import os # e.g. 41\n",
    "    file1.seek(0, os.SEEK_SET)\n",
    "    print(file1.readlines(17)) # prints first two lines ( cuz 17 is somewhere on the second line)\n",
    "    print(file1.readlines(2)) # prints next line... cuz its not shorter than 2 characters.\n",
    "    print(file1.readlines()) # no line left to print, so... empty list.\n"
   ]
  },
  {
   "cell_type": "code",
   "execution_count": null,
   "metadata": {},
   "outputs": [],
   "source": []
  }
 ]
}