{
 "cells": [
  {
   "cell_type": "markdown",
   "metadata": {},
   "source": [
    "# Pandas"
   ]
  },
  {
   "cell_type": "markdown",
   "metadata": {},
   "source": [
    "## 1. Pandas Basics"
   ]
  },
  {
   "cell_type": "markdown",
   "metadata": {},
   "source": [
    "### 1.1. Creating Pandas Series\n",
    "![](https://github.com/VinitaSilaparasetty/Coursera-Pandas-for-Beginners/blob/master/Media/series.png?raw=true)"
   ]
  },
  {
   "source": [
    "import numpy as np\n",
    "import pandas as pd"
   ],
   "cell_type": "code",
   "metadata": {},
   "execution_count": 1,
   "outputs": []
  },
  {
   "cell_type": "code",
   "execution_count": 35,
   "metadata": {},
   "outputs": [
    {
     "output_type": "execute_result",
     "data": {
      "text/plain": [
       "0                   1\n",
       "1                 NaN\n",
       "2     Pandas Library \n",
       "dtype: object"
      ]
     },
     "metadata": {},
     "execution_count": 35
    }
   ],
   "source": [
    "# Creating pandas series by passing a list\n",
    "s = [1, np.nan, ' Pandas Library ']\n",
    "s1 = pd.Series(s)\n",
    "s1"
   ]
  },
  {
   "cell_type": "code",
   "execution_count": 38,
   "metadata": {},
   "outputs": [
    {
     "output_type": "execute_result",
     "data": {
      "text/plain": [
       "0      2\n",
       "1    nan\n",
       "2      b\n",
       "dtype: object"
      ]
     },
     "metadata": {},
     "execution_count": 38
    }
   ],
   "source": [
    "# Creating pandas series by passing numpy array\n",
    "s2 = np.array([2, np.nan, 'b'])\n",
    "s2 = pd.Series(s2)\n",
    "s2\n"
   ]
  },
  {
   "cell_type": "code",
   "execution_count": 41,
   "metadata": {},
   "outputs": [
    {
     "output_type": "execute_result",
     "data": {
      "text/plain": [
       "0    animal\n",
       "1         2\n",
       "2    animal\n",
       "dtype: object"
      ]
     },
     "metadata": {},
     "execution_count": 41
    }
   ],
   "source": [
    "list1 = ['animal', '2', 'animal']\n",
    "s3 = pd.Series(list1)\n",
    "s3"
   ]
  },
  {
   "cell_type": "code",
   "execution_count": null,
   "metadata": {},
   "outputs": [],
   "source": []
  },
  {
   "cell_type": "code",
   "execution_count": 44,
   "metadata": {},
   "outputs": [
    {
     "output_type": "execute_result",
     "data": {
      "text/plain": [
       "0        3\n",
       "1        c\n",
       "2    Numpy\n",
       "dtype: object"
      ]
     },
     "metadata": {},
     "execution_count": 44
    }
   ],
   "source": [
    "list2 = [3, 'c', \"Numpy\"]\n",
    "s4 = pd.Series(list2)\n",
    "s4"
   ]
  },
  {
   "cell_type": "code",
   "execution_count": 47,
   "metadata": {},
   "outputs": [
    {
     "output_type": "execute_result",
     "data": {
      "text/plain": [
       "A         1\n",
       "3    Python\n",
       "dtype: object"
      ]
     },
     "metadata": {},
     "execution_count": 47
    }
   ],
   "source": [
    "# Creating pandas series by passing a dictionary\n",
    "s5 = pd.Series(\n",
    "  {'A': 1,\n",
    "  '3': 'Python',\n",
    "   })\n",
    "s5"
   ]
  },
  {
   "cell_type": "code",
   "execution_count": 50,
   "metadata": {},
   "outputs": [
    {
     "output_type": "execute_result",
     "data": {
      "text/plain": [
       "Integer       3\n",
       "B          Boys\n",
       "dtype: object"
      ]
     },
     "metadata": {},
     "execution_count": 50
    }
   ],
   "source": [
    "s6 = pd.Series(\n",
    "    {'Integer': 3,\n",
    "    'B': 'Boys',\n",
    "    })\n",
    "s6"
   ]
  },
  {
   "source": [
    "### 1.2. Creating Dataframes in Pandas\n",
    "![](https://github.com/VinitaSilaparasetty/Coursera-Pandas-for-Beginners/blob/master/Media/dataframe.gif?raw=true)"
   ],
   "cell_type": "markdown",
   "metadata": {}
  },
  {
   "cell_type": "code",
   "execution_count": null,
   "metadata": {},
   "outputs": [],
   "source": []
  },
  {
   "cell_type": "code",
   "execution_count": 53,
   "metadata": {},
   "outputs": [
    {
     "output_type": "stream",
     "name": "stdout",
     "text": [
      "-0.28938972316348205\n-1.0424040927277867\n"
     ]
    },
    {
     "output_type": "execute_result",
     "data": {
      "text/plain": [
       "          0         1         2         3\n",
       "0 -0.289390  0.586735  2.259728  1.585336\n",
       "1  0.260472  1.126744 -0.288090  0.479381\n",
       "2  0.560275 -1.042404  1.155921  0.466151\n",
       "3  0.448241  0.268577  0.619400 -0.909829\n",
       "4 -1.320085  1.556727 -0.035270  0.592751\n",
       "5  0.039091 -0.175943 -0.283086  0.729623"
      ],
      "text/html": "<div>\n<style scoped>\n    .dataframe tbody tr th:only-of-type {\n        vertical-align: middle;\n    }\n\n    .dataframe tbody tr th {\n        vertical-align: top;\n    }\n\n    .dataframe thead th {\n        text-align: right;\n    }\n</style>\n<table border=\"1\" class=\"dataframe\">\n  <thead>\n    <tr style=\"text-align: right;\">\n      <th></th>\n      <th>0</th>\n      <th>1</th>\n      <th>2</th>\n      <th>3</th>\n    </tr>\n  </thead>\n  <tbody>\n    <tr>\n      <th>0</th>\n      <td>-0.289390</td>\n      <td>0.586735</td>\n      <td>2.259728</td>\n      <td>1.585336</td>\n    </tr>\n    <tr>\n      <th>1</th>\n      <td>0.260472</td>\n      <td>1.126744</td>\n      <td>-0.288090</td>\n      <td>0.479381</td>\n    </tr>\n    <tr>\n      <th>2</th>\n      <td>0.560275</td>\n      <td>-1.042404</td>\n      <td>1.155921</td>\n      <td>0.466151</td>\n    </tr>\n    <tr>\n      <th>3</th>\n      <td>0.448241</td>\n      <td>0.268577</td>\n      <td>0.619400</td>\n      <td>-0.909829</td>\n    </tr>\n    <tr>\n      <th>4</th>\n      <td>-1.320085</td>\n      <td>1.556727</td>\n      <td>-0.035270</td>\n      <td>0.592751</td>\n    </tr>\n    <tr>\n      <th>5</th>\n      <td>0.039091</td>\n      <td>-0.175943</td>\n      <td>-0.283086</td>\n      <td>0.729623</td>\n    </tr>\n  </tbody>\n</table>\n</div>"
     },
     "metadata": {},
     "execution_count": 53
    }
   ],
   "source": [
    "# Passing a numpy array to create a dataframe\n",
    "df = pd.DataFrame(np.random.randn(6,4)) # randn generates a random matrix with given dimensions\n",
    "print(df.iloc[0, 0]) # df.ix[] is deprecated, so we have this instead (to get first row and first column)\n",
    "print(df.loc[2, 1]) # could also be df.loc[2, 'meow'] if name of column was 'meow'\n",
    "df"
   ]
  },
  {
   "source": [
    "* loc is primarily label based; when two arguments are used, you use column headers and row indexes to select the data you want. loc can also take an integer as a row or column number.\n",
    "* iloc is integer-based. You use column numbers and row numbers to get rows or columns at particular positions in the data frame.\n",
    "* By default, ix looks for a label. If ix doesn't find a label, it will use an integer. This means you can select data by using either column numbers and row numbers or column headers and row names using ix.\n",
    "\n",
    "* In Pandas version 0.20.0 and later, ix is deprecated."
   ],
   "cell_type": "markdown",
   "metadata": {}
  },
  {
   "cell_type": "code",
   "execution_count": 56,
   "metadata": {},
   "outputs": [
    {
     "output_type": "execute_result",
     "data": {
      "text/plain": [
       "          0         1         2\n",
       "0  0.535536  1.963629  0.820331\n",
       "1  1.068858  0.333659  0.191067\n",
       "2  0.118642  1.742402 -0.300667"
      ],
      "text/html": "<div>\n<style scoped>\n    .dataframe tbody tr th:only-of-type {\n        vertical-align: middle;\n    }\n\n    .dataframe tbody tr th {\n        vertical-align: top;\n    }\n\n    .dataframe thead th {\n        text-align: right;\n    }\n</style>\n<table border=\"1\" class=\"dataframe\">\n  <thead>\n    <tr style=\"text-align: right;\">\n      <th></th>\n      <th>0</th>\n      <th>1</th>\n      <th>2</th>\n    </tr>\n  </thead>\n  <tbody>\n    <tr>\n      <th>0</th>\n      <td>0.535536</td>\n      <td>1.963629</td>\n      <td>0.820331</td>\n    </tr>\n    <tr>\n      <th>1</th>\n      <td>1.068858</td>\n      <td>0.333659</td>\n      <td>0.191067</td>\n    </tr>\n    <tr>\n      <th>2</th>\n      <td>0.118642</td>\n      <td>1.742402</td>\n      <td>-0.300667</td>\n    </tr>\n  </tbody>\n</table>\n</div>"
     },
     "metadata": {},
     "execution_count": 56
    }
   ],
   "source": [
    "df1 = pd.DataFrame(np.random.randn(3,3))\n",
    "df1"
   ]
  },
  {
   "cell_type": "code",
   "execution_count": 59,
   "metadata": {},
   "outputs": [
    {
     "output_type": "execute_result",
     "data": {
      "text/plain": [
       "   A  number\n",
       "0  1       6\n",
       "1  1       6\n",
       "2  1       6"
      ],
      "text/html": "<div>\n<style scoped>\n    .dataframe tbody tr th:only-of-type {\n        vertical-align: middle;\n    }\n\n    .dataframe tbody tr th {\n        vertical-align: top;\n    }\n\n    .dataframe thead th {\n        text-align: right;\n    }\n</style>\n<table border=\"1\" class=\"dataframe\">\n  <thead>\n    <tr style=\"text-align: right;\">\n      <th></th>\n      <th>A</th>\n      <th>number</th>\n    </tr>\n  </thead>\n  <tbody>\n    <tr>\n      <th>0</th>\n      <td>1</td>\n      <td>6</td>\n    </tr>\n    <tr>\n      <th>1</th>\n      <td>1</td>\n      <td>6</td>\n    </tr>\n    <tr>\n      <th>2</th>\n      <td>1</td>\n      <td>6</td>\n    </tr>\n  </tbody>\n</table>\n</div>"
     },
     "metadata": {},
     "execution_count": 59
    }
   ],
   "source": [
    "# Passing a dictionary to create a pandas dataframe\n",
    "df2 = pd.DataFrame({\n",
    "    'A': 1,\n",
    "    'number':np.array([6]*3,dtype='int32'),\n",
    "})\n",
    "df2"
   ]
  },
  {
   "cell_type": "code",
   "execution_count": 62,
   "metadata": {},
   "outputs": [
    {
     "output_type": "execute_result",
     "data": {
      "text/plain": [
       "   E  Day\n",
       "0  4    2\n",
       "1  4    2\n",
       "2  4    2\n",
       "3  4    2\n",
       "4  4    2"
      ],
      "text/html": "<div>\n<style scoped>\n    .dataframe tbody tr th:only-of-type {\n        vertical-align: middle;\n    }\n\n    .dataframe tbody tr th {\n        vertical-align: top;\n    }\n\n    .dataframe thead th {\n        text-align: right;\n    }\n</style>\n<table border=\"1\" class=\"dataframe\">\n  <thead>\n    <tr style=\"text-align: right;\">\n      <th></th>\n      <th>E</th>\n      <th>Day</th>\n    </tr>\n  </thead>\n  <tbody>\n    <tr>\n      <th>0</th>\n      <td>4</td>\n      <td>2</td>\n    </tr>\n    <tr>\n      <th>1</th>\n      <td>4</td>\n      <td>2</td>\n    </tr>\n    <tr>\n      <th>2</th>\n      <td>4</td>\n      <td>2</td>\n    </tr>\n    <tr>\n      <th>3</th>\n      <td>4</td>\n      <td>2</td>\n    </tr>\n    <tr>\n      <th>4</th>\n      <td>4</td>\n      <td>2</td>\n    </tr>\n  </tbody>\n</table>\n</div>"
     },
     "metadata": {},
     "execution_count": 62
    }
   ],
   "source": [
    "df3 = pd.DataFrame({\n",
    "    'E': np.array([4] * 5, dtype='int32'),\n",
    "    'Day': 2,\n",
    "})\n",
    "df3"
   ]
  },
  {
   "cell_type": "markdown",
   "metadata": {},
   "source": [
    "### 1.3. Importing Files"
   ]
  },
  {
   "cell_type": "code",
   "execution_count": 65,
   "metadata": {},
   "outputs": [
    {
     "output_type": "stream",
     "name": "stdout",
     "text": [
      ".:\n",
      "Coursera-Pandas-for-Beginners\n",
      "example_1.csv\n",
      "pandas_notes.ipynb\n",
      "\n",
      "./Coursera-Pandas-for-Beginners:\n",
      "intro to me.png\n",
      "LICENSE\n",
      "Media\n",
      "practicedata.csv\n",
      "practicedata.json\n",
      "README.md\n",
      "\n",
      "./Coursera-Pandas-for-Beginners/Media:\n",
      "dataframe.gif\n",
      "series.png\n",
      "social media buttons.png\n",
      "Already up to date.\n",
      "fatal: destination path 'Coursera-Pandas-for-Beginners' already exists and is not an empty directory.\n",
      "warning: Pulling without specifying how to reconcile divergent branches is\n",
      "discouraged. You can squelch this message by running one of the following\n",
      "commands sometime before your next pull:\n",
      "\n",
      "  git config pull.rebase false  # merge (the default strategy)\n",
      "  git config pull.rebase true   # rebase\n",
      "  git config pull.ff only       # fast-forward only\n",
      "\n",
      "You can replace \"git config\" with \"git config --global\" to set a default\n",
      "preference for all repositories. You can also pass --rebase, --no-rebase,\n",
      "or --ff-only on the command line to override the configured default per\n",
      "invocation.\n",
      "\n"
     ]
    }
   ],
   "source": [
    "%%bash\n",
    "ls -R\n",
    "git clone https://github.com/VinitaSilaparasetty/Coursera-Pandas-for-Beginners/ || (cd Coursera-Pandas-for-Beginners ; git pull)\n"
   ]
  },
  {
   "cell_type": "code",
   "execution_count": null,
   "metadata": {},
   "outputs": [],
   "source": [
    "# CSV Files\n",
    "df4 = pd.read_csv('Coursera-Pandas-for-Beginners/practicedata.csv')\n",
    "df4.head(3) # Allows us to read only the first three columns"
   ]
  },
  {
   "cell_type": "code",
   "execution_count": null,
   "metadata": {},
   "outputs": [],
   "source": [
    "# Importing json\n",
    "df5 = pd.read_json('Coursera-Pandas-for-Beginners/practicedata.json')\n",
    "df5"
   ]
  },
  {
   "cell_type": "code",
   "execution_count": 70,
   "metadata": {},
   "outputs": [
    {
     "output_type": "execute_result",
     "data": {
      "text/plain": [
       "                    John       Doe                 120 jefferson st.  \\\n",
       "0                   Jack  McGinnis                      220 hobo Av.   \n",
       "1          John \"Da Man\"    Repici                 120 Jefferson St.   \n",
       "2                Stephen     Tyler  7452 Terrace \"At the Plaza\" road   \n",
       "3                    NaN  Blankman                               NaN   \n",
       "4  Joan \"the bone\", Anne       Jet               9th, at Terrace plc   \n",
       "\n",
       "     Riverside   NJ   08075  \n",
       "0        Phila   PA    9119  \n",
       "1    Riverside   NJ    8075  \n",
       "2     SomeTown   SD   91234  \n",
       "3     SomeTown   SD     298  \n",
       "4  Desert City   CO     123  "
      ],
      "text/html": "<div>\n<style scoped>\n    .dataframe tbody tr th:only-of-type {\n        vertical-align: middle;\n    }\n\n    .dataframe tbody tr th {\n        vertical-align: top;\n    }\n\n    .dataframe thead th {\n        text-align: right;\n    }\n</style>\n<table border=\"1\" class=\"dataframe\">\n  <thead>\n    <tr style=\"text-align: right;\">\n      <th></th>\n      <th>John</th>\n      <th>Doe</th>\n      <th>120 jefferson st.</th>\n      <th>Riverside</th>\n      <th>NJ</th>\n      <th>08075</th>\n    </tr>\n  </thead>\n  <tbody>\n    <tr>\n      <th>0</th>\n      <td>Jack</td>\n      <td>McGinnis</td>\n      <td>220 hobo Av.</td>\n      <td>Phila</td>\n      <td>PA</td>\n      <td>9119</td>\n    </tr>\n    <tr>\n      <th>1</th>\n      <td>John \"Da Man\"</td>\n      <td>Repici</td>\n      <td>120 Jefferson St.</td>\n      <td>Riverside</td>\n      <td>NJ</td>\n      <td>8075</td>\n    </tr>\n    <tr>\n      <th>2</th>\n      <td>Stephen</td>\n      <td>Tyler</td>\n      <td>7452 Terrace \"At the Plaza\" road</td>\n      <td>SomeTown</td>\n      <td>SD</td>\n      <td>91234</td>\n    </tr>\n    <tr>\n      <th>3</th>\n      <td>NaN</td>\n      <td>Blankman</td>\n      <td>NaN</td>\n      <td>SomeTown</td>\n      <td>SD</td>\n      <td>298</td>\n    </tr>\n    <tr>\n      <th>4</th>\n      <td>Joan \"the bone\", Anne</td>\n      <td>Jet</td>\n      <td>9th, at Terrace plc</td>\n      <td>Desert City</td>\n      <td>CO</td>\n      <td>123</td>\n    </tr>\n  </tbody>\n</table>\n</div>"
     },
     "metadata": {},
     "execution_count": 70
    }
   ],
   "source": [
    "# Importing from URL\n",
    "df6 = pd.read_csv('https://people.sc.fsu.edu/~jburkardt/data/csv/addresses.csv')\n",
    "df6"
   ]
  },
  {
   "cell_type": "code",
   "execution_count": null,
   "metadata": {},
   "outputs": [],
   "source": [
    "# Exporting data\n",
    "df6.to_csv('example_1.csv') # You cannot create new directories, but can create new files"
   ]
  },
  {
   "cell_type": "code",
   "execution_count": 17,
   "metadata": {},
   "outputs": [
    {
     "output_type": "stream",
     "name": "stdout",
     "text": [
      "Coursera-Pandas-for-Beginners\nexample_1.csv\npandas_notes.ipynb\n"
     ]
    }
   ],
   "source": [
    "%%bash\n",
    "ls"
   ]
  },
  {
   "cell_type": "markdown",
   "metadata": {},
   "source": [
    "### 1.4. Summarizing Data"
   ]
  },
  {
   "cell_type": "code",
   "execution_count": 18,
   "metadata": {},
   "outputs": [
    {
     "output_type": "stream",
     "name": "stdout",
     "text": [
      "<class 'pandas.core.frame.DataFrame'>\nRangeIndex: 8 entries, 0 to 7\nData columns (total 4 columns):\n #   Column  Non-Null Count  Dtype  \n---  ------  --------------  -----  \n 0   A       7 non-null      float64\n 1   B       8 non-null      float64\n 2   C       8 non-null      float64\n 3   D       7 non-null      float64\ndtypes: float64(4)\nmemory usage: 384.0 bytes\n"
     ]
    }
   ],
   "source": [
    "# Quick summary of the data\n",
    "df5.info()"
   ]
  },
  {
   "cell_type": "code",
   "execution_count": 19,
   "metadata": {},
   "outputs": [
    {
     "output_type": "execute_result",
     "data": {
      "text/plain": [
       "              A         B         C         D\n",
       "count  7.000000  8.000000  8.000000  7.000000\n",
       "mean  -0.412650  0.331360  0.619777 -0.021321\n",
       "std    0.533101  1.010369  0.987050  1.192849\n",
       "min   -1.013616 -1.604969 -1.174912 -1.632132\n",
       "25%   -0.751291 -0.224553  0.095289 -0.766418\n",
       "50%   -0.488965  0.549208  0.829525 -0.529912\n",
       "75%   -0.161808  0.946528  1.079756  1.041241\n",
       "max    0.440231  1.713480  1.786915  1.463154"
      ],
      "text/html": "<div>\n<style scoped>\n    .dataframe tbody tr th:only-of-type {\n        vertical-align: middle;\n    }\n\n    .dataframe tbody tr th {\n        vertical-align: top;\n    }\n\n    .dataframe thead th {\n        text-align: right;\n    }\n</style>\n<table border=\"1\" class=\"dataframe\">\n  <thead>\n    <tr style=\"text-align: right;\">\n      <th></th>\n      <th>A</th>\n      <th>B</th>\n      <th>C</th>\n      <th>D</th>\n    </tr>\n  </thead>\n  <tbody>\n    <tr>\n      <th>count</th>\n      <td>7.000000</td>\n      <td>8.000000</td>\n      <td>8.000000</td>\n      <td>7.000000</td>\n    </tr>\n    <tr>\n      <th>mean</th>\n      <td>-0.412650</td>\n      <td>0.331360</td>\n      <td>0.619777</td>\n      <td>-0.021321</td>\n    </tr>\n    <tr>\n      <th>std</th>\n      <td>0.533101</td>\n      <td>1.010369</td>\n      <td>0.987050</td>\n      <td>1.192849</td>\n    </tr>\n    <tr>\n      <th>min</th>\n      <td>-1.013616</td>\n      <td>-1.604969</td>\n      <td>-1.174912</td>\n      <td>-1.632132</td>\n    </tr>\n    <tr>\n      <th>25%</th>\n      <td>-0.751291</td>\n      <td>-0.224553</td>\n      <td>0.095289</td>\n      <td>-0.766418</td>\n    </tr>\n    <tr>\n      <th>50%</th>\n      <td>-0.488965</td>\n      <td>0.549208</td>\n      <td>0.829525</td>\n      <td>-0.529912</td>\n    </tr>\n    <tr>\n      <th>75%</th>\n      <td>-0.161808</td>\n      <td>0.946528</td>\n      <td>1.079756</td>\n      <td>1.041241</td>\n    </tr>\n    <tr>\n      <th>max</th>\n      <td>0.440231</td>\n      <td>1.713480</td>\n      <td>1.786915</td>\n      <td>1.463154</td>\n    </tr>\n  </tbody>\n</table>\n</div>"
     },
     "metadata": {},
     "execution_count": 19
    }
   ],
   "source": [
    "# Detailed summary of the data\n",
    "df5.describe()"
   ]
  },
  {
   "cell_type": "code",
   "execution_count": 20,
   "metadata": {},
   "outputs": [
    {
     "output_type": "execute_result",
     "data": {
      "text/plain": [
       "Index(['A', 'B', 'C', 'D'], dtype='object')"
      ]
     },
     "metadata": {},
     "execution_count": 20
    }
   ],
   "source": [
    "# View columns\n",
    "df5.columns"
   ]
  },
  {
   "cell_type": "code",
   "execution_count": 21,
   "metadata": {},
   "outputs": [
    {
     "output_type": "execute_result",
     "data": {
      "text/plain": [
       "A    float64\n",
       "B    float64\n",
       "C    float64\n",
       "D    float64\n",
       "dtype: object"
      ]
     },
     "metadata": {},
     "execution_count": 21
    }
   ],
   "source": [
    "# View datatypes\n",
    "df5.dtypes"
   ]
  },
  {
   "cell_type": "code",
   "execution_count": 22,
   "metadata": {},
   "outputs": [
    {
     "output_type": "execute_result",
     "data": {
      "text/plain": [
       "0    False\n",
       "1    False\n",
       "2    False\n",
       "3    False\n",
       "4    False\n",
       "5     True\n",
       "6    False\n",
       "7     True\n",
       "dtype: bool"
      ]
     },
     "metadata": {},
     "execution_count": 22
    }
   ],
   "source": [
    "# Detect duplicate rows\n",
    "df5.duplicated()"
   ]
  },
  {
   "cell_type": "code",
   "execution_count": 23,
   "metadata": {},
   "outputs": [
    {
     "output_type": "execute_result",
     "data": {
      "text/plain": [
       "          A         B         C         D\n",
       "0       NaN -1.604969 -0.106263 -1.002924\n",
       "1 -0.404667  0.458565 -1.174912       NaN\n",
       "2  0.440231  1.713480  0.162473 -1.632132\n",
       "3  0.081050  0.639851  0.844037  1.463154\n",
       "4 -1.013616 -0.224553  1.786915  1.041241\n",
       "6 -0.488965  0.946528  0.829525 -0.529912"
      ],
      "text/html": "<div>\n<style scoped>\n    .dataframe tbody tr th:only-of-type {\n        vertical-align: middle;\n    }\n\n    .dataframe tbody tr th {\n        vertical-align: top;\n    }\n\n    .dataframe thead th {\n        text-align: right;\n    }\n</style>\n<table border=\"1\" class=\"dataframe\">\n  <thead>\n    <tr style=\"text-align: right;\">\n      <th></th>\n      <th>A</th>\n      <th>B</th>\n      <th>C</th>\n      <th>D</th>\n    </tr>\n  </thead>\n  <tbody>\n    <tr>\n      <th>0</th>\n      <td>NaN</td>\n      <td>-1.604969</td>\n      <td>-0.106263</td>\n      <td>-1.002924</td>\n    </tr>\n    <tr>\n      <th>1</th>\n      <td>-0.404667</td>\n      <td>0.458565</td>\n      <td>-1.174912</td>\n      <td>NaN</td>\n    </tr>\n    <tr>\n      <th>2</th>\n      <td>0.440231</td>\n      <td>1.713480</td>\n      <td>0.162473</td>\n      <td>-1.632132</td>\n    </tr>\n    <tr>\n      <th>3</th>\n      <td>0.081050</td>\n      <td>0.639851</td>\n      <td>0.844037</td>\n      <td>1.463154</td>\n    </tr>\n    <tr>\n      <th>4</th>\n      <td>-1.013616</td>\n      <td>-0.224553</td>\n      <td>1.786915</td>\n      <td>1.041241</td>\n    </tr>\n    <tr>\n      <th>6</th>\n      <td>-0.488965</td>\n      <td>0.946528</td>\n      <td>0.829525</td>\n      <td>-0.529912</td>\n    </tr>\n  </tbody>\n</table>\n</div>"
     },
     "metadata": {},
     "execution_count": 23
    }
   ],
   "source": [
    "# Drop duplicate rows\n",
    "df5.drop_duplicates() # Rows 5 and 7 will be removed"
   ]
  },
  {
   "cell_type": "code",
   "execution_count": 24,
   "metadata": {},
   "outputs": [
    {
     "output_type": "stream",
     "name": "stdout",
     "text": [
      "A    1\nB    0\nC    0\nD    1\ndtype: int64\n"
     ]
    }
   ],
   "source": [
    "# Detect missing values\n",
    "print(df5.isnull().sum()) # Column A and D have 1 null value"
   ]
  },
  {
   "cell_type": "code",
   "execution_count": 25,
   "metadata": {},
   "outputs": [
    {
     "output_type": "execute_result",
     "data": {
      "text/plain": [
       "          A         B         C         D\n",
       "2  0.440231  1.713480  0.162473 -1.632132\n",
       "3  0.081050  0.639851  0.844037  1.463154\n",
       "4 -1.013616 -0.224553  1.786915  1.041241\n",
       "5 -1.013616 -0.224553  1.786915  1.041241\n",
       "6 -0.488965  0.946528  0.829525 -0.529912\n",
       "7 -0.488965  0.946528  0.829525 -0.529912"
      ],
      "text/html": "<div>\n<style scoped>\n    .dataframe tbody tr th:only-of-type {\n        vertical-align: middle;\n    }\n\n    .dataframe tbody tr th {\n        vertical-align: top;\n    }\n\n    .dataframe thead th {\n        text-align: right;\n    }\n</style>\n<table border=\"1\" class=\"dataframe\">\n  <thead>\n    <tr style=\"text-align: right;\">\n      <th></th>\n      <th>A</th>\n      <th>B</th>\n      <th>C</th>\n      <th>D</th>\n    </tr>\n  </thead>\n  <tbody>\n    <tr>\n      <th>2</th>\n      <td>0.440231</td>\n      <td>1.713480</td>\n      <td>0.162473</td>\n      <td>-1.632132</td>\n    </tr>\n    <tr>\n      <th>3</th>\n      <td>0.081050</td>\n      <td>0.639851</td>\n      <td>0.844037</td>\n      <td>1.463154</td>\n    </tr>\n    <tr>\n      <th>4</th>\n      <td>-1.013616</td>\n      <td>-0.224553</td>\n      <td>1.786915</td>\n      <td>1.041241</td>\n    </tr>\n    <tr>\n      <th>5</th>\n      <td>-1.013616</td>\n      <td>-0.224553</td>\n      <td>1.786915</td>\n      <td>1.041241</td>\n    </tr>\n    <tr>\n      <th>6</th>\n      <td>-0.488965</td>\n      <td>0.946528</td>\n      <td>0.829525</td>\n      <td>-0.529912</td>\n    </tr>\n    <tr>\n      <th>7</th>\n      <td>-0.488965</td>\n      <td>0.946528</td>\n      <td>0.829525</td>\n      <td>-0.529912</td>\n    </tr>\n  </tbody>\n</table>\n</div>"
     },
     "metadata": {},
     "execution_count": 25
    }
   ],
   "source": [
    "# Drop missing values\n",
    "df5.dropna()"
   ]
  },
  {
   "cell_type": "markdown",
   "metadata": {},
   "source": [
    "\n",
    "### 1.5. Numeric Operations"
   ]
  },
  {
   "cell_type": "code",
   "execution_count": 26,
   "metadata": {},
   "outputs": [
    {
     "output_type": "execute_result",
     "data": {
      "text/plain": [
       "          0         1         2         3\n",
       "0 -0.363066 -0.414707  0.747527  1.896677\n",
       "1  3.479741 -0.200428  1.956150 -0.467148\n",
       "2 -0.731906 -2.145873  0.147222  0.730428\n",
       "3 -1.519846  2.018552 -1.103658  0.167530\n",
       "4  0.044758  0.861594  0.768685 -0.437412\n",
       "5 -1.325143 -0.862311 -0.799683 -0.776607"
      ],
      "text/html": "<div>\n<style scoped>\n    .dataframe tbody tr th:only-of-type {\n        vertical-align: middle;\n    }\n\n    .dataframe tbody tr th {\n        vertical-align: top;\n    }\n\n    .dataframe thead th {\n        text-align: right;\n    }\n</style>\n<table border=\"1\" class=\"dataframe\">\n  <thead>\n    <tr style=\"text-align: right;\">\n      <th></th>\n      <th>0</th>\n      <th>1</th>\n      <th>2</th>\n      <th>3</th>\n    </tr>\n  </thead>\n  <tbody>\n    <tr>\n      <th>0</th>\n      <td>-0.363066</td>\n      <td>-0.414707</td>\n      <td>0.747527</td>\n      <td>1.896677</td>\n    </tr>\n    <tr>\n      <th>1</th>\n      <td>3.479741</td>\n      <td>-0.200428</td>\n      <td>1.956150</td>\n      <td>-0.467148</td>\n    </tr>\n    <tr>\n      <th>2</th>\n      <td>-0.731906</td>\n      <td>-2.145873</td>\n      <td>0.147222</td>\n      <td>0.730428</td>\n    </tr>\n    <tr>\n      <th>3</th>\n      <td>-1.519846</td>\n      <td>2.018552</td>\n      <td>-1.103658</td>\n      <td>0.167530</td>\n    </tr>\n    <tr>\n      <th>4</th>\n      <td>0.044758</td>\n      <td>0.861594</td>\n      <td>0.768685</td>\n      <td>-0.437412</td>\n    </tr>\n    <tr>\n      <th>5</th>\n      <td>-1.325143</td>\n      <td>-0.862311</td>\n      <td>-0.799683</td>\n      <td>-0.776607</td>\n    </tr>\n  </tbody>\n</table>\n</div>"
     },
     "metadata": {},
     "execution_count": 26
    }
   ],
   "source": [
    "df8 = pd.DataFrame(np.random.randn(6,4))\n",
    "df8"
   ]
  },
  {
   "cell_type": "code",
   "execution_count": 27,
   "metadata": {},
   "outputs": [
    {
     "output_type": "execute_result",
     "data": {
      "text/plain": [
       "0   -0.069244\n",
       "1   -0.123862\n",
       "2    0.286040\n",
       "3    0.185578\n",
       "dtype: float64"
      ]
     },
     "metadata": {},
     "execution_count": 27
    }
   ],
   "source": [
    "# Calculate the mean\n",
    "df8.mean()\n"
   ]
  },
  {
   "cell_type": "code",
   "execution_count": 28,
   "metadata": {},
   "outputs": [
    {
     "output_type": "execute_result",
     "data": {
      "text/plain": [
       "          0         1         2         3\n",
       "0 -0.363066 -0.414707  0.747527  1.896677\n",
       "1  3.116675 -0.615135  2.703677  1.429529\n",
       "2  2.384769 -2.761008  2.850899  2.159957\n",
       "3  0.864923 -0.742456  1.747240  2.327487\n",
       "4  0.909681  0.119138  2.515925  1.890075\n",
       "5 -0.415462 -0.743173  1.716242  1.113469"
      ],
      "text/html": "<div>\n<style scoped>\n    .dataframe tbody tr th:only-of-type {\n        vertical-align: middle;\n    }\n\n    .dataframe tbody tr th {\n        vertical-align: top;\n    }\n\n    .dataframe thead th {\n        text-align: right;\n    }\n</style>\n<table border=\"1\" class=\"dataframe\">\n  <thead>\n    <tr style=\"text-align: right;\">\n      <th></th>\n      <th>0</th>\n      <th>1</th>\n      <th>2</th>\n      <th>3</th>\n    </tr>\n  </thead>\n  <tbody>\n    <tr>\n      <th>0</th>\n      <td>-0.363066</td>\n      <td>-0.414707</td>\n      <td>0.747527</td>\n      <td>1.896677</td>\n    </tr>\n    <tr>\n      <th>1</th>\n      <td>3.116675</td>\n      <td>-0.615135</td>\n      <td>2.703677</td>\n      <td>1.429529</td>\n    </tr>\n    <tr>\n      <th>2</th>\n      <td>2.384769</td>\n      <td>-2.761008</td>\n      <td>2.850899</td>\n      <td>2.159957</td>\n    </tr>\n    <tr>\n      <th>3</th>\n      <td>0.864923</td>\n      <td>-0.742456</td>\n      <td>1.747240</td>\n      <td>2.327487</td>\n    </tr>\n    <tr>\n      <th>4</th>\n      <td>0.909681</td>\n      <td>0.119138</td>\n      <td>2.515925</td>\n      <td>1.890075</td>\n    </tr>\n    <tr>\n      <th>5</th>\n      <td>-0.415462</td>\n      <td>-0.743173</td>\n      <td>1.716242</td>\n      <td>1.113469</td>\n    </tr>\n  </tbody>\n</table>\n</div>"
     },
     "metadata": {},
     "execution_count": 28
    }
   ],
   "source": [
    "# Calculate the cumulative sum\n",
    "df8.apply(np.cumsum)"
   ]
  },
  {
   "cell_type": "code",
   "execution_count": 29,
   "metadata": {},
   "outputs": [
    {
     "output_type": "execute_result",
     "data": {
      "text/plain": [
       "0    3.479741\n",
       "1    2.018552\n",
       "2    1.956150\n",
       "3    1.896677\n",
       "dtype: float64"
      ]
     },
     "metadata": {},
     "execution_count": 29
    }
   ],
   "source": [
    "# Find the max value\n",
    "df8.max()\n"
   ]
  },
  {
   "cell_type": "code",
   "execution_count": 31,
   "metadata": {},
   "outputs": [
    {
     "output_type": "execute_result",
     "data": {
      "text/plain": [
       "0   -1.519846\n",
       "1   -2.145873\n",
       "2   -1.103658\n",
       "3   -0.776607\n",
       "dtype: float64"
      ]
     },
     "metadata": {},
     "execution_count": 31
    }
   ],
   "source": [
    "# Find the min value\n",
    "df8.min()"
   ]
  },
  {
   "cell_type": "markdown",
   "metadata": {},
   "source": [
    "### 1.6. String Manipulation"
   ]
  },
  {
   "cell_type": "code",
   "execution_count": 34,
   "metadata": {},
   "outputs": [
    {
     "output_type": "execute_result",
     "data": {
      "text/plain": [
       "0              animal\n",
       "1                bird\n",
       "2     Pandas Library \n",
       "dtype: object"
      ]
     },
     "metadata": {},
     "execution_count": 34
    }
   ],
   "source": [
    "s9 = np.array(['animal', 'bird', ' Pandas Library '])\n",
    "s9 = pd.Series(s9)\n",
    "s9"
   ]
  },
  {
   "cell_type": "code",
   "execution_count": 37,
   "metadata": {},
   "outputs": [
    {
     "output_type": "execute_result",
     "data": {
      "text/plain": [
       "0              animal\n",
       "1                bird\n",
       "2     pandas library \n",
       "dtype: object"
      ]
     },
     "metadata": {},
     "execution_count": 37
    }
   ],
   "source": [
    "# Convert to lowercase\n",
    "s9.str.lower()"
   ]
  },
  {
   "cell_type": "code",
   "execution_count": 40,
   "metadata": {},
   "outputs": [
    {
     "output_type": "execute_result",
     "data": {
      "text/plain": [
       "0              ANIMAL\n",
       "1                BIRD\n",
       "2     pANDAS lIBRARY \n",
       "dtype: object"
      ]
     },
     "metadata": {},
     "execution_count": 40
    }
   ],
   "source": [
    "# Swap capitalizaiton\n",
    "s9.str.swapcase()"
   ]
  },
  {
   "cell_type": "code",
   "execution_count": 43,
   "metadata": {},
   "outputs": [
    {
     "output_type": "execute_result",
     "data": {
      "text/plain": [
       "0     6\n",
       "1     4\n",
       "2    16\n",
       "dtype: int64"
      ]
     },
     "metadata": {},
     "execution_count": 43
    }
   ],
   "source": [
    "# Find length of string\n",
    "s9.str.len()"
   ]
  },
  {
   "cell_type": "code",
   "execution_count": 46,
   "metadata": {},
   "outputs": [
    {
     "output_type": "execute_result",
     "data": {
      "text/plain": [
       "0     6\n",
       "1    10\n",
       "2    26\n",
       "dtype: int64"
      ]
     },
     "metadata": {},
     "execution_count": 46
    }
   ],
   "source": [
    "# Take cumulative sum of them.. Cuz why not\n",
    "s9.str.len().cumsum()"
   ]
  },
  {
   "cell_type": "code",
   "execution_count": 49,
   "metadata": {},
   "outputs": [
    {
     "output_type": "execute_result",
     "data": {
      "text/plain": [
       "0             [animal]\n",
       "1               [bird]\n",
       "2    [Pandas, Library]\n",
       "dtype: object"
      ]
     },
     "metadata": {},
     "execution_count": 49
    }
   ],
   "source": [
    "# Split string\n",
    "s9.str.split()"
   ]
  },
  {
   "cell_type": "code",
   "execution_count": 52,
   "metadata": {},
   "outputs": [
    {
     "output_type": "execute_result",
     "data": {
      "text/plain": [
       "array(['animal', 'bird', ' Pandas Library '], dtype=object)"
      ]
     },
     "metadata": {},
     "execution_count": 52
    }
   ],
   "source": [
    "# Detect unique values\n",
    "s9.unique()"
   ]
  },
  {
   "cell_type": "code",
   "execution_count": 55,
   "metadata": {},
   "outputs": [
    {
     "output_type": "execute_result",
     "data": {
      "text/plain": [
       "0                        animalanimal\n",
       "1                        birdbirdbird\n",
       "2     Pandas Library  Pandas Library \n",
       "dtype: object"
      ]
     },
     "metadata": {},
     "execution_count": 55
    }
   ],
   "source": [
    "# Repeat string\n",
    "\n",
    "repeat_list = [2, 3, 2]\n",
    "s9.str.repeat(repeat_list)"
   ]
  },
  {
   "cell_type": "markdown",
   "metadata": {},
   "source": [
    "## 2. Pandas Advanced \n",
    "### 2.0. About the dataset used below:\n",
    "\n",
    "The database includes data from Botswana, Burkina Faso, Cameroon, Ethiopia, The Gambia, Ghana, Kenya, Lesotho, Liberia, Madagascar, Malawi, Mauritius, Nigeria, Sudan, Swaziland, Zaire, Zambia, and Zimbabwe.\n",
    "\n",
    "If a donor gives aid for a project that the recipient government would have undertaken anyway, then the aid is financing some expenditure other than the intended project. The notion that aid in this sense may be \"fungible,\" while long recognized, has recently been receiving some empirical support.\n",
    "Modifications:\n",
    "\n",
    "* Three entries in the column 'popn' have been deleted at random, in order to create missing values for teaching purposes.\n",
    "* Only the first 302 rows of the complete dataset are present in this subset.\n",
    "\n",
    "see [variable description file](https://github.com/VinitaSilaparasetty/Coursera-Intermediate-Pandas/blob/master/variable%20description-%20what%20does%20aid%20to%20africa%20finance.pdf)"
   ]
  },
  {
   "cell_type": "code",
   "execution_count": 58,
   "metadata": {},
   "outputs": [
    {
     "output_type": "execute_result",
     "data": {
      "text/plain": [
       "       countryc  year       agrgdp       popn      infmort schprim schsec  \\\n",
       "0  Burkina Faso  1970  35.44188862  5633000.0  141.3999939      13      1   \n",
       "1  Burkina Faso  1970  35.44188862  5633000.0  141.3999939      13      1   \n",
       "2  Burkina Faso  1971  36.16739069  5740700.0  139.1999969    13.6    1.2   \n",
       "3  Burkina Faso  1972  37.51058767  5848380.0          137    14.2    1.4   \n",
       "4  Burkina Faso  1973  34.83428571  5958700.0          135    14.8    1.6   \n",
       "5  Burkina Faso  1973  34.83428571  5958700.0          135    14.8    1.6   \n",
       "6  Burkina Faso  1974  36.48014145  6075700.0          133    15.4    1.8   \n",
       "7  Burkina Faso  1975  34.27100776  6202000.0          131      16      2   \n",
       "8  Burkina Faso  1976  34.80431988        NaN          129      15      2   \n",
       "9  Burkina Faso  1977  34.31152713  6486870.0          127      16      2   \n",
       "\n",
       "            grtdsbp           grlndsbp           aiddsbp  ...  \\\n",
       "0  13.3182802200317   1.02303504943848  14.3413200378418  ...   \n",
       "1  13.3182802200317   1.02303504943848  14.3413200378418  ...   \n",
       "2  16.7043991088867  0.655763506889343  17.3601703643799  ...   \n",
       "3  20.9176502227783   2.97720909118652  23.8948593139648  ...   \n",
       "4  25.9791507720947   3.87817406654358  29.8573207855225  ...   \n",
       "5  25.9791507720947   3.87817406654358  29.8573207855225  ...   \n",
       "6  38.6305809020996   6.66203498840332  45.2926216125488  ...   \n",
       "7  30.4486293792725   7.36860179901123  37.8172302246094  ...   \n",
       "8  24.3181304931641   8.15182018280029  32.4699592590332  ...   \n",
       "9   27.812780380249   11.5194902420044  39.3322715759277  ...   \n",
       "\n",
       "                dcurexpp               dcapexpp               dprirepp  \\\n",
       "0  1.79769313486232e+308  1.79769313486232e+308  1.79769313486232e+308   \n",
       "1  1.79769313486232e+308  1.79769313486232e+308  1.79769313486232e+308   \n",
       "2  1.79769313486232e+308  1.79769313486232e+308  1.79769313486232e+308   \n",
       "3  1.79769313486232e+308  1.79769313486232e+308  1.79769313486232e+308   \n",
       "4  1.79769313486232e+308  1.79769313486232e+308      -4.26292991638184   \n",
       "5  1.79769313486232e+308  1.79769313486232e+308      -4.26292991638184   \n",
       "6  1.79769313486232e+308  1.79769313486232e+308  1.79769313486232e+308   \n",
       "7       5.94059085845947     0.0831290036439896      0.118987999856472   \n",
       "8     0.0346110016107559       2.13481593132019    -0.0604999996721744   \n",
       "9        3.9152410030365       1.05086898803711     -0.137299999594688   \n",
       "\n",
       "                dcnlnagp               dcnlnenp               dcnlninp  \\\n",
       "0  1.79769313486232e+308  1.79769313486232e+308  1.79769313486232e+308   \n",
       "1  1.79769313486232e+308  1.79769313486232e+308  1.79769313486232e+308   \n",
       "2  1.79769313486232e+308  1.79769313486232e+308  1.79769313486232e+308   \n",
       "3  1.79769313486232e+308  1.79769313486232e+308  1.79769313486232e+308   \n",
       "4      0.290098994970322     0.0578910000622272       2.53049802780151   \n",
       "5      0.290098994970322     0.0578910000622272       2.53049802780151   \n",
       "6  1.79769313486232e+308  1.79769313486232e+308  1.79769313486232e+308   \n",
       "7      0.262962996959686      0.517924010753632      -2.78498005867004   \n",
       "8      0.739816009998322     -0.850790023803711     -0.320169985294342   \n",
       "9     -0.195250004529953                      0       2.32170295715332   \n",
       "\n",
       "               dcnlntacp              dcnlnedup              dcnlnhthp  \\\n",
       "0  1.79769313486232e+308  1.79769313486232e+308  1.79769313486232e+308   \n",
       "1  1.79769313486232e+308  1.79769313486232e+308  1.79769313486232e+308   \n",
       "2  1.79769313486232e+308  1.79769313486232e+308  1.79769313486232e+308   \n",
       "3  1.79769313486232e+308  1.79769313486232e+308  1.79769313486232e+308   \n",
       "4      -0.38238000869751                      0                      0   \n",
       "5      -0.38238000869751                      0                      0   \n",
       "6  1.79769313486232e+308  1.79769313486232e+308  1.79769313486232e+308   \n",
       "7      0.806988000869751     0.0681129992008209                      0   \n",
       "8      0.252671003341675     0.0882859975099564                      0   \n",
       "9       1.82917904853821       0.17212900519371       1.17611503601074   \n",
       "\n",
       "               dcnlnothp  \n",
       "0  1.79769313486232e+308  \n",
       "1  1.79769313486232e+308  \n",
       "2  1.79769313486232e+308  \n",
       "3  1.79769313486232e+308  \n",
       "4      -0.11642000079155  \n",
       "5      -0.11642000079155  \n",
       "6  1.79769313486232e+308  \n",
       "7       2.65820407867432  \n",
       "8      0.984821021556854  \n",
       "9      0.820497989654541  \n",
       "\n",
       "[10 rows x 50 columns]"
      ],
      "text/html": "<div>\n<style scoped>\n    .dataframe tbody tr th:only-of-type {\n        vertical-align: middle;\n    }\n\n    .dataframe tbody tr th {\n        vertical-align: top;\n    }\n\n    .dataframe thead th {\n        text-align: right;\n    }\n</style>\n<table border=\"1\" class=\"dataframe\">\n  <thead>\n    <tr style=\"text-align: right;\">\n      <th></th>\n      <th>countryc</th>\n      <th>year</th>\n      <th>agrgdp</th>\n      <th>popn</th>\n      <th>infmort</th>\n      <th>schprim</th>\n      <th>schsec</th>\n      <th>grtdsbp</th>\n      <th>grlndsbp</th>\n      <th>aiddsbp</th>\n      <th>...</th>\n      <th>dcurexpp</th>\n      <th>dcapexpp</th>\n      <th>dprirepp</th>\n      <th>dcnlnagp</th>\n      <th>dcnlnenp</th>\n      <th>dcnlninp</th>\n      <th>dcnlntacp</th>\n      <th>dcnlnedup</th>\n      <th>dcnlnhthp</th>\n      <th>dcnlnothp</th>\n    </tr>\n  </thead>\n  <tbody>\n    <tr>\n      <th>0</th>\n      <td>Burkina Faso</td>\n      <td>1970</td>\n      <td>35.44188862</td>\n      <td>5633000.0</td>\n      <td>141.3999939</td>\n      <td>13</td>\n      <td>1</td>\n      <td>13.3182802200317</td>\n      <td>1.02303504943848</td>\n      <td>14.3413200378418</td>\n      <td>...</td>\n      <td>1.79769313486232e+308</td>\n      <td>1.79769313486232e+308</td>\n      <td>1.79769313486232e+308</td>\n      <td>1.79769313486232e+308</td>\n      <td>1.79769313486232e+308</td>\n      <td>1.79769313486232e+308</td>\n      <td>1.79769313486232e+308</td>\n      <td>1.79769313486232e+308</td>\n      <td>1.79769313486232e+308</td>\n      <td>1.79769313486232e+308</td>\n    </tr>\n    <tr>\n      <th>1</th>\n      <td>Burkina Faso</td>\n      <td>1970</td>\n      <td>35.44188862</td>\n      <td>5633000.0</td>\n      <td>141.3999939</td>\n      <td>13</td>\n      <td>1</td>\n      <td>13.3182802200317</td>\n      <td>1.02303504943848</td>\n      <td>14.3413200378418</td>\n      <td>...</td>\n      <td>1.79769313486232e+308</td>\n      <td>1.79769313486232e+308</td>\n      <td>1.79769313486232e+308</td>\n      <td>1.79769313486232e+308</td>\n      <td>1.79769313486232e+308</td>\n      <td>1.79769313486232e+308</td>\n      <td>1.79769313486232e+308</td>\n      <td>1.79769313486232e+308</td>\n      <td>1.79769313486232e+308</td>\n      <td>1.79769313486232e+308</td>\n    </tr>\n    <tr>\n      <th>2</th>\n      <td>Burkina Faso</td>\n      <td>1971</td>\n      <td>36.16739069</td>\n      <td>5740700.0</td>\n      <td>139.1999969</td>\n      <td>13.6</td>\n      <td>1.2</td>\n      <td>16.7043991088867</td>\n      <td>0.655763506889343</td>\n      <td>17.3601703643799</td>\n      <td>...</td>\n      <td>1.79769313486232e+308</td>\n      <td>1.79769313486232e+308</td>\n      <td>1.79769313486232e+308</td>\n      <td>1.79769313486232e+308</td>\n      <td>1.79769313486232e+308</td>\n      <td>1.79769313486232e+308</td>\n      <td>1.79769313486232e+308</td>\n      <td>1.79769313486232e+308</td>\n      <td>1.79769313486232e+308</td>\n      <td>1.79769313486232e+308</td>\n    </tr>\n    <tr>\n      <th>3</th>\n      <td>Burkina Faso</td>\n      <td>1972</td>\n      <td>37.51058767</td>\n      <td>5848380.0</td>\n      <td>137</td>\n      <td>14.2</td>\n      <td>1.4</td>\n      <td>20.9176502227783</td>\n      <td>2.97720909118652</td>\n      <td>23.8948593139648</td>\n      <td>...</td>\n      <td>1.79769313486232e+308</td>\n      <td>1.79769313486232e+308</td>\n      <td>1.79769313486232e+308</td>\n      <td>1.79769313486232e+308</td>\n      <td>1.79769313486232e+308</td>\n      <td>1.79769313486232e+308</td>\n      <td>1.79769313486232e+308</td>\n      <td>1.79769313486232e+308</td>\n      <td>1.79769313486232e+308</td>\n      <td>1.79769313486232e+308</td>\n    </tr>\n    <tr>\n      <th>4</th>\n      <td>Burkina Faso</td>\n      <td>1973</td>\n      <td>34.83428571</td>\n      <td>5958700.0</td>\n      <td>135</td>\n      <td>14.8</td>\n      <td>1.6</td>\n      <td>25.9791507720947</td>\n      <td>3.87817406654358</td>\n      <td>29.8573207855225</td>\n      <td>...</td>\n      <td>1.79769313486232e+308</td>\n      <td>1.79769313486232e+308</td>\n      <td>-4.26292991638184</td>\n      <td>0.290098994970322</td>\n      <td>0.0578910000622272</td>\n      <td>2.53049802780151</td>\n      <td>-0.38238000869751</td>\n      <td>0</td>\n      <td>0</td>\n      <td>-0.11642000079155</td>\n    </tr>\n    <tr>\n      <th>5</th>\n      <td>Burkina Faso</td>\n      <td>1973</td>\n      <td>34.83428571</td>\n      <td>5958700.0</td>\n      <td>135</td>\n      <td>14.8</td>\n      <td>1.6</td>\n      <td>25.9791507720947</td>\n      <td>3.87817406654358</td>\n      <td>29.8573207855225</td>\n      <td>...</td>\n      <td>1.79769313486232e+308</td>\n      <td>1.79769313486232e+308</td>\n      <td>-4.26292991638184</td>\n      <td>0.290098994970322</td>\n      <td>0.0578910000622272</td>\n      <td>2.53049802780151</td>\n      <td>-0.38238000869751</td>\n      <td>0</td>\n      <td>0</td>\n      <td>-0.11642000079155</td>\n    </tr>\n    <tr>\n      <th>6</th>\n      <td>Burkina Faso</td>\n      <td>1974</td>\n      <td>36.48014145</td>\n      <td>6075700.0</td>\n      <td>133</td>\n      <td>15.4</td>\n      <td>1.8</td>\n      <td>38.6305809020996</td>\n      <td>6.66203498840332</td>\n      <td>45.2926216125488</td>\n      <td>...</td>\n      <td>1.79769313486232e+308</td>\n      <td>1.79769313486232e+308</td>\n      <td>1.79769313486232e+308</td>\n      <td>1.79769313486232e+308</td>\n      <td>1.79769313486232e+308</td>\n      <td>1.79769313486232e+308</td>\n      <td>1.79769313486232e+308</td>\n      <td>1.79769313486232e+308</td>\n      <td>1.79769313486232e+308</td>\n      <td>1.79769313486232e+308</td>\n    </tr>\n    <tr>\n      <th>7</th>\n      <td>Burkina Faso</td>\n      <td>1975</td>\n      <td>34.27100776</td>\n      <td>6202000.0</td>\n      <td>131</td>\n      <td>16</td>\n      <td>2</td>\n      <td>30.4486293792725</td>\n      <td>7.36860179901123</td>\n      <td>37.8172302246094</td>\n      <td>...</td>\n      <td>5.94059085845947</td>\n      <td>0.0831290036439896</td>\n      <td>0.118987999856472</td>\n      <td>0.262962996959686</td>\n      <td>0.517924010753632</td>\n      <td>-2.78498005867004</td>\n      <td>0.806988000869751</td>\n      <td>0.0681129992008209</td>\n      <td>0</td>\n      <td>2.65820407867432</td>\n    </tr>\n    <tr>\n      <th>8</th>\n      <td>Burkina Faso</td>\n      <td>1976</td>\n      <td>34.80431988</td>\n      <td>NaN</td>\n      <td>129</td>\n      <td>15</td>\n      <td>2</td>\n      <td>24.3181304931641</td>\n      <td>8.15182018280029</td>\n      <td>32.4699592590332</td>\n      <td>...</td>\n      <td>0.0346110016107559</td>\n      <td>2.13481593132019</td>\n      <td>-0.0604999996721744</td>\n      <td>0.739816009998322</td>\n      <td>-0.850790023803711</td>\n      <td>-0.320169985294342</td>\n      <td>0.252671003341675</td>\n      <td>0.0882859975099564</td>\n      <td>0</td>\n      <td>0.984821021556854</td>\n    </tr>\n    <tr>\n      <th>9</th>\n      <td>Burkina Faso</td>\n      <td>1977</td>\n      <td>34.31152713</td>\n      <td>6486870.0</td>\n      <td>127</td>\n      <td>16</td>\n      <td>2</td>\n      <td>27.812780380249</td>\n      <td>11.5194902420044</td>\n      <td>39.3322715759277</td>\n      <td>...</td>\n      <td>3.9152410030365</td>\n      <td>1.05086898803711</td>\n      <td>-0.137299999594688</td>\n      <td>-0.195250004529953</td>\n      <td>0</td>\n      <td>2.32170295715332</td>\n      <td>1.82917904853821</td>\n      <td>0.17212900519371</td>\n      <td>1.17611503601074</td>\n      <td>0.820497989654541</td>\n    </tr>\n  </tbody>\n</table>\n<p>10 rows × 50 columns</p>\n</div>"
     },
     "metadata": {},
     "execution_count": 58
    }
   ],
   "source": [
    "# Loading new data\n",
    "df = pd.read_csv(\"https://raw.githubusercontent.com/VinitaSilaparasetty/Coursera-Intermediate-Pandas/master/What_does_aid_to_Africa_finance_1.csv\")\n",
    "df.head(10) # Ensure the data has loaded correctly.\n"
   ]
  },
  {
   "cell_type": "markdown",
   "metadata": {},
   "source": [
    "### 2.1. Splitting Data"
   ]
  },
  {
   "cell_type": "code",
   "execution_count": 61,
   "metadata": {},
   "outputs": [],
   "source": [
    "# Create a copy of the dataset\n",
    "df_new = df.copy()\n",
    "\n",
    "# First subset\n",
    "df1 = df_new.sample(frac=0.25, random_state=0)\n",
    "\n",
    "# Drop values assigned to df1\n",
    "df_new = df_new.drop(df1.index) \n",
    "\n",
    "# Second subset\n",
    "df2 = df_new.sample(frac=0.25, random_state=0)\n",
    "\n",
    "df_new = df_new.drop(df2.index)\n",
    "\n",
    "# Third subset\n",
    "df3 = df_new.sample(frac=0.25, random_state=0)\n",
    "\n",
    "# The remaning values of df_new can now be directly assigned to df4\n",
    "df4 = df_new.drop(df3.index)\n",
    "\n"
   ]
  },
  {
   "cell_type": "markdown",
   "metadata": {},
   "source": [
    "### 2.2. Handle Missing Values"
   ]
  },
  {
   "cell_type": "code",
   "execution_count": 64,
   "metadata": {},
   "outputs": [
    {
     "output_type": "stream",
     "name": "stdout",
     "text": [
      "E      0\nDay    0\ndtype: int64\n"
     ]
    }
   ],
   "source": [
    "# Detect missing values\n",
    "print(df3.isnull().sum())"
   ]
  },
  {
   "cell_type": "markdown",
   "metadata": {},
   "source": [
    "![](https://github.com/VinitaSilaparasetty/Coursera-Intermediate-Pandas/blob/master/media/imputation.gif?raw=true)"
   ]
  },
  {
   "cell_type": "code",
   "execution_count": 67,
   "metadata": {},
   "outputs": [
    {
     "output_type": "error",
     "ename": "KeyError",
     "evalue": "'popn'",
     "traceback": [
      "\u001b[0;31m---------------------------------------------------------------------------\u001b[0m",
      "\u001b[0;31mKeyError\u001b[0m                                  Traceback (most recent call last)",
      "\u001b[0;32m~/.local/lib/python3.8/site-packages/pandas/core/indexes/base.py\u001b[0m in \u001b[0;36mget_loc\u001b[0;34m(self, key, method, tolerance)\u001b[0m\n\u001b[1;32m   2894\u001b[0m             \u001b[0;32mtry\u001b[0m\u001b[0;34m:\u001b[0m\u001b[0;34m\u001b[0m\u001b[0;34m\u001b[0m\u001b[0m\n\u001b[0;32m-> 2895\u001b[0;31m                 \u001b[0;32mreturn\u001b[0m \u001b[0mself\u001b[0m\u001b[0;34m.\u001b[0m\u001b[0m_engine\u001b[0m\u001b[0;34m.\u001b[0m\u001b[0mget_loc\u001b[0m\u001b[0;34m(\u001b[0m\u001b[0mcasted_key\u001b[0m\u001b[0;34m)\u001b[0m\u001b[0;34m\u001b[0m\u001b[0;34m\u001b[0m\u001b[0m\n\u001b[0m\u001b[1;32m   2896\u001b[0m             \u001b[0;32mexcept\u001b[0m \u001b[0mKeyError\u001b[0m \u001b[0;32mas\u001b[0m \u001b[0merr\u001b[0m\u001b[0;34m:\u001b[0m\u001b[0;34m\u001b[0m\u001b[0;34m\u001b[0m\u001b[0m\n",
      "\u001b[0;32mpandas/_libs/index.pyx\u001b[0m in \u001b[0;36mpandas._libs.index.IndexEngine.get_loc\u001b[0;34m()\u001b[0m\n",
      "\u001b[0;32mpandas/_libs/index.pyx\u001b[0m in \u001b[0;36mpandas._libs.index.IndexEngine.get_loc\u001b[0;34m()\u001b[0m\n",
      "\u001b[0;32mpandas/_libs/hashtable_class_helper.pxi\u001b[0m in \u001b[0;36mpandas._libs.hashtable.PyObjectHashTable.get_item\u001b[0;34m()\u001b[0m\n",
      "\u001b[0;32mpandas/_libs/hashtable_class_helper.pxi\u001b[0m in \u001b[0;36mpandas._libs.hashtable.PyObjectHashTable.get_item\u001b[0;34m()\u001b[0m\n",
      "\u001b[0;31mKeyError\u001b[0m: 'popn'",
      "\nThe above exception was the direct cause of the following exception:\n",
      "\u001b[0;31mKeyError\u001b[0m                                  Traceback (most recent call last)",
      "\u001b[0;32m<ipython-input-67-c96d4454112b>\u001b[0m in \u001b[0;36m<module>\u001b[0;34m\u001b[0m\n\u001b[1;32m      3\u001b[0m \u001b[0;31m# Mean imputation (see pic above)\u001b[0m\u001b[0;34m\u001b[0m\u001b[0;34m\u001b[0m\u001b[0;34m\u001b[0m\u001b[0m\n\u001b[1;32m      4\u001b[0m \u001b[0;34m\u001b[0m\u001b[0m\n\u001b[0;32m----> 5\u001b[0;31m \u001b[0mdf3\u001b[0m\u001b[0;34m[\u001b[0m\u001b[0;34m'popn'\u001b[0m\u001b[0;34m]\u001b[0m\u001b[0;34m\u001b[0m\u001b[0;34m\u001b[0m\u001b[0m\n\u001b[0m\u001b[1;32m      6\u001b[0m \u001b[0;34m\u001b[0m\u001b[0m\n\u001b[1;32m      7\u001b[0m \u001b[0;31m# Ctd...\u001b[0m\u001b[0;34m\u001b[0m\u001b[0;34m\u001b[0m\u001b[0;34m\u001b[0m\u001b[0m\n",
      "\u001b[0;32m~/.local/lib/python3.8/site-packages/pandas/core/frame.py\u001b[0m in \u001b[0;36m__getitem__\u001b[0;34m(self, key)\u001b[0m\n\u001b[1;32m   2904\u001b[0m             \u001b[0;32mif\u001b[0m \u001b[0mself\u001b[0m\u001b[0;34m.\u001b[0m\u001b[0mcolumns\u001b[0m\u001b[0;34m.\u001b[0m\u001b[0mnlevels\u001b[0m \u001b[0;34m>\u001b[0m \u001b[0;36m1\u001b[0m\u001b[0;34m:\u001b[0m\u001b[0;34m\u001b[0m\u001b[0;34m\u001b[0m\u001b[0m\n\u001b[1;32m   2905\u001b[0m                 \u001b[0;32mreturn\u001b[0m \u001b[0mself\u001b[0m\u001b[0;34m.\u001b[0m\u001b[0m_getitem_multilevel\u001b[0m\u001b[0;34m(\u001b[0m\u001b[0mkey\u001b[0m\u001b[0;34m)\u001b[0m\u001b[0;34m\u001b[0m\u001b[0;34m\u001b[0m\u001b[0m\n\u001b[0;32m-> 2906\u001b[0;31m             \u001b[0mindexer\u001b[0m \u001b[0;34m=\u001b[0m \u001b[0mself\u001b[0m\u001b[0;34m.\u001b[0m\u001b[0mcolumns\u001b[0m\u001b[0;34m.\u001b[0m\u001b[0mget_loc\u001b[0m\u001b[0;34m(\u001b[0m\u001b[0mkey\u001b[0m\u001b[0;34m)\u001b[0m\u001b[0;34m\u001b[0m\u001b[0;34m\u001b[0m\u001b[0m\n\u001b[0m\u001b[1;32m   2907\u001b[0m             \u001b[0;32mif\u001b[0m \u001b[0mis_integer\u001b[0m\u001b[0;34m(\u001b[0m\u001b[0mindexer\u001b[0m\u001b[0;34m)\u001b[0m\u001b[0;34m:\u001b[0m\u001b[0;34m\u001b[0m\u001b[0;34m\u001b[0m\u001b[0m\n\u001b[1;32m   2908\u001b[0m                 \u001b[0mindexer\u001b[0m \u001b[0;34m=\u001b[0m \u001b[0;34m[\u001b[0m\u001b[0mindexer\u001b[0m\u001b[0;34m]\u001b[0m\u001b[0;34m\u001b[0m\u001b[0;34m\u001b[0m\u001b[0m\n",
      "\u001b[0;32m~/.local/lib/python3.8/site-packages/pandas/core/indexes/base.py\u001b[0m in \u001b[0;36mget_loc\u001b[0;34m(self, key, method, tolerance)\u001b[0m\n\u001b[1;32m   2895\u001b[0m                 \u001b[0;32mreturn\u001b[0m \u001b[0mself\u001b[0m\u001b[0;34m.\u001b[0m\u001b[0m_engine\u001b[0m\u001b[0;34m.\u001b[0m\u001b[0mget_loc\u001b[0m\u001b[0;34m(\u001b[0m\u001b[0mcasted_key\u001b[0m\u001b[0;34m)\u001b[0m\u001b[0;34m\u001b[0m\u001b[0;34m\u001b[0m\u001b[0m\n\u001b[1;32m   2896\u001b[0m             \u001b[0;32mexcept\u001b[0m \u001b[0mKeyError\u001b[0m \u001b[0;32mas\u001b[0m \u001b[0merr\u001b[0m\u001b[0;34m:\u001b[0m\u001b[0;34m\u001b[0m\u001b[0;34m\u001b[0m\u001b[0m\n\u001b[0;32m-> 2897\u001b[0;31m                 \u001b[0;32mraise\u001b[0m \u001b[0mKeyError\u001b[0m\u001b[0;34m(\u001b[0m\u001b[0mkey\u001b[0m\u001b[0;34m)\u001b[0m \u001b[0;32mfrom\u001b[0m \u001b[0merr\u001b[0m\u001b[0;34m\u001b[0m\u001b[0;34m\u001b[0m\u001b[0m\n\u001b[0m\u001b[1;32m   2898\u001b[0m \u001b[0;34m\u001b[0m\u001b[0m\n\u001b[1;32m   2899\u001b[0m         \u001b[0;32mif\u001b[0m \u001b[0mtolerance\u001b[0m \u001b[0;32mis\u001b[0m \u001b[0;32mnot\u001b[0m \u001b[0;32mNone\u001b[0m\u001b[0;34m:\u001b[0m\u001b[0;34m\u001b[0m\u001b[0;34m\u001b[0m\u001b[0m\n",
      "\u001b[0;31mKeyError\u001b[0m: 'popn'"
     ]
    }
   ],
   "source": [
    "# Impute missing values\n",
    "# Imputation is a method of predicting missing values based on observed values\n",
    "# Mean imputation (see pic above)\n",
    "\n",
    "df3['popn']\n",
    "\n",
    "# Ctd...\n"
   ]
  },
  {
   "cell_type": "code",
   "execution_count": 71,
   "metadata": {},
   "outputs": [
    {
     "output_type": "error",
     "ename": "KeyError",
     "evalue": "'popn'",
     "traceback": [
      "\u001b[0;31m---------------------------------------------------------------------------\u001b[0m",
      "\u001b[0;31mKeyError\u001b[0m                                  Traceback (most recent call last)",
      "\u001b[0;32m~/.local/lib/python3.8/site-packages/pandas/core/indexes/base.py\u001b[0m in \u001b[0;36mget_loc\u001b[0;34m(self, key, method, tolerance)\u001b[0m\n\u001b[1;32m   2894\u001b[0m             \u001b[0;32mtry\u001b[0m\u001b[0;34m:\u001b[0m\u001b[0;34m\u001b[0m\u001b[0;34m\u001b[0m\u001b[0m\n\u001b[0;32m-> 2895\u001b[0;31m                 \u001b[0;32mreturn\u001b[0m \u001b[0mself\u001b[0m\u001b[0;34m.\u001b[0m\u001b[0m_engine\u001b[0m\u001b[0;34m.\u001b[0m\u001b[0mget_loc\u001b[0m\u001b[0;34m(\u001b[0m\u001b[0mcasted_key\u001b[0m\u001b[0;34m)\u001b[0m\u001b[0;34m\u001b[0m\u001b[0;34m\u001b[0m\u001b[0m\n\u001b[0m\u001b[1;32m   2896\u001b[0m             \u001b[0;32mexcept\u001b[0m \u001b[0mKeyError\u001b[0m \u001b[0;32mas\u001b[0m \u001b[0merr\u001b[0m\u001b[0;34m:\u001b[0m\u001b[0;34m\u001b[0m\u001b[0;34m\u001b[0m\u001b[0m\n",
      "\u001b[0;32mpandas/_libs/index.pyx\u001b[0m in \u001b[0;36mpandas._libs.index.IndexEngine.get_loc\u001b[0;34m()\u001b[0m\n",
      "\u001b[0;32mpandas/_libs/index.pyx\u001b[0m in \u001b[0;36mpandas._libs.index.IndexEngine.get_loc\u001b[0;34m()\u001b[0m\n",
      "\u001b[0;32mpandas/_libs/hashtable_class_helper.pxi\u001b[0m in \u001b[0;36mpandas._libs.hashtable.PyObjectHashTable.get_item\u001b[0;34m()\u001b[0m\n",
      "\u001b[0;32mpandas/_libs/hashtable_class_helper.pxi\u001b[0m in \u001b[0;36mpandas._libs.hashtable.PyObjectHashTable.get_item\u001b[0;34m()\u001b[0m\n",
      "\u001b[0;31mKeyError\u001b[0m: 'popn'",
      "\nThe above exception was the direct cause of the following exception:\n",
      "\u001b[0;31mKeyError\u001b[0m                                  Traceback (most recent call last)",
      "\u001b[0;32m<ipython-input-71-de5e6e22a5c2>\u001b[0m in \u001b[0;36m<module>\u001b[0;34m\u001b[0m\n\u001b[0;32m----> 1\u001b[0;31m \u001b[0mdf3\u001b[0m\u001b[0;34m[\u001b[0m\u001b[0;34m'popn'\u001b[0m\u001b[0;34m]\u001b[0m\u001b[0;34m.\u001b[0m\u001b[0mmean\u001b[0m\u001b[0;34m(\u001b[0m\u001b[0;34m)\u001b[0m\u001b[0;34m\u001b[0m\u001b[0;34m\u001b[0m\u001b[0m\n\u001b[0m",
      "\u001b[0;32m~/.local/lib/python3.8/site-packages/pandas/core/frame.py\u001b[0m in \u001b[0;36m__getitem__\u001b[0;34m(self, key)\u001b[0m\n\u001b[1;32m   2904\u001b[0m             \u001b[0;32mif\u001b[0m \u001b[0mself\u001b[0m\u001b[0;34m.\u001b[0m\u001b[0mcolumns\u001b[0m\u001b[0;34m.\u001b[0m\u001b[0mnlevels\u001b[0m \u001b[0;34m>\u001b[0m \u001b[0;36m1\u001b[0m\u001b[0;34m:\u001b[0m\u001b[0;34m\u001b[0m\u001b[0;34m\u001b[0m\u001b[0m\n\u001b[1;32m   2905\u001b[0m                 \u001b[0;32mreturn\u001b[0m \u001b[0mself\u001b[0m\u001b[0;34m.\u001b[0m\u001b[0m_getitem_multilevel\u001b[0m\u001b[0;34m(\u001b[0m\u001b[0mkey\u001b[0m\u001b[0;34m)\u001b[0m\u001b[0;34m\u001b[0m\u001b[0;34m\u001b[0m\u001b[0m\n\u001b[0;32m-> 2906\u001b[0;31m             \u001b[0mindexer\u001b[0m \u001b[0;34m=\u001b[0m \u001b[0mself\u001b[0m\u001b[0;34m.\u001b[0m\u001b[0mcolumns\u001b[0m\u001b[0;34m.\u001b[0m\u001b[0mget_loc\u001b[0m\u001b[0;34m(\u001b[0m\u001b[0mkey\u001b[0m\u001b[0;34m)\u001b[0m\u001b[0;34m\u001b[0m\u001b[0;34m\u001b[0m\u001b[0m\n\u001b[0m\u001b[1;32m   2907\u001b[0m             \u001b[0;32mif\u001b[0m \u001b[0mis_integer\u001b[0m\u001b[0;34m(\u001b[0m\u001b[0mindexer\u001b[0m\u001b[0;34m)\u001b[0m\u001b[0;34m:\u001b[0m\u001b[0;34m\u001b[0m\u001b[0;34m\u001b[0m\u001b[0m\n\u001b[1;32m   2908\u001b[0m                 \u001b[0mindexer\u001b[0m \u001b[0;34m=\u001b[0m \u001b[0;34m[\u001b[0m\u001b[0mindexer\u001b[0m\u001b[0;34m]\u001b[0m\u001b[0;34m\u001b[0m\u001b[0;34m\u001b[0m\u001b[0m\n",
      "\u001b[0;32m~/.local/lib/python3.8/site-packages/pandas/core/indexes/base.py\u001b[0m in \u001b[0;36mget_loc\u001b[0;34m(self, key, method, tolerance)\u001b[0m\n\u001b[1;32m   2895\u001b[0m                 \u001b[0;32mreturn\u001b[0m \u001b[0mself\u001b[0m\u001b[0;34m.\u001b[0m\u001b[0m_engine\u001b[0m\u001b[0;34m.\u001b[0m\u001b[0mget_loc\u001b[0m\u001b[0;34m(\u001b[0m\u001b[0mcasted_key\u001b[0m\u001b[0;34m)\u001b[0m\u001b[0;34m\u001b[0m\u001b[0;34m\u001b[0m\u001b[0m\n\u001b[1;32m   2896\u001b[0m             \u001b[0;32mexcept\u001b[0m \u001b[0mKeyError\u001b[0m \u001b[0;32mas\u001b[0m \u001b[0merr\u001b[0m\u001b[0;34m:\u001b[0m\u001b[0;34m\u001b[0m\u001b[0;34m\u001b[0m\u001b[0m\n\u001b[0;32m-> 2897\u001b[0;31m                 \u001b[0;32mraise\u001b[0m \u001b[0mKeyError\u001b[0m\u001b[0;34m(\u001b[0m\u001b[0mkey\u001b[0m\u001b[0;34m)\u001b[0m \u001b[0;32mfrom\u001b[0m \u001b[0merr\u001b[0m\u001b[0;34m\u001b[0m\u001b[0;34m\u001b[0m\u001b[0m\n\u001b[0m\u001b[1;32m   2898\u001b[0m \u001b[0;34m\u001b[0m\u001b[0m\n\u001b[1;32m   2899\u001b[0m         \u001b[0;32mif\u001b[0m \u001b[0mtolerance\u001b[0m \u001b[0;32mis\u001b[0m \u001b[0;32mnot\u001b[0m \u001b[0;32mNone\u001b[0m\u001b[0;34m:\u001b[0m\u001b[0;34m\u001b[0m\u001b[0;34m\u001b[0m\u001b[0m\n",
      "\u001b[0;31mKeyError\u001b[0m: 'popn'"
     ]
    }
   ],
   "source": [
    "df3['popn'].mean()"
   ]
  },
  {
   "cell_type": "code",
   "execution_count": 73,
   "metadata": {},
   "outputs": [
    {
     "output_type": "execute_result",
     "data": {
      "text/plain": [
       "       E    Day\n",
       "0  False  False\n",
       "1  False  False\n",
       "2  False  False\n",
       "3  False  False\n",
       "4  False  False"
      ],
      "text/html": "<div>\n<style scoped>\n    .dataframe tbody tr th:only-of-type {\n        vertical-align: middle;\n    }\n\n    .dataframe tbody tr th {\n        vertical-align: top;\n    }\n\n    .dataframe thead th {\n        text-align: right;\n    }\n</style>\n<table border=\"1\" class=\"dataframe\">\n  <thead>\n    <tr style=\"text-align: right;\">\n      <th></th>\n      <th>E</th>\n      <th>Day</th>\n    </tr>\n  </thead>\n  <tbody>\n    <tr>\n      <th>0</th>\n      <td>False</td>\n      <td>False</td>\n    </tr>\n    <tr>\n      <th>1</th>\n      <td>False</td>\n      <td>False</td>\n    </tr>\n    <tr>\n      <th>2</th>\n      <td>False</td>\n      <td>False</td>\n    </tr>\n    <tr>\n      <th>3</th>\n      <td>False</td>\n      <td>False</td>\n    </tr>\n    <tr>\n      <th>4</th>\n      <td>False</td>\n      <td>False</td>\n    </tr>\n  </tbody>\n</table>\n</div>"
     },
     "metadata": {},
     "execution_count": 73
    }
   ],
   "source": [
    "df3.isnull()"
   ]
  },
  {
   "cell_type": "code",
   "execution_count": 74,
   "metadata": {},
   "outputs": [
    {
     "output_type": "error",
     "ename": "KeyError",
     "evalue": "'popn'",
     "traceback": [
      "\u001b[0;31m---------------------------------------------------------------------------\u001b[0m",
      "\u001b[0;31mKeyError\u001b[0m                                  Traceback (most recent call last)",
      "\u001b[0;32m~/.local/lib/python3.8/site-packages/pandas/core/indexes/base.py\u001b[0m in \u001b[0;36mget_loc\u001b[0;34m(self, key, method, tolerance)\u001b[0m\n\u001b[1;32m   2894\u001b[0m             \u001b[0;32mtry\u001b[0m\u001b[0;34m:\u001b[0m\u001b[0;34m\u001b[0m\u001b[0;34m\u001b[0m\u001b[0m\n\u001b[0;32m-> 2895\u001b[0;31m                 \u001b[0;32mreturn\u001b[0m \u001b[0mself\u001b[0m\u001b[0;34m.\u001b[0m\u001b[0m_engine\u001b[0m\u001b[0;34m.\u001b[0m\u001b[0mget_loc\u001b[0m\u001b[0;34m(\u001b[0m\u001b[0mcasted_key\u001b[0m\u001b[0;34m)\u001b[0m\u001b[0;34m\u001b[0m\u001b[0;34m\u001b[0m\u001b[0m\n\u001b[0m\u001b[1;32m   2896\u001b[0m             \u001b[0;32mexcept\u001b[0m \u001b[0mKeyError\u001b[0m \u001b[0;32mas\u001b[0m \u001b[0merr\u001b[0m\u001b[0;34m:\u001b[0m\u001b[0;34m\u001b[0m\u001b[0;34m\u001b[0m\u001b[0m\n",
      "\u001b[0;32mpandas/_libs/index.pyx\u001b[0m in \u001b[0;36mpandas._libs.index.IndexEngine.get_loc\u001b[0;34m()\u001b[0m\n",
      "\u001b[0;32mpandas/_libs/index.pyx\u001b[0m in \u001b[0;36mpandas._libs.index.IndexEngine.get_loc\u001b[0;34m()\u001b[0m\n",
      "\u001b[0;32mpandas/_libs/hashtable_class_helper.pxi\u001b[0m in \u001b[0;36mpandas._libs.hashtable.PyObjectHashTable.get_item\u001b[0;34m()\u001b[0m\n",
      "\u001b[0;32mpandas/_libs/hashtable_class_helper.pxi\u001b[0m in \u001b[0;36mpandas._libs.hashtable.PyObjectHashTable.get_item\u001b[0;34m()\u001b[0m\n",
      "\u001b[0;31mKeyError\u001b[0m: 'popn'",
      "\nThe above exception was the direct cause of the following exception:\n",
      "\u001b[0;31mKeyError\u001b[0m                                  Traceback (most recent call last)",
      "\u001b[0;32m<ipython-input-74-756627d7d6a3>\u001b[0m in \u001b[0;36m<module>\u001b[0;34m\u001b[0m\n\u001b[0;32m----> 1\u001b[0;31m \u001b[0mdf3\u001b[0m\u001b[0;34m[\u001b[0m\u001b[0;34m'popn'\u001b[0m\u001b[0;34m]\u001b[0m\u001b[0;34m.\u001b[0m\u001b[0mfillna\u001b[0m\u001b[0;34m(\u001b[0m\u001b[0mdf3\u001b[0m\u001b[0;34m[\u001b[0m\u001b[0;34m'popn'\u001b[0m\u001b[0;34m]\u001b[0m\u001b[0;34m.\u001b[0m\u001b[0mmean\u001b[0m\u001b[0;34m(\u001b[0m\u001b[0;34m)\u001b[0m\u001b[0;34m,\u001b[0m \u001b[0minplace\u001b[0m\u001b[0;34m=\u001b[0m\u001b[0;32mTrue\u001b[0m\u001b[0;34m)\u001b[0m\u001b[0;34m\u001b[0m\u001b[0;34m\u001b[0m\u001b[0m\n\u001b[0m\u001b[1;32m      2\u001b[0m \u001b[0mprint\u001b[0m\u001b[0;34m(\u001b[0m\u001b[0mdf3\u001b[0m\u001b[0;34m.\u001b[0m\u001b[0misnull\u001b[0m\u001b[0;34m(\u001b[0m\u001b[0;34m)\u001b[0m\u001b[0;34m.\u001b[0m\u001b[0msum\u001b[0m\u001b[0;34m(\u001b[0m\u001b[0;34m)\u001b[0m\u001b[0;34m)\u001b[0m\u001b[0;34m\u001b[0m\u001b[0;34m\u001b[0m\u001b[0m\n",
      "\u001b[0;32m~/.local/lib/python3.8/site-packages/pandas/core/frame.py\u001b[0m in \u001b[0;36m__getitem__\u001b[0;34m(self, key)\u001b[0m\n\u001b[1;32m   2904\u001b[0m             \u001b[0;32mif\u001b[0m \u001b[0mself\u001b[0m\u001b[0;34m.\u001b[0m\u001b[0mcolumns\u001b[0m\u001b[0;34m.\u001b[0m\u001b[0mnlevels\u001b[0m \u001b[0;34m>\u001b[0m \u001b[0;36m1\u001b[0m\u001b[0;34m:\u001b[0m\u001b[0;34m\u001b[0m\u001b[0;34m\u001b[0m\u001b[0m\n\u001b[1;32m   2905\u001b[0m                 \u001b[0;32mreturn\u001b[0m \u001b[0mself\u001b[0m\u001b[0;34m.\u001b[0m\u001b[0m_getitem_multilevel\u001b[0m\u001b[0;34m(\u001b[0m\u001b[0mkey\u001b[0m\u001b[0;34m)\u001b[0m\u001b[0;34m\u001b[0m\u001b[0;34m\u001b[0m\u001b[0m\n\u001b[0;32m-> 2906\u001b[0;31m             \u001b[0mindexer\u001b[0m \u001b[0;34m=\u001b[0m \u001b[0mself\u001b[0m\u001b[0;34m.\u001b[0m\u001b[0mcolumns\u001b[0m\u001b[0;34m.\u001b[0m\u001b[0mget_loc\u001b[0m\u001b[0;34m(\u001b[0m\u001b[0mkey\u001b[0m\u001b[0;34m)\u001b[0m\u001b[0;34m\u001b[0m\u001b[0;34m\u001b[0m\u001b[0m\n\u001b[0m\u001b[1;32m   2907\u001b[0m             \u001b[0;32mif\u001b[0m \u001b[0mis_integer\u001b[0m\u001b[0;34m(\u001b[0m\u001b[0mindexer\u001b[0m\u001b[0;34m)\u001b[0m\u001b[0;34m:\u001b[0m\u001b[0;34m\u001b[0m\u001b[0;34m\u001b[0m\u001b[0m\n\u001b[1;32m   2908\u001b[0m                 \u001b[0mindexer\u001b[0m \u001b[0;34m=\u001b[0m \u001b[0;34m[\u001b[0m\u001b[0mindexer\u001b[0m\u001b[0;34m]\u001b[0m\u001b[0;34m\u001b[0m\u001b[0;34m\u001b[0m\u001b[0m\n",
      "\u001b[0;32m~/.local/lib/python3.8/site-packages/pandas/core/indexes/base.py\u001b[0m in \u001b[0;36mget_loc\u001b[0;34m(self, key, method, tolerance)\u001b[0m\n\u001b[1;32m   2895\u001b[0m                 \u001b[0;32mreturn\u001b[0m \u001b[0mself\u001b[0m\u001b[0;34m.\u001b[0m\u001b[0m_engine\u001b[0m\u001b[0;34m.\u001b[0m\u001b[0mget_loc\u001b[0m\u001b[0;34m(\u001b[0m\u001b[0mcasted_key\u001b[0m\u001b[0;34m)\u001b[0m\u001b[0;34m\u001b[0m\u001b[0;34m\u001b[0m\u001b[0m\n\u001b[1;32m   2896\u001b[0m             \u001b[0;32mexcept\u001b[0m \u001b[0mKeyError\u001b[0m \u001b[0;32mas\u001b[0m \u001b[0merr\u001b[0m\u001b[0;34m:\u001b[0m\u001b[0;34m\u001b[0m\u001b[0;34m\u001b[0m\u001b[0m\n\u001b[0;32m-> 2897\u001b[0;31m                 \u001b[0;32mraise\u001b[0m \u001b[0mKeyError\u001b[0m\u001b[0;34m(\u001b[0m\u001b[0mkey\u001b[0m\u001b[0;34m)\u001b[0m \u001b[0;32mfrom\u001b[0m \u001b[0merr\u001b[0m\u001b[0;34m\u001b[0m\u001b[0;34m\u001b[0m\u001b[0m\n\u001b[0m\u001b[1;32m   2898\u001b[0m \u001b[0;34m\u001b[0m\u001b[0m\n\u001b[1;32m   2899\u001b[0m         \u001b[0;32mif\u001b[0m \u001b[0mtolerance\u001b[0m \u001b[0;32mis\u001b[0m \u001b[0;32mnot\u001b[0m \u001b[0;32mNone\u001b[0m\u001b[0;34m:\u001b[0m\u001b[0;34m\u001b[0m\u001b[0;34m\u001b[0m\u001b[0m\n",
      "\u001b[0;31mKeyError\u001b[0m: 'popn'"
     ]
    }
   ],
   "source": [
    "df3['popn'].fillna(df3['popn'].mean(), inplace=True)\n",
    "print(df3.isnull().sum())"
   ]
  },
  {
   "cell_type": "markdown",
   "metadata": {},
   "source": [
    "![](https://github.com/VinitaSilaparasetty/Coursera-Intermediate-Pandas/blob/master/media/interpolation.gif?raw=true)"
   ]
  },
  {
   "cell_type": "code",
   "execution_count": 46,
   "metadata": {},
   "outputs": [
    {
     "output_type": "stream",
     "name": "stdout",
     "text": [
      "countryc     0\nyear         0\nagrgdp       0\npopn         1\ninfmort      0\nschprim      0\nschsec       0\ngrtdsbp      0\ngrlndsbp     0\naiddsbp      0\ntotexpp      0\nagexpp       0\nenexpp       0\nindexpp      0\ntacexpp      0\neduexpp      0\nhthexpp      0\nprirepp      0\ncurexpp      0\ncapexpp      0\ngdnpp        0\nd0           0\ncnlnagp      0\ncnlnenp      0\ncnlninp      0\ncnlntacp     0\ncnlnedup     0\ncnlnhthp     0\ncnlnothp     0\ndgrtdsbp     0\ndgrlndsbp    0\ndaiddsbp     0\ndtotexpp     0\ndagexpp      0\ndenexpp      0\ndindexpp     0\ndtacexpp     0\ndeduexpp     0\ndhthexpp     0\ndothexpp     0\ndcurexpp     0\ndcapexpp     0\ndprirepp     0\ndcnlnagp     0\ndcnlnenp     0\ndcnlninp     0\ndcnlntacp    0\ndcnlnedup    0\ndcnlnhthp    0\ndcnlnothp    0\ndtype: int64\n"
     ]
    }
   ],
   "source": [
    "# Interpolating missing values (see pic above)\n",
    "\n",
    "# Detect missing values\n",
    "print(df1.isnull().sum())\n",
    "# Ctd..."
   ]
  },
  {
   "cell_type": "code",
   "execution_count": 47,
   "metadata": {},
   "outputs": [
    {
     "output_type": "stream",
     "name": "stdout",
     "text": [
      "countryc     0\nyear         0\nagrgdp       0\npopn         0\ninfmort      0\nschprim      0\nschsec       0\ngrtdsbp      0\ngrlndsbp     0\naiddsbp      0\ntotexpp      0\nagexpp       0\nenexpp       0\nindexpp      0\ntacexpp      0\neduexpp      0\nhthexpp      0\nprirepp      0\ncurexpp      0\ncapexpp      0\ngdnpp        0\nd0           0\ncnlnagp      0\ncnlnenp      0\ncnlninp      0\ncnlntacp     0\ncnlnedup     0\ncnlnhthp     0\ncnlnothp     0\ndgrtdsbp     0\ndgrlndsbp    0\ndaiddsbp     0\ndtotexpp     0\ndagexpp      0\ndenexpp      0\ndindexpp     0\ndtacexpp     0\ndeduexpp     0\ndhthexpp     0\ndothexpp     0\ndcurexpp     0\ndcapexpp     0\ndprirepp     0\ndcnlnagp     0\ndcnlnenp     0\ndcnlninp     0\ndcnlntacp    0\ndcnlnedup    0\ndcnlnhthp    0\ndcnlnothp    0\ndtype: int64\n"
     ]
    }
   ],
   "source": [
    "df1['popn'].fillna(df1['popn'].interpolate(), inplace=True)\n",
    "\n",
    "print(df1.isnull().sum())"
   ]
  },
  {
   "cell_type": "markdown",
   "metadata": {},
   "source": [
    "* If the data has a linear relationship use interpolation, otherwise use imputation. Best choice depends on the business objectives (no free lunch)"
   ]
  },
  {
   "cell_type": "markdown",
   "metadata": {},
   "source": [
    "#### 2.2.1 Example missing data handling challenge\n",
    "* Assume you're studying the effects of infant mortality rate on each of the variables in the data frame. Detect missing values in df2 and decide on the best method to handle them"
   ]
  },
  {
   "cell_type": "code",
   "execution_count": 48,
   "metadata": {
    "scrolled": true
   },
   "outputs": [
    {
     "output_type": "execute_result",
     "data": {
      "text/plain": [
       "countryc     0\n",
       "year         0\n",
       "agrgdp       0\n",
       "popn         1\n",
       "infmort      0\n",
       "schprim      0\n",
       "schsec       0\n",
       "grtdsbp      0\n",
       "grlndsbp     0\n",
       "aiddsbp      0\n",
       "totexpp      0\n",
       "agexpp       0\n",
       "enexpp       0\n",
       "indexpp      0\n",
       "tacexpp      0\n",
       "eduexpp      0\n",
       "hthexpp      0\n",
       "prirepp      0\n",
       "curexpp      0\n",
       "capexpp      0\n",
       "gdnpp        0\n",
       "d0           0\n",
       "cnlnagp      0\n",
       "cnlnenp      0\n",
       "cnlninp      0\n",
       "cnlntacp     0\n",
       "cnlnedup     0\n",
       "cnlnhthp     0\n",
       "cnlnothp     0\n",
       "dgrtdsbp     0\n",
       "dgrlndsbp    0\n",
       "daiddsbp     0\n",
       "dtotexpp     0\n",
       "dagexpp      0\n",
       "denexpp      0\n",
       "dindexpp     0\n",
       "dtacexpp     0\n",
       "deduexpp     0\n",
       "dhthexpp     0\n",
       "dothexpp     0\n",
       "dcurexpp     0\n",
       "dcapexpp     0\n",
       "dprirepp     0\n",
       "dcnlnagp     0\n",
       "dcnlnenp     0\n",
       "dcnlninp     0\n",
       "dcnlntacp    0\n",
       "dcnlnedup    0\n",
       "dcnlnhthp    0\n",
       "dcnlnothp    0\n",
       "dtype: int64"
      ]
     },
     "metadata": {},
     "execution_count": 48
    }
   ],
   "source": [
    "df2.isnull().sum()"
   ]
  },
  {
   "cell_type": "code",
   "execution_count": 49,
   "metadata": {},
   "outputs": [
    {
     "output_type": "execute_result",
     "data": {
      "text/plain": [
       "    countryc  year       agrgdp  popn infmort schprim schsec  \\\n",
       "48  Botswana  1990  5.456680968   NaN    55.8     114     42   \n",
       "\n",
       "             grtdsbp          grlndsbp           aiddsbp  ...  \\\n",
       "48  125.423896789551  14.6862802505493  140.110198974609  ...   \n",
       "\n",
       "            dcurexpp          dcapexpp            dprirepp  \\\n",
       "48  147.043899536133  57.2380714416504  -0.408820003271103   \n",
       "\n",
       "              dcnlnagp          dcnlnenp           dcnlninp         dcnlntacp  \\\n",
       "48  -0.127890005707741  2.52362895011902  -8.80912017822266  -8.8169002532959   \n",
       "\n",
       "            dcnlnedup            dcnlnhthp         dcnlnothp  \n",
       "48  -11.6063995361328  -0.0971599966287613  6.63489723205566  \n",
       "\n",
       "[1 rows x 50 columns]"
      ],
      "text/html": "<div>\n<style scoped>\n    .dataframe tbody tr th:only-of-type {\n        vertical-align: middle;\n    }\n\n    .dataframe tbody tr th {\n        vertical-align: top;\n    }\n\n    .dataframe thead th {\n        text-align: right;\n    }\n</style>\n<table border=\"1\" class=\"dataframe\">\n  <thead>\n    <tr style=\"text-align: right;\">\n      <th></th>\n      <th>countryc</th>\n      <th>year</th>\n      <th>agrgdp</th>\n      <th>popn</th>\n      <th>infmort</th>\n      <th>schprim</th>\n      <th>schsec</th>\n      <th>grtdsbp</th>\n      <th>grlndsbp</th>\n      <th>aiddsbp</th>\n      <th>...</th>\n      <th>dcurexpp</th>\n      <th>dcapexpp</th>\n      <th>dprirepp</th>\n      <th>dcnlnagp</th>\n      <th>dcnlnenp</th>\n      <th>dcnlninp</th>\n      <th>dcnlntacp</th>\n      <th>dcnlnedup</th>\n      <th>dcnlnhthp</th>\n      <th>dcnlnothp</th>\n    </tr>\n  </thead>\n  <tbody>\n    <tr>\n      <th>48</th>\n      <td>Botswana</td>\n      <td>1990</td>\n      <td>5.456680968</td>\n      <td>NaN</td>\n      <td>55.8</td>\n      <td>114</td>\n      <td>42</td>\n      <td>125.423896789551</td>\n      <td>14.6862802505493</td>\n      <td>140.110198974609</td>\n      <td>...</td>\n      <td>147.043899536133</td>\n      <td>57.2380714416504</td>\n      <td>-0.408820003271103</td>\n      <td>-0.127890005707741</td>\n      <td>2.52362895011902</td>\n      <td>-8.80912017822266</td>\n      <td>-8.8169002532959</td>\n      <td>-11.6063995361328</td>\n      <td>-0.0971599966287613</td>\n      <td>6.63489723205566</td>\n    </tr>\n  </tbody>\n</table>\n<p>1 rows × 50 columns</p>\n</div>"
     },
     "metadata": {},
     "execution_count": 49
    }
   ],
   "source": [
    "df2[df2.isnull().any(axis=1)]"
   ]
  },
  {
   "cell_type": "code",
   "execution_count": 50,
   "metadata": {},
   "outputs": [
    {
     "output_type": "execute_result",
     "data": {
      "text/plain": [
       "1   \n",
       "198                     48                     22  58.6903495788574   \n",
       "252  1.79769313486232e+308  1.79769313486232e+308   16.711820602417   \n",
       "185                   57.2                   11.4  27.8442993164062   \n",
       "6                     15.4                    1.8  38.6305809020996   \n",
       "57                    93.8                   10.6  18.3287105560303   \n",
       "276                  103.2                   47.6  33.3487701416016   \n",
       "257                     79                     15  31.4275207519531   \n",
       "187                   59.6                   14.2  23.8042697906494   \n",
       "219                    104                     17  83.5996475219726   \n",
       "235  1.79769313486232e+308  1.79769313486232e+308  48.4444389343262   \n",
       "141                     42                     12   69.366943359375   \n",
       "83                    20.8                    5.2  4.12413215637207   \n",
       "266                  101.8                   35.4  36.8324813842773   \n",
       "48                     114                     42  125.423896789551   \n",
       "17                      29                      5  27.2893295288086   \n",
       "159                   65.4                    9.8  10.6624298095703   \n",
       "209  1.79769313486232e+308  1.79769313486232e+308  45.2506408691406   \n",
       "174                   98.2            22.16666667   22.578649520874   \n",
       "139                     33                     11  53.4062881469727   \n",
       "72                  102.75                  25.25  20.7212104797363   \n",
       "199                     48                     22  39.3754997253418   \n",
       "25                      38                      8  39.2027893066406   \n",
       "21                      35                      7  28.7813892364502   \n",
       "195                     48                     22  58.0791893005371   \n",
       "10                      17                      2  41.1725006103516   \n",
       "125                     74                     39   22.296459197998   \n",
       "231                    105                     24  59.3357810974121   \n",
       "274                   96.4                   49.2  57.4679794311524   \n",
       "189                     62                     17  24.1224708557129   \n",
       "140                     37                     11  67.2458572387695   \n",
       "120                   76.8                   40.2  15.3000497817993   \n",
       "94                    34.8                   11.2  9.63077259063721   \n",
       "42                   102.2                     27  120.155899047852   \n",
       "283                    109                     53  48.7851715087891   \n",
       "178                     95            22.16666667  58.4292602539062   \n",
       "270                    109                     46  33.2450904846191   \n",
       "131                     80                     40  20.2940006256104   \n",
       "240                     94                     12  16.4736003875732   \n",
       "256                     87                     17  42.6463584899902   \n",
       "98                   34.25                   13.5  20.3594608306885   \n",
       "23                      37                      8  38.1004219055176   \n",
       "191            60.66666667            18.33333333  20.3501396179199   \n",
       "\n",
       "             grlndsbp           aiddsbp  ...               dcurexpp  \\\n",
       "168  17.7571392059326  44.5907592773438  ...      -1.90575003623962   \n",
       "109  7.85923004150391  15.4030504226685  ...      -13.4622001647949   \n",
       "204  16.2881603240967  54.9116592407227  ...  1.79769313486232e+308   \n",
       "247  25.6996097564697  43.5664291381836  ...  1.79769313486232e+308   \n",
       "99   3.97879600524902  18.9900798797607  ...      0.919135987758636   \n",
       "228   17.261739730835  84.6195831298828  ...       8.38925743103027   \n",
       "172  10.9030799865723  31.6481304168701  ...      -2.49663996696472   \n",
       "97   4.37149715423584  18.2362003326416  ...      -1.71854996681213   \n",
       "277  23.7189407348633  54.5535507202148  ...      -60.2523002624512   \n",
       "220  14.0071697235107  123.830200195312  ...  1.79769313486232e+308   \n",
       "188  12.8318300247192  32.8423118591309  ...  1.79769313486232e+308   \n",
       "126  28.9686393737793  68.5179290771484  ...      0.109958998858929   \n",
       "84   3.32927989959717  10.8360900878906  ...  1.79769313486232e+308   \n",
       "11   12.2534103393555  69.1145095825195  ...       8.31790637969971   \n",
       "198  33.4160995483398  92.1064529418945  ...      -28.3581008911133   \n",
       "252  26.5002498626709  43.2120704650879  ...  1.79769313486232e+308   \n",
       "185  7.06708002090454  34.9113807678223  ...  1.79769313486232e+308   \n",
       "6    6.66203498840332  45.2926216125488  ...  1.79769313486232e+308   \n",
       "57   11.2815504074097  29.6102600097656  ...  1.79769313486232e+308   \n",
       "276  30.4584503173828  63.8072204589844  ...      -9.00955963134766   \n",
       "257  19.6668796539307  51.0943984985352  ...      -3.62342000007629   \n",
       "187  2.47919201850891  26.2834606170654  ...  1.79769313486232e+308   \n",
       "219  14.0947799682617  97.6944198608398  ...  1.79769313486232e+308   \n",
       "235  13.5303001403809  61.9747505187988  ...  1.79769313486232e+308   \n",
       "141  47.2372207641602  116.604202270508  ...       1.45608305931091   \n",
       "83   2.60918498039246  6.73331594467163  ...  1.79769313486232e+308   \n",
       "266  15.5214996337891  52.3539695739746  ...  1.79769313486232e+308   \n",
       "48   14.6862802505493  140.110198974609  ...       147.043899536133   \n",
       "17   7.28504705429077  34.5743713378906  ...       -3.7832601070404   \n",
       "159  9.91978454589844  20.5822105407715  ...  1.79769313486232e+308   \n",
       "209                 0  45.2506408691406  ...  1.79769313486232e+308   \n",
       "174  8.99409103393555  31.5727405548096  ...       9.02511215209961   \n",
       "139  31.2830505371094   84.689338684082  ...       23.5382308959961   \n",
       "72   15.4213495254517  36.1425590515137  ...  1.79769313486232e+308   \n",
       "199   19.388219833374   58.763729095459  ...      -9.91783046722412   \n",
       "25   14.1584100723267   53.361198425293  ...  1.79769313486232e+308   \n",
       "21    11.189640045166  39.9710311889648  ...  1.79769313486232e+308   \n",
       "195  38.8035202026367  96.8827133178711  ...       7.22292900085449   \n",
       "10   12.0082502365112  53.1807403564453  ...       6.59807300567627   \n",
       "125  40.3191413879394   62.615608215332  ...     -0.323130011558533   \n",
       "231   19.971170425415  79.3069610595703  ...       21.3133106231689   \n",
       "274  43.1592216491699  100.627197265625  ...       -14.480899810791   \n",
       "189   15.052680015564  39.1751518249512  ...      -10.3713998794556   \n",
       "140  57.7444915771484  124.990303039551  ...       11.6485795974731   \n",
       "120   12.209939956665  27.5099906921387  ...       7.33061790466309   \n",
       "94   2.92819094657898  12.5589599609375  ...      -7.27619981765747   \n",
       "42   24.1652793884277  144.321197509766  ...       70.7853927612305   \n",
       "283  64.7201309204102  113.505302429199  ...       68.0971527099609   \n",
       "178  27.1409492492676  85.5702209472656  ...      -18.3206005096436   \n",
       "270  24.7659702301025   58.011058807373  ...       75.0522918701172   \n",
       "131  26.3794994354248  46.6735000610352  ...  1.79769313486232e+308   \n",
       "240  9.76997661590576   26.243579864502  ...  1.79769313486232e+308   \n",
       "256  13.9560403823853  56.6024017333984  ...       1.14905905723572   \n",
       "98   5.55403518676758  25.9134902954102  ...       4.41632223129272   \n",
       "23    15.298939704895  53.3993606567383  ...  1.79769313486232e+308   \n",
       "191  29.2217292785644  49.5718688964844  ...      -4.21390008926392   \n",
       "\n",
       "                  dcapexpp               dprirepp               dcnlnagp  \\\n",
       "168        4.4354100227356      -0.64258998632431      -0.43707999587059   \n",
       "109      -5.45116996765137     -0.186719998717308   -0.00694000022485852   \n",
       "204  1.79769313486232e+308  1.79769313486232e+308  1.79769313486232e+308   \n",
       "247  1.79769313486232e+308  1.79769313486232e+308  1.79769313486232e+308   \n",
       "99         2.5445671081543      0.135925993323326    -0.0909200012683868   \n",
       "228      -1.36620998382568     -0.754760026931763     -0.180490002036095   \n",
       "172      -3.95836997032166      0.110414996743202      0.153242006897926   \n",
       "97      -0.485489994287491     -0.029389999806881      0.451462000608444   \n",
       "277      -8.94552993774414       2.55853796005249    -0.0776799991726875   \n",
       "220  1.79769313486232e+308  1.79769313486232e+308  1.79769313486232e+308   \n",
       "188  1.79769313486232e+308      0.397731989622116      0.510950982570648   \n",
       "126     -0.320589989423752       22.0238494873047      0.776171982288361   \n",
       "84   1.79769313486232e+308  1.79769313486232e+308  1.79769313486232e+308   \n",
       "11         2.6434850692749       9.84729862213135     -0.657880008220673   \n",
       "198       -13.765700340271      0.466618001461029       11.7785196304321   \n",
       "252  1.79769313486232e+308  1.79769313486232e+308  1.79769313486232e+308   \n",
       "185  1.79769313486232e+308  1.79769313486232e+308  1.79769313486232e+308   \n",
       "6    1.79769313486232e+308  1.79769313486232e+308  1.79769313486232e+308   \n",
       "57   1.79769313486232e+308  1.79769313486232e+308  1.79769313486232e+308   \n",
       "276      -18.8929004669189        1.6323230266571       0.18308499455452   \n",
       "257       -7.8377799987793      -7.99283981323242      -3.62262010574341   \n",
       "187  1.79769313486232e+308  1.79769313486232e+308  1.79769313486232e+308   \n",
       "219  1.79769313486232e+308  1.79769313486232e+308  1.79769313486232e+308   \n",
       "235  1.79769313486232e+308  1.79769313486232e+308  1.79769313486232e+308   \n",
       "141      -28.4806995391846       1.79363894462585       1.67464005947113   \n",
       "83   1.79769313486232e+308  1.79769313486232e+308  1.79769313486232e+308   \n",
       "266  1.79769313486232e+308      0.349462985992432                      0   \n",
       "48        57.2380714416504     -0.408820003271103     -0.127890005707741   \n",
       "17       0.797322988510132     -0.451079994440079     -0.645250022411346   \n",
       "159  1.79769313486232e+308  1.79769313486232e+308  1.79769313486232e+308   \n",
       "209  1.79769313486232e+308  1.79769313486232e+308  1.79769313486232e+308   \n",
       "174      -3.53702998161316      0.500986993312836     -0.060989998281002   \n",
       "139       34.9868087768555     -0.151079997420311     -0.185420006513596   \n",
       "72   1.79769313486232e+308  1.79769313486232e+308  1.79769313486232e+308   \n",
       "199      -6.33763980865478      -3.19457006454468      -12.3737001419067   \n",
       "25   1.79769313486232e+308  1.79769313486232e+308  1.79769313486232e+308   \n",
       "21   1.79769313486232e+308  1.79769313486232e+308  1.79769313486232e+308   \n",
       "195       -2.6494300365448       2.66635704040527       16.7651290893555   \n",
       "10       -1.58264005184174       1.73256599903107       1.09643602371216   \n",
       "125      -2.77907991409302      -1.19852995872498     -0.863059997558594   \n",
       "231      -16.1940002441406     -0.279320001602173     -0.149350002408028   \n",
       "274       -5.9082498550415     -0.061719998717308    -0.0684499964118004   \n",
       "189       17.5614395141602      0.856984972953796    -0.0200200006365776   \n",
       "140       65.5360488891602     -0.560850024223328      0.811302006244659   \n",
       "120       2.66432690620422     -0.104589998722076     -0.378439992666244   \n",
       "94      -0.804390013217926      0.123593002557755     -0.606220006942749   \n",
       "42        16.4736995697022      0.994449019432068      -1.54944002628326   \n",
       "283       20.6014003753662      -0.88577002286911       1.21696698665619   \n",
       "178      0.600035011768341       24.6928691864014       1.63602304458618   \n",
       "270       22.8176898956299      -0.65573000907898       2.04953694343567   \n",
       "131  1.79769313486232e+308  1.79769313486232e+308  1.79769313486232e+308   \n",
       "240  1.79769313486232e+308  1.79769313486232e+308  1.79769313486232e+308   \n",
       "256      0.055357001721859       11.8646697998047       2.95013809204102   \n",
       "98      -0.611379981040955      0.021629000082612      0.444323003292084   \n",
       "23   1.79769313486232e+308  1.79769313486232e+308  1.79769313486232e+308   \n",
       "191      -13.3078002929688      -1.24118995666504        1.1413459777832   \n",
       "\n",
       "                  dcnlnenp               dcnlninp              dcnlntacp  \\\n",
       "168      -2.52485990524292     -0.424710005521774       -3.0382399559021   \n",
       "109      -3.54000997543335     0.0770640000700951    -0.0829199999570846   \n",
       "204  1.79769313486232e+308  1.79769313486232e+308  1.79769313486232e+308   \n",
       "247  1.79769313486232e+308  1.79769313486232e+308  1.79769313486232e+308   \n",
       "99      -0.922819972038269       0.01554000005126    0.00121000001672655   \n",
       "228       2.19999504089355     -0.662069976329804     -0.273030012845993   \n",
       "172       2.12988901138306     -0.622720003128052      -1.99763000011444   \n",
       "97        -1.4795800447464      -1.06228995323181      0.707652986049652   \n",
       "277      -6.83859014511108      0.616131007671356      -4.17440986633301   \n",
       "220  1.79769313486232e+308  1.79769313486232e+308  1.79769313486232e+308   \n",
       "188      0.276378005743027      0.448664993047714       4.81496095657349   \n",
       "126      0.491468012332916       1.05746495723724      -2.52997994422913   \n",
       "84   1.79769313486232e+308  1.79769313486232e+308  1.79769313486232e+308   \n",
       "11      -0.206729993224144      -1.54261004924774      0.545808017253876   \n",
       "198      -2.14861011505127       -5.7590799331665     -0.822440028190613   \n",
       "252  1.79769313486232e+308  1.79769313486232e+308  1.79769313486232e+308   \n",
       "185  1.79769313486232e+308  1.79769313486232e+308  1.79769313486232e+308   \n",
       "6    1.79769313486232e+308  1.79769313486232e+308  1.79769313486232e+308   \n",
       "57   1.79769313486232e+308  1.79769313486232e+308  1.79769313486232e+308   \n",
       "276      -1.68680000305176                      0     -0.067550003528595   \n",
       "257     -0.121169999241829       2.41000390052795      -0.46739000082016   \n",
       "187  1.79769313486232e+308  1.79769313486232e+308  1.79769313486232e+308   \n",
       "219  1.79769313486232e+308  1.79769313486232e+308  1.79769313486232e+308   \n",
       "235  1.79769313486232e+308  1.79769313486232e+308  1.79769313486232e+308   \n",
       "141                      0                      0      -11.4551000595093   \n",
       "83   1.79769313486232e+308  1.79769313486232e+308  1.79769313486232e+308   \n",
       "266                      0      -1.04186999797821                      0   \n",
       "48        2.52362895011902      -8.80912017822266       -8.8169002532959   \n",
       "17      -0.139090001583099      -1.88464999198914       3.56435203552246   \n",
       "159  1.79769313486232e+308  1.79769313486232e+308  1.79769313486232e+308   \n",
       "209  1.79769313486232e+308  1.79769313486232e+308  1.79769313486232e+308   \n",
       "174       1.25068497657776       1.39600598812103       1.19636702537537   \n",
       "139                      0                      0       18.2788696289062   \n",
       "72   1.79769313486232e+308  1.79769313486232e+308  1.79769313486232e+308   \n",
       "199      -1.93944001197815       -1.6367199420929     -0.195979997515678   \n",
       "25   1.79769313486232e+308  1.79769313486232e+308  1.79769313486232e+308   \n",
       "21   1.79769313486232e+308  1.79769313486232e+308  1.79769313486232e+308   \n",
       "195       -3.7468900680542     -0.259299993515015      -8.44779014587402   \n",
       "10       0.568677008152008     -0.884379982948303      0.211830005049706   \n",
       "125      -2.37539005279541     -0.272859990596771      -2.20474004745483   \n",
       "231      -2.39073991775513     -0.880400002002716      -1.98554003238678   \n",
       "274       9.13327217102051      -2.25398993492126       5.07418823242188   \n",
       "189       1.30049300193787      0.744728982448578       3.21796107292175   \n",
       "140                      0                      0       18.5756492614746   \n",
       "120     -0.473159998655319      0.112231999635696       1.02477705478668   \n",
       "94       0.870738983154297      -1.67703998088837     -0.588880002498627   \n",
       "42        9.50464725494385                      0      -10.1120004653931   \n",
       "283       15.4532804489136       1.85779905319214       25.3429203033447   \n",
       "178      0.529443025588989   -0.00626000016927719        1.0068199634552   \n",
       "270                      0     -0.340110003948212       1.86279499530792   \n",
       "131  1.79769313486232e+308  1.79769313486232e+308  1.79769313486232e+308   \n",
       "240  1.79769313486232e+308  1.79769313486232e+308  1.79769313486232e+308   \n",
       "256     -0.822669982910156     -0.921169996261597      -2.26319003105164   \n",
       "98       0.412930011749268      0.154944002628326      -1.32232999801636   \n",
       "23   1.79769313486232e+308  1.79769313486232e+308  1.79769313486232e+308   \n",
       "191      -2.94400000572205                      0       3.02864408493042   \n",
       "\n",
       "                 dcnlnedup              dcnlnhthp              dcnlnothp  \n",
       "168    -0.0560100004076958                      0        7.8144268989563  \n",
       "109                      0                      0     -0.743390023708344  \n",
       "204  1.79769313486232e+308  1.79769313486232e+308  1.79769313486232e+308  \n",
       "247  1.79769313486232e+308  1.79769313486232e+308  1.79769313486232e+308  \n",
       "99      -0.114739999175072     0.0564300008118153      -3.32821989059448  \n",
       "228       -1.6026200056076      0.604721009731293      0.780026018619537  \n",
       "172       0.14376200735569      0.651859998703003       5.19104719161987  \n",
       "97      -0.030850000679493                      0       1.83635902404785  \n",
       "277                      0                      0       1.90372800827026  \n",
       "220  1.79769313486232e+308  1.79769313486232e+308  1.79769313486232e+308  \n",
       "188       0.49244299530983      -0.23735000193119     -0.220809996128082  \n",
       "126      0.101365998387337      0.214107006788254     -0.506910026073456  \n",
       "84   1.79769313486232e+308  1.79769313486232e+308  1.79769313486232e+308  \n",
       "11      -0.142000004649162                      0       1.82246601581574  \n",
       "198    0.00567199988290668      0.746308982372284       6.72593688964844  \n",
       "252  1.79769313486232e+308  1.79769313486232e+308  1.79769313486232e+308  \n",
       "185  1.79769313486232e+308  1.79769313486232e+308  1.79769313486232e+308  \n",
       "6    1.79769313486232e+308  1.79769313486232e+308  1.79769313486232e+308  \n",
       "57   1.79769313486232e+308  1.79769313486232e+308  1.79769313486232e+308  \n",
       "276                      0                      0      -3.52765011787415  \n",
       "257     -0.158120006322861     -0.022350000217557       -1.1559100151062  \n",
       "187  1.79769313486232e+308  1.79769313486232e+308  1.79769313486232e+308  \n",
       "219  1.79769313486232e+308  1.79769313486232e+308  1.79769313486232e+308  \n",
       "235  1.79769313486232e+308  1.79769313486232e+308  1.79769313486232e+308  \n",
       "141      0.830413997173309                      0       11.3260898590088  \n",
       "83   1.79769313486232e+308  1.79769313486232e+308  1.79769313486232e+308  \n",
       "266                      0                      0       5.01751089096069  \n",
       "48       -11.6063995361328    -0.0971599966287613       6.63489723205566  \n",
       "17   -0.000750000006519258    -0.0656199976801872     -0.141200006008148  \n",
       "159  1.79769313486232e+308  1.79769313486232e+308  1.79769313486232e+308  \n",
       "209  1.79769313486232e+308  1.79769313486232e+308  1.79769313486232e+308  \n",
       "174     -0.333539992570877    0.00317399995401502      0.745432019233704  \n",
       "139                      0                      0       7.34664916992188  \n",
       "72   1.79769313486232e+308  1.79769313486232e+308  1.79769313486232e+308  \n",
       "199    -0.0305000003427267      -1.40985000133514      -8.33493995666504  \n",
       "25   1.79769313486232e+308  1.79769313486232e+308  1.79769313486232e+308  \n",
       "21   1.79769313486232e+308  1.79769313486232e+308  1.79769313486232e+308  \n",
       "195       0.23641100525856                      0      -0.80647999048233  \n",
       "10     -0.0740099996328354       -1.1761200428009      -3.64057993888855  \n",
       "125     0.0472089983522892    -0.0149400001391768       1.60827100276947  \n",
       "231     -0.657039999961853       1.33074104785919       3.51178288459778  \n",
       "274                      0                      0       5.60927200317383  \n",
       "189      0.203738003969192    -0.0287100002169609       5.81319904327393  \n",
       "140      0.298013001680374                      0      -4.31092977523804  \n",
       "120  -1.70000002981396E-05                      0      0.398373991250992  \n",
       "94     -0.0406900011003017   -0.00022000000171829      -17.7947006225586  \n",
       "42        3.83911204338074     -0.943589985370636     -0.742309987545013  \n",
       "283                      0                      0      -6.37153005599976  \n",
       "178      0.560658991336822    -0.0587599985301495      -3.78778004646301  \n",
       "270       1.88603794574738                      0      -2.88766002655029  \n",
       "131  1.79769313486232e+308  1.79769313486232e+308  1.79769313486232e+308  \n",
       "240  1.79769313486232e+308  1.79769313486232e+308  1.79769313486232e+308  \n",
       "256      0.278450012207031    -0.0155899999663234      -2.74889993667603  \n",
       "98       0.150712996721268                      0      -6.21179008483887  \n",
       "23   1.79769313486232e+308  1.79769313486232e+308  1.79769313486232e+308  \n",
       "191       1.95925498008728                      0       2.47339510917664  \n",
       "\n",
       "[56 rows x 50 columns]"
      ],
      "text/html": "<div>\n<style scoped>\n    .dataframe tbody tr th:only-of-type {\n        vertical-align: middle;\n    }\n\n    .dataframe tbody tr th {\n        vertical-align: top;\n    }\n\n    .dataframe thead th {\n        text-align: right;\n    }\n</style>\n<table border=\"1\" class=\"dataframe\">\n  <thead>\n    <tr style=\"text-align: right;\">\n      <th></th>\n      <th>countryc</th>\n      <th>year</th>\n      <th>agrgdp</th>\n      <th>popn</th>\n      <th>infmort</th>\n      <th>schprim</th>\n      <th>schsec</th>\n      <th>grtdsbp</th>\n      <th>grlndsbp</th>\n      <th>aiddsbp</th>\n      <th>...</th>\n      <th>dcurexpp</th>\n      <th>dcapexpp</th>\n      <th>dprirepp</th>\n      <th>dcnlnagp</th>\n      <th>dcnlnenp</th>\n      <th>dcnlninp</th>\n      <th>dcnlntacp</th>\n      <th>dcnlnedup</th>\n      <th>dcnlnhthp</th>\n      <th>dcnlnothp</th>\n    </tr>\n  </thead>\n  <tbody>\n    <tr>\n      <th>168</th>\n      <td>Kenya</td>\n      <td>1980</td>\n      <td>32.59223808</td>\n      <td>1.656e+07</td>\n      <td>72.40000153</td>\n      <td>115</td>\n      <td>20</td>\n      <td>26.8336296081543</td>\n      <td>17.7571392059326</td>\n      <td>44.5907592773438</td>\n      <td>...</td>\n      <td>-1.90575003623962</td>\n      <td>4.4354100227356</td>\n      <td>-0.64258998632431</td>\n      <td>-0.43707999587059</td>\n      <td>-2.52485990524292</td>\n      <td>-0.424710005521774</td>\n      <td>-3.0382399559021</td>\n      <td>-0.0560100004076958</td>\n      <td>0</td>\n      <td>7.8144268989563</td>\n    </tr>\n    <tr>\n      <th>109</th>\n      <td>Ghana</td>\n      <td>1973</td>\n      <td>48.97463727</td>\n      <td>9.38814e+06</td>\n      <td>106</td>\n      <td>68.2</td>\n      <td>27.8</td>\n      <td>7.54381990432739</td>\n      <td>7.85923004150391</td>\n      <td>15.4030504226685</td>\n      <td>...</td>\n      <td>-13.4622001647949</td>\n      <td>-5.45116996765137</td>\n      <td>-0.186719998717308</td>\n      <td>-0.00694000022485852</td>\n      <td>-3.54000997543335</td>\n      <td>0.0770640000700951</td>\n      <td>-0.0829199999570846</td>\n      <td>0</td>\n      <td>0</td>\n      <td>-0.743390023708344</td>\n    </tr>\n    <tr>\n      <th>204</th>\n      <td>Liberia</td>\n      <td>1990</td>\n      <td>1.79769313486232e+308</td>\n      <td>2.435e+06</td>\n      <td>176.8</td>\n      <td>1.79769313486232e+308</td>\n      <td>1.79769313486232e+308</td>\n      <td>38.6235008239746</td>\n      <td>16.2881603240967</td>\n      <td>54.9116592407227</td>\n      <td>...</td>\n      <td>1.79769313486232e+308</td>\n      <td>1.79769313486232e+308</td>\n      <td>1.79769313486232e+308</td>\n      <td>1.79769313486232e+308</td>\n      <td>1.79769313486232e+308</td>\n      <td>1.79769313486232e+308</td>\n      <td>1.79769313486232e+308</td>\n      <td>1.79769313486232e+308</td>\n      <td>1.79769313486232e+308</td>\n      <td>1.79769313486232e+308</td>\n    </tr>\n    <tr>\n      <th>247</th>\n      <td>Madagascar</td>\n      <td>1981</td>\n      <td>33.07584521</td>\n      <td>8.95146e+06</td>\n      <td>134</td>\n      <td>1.79769313486232e+308</td>\n      <td>1.79769313486232e+308</td>\n      <td>17.8668098449707</td>\n      <td>25.6996097564697</td>\n      <td>43.5664291381836</td>\n      <td>...</td>\n      <td>1.79769313486232e+308</td>\n      <td>1.79769313486232e+308</td>\n      <td>1.79769313486232e+308</td>\n      <td>1.79769313486232e+308</td>\n      <td>1.79769313486232e+308</td>\n      <td>1.79769313486232e+308</td>\n      <td>1.79769313486232e+308</td>\n      <td>1.79769313486232e+308</td>\n      <td>1.79769313486232e+308</td>\n      <td>1.79769313486232e+308</td>\n    </tr>\n    <tr>\n      <th>99</th>\n      <td>Ethiopia</td>\n      <td>1989</td>\n      <td>48.50468489</td>\n      <td>4.93373e+07</td>\n      <td>126.8</td>\n      <td>34</td>\n      <td>14</td>\n      <td>15.0112895965576</td>\n      <td>3.97879600524902</td>\n      <td>18.9900798797607</td>\n      <td>...</td>\n      <td>0.919135987758636</td>\n      <td>2.5445671081543</td>\n      <td>0.135925993323326</td>\n      <td>-0.0909200012683868</td>\n      <td>-0.922819972038269</td>\n      <td>0.01554000005126</td>\n      <td>0.00121000001672655</td>\n      <td>-0.114739999175072</td>\n      <td>0.0564300008118153</td>\n      <td>-3.32821989059448</td>\n    </tr>\n    <tr>\n      <th>228</th>\n      <td>Lesotho</td>\n      <td>1988</td>\n      <td>24.40058125</td>\n      <td>1.68957e+06</td>\n      <td>88.2</td>\n      <td>107</td>\n      <td>24.2</td>\n      <td>67.3578262329102</td>\n      <td>17.261739730835</td>\n      <td>84.6195831298828</td>\n      <td>...</td>\n      <td>8.38925743103027</td>\n      <td>-1.36620998382568</td>\n      <td>-0.754760026931763</td>\n      <td>-0.180490002036095</td>\n      <td>2.19999504089355</td>\n      <td>-0.662069976329804</td>\n      <td>-0.273030012845993</td>\n      <td>-1.6026200056076</td>\n      <td>0.604721009731293</td>\n      <td>0.780026018619537</td>\n    </tr>\n    <tr>\n      <th>172</th>\n      <td>Kenya</td>\n      <td>1984</td>\n      <td>33.91489131</td>\n      <td>1.93021e+07</td>\n      <td>64.8</td>\n      <td>102.2</td>\n      <td>20.8</td>\n      <td>20.7450504302978</td>\n      <td>10.9030799865723</td>\n      <td>31.6481304168701</td>\n      <td>...</td>\n      <td>-2.49663996696472</td>\n      <td>-3.95836997032166</td>\n      <td>0.110414996743202</td>\n      <td>0.153242006897926</td>\n      <td>2.12988901138306</td>\n      <td>-0.622720003128052</td>\n      <td>-1.99763000011444</td>\n      <td>0.14376200735569</td>\n      <td>0.651859998703003</td>\n      <td>5.19104719161987</td>\n    </tr>\n    <tr>\n      <th>97</th>\n      <td>Ethiopia</td>\n      <td>1987</td>\n      <td>49.64547916</td>\n      <td>4.60871e+07</td>\n      <td>132</td>\n      <td>34.5</td>\n      <td>13</td>\n      <td>13.8647003173828</td>\n      <td>4.37149715423584</td>\n      <td>18.2362003326416</td>\n      <td>...</td>\n      <td>-1.71854996681213</td>\n      <td>-0.485489994287491</td>\n      <td>-0.029389999806881</td>\n      <td>0.451462000608444</td>\n      <td>-1.4795800447464</td>\n      <td>-1.06228995323181</td>\n      <td>0.707652986049652</td>\n      <td>-0.030850000679493</td>\n      <td>0</td>\n      <td>1.83635902404785</td>\n    </tr>\n    <tr>\n      <th>277</th>\n      <td>Mauritius</td>\n      <td>1984</td>\n      <td>14.406639</td>\n      <td>1.01133e+06</td>\n      <td>26.4</td>\n      <td>106.6</td>\n      <td>46.8</td>\n      <td>30.8346195220947</td>\n      <td>23.7189407348633</td>\n      <td>54.5535507202148</td>\n      <td>...</td>\n      <td>-60.2523002624512</td>\n      <td>-8.94552993774414</td>\n      <td>2.55853796005249</td>\n      <td>-0.0776799991726875</td>\n      <td>-6.83859014511108</td>\n      <td>0.616131007671356</td>\n      <td>-4.17440986633301</td>\n      <td>0</td>\n      <td>0</td>\n      <td>1.90372800827026</td>\n    </tr>\n    <tr>\n      <th>220</th>\n      <td>Lesotho</td>\n      <td>1980</td>\n      <td>23.58414239</td>\n      <td>1.367e+06</td>\n      <td>108.4000015</td>\n      <td>102</td>\n      <td>18</td>\n      <td>109.822998046875</td>\n      <td>14.0071697235107</td>\n      <td>123.830200195312</td>\n      <td>...</td>\n      <td>1.79769313486232e+308</td>\n      <td>1.79769313486232e+308</td>\n      <td>1.79769313486232e+308</td>\n      <td>1.79769313486232e+308</td>\n      <td>1.79769313486232e+308</td>\n      <td>1.79769313486232e+308</td>\n      <td>1.79769313486232e+308</td>\n      <td>1.79769313486232e+308</td>\n      <td>1.79769313486232e+308</td>\n      <td>1.79769313486232e+308</td>\n    </tr>\n    <tr>\n      <th>188</th>\n      <td>Liberia</td>\n      <td>1974</td>\n      <td>32.28125548</td>\n      <td>1.56082e+06</td>\n      <td>175.4</td>\n      <td>60.8</td>\n      <td>15.6</td>\n      <td>20.0104808807373</td>\n      <td>12.8318300247192</td>\n      <td>32.8423118591309</td>\n      <td>...</td>\n      <td>1.79769313486232e+308</td>\n      <td>1.79769313486232e+308</td>\n      <td>0.397731989622116</td>\n      <td>0.510950982570648</td>\n      <td>0.276378005743027</td>\n      <td>0.448664993047714</td>\n      <td>4.81496095657349</td>\n      <td>0.49244299530983</td>\n      <td>-0.23735000193119</td>\n      <td>-0.220809996128082</td>\n    </tr>\n    <tr>\n      <th>126</th>\n      <td>Ghana</td>\n      <td>1990</td>\n      <td>47.85769483</td>\n      <td>1.487e+07</td>\n      <td>82.74000092</td>\n      <td>77</td>\n      <td>37</td>\n      <td>39.5492897033691</td>\n      <td>28.9686393737793</td>\n      <td>68.5179290771484</td>\n      <td>...</td>\n      <td>0.109958998858929</td>\n      <td>-0.320589989423752</td>\n      <td>22.0238494873047</td>\n      <td>0.776171982288361</td>\n      <td>0.491468012332916</td>\n      <td>1.05746495723724</td>\n      <td>-2.52997994422913</td>\n      <td>0.101365998387337</td>\n      <td>0.214107006788254</td>\n      <td>-0.506910026073456</td>\n    </tr>\n    <tr>\n      <th>84</th>\n      <td>Ethiopia</td>\n      <td>1974</td>\n      <td>56.27994714</td>\n      <td>3.20981e+07</td>\n      <td>152.6</td>\n      <td>22.4</td>\n      <td>5.6</td>\n      <td>7.50680685043335</td>\n      <td>3.32927989959717</td>\n      <td>10.8360900878906</td>\n      <td>...</td>\n      <td>1.79769313486232e+308</td>\n      <td>1.79769313486232e+308</td>\n      <td>1.79769313486232e+308</td>\n      <td>1.79769313486232e+308</td>\n      <td>1.79769313486232e+308</td>\n      <td>1.79769313486232e+308</td>\n      <td>1.79769313486232e+308</td>\n      <td>1.79769313486232e+308</td>\n      <td>1.79769313486232e+308</td>\n      <td>1.79769313486232e+308</td>\n    </tr>\n    <tr>\n      <th>11</th>\n      <td>Burkina Faso</td>\n      <td>1979</td>\n      <td>34.21393892</td>\n      <td>6.79754e+06</td>\n      <td>123</td>\n      <td>18</td>\n      <td>3</td>\n      <td>56.8610992431641</td>\n      <td>12.2534103393555</td>\n      <td>69.1145095825195</td>\n      <td>...</td>\n      <td>8.31790637969971</td>\n      <td>2.6434850692749</td>\n      <td>9.84729862213135</td>\n      <td>-0.657880008220673</td>\n      <td>-0.206729993224144</td>\n      <td>-1.54261004924774</td>\n      <td>0.545808017253876</td>\n      <td>-0.142000004649162</td>\n      <td>0</td>\n      <td>1.82246601581574</td>\n    </tr>\n    <tr>\n      <th>198</th>\n      <td>Liberia</td>\n      <td>1984</td>\n      <td>35.45335614</td>\n      <td>2.1408e+06</td>\n      <td>148.6</td>\n      <td>48</td>\n      <td>22</td>\n      <td>58.6903495788574</td>\n      <td>33.4160995483398</td>\n      <td>92.1064529418945</td>\n      <td>...</td>\n      <td>-28.3581008911133</td>\n      <td>-13.765700340271</td>\n      <td>0.466618001461029</td>\n      <td>11.7785196304321</td>\n      <td>-2.14861011505127</td>\n      <td>-5.7590799331665</td>\n      <td>-0.822440028190613</td>\n      <td>0.00567199988290668</td>\n      <td>0.746308982372284</td>\n      <td>6.72593688964844</td>\n    </tr>\n    <tr>\n      <th>252</th>\n      <td>Madagascar</td>\n      <td>1986</td>\n      <td>36.78584035</td>\n      <td>1.02876e+07</td>\n      <td>116.7200012</td>\n      <td>1.79769313486232e+308</td>\n      <td>1.79769313486232e+308</td>\n      <td>16.711820602417</td>\n      <td>26.5002498626709</td>\n      <td>43.2120704650879</td>\n      <td>...</td>\n      <td>1.79769313486232e+308</td>\n      <td>1.79769313486232e+308</td>\n      <td>1.79769313486232e+308</td>\n      <td>1.79769313486232e+308</td>\n      <td>1.79769313486232e+308</td>\n      <td>1.79769313486232e+308</td>\n      <td>1.79769313486232e+308</td>\n      <td>1.79769313486232e+308</td>\n      <td>1.79769313486232e+308</td>\n      <td>1.79769313486232e+308</td>\n    </tr>\n    <tr>\n      <th>185</th>\n      <td>Liberia</td>\n      <td>1971</td>\n      <td>24.425</td>\n      <td>1.42684e+06</td>\n      <td>179.4000015</td>\n      <td>57.2</td>\n      <td>11.4</td>\n      <td>27.8442993164062</td>\n      <td>7.06708002090454</td>\n      <td>34.9113807678223</td>\n      <td>...</td>\n      <td>1.79769313486232e+308</td>\n      <td>1.79769313486232e+308</td>\n      <td>1.79769313486232e+308</td>\n      <td>1.79769313486232e+308</td>\n      <td>1.79769313486232e+308</td>\n      <td>1.79769313486232e+308</td>\n      <td>1.79769313486232e+308</td>\n      <td>1.79769313486232e+308</td>\n      <td>1.79769313486232e+308</td>\n      <td>1.79769313486232e+308</td>\n    </tr>\n    <tr>\n      <th>6</th>\n      <td>Burkina Faso</td>\n      <td>1974</td>\n      <td>36.48014145</td>\n      <td>6.0757e+06</td>\n      <td>133</td>\n      <td>15.4</td>\n      <td>1.8</td>\n      <td>38.6305809020996</td>\n      <td>6.66203498840332</td>\n      <td>45.2926216125488</td>\n      <td>...</td>\n      <td>1.79769313486232e+308</td>\n      <td>1.79769313486232e+308</td>\n      <td>1.79769313486232e+308</td>\n      <td>1.79769313486232e+308</td>\n      <td>1.79769313486232e+308</td>\n      <td>1.79769313486232e+308</td>\n      <td>1.79769313486232e+308</td>\n      <td>1.79769313486232e+308</td>\n      <td>1.79769313486232e+308</td>\n      <td>1.79769313486232e+308</td>\n    </tr>\n    <tr>\n      <th>57</th>\n      <td>Cameroon</td>\n      <td>1973</td>\n      <td>30.79282681</td>\n      <td>7.02185e+06</td>\n      <td>115.6</td>\n      <td>93.8</td>\n      <td>10.6</td>\n      <td>18.3287105560303</td>\n      <td>11.2815504074097</td>\n      <td>29.6102600097656</td>\n      <td>...</td>\n      <td>1.79769313486232e+308</td>\n      <td>1.79769313486232e+308</td>\n      <td>1.79769313486232e+308</td>\n      <td>1.79769313486232e+308</td>\n      <td>1.79769313486232e+308</td>\n      <td>1.79769313486232e+308</td>\n      <td>1.79769313486232e+308</td>\n      <td>1.79769313486232e+308</td>\n      <td>1.79769313486232e+308</td>\n      <td>1.79769313486232e+308</td>\n    </tr>\n    <tr>\n      <th>276</th>\n      <td>Mauritius</td>\n      <td>1983</td>\n      <td>13.8038255</td>\n      <td>1.00393e+06</td>\n      <td>27.2</td>\n      <td>103.2</td>\n      <td>47.6</td>\n      <td>33.3487701416016</td>\n      <td>30.4584503173828</td>\n      <td>63.8072204589844</td>\n      <td>...</td>\n      <td>-9.00955963134766</td>\n      <td>-18.8929004669189</td>\n      <td>1.6323230266571</td>\n      <td>0.18308499455452</td>\n      <td>-1.68680000305176</td>\n      <td>0</td>\n      <td>-0.067550003528595</td>\n      <td>0</td>\n      <td>0</td>\n      <td>-3.52765011787415</td>\n    </tr>\n    <tr>\n      <th>257</th>\n      <td>Madagascar</td>\n      <td>1991</td>\n      <td>32.98051479</td>\n      <td>1.20542e+07</td>\n      <td>97.08000031</td>\n      <td>79</td>\n      <td>15</td>\n      <td>31.4275207519531</td>\n      <td>19.6668796539307</td>\n      <td>51.0943984985352</td>\n      <td>...</td>\n      <td>-3.62342000007629</td>\n      <td>-7.8377799987793</td>\n      <td>-7.99283981323242</td>\n      <td>-3.62262010574341</td>\n      <td>-0.121169999241829</td>\n      <td>2.41000390052795</td>\n      <td>-0.46739000082016</td>\n      <td>-0.158120006322861</td>\n      <td>-0.022350000217557</td>\n      <td>-1.1559100151062</td>\n    </tr>\n    <tr>\n      <th>187</th>\n      <td>Liberia</td>\n      <td>1973</td>\n      <td>29.92056487</td>\n      <td>1.51453e+06</td>\n      <td>178.2</td>\n      <td>59.6</td>\n      <td>14.2</td>\n      <td>23.8042697906494</td>\n      <td>2.47919201850891</td>\n      <td>26.2834606170654</td>\n      <td>...</td>\n      <td>1.79769313486232e+308</td>\n      <td>1.79769313486232e+308</td>\n      <td>1.79769313486232e+308</td>\n      <td>1.79769313486232e+308</td>\n      <td>1.79769313486232e+308</td>\n      <td>1.79769313486232e+308</td>\n      <td>1.79769313486232e+308</td>\n      <td>1.79769313486232e+308</td>\n      <td>1.79769313486232e+308</td>\n      <td>1.79769313486232e+308</td>\n    </tr>\n    <tr>\n      <th>219</th>\n      <td>Lesotho</td>\n      <td>1979</td>\n      <td>30.48723898</td>\n      <td>1.32891e+06</td>\n      <td>112.600001</td>\n      <td>104</td>\n      <td>17</td>\n      <td>83.5996475219726</td>\n      <td>14.0947799682617</td>\n      <td>97.6944198608398</td>\n      <td>...</td>\n      <td>1.79769313486232e+308</td>\n      <td>1.79769313486232e+308</td>\n      <td>1.79769313486232e+308</td>\n      <td>1.79769313486232e+308</td>\n      <td>1.79769313486232e+308</td>\n      <td>1.79769313486232e+308</td>\n      <td>1.79769313486232e+308</td>\n      <td>1.79769313486232e+308</td>\n      <td>1.79769313486232e+308</td>\n      <td>1.79769313486232e+308</td>\n    </tr>\n    <tr>\n      <th>235</th>\n      <td>Lesotho</td>\n      <td>1995</td>\n      <td>10.08687856</td>\n      <td>1.98e+06</td>\n      <td>75.59999847</td>\n      <td>1.79769313486232e+308</td>\n      <td>1.79769313486232e+308</td>\n      <td>48.4444389343262</td>\n      <td>13.5303001403809</td>\n      <td>61.9747505187988</td>\n      <td>...</td>\n      <td>1.79769313486232e+308</td>\n      <td>1.79769313486232e+308</td>\n      <td>1.79769313486232e+308</td>\n      <td>1.79769313486232e+308</td>\n      <td>1.79769313486232e+308</td>\n      <td>1.79769313486232e+308</td>\n      <td>1.79769313486232e+308</td>\n      <td>1.79769313486232e+308</td>\n      <td>1.79769313486232e+308</td>\n      <td>1.79769313486232e+308</td>\n    </tr>\n    <tr>\n      <th>141</th>\n      <td>Gambia, The</td>\n      <td>1979</td>\n      <td>31.23783032</td>\n      <td>622460</td>\n      <td>161.799998</td>\n      <td>42</td>\n      <td>12</td>\n      <td>69.366943359375</td>\n      <td>47.2372207641602</td>\n      <td>116.604202270508</td>\n      <td>...</td>\n      <td>1.45608305931091</td>\n      <td>-28.4806995391846</td>\n      <td>1.79363894462585</td>\n      <td>1.67464005947113</td>\n      <td>0</td>\n      <td>0</td>\n      <td>-11.4551000595093</td>\n      <td>0.830413997173309</td>\n      <td>0</td>\n      <td>11.3260898590088</td>\n    </tr>\n    <tr>\n      <th>83</th>\n      <td>Ethiopia</td>\n      <td>1973</td>\n      <td>56.27994714</td>\n      <td>3.12735e+07</td>\n      <td>153.8</td>\n      <td>20.8</td>\n      <td>5.2</td>\n      <td>4.12413215637207</td>\n      <td>2.60918498039246</td>\n      <td>6.73331594467163</td>\n      <td>...</td>\n      <td>1.79769313486232e+308</td>\n      <td>1.79769313486232e+308</td>\n      <td>1.79769313486232e+308</td>\n      <td>1.79769313486232e+308</td>\n      <td>1.79769313486232e+308</td>\n      <td>1.79769313486232e+308</td>\n      <td>1.79769313486232e+308</td>\n      <td>1.79769313486232e+308</td>\n      <td>1.79769313486232e+308</td>\n      <td>1.79769313486232e+308</td>\n    </tr>\n    <tr>\n      <th>266</th>\n      <td>Mauritius</td>\n      <td>1973</td>\n      <td>19.9317554</td>\n      <td>859470</td>\n      <td>51.6</td>\n      <td>101.8</td>\n      <td>35.4</td>\n      <td>36.8324813842773</td>\n      <td>15.5214996337891</td>\n      <td>52.3539695739746</td>\n      <td>...</td>\n      <td>1.79769313486232e+308</td>\n      <td>1.79769313486232e+308</td>\n      <td>0.349462985992432</td>\n      <td>0</td>\n      <td>0</td>\n      <td>-1.04186999797821</td>\n      <td>0</td>\n      <td>0</td>\n      <td>0</td>\n      <td>5.01751089096069</td>\n    </tr>\n    <tr>\n      <th>48</th>\n      <td>Botswana</td>\n      <td>1990</td>\n      <td>5.456680968</td>\n      <td>55.8</td>\n      <td>55.8</td>\n      <td>114</td>\n      <td>42</td>\n      <td>125.423896789551</td>\n      <td>14.6862802505493</td>\n      <td>140.110198974609</td>\n      <td>...</td>\n      <td>147.043899536133</td>\n      <td>57.2380714416504</td>\n      <td>-0.408820003271103</td>\n      <td>-0.127890005707741</td>\n      <td>2.52362895011902</td>\n      <td>-8.80912017822266</td>\n      <td>-8.8169002532959</td>\n      <td>-11.6063995361328</td>\n      <td>-0.0971599966287613</td>\n      <td>6.63489723205566</td>\n    </tr>\n    <tr>\n      <th>17</th>\n      <td>Burkina Faso</td>\n      <td>1985</td>\n      <td>37.93019376</td>\n      <td>7.881e+06</td>\n      <td>112.2</td>\n      <td>29</td>\n      <td>5</td>\n      <td>27.2893295288086</td>\n      <td>7.28504705429077</td>\n      <td>34.5743713378906</td>\n      <td>...</td>\n      <td>-3.7832601070404</td>\n      <td>0.797322988510132</td>\n      <td>-0.451079994440079</td>\n      <td>-0.645250022411346</td>\n      <td>-0.139090001583099</td>\n      <td>-1.88464999198914</td>\n      <td>3.56435203552246</td>\n      <td>-0.000750000006519258</td>\n      <td>-0.0656199976801872</td>\n      <td>-0.141200006008148</td>\n    </tr>\n    <tr>\n      <th>159</th>\n      <td>Kenya</td>\n      <td>1971</td>\n      <td>31.37739887</td>\n      <td>1.19034e+07</td>\n      <td>100</td>\n      <td>65.4</td>\n      <td>9.8</td>\n      <td>10.6624298095703</td>\n      <td>9.91978454589844</td>\n      <td>20.5822105407715</td>\n      <td>...</td>\n      <td>1.79769313486232e+308</td>\n      <td>1.79769313486232e+308</td>\n      <td>1.79769313486232e+308</td>\n      <td>1.79769313486232e+308</td>\n      <td>1.79769313486232e+308</td>\n      <td>1.79769313486232e+308</td>\n      <td>1.79769313486232e+308</td>\n      <td>1.79769313486232e+308</td>\n      <td>1.79769313486232e+308</td>\n      <td>1.79769313486232e+308</td>\n    </tr>\n    <tr>\n      <th>209</th>\n      <td>Liberia</td>\n      <td>1995</td>\n      <td>1.79769313486232e+308</td>\n      <td>2.733e+06</td>\n      <td>171.8000031</td>\n      <td>1.79769313486232e+308</td>\n      <td>1.79769313486232e+308</td>\n      <td>45.2506408691406</td>\n      <td>0</td>\n      <td>45.2506408691406</td>\n      <td>...</td>\n      <td>1.79769313486232e+308</td>\n      <td>1.79769313486232e+308</td>\n      <td>1.79769313486232e+308</td>\n      <td>1.79769313486232e+308</td>\n      <td>1.79769313486232e+308</td>\n      <td>1.79769313486232e+308</td>\n      <td>1.79769313486232e+308</td>\n      <td>1.79769313486232e+308</td>\n      <td>1.79769313486232e+308</td>\n      <td>1.79769313486232e+308</td>\n    </tr>\n    <tr>\n      <th>174</th>\n      <td>Kenya</td>\n      <td>1986</td>\n      <td>33.04255174</td>\n      <td>2.06838e+07</td>\n      <td>63.6</td>\n      <td>98.2</td>\n      <td>22.16666667</td>\n      <td>22.578649520874</td>\n      <td>8.99409103393555</td>\n      <td>31.5727405548096</td>\n      <td>...</td>\n      <td>9.02511215209961</td>\n      <td>-3.53702998161316</td>\n      <td>0.500986993312836</td>\n      <td>-0.060989998281002</td>\n      <td>1.25068497657776</td>\n      <td>1.39600598812103</td>\n      <td>1.19636702537537</td>\n      <td>-0.333539992570877</td>\n      <td>0.00317399995401502</td>\n      <td>0.745432019233704</td>\n    </tr>\n    <tr>\n      <th>139</th>\n      <td>Gambia, The</td>\n      <td>1977</td>\n      <td>33.64667747</td>\n      <td>585370</td>\n      <td>167</td>\n      <td>33</td>\n      <td>11</td>\n      <td>53.4062881469727</td>\n      <td>31.2830505371094</td>\n      <td>84.689338684082</td>\n      <td>...</td>\n      <td>23.5382308959961</td>\n      <td>34.9868087768555</td>\n      <td>-0.151079997420311</td>\n      <td>-0.185420006513596</td>\n      <td>0</td>\n      <td>0</td>\n      <td>18.2788696289062</td>\n      <td>0</td>\n      <td>0</td>\n      <td>7.34664916992188</td>\n    </tr>\n    <tr>\n      <th>72</th>\n      <td>Cameroon</td>\n      <td>1988</td>\n      <td>23.9429277</td>\n      <td>1.08359e+07</td>\n      <td>71.4</td>\n      <td>102.75</td>\n      <td>25.25</td>\n      <td>20.7212104797363</td>\n      <td>15.4213495254517</td>\n      <td>36.1425590515137</td>\n      <td>...</td>\n      <td>1.79769313486232e+308</td>\n      <td>1.79769313486232e+308</td>\n      <td>1.79769313486232e+308</td>\n      <td>1.79769313486232e+308</td>\n      <td>1.79769313486232e+308</td>\n      <td>1.79769313486232e+308</td>\n      <td>1.79769313486232e+308</td>\n      <td>1.79769313486232e+308</td>\n      <td>1.79769313486232e+308</td>\n      <td>1.79769313486232e+308</td>\n    </tr>\n    <tr>\n      <th>199</th>\n      <td>Liberia</td>\n      <td>1985</td>\n      <td>36.52958877</td>\n      <td>2.199e+06</td>\n      <td>146.4</td>\n      <td>48</td>\n      <td>22</td>\n      <td>39.3754997253418</td>\n      <td>19.388219833374</td>\n      <td>58.763729095459</td>\n      <td>...</td>\n      <td>-9.91783046722412</td>\n      <td>-6.33763980865478</td>\n      <td>-3.19457006454468</td>\n      <td>-12.3737001419067</td>\n      <td>-1.93944001197815</td>\n      <td>-1.6367199420929</td>\n      <td>-0.195979997515678</td>\n      <td>-0.0305000003427267</td>\n      <td>-1.40985000133514</td>\n      <td>-8.33493995666504</td>\n    </tr>\n    <tr>\n      <th>25</th>\n      <td>Burkina Faso</td>\n      <td>1993</td>\n      <td>34.90956072</td>\n      <td>9.80446e+06</td>\n      <td>101.8000005</td>\n      <td>38</td>\n      <td>8</td>\n      <td>39.2027893066406</td>\n      <td>14.1584100723267</td>\n      <td>53.361198425293</td>\n      <td>...</td>\n      <td>1.79769313486232e+308</td>\n      <td>1.79769313486232e+308</td>\n      <td>1.79769313486232e+308</td>\n      <td>1.79769313486232e+308</td>\n      <td>1.79769313486232e+308</td>\n      <td>1.79769313486232e+308</td>\n      <td>1.79769313486232e+308</td>\n      <td>1.79769313486232e+308</td>\n      <td>1.79769313486232e+308</td>\n      <td>1.79769313486232e+308</td>\n    </tr>\n    <tr>\n      <th>21</th>\n      <td>Burkina Faso</td>\n      <td>1989</td>\n      <td>31.72235372</td>\n      <td>8.77056e+06</td>\n      <td>106.6</td>\n      <td>35</td>\n      <td>7</td>\n      <td>28.7813892364502</td>\n      <td>11.189640045166</td>\n      <td>39.9710311889648</td>\n      <td>...</td>\n      <td>1.79769313486232e+308</td>\n      <td>1.79769313486232e+308</td>\n      <td>1.79769313486232e+308</td>\n      <td>1.79769313486232e+308</td>\n      <td>1.79769313486232e+308</td>\n      <td>1.79769313486232e+308</td>\n      <td>1.79769313486232e+308</td>\n      <td>1.79769313486232e+308</td>\n      <td>1.79769313486232e+308</td>\n      <td>1.79769313486232e+308</td>\n    </tr>\n    <tr>\n      <th>195</th>\n      <td>Liberia</td>\n      <td>1981</td>\n      <td>31.56142828</td>\n      <td>1.94197e+06</td>\n      <td>155.8000031</td>\n      <td>48</td>\n      <td>22</td>\n      <td>58.0791893005371</td>\n      <td>38.8035202026367</td>\n      <td>96.8827133178711</td>\n      <td>...</td>\n      <td>7.22292900085449</td>\n      <td>-2.6494300365448</td>\n      <td>2.66635704040527</td>\n      <td>16.7651290893555</td>\n      <td>-3.7468900680542</td>\n      <td>-0.259299993515015</td>\n      <td>-8.44779014587402</td>\n      <td>0.23641100525856</td>\n      <td>0</td>\n      <td>-0.80647999048233</td>\n    </tr>\n    <tr>\n      <th>10</th>\n      <td>Burkina Faso</td>\n      <td>1978</td>\n      <td>36.08594394</td>\n      <td>6.63912e+06</td>\n      <td>125</td>\n      <td>17</td>\n      <td>2</td>\n      <td>41.1725006103516</td>\n      <td>12.0082502365112</td>\n      <td>53.1807403564453</td>\n      <td>...</td>\n      <td>6.59807300567627</td>\n      <td>-1.58264005184174</td>\n      <td>1.73256599903107</td>\n      <td>1.09643602371216</td>\n      <td>0.568677008152008</td>\n      <td>-0.884379982948303</td>\n      <td>0.211830005049706</td>\n      <td>-0.0740099996328354</td>\n      <td>-1.1761200428009</td>\n      <td>-3.64057993888855</td>\n    </tr>\n    <tr>\n      <th>125</th>\n      <td>Ghana</td>\n      <td>1989</td>\n      <td>48.96733723</td>\n      <td>1.44254e+07</td>\n      <td>85.16000061</td>\n      <td>74</td>\n      <td>39</td>\n      <td>22.296459197998</td>\n      <td>40.3191413879394</td>\n      <td>62.615608215332</td>\n      <td>...</td>\n      <td>-0.323130011558533</td>\n      <td>-2.77907991409302</td>\n      <td>-1.19852995872498</td>\n      <td>-0.863059997558594</td>\n      <td>-2.37539005279541</td>\n      <td>-0.272859990596771</td>\n      <td>-2.20474004745483</td>\n      <td>0.0472089983522892</td>\n      <td>-0.0149400001391768</td>\n      <td>1.60827100276947</td>\n    </tr>\n    <tr>\n      <th>231</th>\n      <td>Lesotho</td>\n      <td>1991</td>\n      <td>12.096718</td>\n      <td>1.82077e+06</td>\n      <td>82.8</td>\n      <td>105</td>\n      <td>24</td>\n      <td>59.3357810974121</td>\n      <td>19.971170425415</td>\n      <td>79.3069610595703</td>\n      <td>...</td>\n      <td>21.3133106231689</td>\n      <td>-16.1940002441406</td>\n      <td>-0.279320001602173</td>\n      <td>-0.149350002408028</td>\n      <td>-2.39073991775513</td>\n      <td>-0.880400002002716</td>\n      <td>-1.98554003238678</td>\n      <td>-0.657039999961853</td>\n      <td>1.33074104785919</td>\n      <td>3.51178288459778</td>\n    </tr>\n    <tr>\n      <th>274</th>\n      <td>Mauritius</td>\n      <td>1981</td>\n      <td>14.34112949</td>\n      <td>981170</td>\n      <td>30</td>\n      <td>96.4</td>\n      <td>49.2</td>\n      <td>57.4679794311524</td>\n      <td>43.1592216491699</td>\n      <td>100.627197265625</td>\n      <td>...</td>\n      <td>-14.480899810791</td>\n      <td>-5.9082498550415</td>\n      <td>-0.061719998717308</td>\n      <td>-0.0684499964118004</td>\n      <td>9.13327217102051</td>\n      <td>-2.25398993492126</td>\n      <td>5.07418823242188</td>\n      <td>0</td>\n      <td>0</td>\n      <td>5.60927200317383</td>\n    </tr>\n    <tr>\n      <th>189</th>\n      <td>Liberia</td>\n      <td>1975</td>\n      <td>26.59668835</td>\n      <td>1.609e+06</td>\n      <td>172.6</td>\n      <td>62</td>\n      <td>17</td>\n      <td>24.1224708557129</td>\n      <td>15.052680015564</td>\n      <td>39.1751518249512</td>\n      <td>...</td>\n      <td>-10.3713998794556</td>\n      <td>17.5614395141602</td>\n      <td>0.856984972953796</td>\n      <td>-0.0200200006365776</td>\n      <td>1.30049300193787</td>\n      <td>0.744728982448578</td>\n      <td>3.21796107292175</td>\n      <td>0.203738003969192</td>\n      <td>-0.0287100002169609</td>\n      <td>5.81319904327393</td>\n    </tr>\n    <tr>\n      <th>140</th>\n      <td>Gambia, The</td>\n      <td>1978</td>\n      <td>30.6446491</td>\n      <td>603960</td>\n      <td>164.399999</td>\n      <td>37</td>\n      <td>11</td>\n      <td>67.2458572387695</td>\n      <td>57.7444915771484</td>\n      <td>124.990303039551</td>\n      <td>...</td>\n      <td>11.6485795974731</td>\n      <td>65.5360488891602</td>\n      <td>-0.560850024223328</td>\n      <td>0.811302006244659</td>\n      <td>0</td>\n      <td>0</td>\n      <td>18.5756492614746</td>\n      <td>0.298013001680374</td>\n      <td>0</td>\n      <td>-4.31092977523804</td>\n    </tr>\n    <tr>\n      <th>120</th>\n      <td>Ghana</td>\n      <td>1984</td>\n      <td>49.24249984</td>\n      <td>1.21677e+07</td>\n      <td>94.8</td>\n      <td>76.8</td>\n      <td>40.2</td>\n      <td>15.3000497817993</td>\n      <td>12.209939956665</td>\n      <td>27.5099906921387</td>\n      <td>...</td>\n      <td>7.33061790466309</td>\n      <td>2.66432690620422</td>\n      <td>-0.104589998722076</td>\n      <td>-0.378439992666244</td>\n      <td>-0.473159998655319</td>\n      <td>0.112231999635696</td>\n      <td>1.02477705478668</td>\n      <td>-1.70000002981396E-05</td>\n      <td>0</td>\n      <td>0.398373991250992</td>\n    </tr>\n    <tr>\n      <th>94</th>\n      <td>Ethiopia</td>\n      <td>1984</td>\n      <td>48.82879875</td>\n      <td>4.21523e+07</td>\n      <td>148.2</td>\n      <td>34.8</td>\n      <td>11.2</td>\n      <td>9.63077259063721</td>\n      <td>2.92819094657898</td>\n      <td>12.5589599609375</td>\n      <td>...</td>\n      <td>-7.27619981765747</td>\n      <td>-0.804390013217926</td>\n      <td>0.123593002557755</td>\n      <td>-0.606220006942749</td>\n      <td>0.870738983154297</td>\n      <td>-1.67703998088837</td>\n      <td>-0.588880002498627</td>\n      <td>-0.0406900011003017</td>\n      <td>-0.00022000000171829</td>\n      <td>-17.7947006225586</td>\n    </tr>\n    <tr>\n      <th>42</th>\n      <td>Botswana</td>\n      <td>1984</td>\n      <td>7.441225106</td>\n      <td>1.03729e+06</td>\n      <td>61.2</td>\n      <td>102.2</td>\n      <td>27</td>\n      <td>120.155899047852</td>\n      <td>24.1652793884277</td>\n      <td>144.321197509766</td>\n      <td>...</td>\n      <td>70.7853927612305</td>\n      <td>16.4736995697022</td>\n      <td>0.994449019432068</td>\n      <td>-1.54944002628326</td>\n      <td>9.50464725494385</td>\n      <td>0</td>\n      <td>-10.1120004653931</td>\n      <td>3.83911204338074</td>\n      <td>-0.943589985370636</td>\n      <td>-0.742309987545013</td>\n    </tr>\n    <tr>\n      <th>283</th>\n      <td>Mauritius</td>\n      <td>1990</td>\n      <td>12.10414774</td>\n      <td>1.057e+06</td>\n      <td>20.4</td>\n      <td>109</td>\n      <td>53</td>\n      <td>48.7851715087891</td>\n      <td>64.7201309204102</td>\n      <td>113.505302429199</td>\n      <td>...</td>\n      <td>68.0971527099609</td>\n      <td>20.6014003753662</td>\n      <td>-0.88577002286911</td>\n      <td>1.21696698665619</td>\n      <td>15.4532804489136</td>\n      <td>1.85779905319214</td>\n      <td>25.3429203033447</td>\n      <td>0</td>\n      <td>0</td>\n      <td>-6.37153005599976</td>\n    </tr>\n    <tr>\n      <th>178</th>\n      <td>Kenya</td>\n      <td>1990</td>\n      <td>29.51903784</td>\n      <td>2.3354e+07</td>\n      <td>61.8</td>\n      <td>95</td>\n      <td>22.16666667</td>\n      <td>58.4292602539062</td>\n      <td>27.1409492492676</td>\n      <td>85.5702209472656</td>\n      <td>...</td>\n      <td>-18.3206005096436</td>\n      <td>0.600035011768341</td>\n      <td>24.6928691864014</td>\n      <td>1.63602304458618</td>\n      <td>0.529443025588989</td>\n      <td>-0.00626000016927719</td>\n      <td>1.0068199634552</td>\n      <td>0.560658991336822</td>\n      <td>-0.0587599985301495</td>\n      <td>-3.78778004646301</td>\n    </tr>\n    <tr>\n      <th>270</th>\n      <td>Mauritius</td>\n      <td>1977</td>\n      <td>19.66080402</td>\n      <td>913710</td>\n      <td>38</td>\n      <td>109</td>\n      <td>46</td>\n      <td>33.2450904846191</td>\n      <td>24.7659702301025</td>\n      <td>58.011058807373</td>\n      <td>...</td>\n      <td>75.0522918701172</td>\n      <td>22.8176898956299</td>\n      <td>-0.65573000907898</td>\n      <td>2.04953694343567</td>\n      <td>0</td>\n      <td>-0.340110003948212</td>\n      <td>1.86279499530792</td>\n      <td>1.88603794574738</td>\n      <td>0</td>\n      <td>-2.88766002655029</td>\n    </tr>\n    <tr>\n      <th>131</th>\n      <td>Ghana</td>\n      <td>1995</td>\n      <td>46.27585233</td>\n      <td>1.7075e+07</td>\n      <td>72.73999786</td>\n      <td>80</td>\n      <td>40</td>\n      <td>20.2940006256104</td>\n      <td>26.3794994354248</td>\n      <td>46.6735000610352</td>\n      <td>...</td>\n      <td>1.79769313486232e+308</td>\n      <td>1.79769313486232e+308</td>\n      <td>1.79769313486232e+308</td>\n      <td>1.79769313486232e+308</td>\n      <td>1.79769313486232e+308</td>\n      <td>1.79769313486232e+308</td>\n      <td>1.79769313486232e+308</td>\n      <td>1.79769313486232e+308</td>\n      <td>1.79769313486232e+308</td>\n      <td>1.79769313486232e+308</td>\n    </tr>\n    <tr>\n      <th>240</th>\n      <td>Madagascar</td>\n      <td>1974</td>\n      <td>34.22234966</td>\n      <td>7.40857e+06</td>\n      <td>163.2</td>\n      <td>94</td>\n      <td>12</td>\n      <td>16.4736003875732</td>\n      <td>9.76997661590576</td>\n      <td>26.243579864502</td>\n      <td>...</td>\n      <td>1.79769313486232e+308</td>\n      <td>1.79769313486232e+308</td>\n      <td>1.79769313486232e+308</td>\n      <td>1.79769313486232e+308</td>\n      <td>1.79769313486232e+308</td>\n      <td>1.79769313486232e+308</td>\n      <td>1.79769313486232e+308</td>\n      <td>1.79769313486232e+308</td>\n      <td>1.79769313486232e+308</td>\n      <td>1.79769313486232e+308</td>\n    </tr>\n    <tr>\n      <th>256</th>\n      <td>Madagascar</td>\n      <td>1990</td>\n      <td>32.30721538</td>\n      <td>1.1672e+07</td>\n      <td>101.1600006</td>\n      <td>87</td>\n      <td>17</td>\n      <td>42.6463584899902</td>\n      <td>13.9560403823853</td>\n      <td>56.6024017333984</td>\n      <td>...</td>\n      <td>1.14905905723572</td>\n      <td>0.055357001721859</td>\n      <td>11.8646697998047</td>\n      <td>2.95013809204102</td>\n      <td>-0.822669982910156</td>\n      <td>-0.921169996261597</td>\n      <td>-2.26319003105164</td>\n      <td>0.278450012207031</td>\n      <td>-0.0155899999663234</td>\n      <td>-2.74889993667603</td>\n    </tr>\n    <tr>\n      <th>98</th>\n      <td>Ethiopia</td>\n      <td>1988</td>\n      <td>49.15748278</td>\n      <td>4.76432e+07</td>\n      <td>129.4</td>\n      <td>34.25</td>\n      <td>13.5</td>\n      <td>20.3594608306885</td>\n      <td>5.55403518676758</td>\n      <td>25.9134902954102</td>\n      <td>...</td>\n      <td>4.41632223129272</td>\n      <td>-0.611379981040955</td>\n      <td>0.021629000082612</td>\n      <td>0.444323003292084</td>\n      <td>0.412930011749268</td>\n      <td>0.154944002628326</td>\n      <td>-1.32232999801636</td>\n      <td>0.150712996721268</td>\n      <td>0</td>\n      <td>-6.21179008483887</td>\n    </tr>\n    <tr>\n      <th>23</th>\n      <td>Burkina Faso</td>\n      <td>1991</td>\n      <td>34.66403162</td>\n      <td>9.26991e+06</td>\n      <td>104.2</td>\n      <td>37</td>\n      <td>8</td>\n      <td>38.1004219055176</td>\n      <td>15.298939704895</td>\n      <td>53.3993606567383</td>\n      <td>...</td>\n      <td>1.79769313486232e+308</td>\n      <td>1.79769313486232e+308</td>\n      <td>1.79769313486232e+308</td>\n      <td>1.79769313486232e+308</td>\n      <td>1.79769313486232e+308</td>\n      <td>1.79769313486232e+308</td>\n      <td>1.79769313486232e+308</td>\n      <td>1.79769313486232e+308</td>\n      <td>1.79769313486232e+308</td>\n      <td>1.79769313486232e+308</td>\n    </tr>\n    <tr>\n      <th>191</th>\n      <td>Liberia</td>\n      <td>1977</td>\n      <td>31.87008374</td>\n      <td>1.70816e+06</td>\n      <td>167</td>\n      <td>60.66666667</td>\n      <td>18.33333333</td>\n      <td>20.3501396179199</td>\n      <td>29.2217292785644</td>\n      <td>49.5718688964844</td>\n      <td>...</td>\n      <td>-4.21390008926392</td>\n      <td>-13.3078002929688</td>\n      <td>-1.24118995666504</td>\n      <td>1.1413459777832</td>\n      <td>-2.94400000572205</td>\n      <td>0</td>\n      <td>3.02864408493042</td>\n      <td>1.95925498008728</td>\n      <td>0</td>\n      <td>2.47339510917664</td>\n    </tr>\n  </tbody>\n</table>\n<p>56 rows × 50 columns</p>\n</div>"
     },
     "metadata": {},
     "execution_count": 50
    }
   ],
   "source": [
    "# It is obvious that the infant mortality rate has a direct impact on population size.\n",
    "# > Population is dependant on infant mortality rate\n",
    "# > Interpolation\n",
    "\n",
    "df2['popn'].fillna(df2['infmort'].interpolate(), inplace=True)\n",
    "df2\n",
    "\n",
    "# Interpolation: insert (something of a different nature) into something else.\n"
   ]
  },
  {
   "cell_type": "code",
   "execution_count": 51,
   "metadata": {},
   "outputs": [
    {
     "output_type": "execute_result",
     "data": {
      "text/plain": [
       "array(['Kenya', 'Ghana', 'Liberia', 'Madagascar', 'Ethiopia', 'Lesotho',\n",
       "       'Mauritius', 'Burkina Faso', 'Cameroon', 'Gambia, The', 'Botswana'],\n",
       "      dtype=object)"
      ]
     },
     "metadata": {},
     "execution_count": 51
    }
   ],
   "source": [
    "df2['countryc'].unique()"
   ]
  },
  {
   "cell_type": "code",
   "execution_count": 52,
   "metadata": {},
   "outputs": [
    {
     "output_type": "stream",
     "name": "stdout",
     "text": [
      "object\n"
     ]
    },
    {
     "output_type": "execute_result",
     "data": {
      "text/plain": [
       "dtype('float32')"
      ]
     },
     "metadata": {},
     "execution_count": 52
    }
   ],
   "source": [
    "df2f = df2.copy()\n",
    "df2f['infmort'] = pd.to_numeric(df2[\"infmort\"], downcast=\"float\")\n",
    "print(df2['infmort'].dtype)\n",
    "df2f['infmort'].dtype # used to be of object type, now is of type float32\n",
    "\n"
   ]
  },
  {
   "cell_type": "code",
   "execution_count": 53,
   "metadata": {},
   "outputs": [
    {
     "output_type": "execute_result",
     "data": {
      "text/plain": [
       "168     True\n",
       "109     True\n",
       "204     True\n",
       "247     True\n",
       "99      True\n",
       "228     True\n",
       "172     True\n",
       "97      True\n",
       "277    False\n",
       "220     True\n",
       "188     True\n",
       "126     True\n",
       "84      True\n",
       "11      True\n",
       "198     True\n",
       "252     True\n",
       "185     True\n",
       "6       True\n",
       "57      True\n",
       "276    False\n",
       "257     True\n",
       "187     True\n",
       "219     True\n",
       "235     True\n",
       "141     True\n",
       "83      True\n",
       "266     True\n",
       "48      True\n",
       "17      True\n",
       "159     True\n",
       "209     True\n",
       "174     True\n",
       "139     True\n",
       "72      True\n",
       "199     True\n",
       "25      True\n",
       "21      True\n",
       "195     True\n",
       "10      True\n",
       "125     True\n",
       "231     True\n",
       "274    False\n",
       "189     True\n",
       "140     True\n",
       "120     True\n",
       "94      True\n",
       "42      True\n",
       "283    False\n",
       "178     True\n",
       "270    False\n",
       "131     True\n",
       "240     True\n",
       "256     True\n",
       "98      True\n",
       "23      True\n",
       "191     True\n",
       "Name: infmort, dtype: bool"
      ]
     },
     "metadata": {},
     "execution_count": 53
    }
   ],
   "source": [
    "df2f['infmort']>=50"
   ]
  },
  {
   "cell_type": "code",
   "execution_count": 54,
   "metadata": {},
   "outputs": [
    {
     "output_type": "execute_result",
     "data": {
      "text/plain": [
       "       countryc  year                 agrgdp         popn     infmort  \\\n",
       "168       Kenya  1980            32.59223808    1.656e+07   72.400002   \n",
       "109       Ghana  1973            48.97463727  9.38814e+06  106.000000   \n",
       "204     Liberia  1990  1.79769313486232e+308    2.435e+06  176.800003   \n",
       "247  Madagascar  1981            33.07584521  8.95146e+06  134.000000   \n",
       "99     Ethiopia  1989            48.50468489  4.93373e+07  126.800003   \n",
       "228     Lesotho  1988            24.40058125  1.68957e+06   88.199997   \n",
       "172       Kenya  1984            33.91489131  1.93021e+07   64.800003   \n",
       "97     Ethiopia  1987            49.64547916  4.60871e+07  132.000000   \n",
       "220     Lesotho  1980            23.58414239    1.367e+06  108.400002   \n",
       "188     Liberia  1974            32.28125548  1.56082e+06  175.399994   \n",
       "\n",
       "                   schprim                 schsec           grtdsbp  \\\n",
       "168                    115                     20  26.8336296081543   \n",
       "109                   68.2                   27.8  7.54381990432739   \n",
       "204  1.79769313486232e+308  1.79769313486232e+308  38.6235008239746   \n",
       "247  1.79769313486232e+308  1.79769313486232e+308  17.8668098449707   \n",
       "99                      34                     14  15.0112895965576   \n",
       "228                    107                   24.2  67.3578262329102   \n",
       "172                  102.2                   20.8  20.7450504302978   \n",
       "97                    34.5                     13  13.8647003173828   \n",
       "220                    102                     18  109.822998046875   \n",
       "188                   60.8                   15.6  20.0104808807373   \n",
       "\n",
       "             grlndsbp           aiddsbp  ...               dcurexpp  \\\n",
       "168  17.7571392059326  44.5907592773438  ...      -1.90575003623962   \n",
       "109  7.85923004150391  15.4030504226685  ...      -13.4622001647949   \n",
       "204  16.2881603240967  54.9116592407227  ...  1.79769313486232e+308   \n",
       "247  25.6996097564697  43.5664291381836  ...  1.79769313486232e+308   \n",
       "99   3.97879600524902  18.9900798797607  ...      0.919135987758636   \n",
       "228   17.261739730835  84.6195831298828  ...       8.38925743103027   \n",
       "172  10.9030799865723  31.6481304168701  ...      -2.49663996696472   \n",
       "97   4.37149715423584  18.2362003326416  ...      -1.71854996681213   \n",
       "220  14.0071697235107  123.830200195312  ...  1.79769313486232e+308   \n",
       "188  12.8318300247192  32.8423118591309  ...  1.79769313486232e+308   \n",
       "\n",
       "                  dcapexpp               dprirepp               dcnlnagp  \\\n",
       "168        4.4354100227356      -0.64258998632431      -0.43707999587059   \n",
       "109      -5.45116996765137     -0.186719998717308   -0.00694000022485852   \n",
       "204  1.79769313486232e+308  1.79769313486232e+308  1.79769313486232e+308   \n",
       "247  1.79769313486232e+308  1.79769313486232e+308  1.79769313486232e+308   \n",
       "99         2.5445671081543      0.135925993323326    -0.0909200012683868   \n",
       "228      -1.36620998382568     -0.754760026931763     -0.180490002036095   \n",
       "172      -3.95836997032166      0.110414996743202      0.153242006897926   \n",
       "97      -0.485489994287491     -0.029389999806881      0.451462000608444   \n",
       "220  1.79769313486232e+308  1.79769313486232e+308  1.79769313486232e+308   \n",
       "188  1.79769313486232e+308      0.397731989622116      0.510950982570648   \n",
       "\n",
       "                  dcnlnenp               dcnlninp              dcnlntacp  \\\n",
       "168      -2.52485990524292     -0.424710005521774       -3.0382399559021   \n",
       "109      -3.54000997543335     0.0770640000700951    -0.0829199999570846   \n",
       "204  1.79769313486232e+308  1.79769313486232e+308  1.79769313486232e+308   \n",
       "247  1.79769313486232e+308  1.79769313486232e+308  1.79769313486232e+308   \n",
       "99      -0.922819972038269       0.01554000005126    0.00121000001672655   \n",
       "228       2.19999504089355     -0.662069976329804     -0.273030012845993   \n",
       "172       2.12988901138306     -0.622720003128052      -1.99763000011444   \n",
       "97        -1.4795800447464      -1.06228995323181      0.707652986049652   \n",
       "220  1.79769313486232e+308  1.79769313486232e+308  1.79769313486232e+308   \n",
       "188      0.276378005743027      0.448664993047714       4.81496095657349   \n",
       "\n",
       "                 dcnlnedup              dcnlnhthp              dcnlnothp  \n",
       "168    -0.0560100004076958                      0        7.8144268989563  \n",
       "109                      0                      0     -0.743390023708344  \n",
       "204  1.79769313486232e+308  1.79769313486232e+308  1.79769313486232e+308  \n",
       "247  1.79769313486232e+308  1.79769313486232e+308  1.79769313486232e+308  \n",
       "99      -0.114739999175072     0.0564300008118153      -3.32821989059448  \n",
       "228       -1.6026200056076      0.604721009731293      0.780026018619537  \n",
       "172       0.14376200735569      0.651859998703003       5.19104719161987  \n",
       "97      -0.030850000679493                      0       1.83635902404785  \n",
       "220  1.79769313486232e+308  1.79769313486232e+308  1.79769313486232e+308  \n",
       "188       0.49244299530983      -0.23735000193119     -0.220809996128082  \n",
       "\n",
       "[10 rows x 50 columns]"
      ],
      "text/html": "<div>\n<style scoped>\n    .dataframe tbody tr th:only-of-type {\n        vertical-align: middle;\n    }\n\n    .dataframe tbody tr th {\n        vertical-align: top;\n    }\n\n    .dataframe thead th {\n        text-align: right;\n    }\n</style>\n<table border=\"1\" class=\"dataframe\">\n  <thead>\n    <tr style=\"text-align: right;\">\n      <th></th>\n      <th>countryc</th>\n      <th>year</th>\n      <th>agrgdp</th>\n      <th>popn</th>\n      <th>infmort</th>\n      <th>schprim</th>\n      <th>schsec</th>\n      <th>grtdsbp</th>\n      <th>grlndsbp</th>\n      <th>aiddsbp</th>\n      <th>...</th>\n      <th>dcurexpp</th>\n      <th>dcapexpp</th>\n      <th>dprirepp</th>\n      <th>dcnlnagp</th>\n      <th>dcnlnenp</th>\n      <th>dcnlninp</th>\n      <th>dcnlntacp</th>\n      <th>dcnlnedup</th>\n      <th>dcnlnhthp</th>\n      <th>dcnlnothp</th>\n    </tr>\n  </thead>\n  <tbody>\n    <tr>\n      <th>168</th>\n      <td>Kenya</td>\n      <td>1980</td>\n      <td>32.59223808</td>\n      <td>1.656e+07</td>\n      <td>72.400002</td>\n      <td>115</td>\n      <td>20</td>\n      <td>26.8336296081543</td>\n      <td>17.7571392059326</td>\n      <td>44.5907592773438</td>\n      <td>...</td>\n      <td>-1.90575003623962</td>\n      <td>4.4354100227356</td>\n      <td>-0.64258998632431</td>\n      <td>-0.43707999587059</td>\n      <td>-2.52485990524292</td>\n      <td>-0.424710005521774</td>\n      <td>-3.0382399559021</td>\n      <td>-0.0560100004076958</td>\n      <td>0</td>\n      <td>7.8144268989563</td>\n    </tr>\n    <tr>\n      <th>109</th>\n      <td>Ghana</td>\n      <td>1973</td>\n      <td>48.97463727</td>\n      <td>9.38814e+06</td>\n      <td>106.000000</td>\n      <td>68.2</td>\n      <td>27.8</td>\n      <td>7.54381990432739</td>\n      <td>7.85923004150391</td>\n      <td>15.4030504226685</td>\n      <td>...</td>\n      <td>-13.4622001647949</td>\n      <td>-5.45116996765137</td>\n      <td>-0.186719998717308</td>\n      <td>-0.00694000022485852</td>\n      <td>-3.54000997543335</td>\n      <td>0.0770640000700951</td>\n      <td>-0.0829199999570846</td>\n      <td>0</td>\n      <td>0</td>\n      <td>-0.743390023708344</td>\n    </tr>\n    <tr>\n      <th>204</th>\n      <td>Liberia</td>\n      <td>1990</td>\n      <td>1.79769313486232e+308</td>\n      <td>2.435e+06</td>\n      <td>176.800003</td>\n      <td>1.79769313486232e+308</td>\n      <td>1.79769313486232e+308</td>\n      <td>38.6235008239746</td>\n      <td>16.2881603240967</td>\n      <td>54.9116592407227</td>\n      <td>...</td>\n      <td>1.79769313486232e+308</td>\n      <td>1.79769313486232e+308</td>\n      <td>1.79769313486232e+308</td>\n      <td>1.79769313486232e+308</td>\n      <td>1.79769313486232e+308</td>\n      <td>1.79769313486232e+308</td>\n      <td>1.79769313486232e+308</td>\n      <td>1.79769313486232e+308</td>\n      <td>1.79769313486232e+308</td>\n      <td>1.79769313486232e+308</td>\n    </tr>\n    <tr>\n      <th>247</th>\n      <td>Madagascar</td>\n      <td>1981</td>\n      <td>33.07584521</td>\n      <td>8.95146e+06</td>\n      <td>134.000000</td>\n      <td>1.79769313486232e+308</td>\n      <td>1.79769313486232e+308</td>\n      <td>17.8668098449707</td>\n      <td>25.6996097564697</td>\n      <td>43.5664291381836</td>\n      <td>...</td>\n      <td>1.79769313486232e+308</td>\n      <td>1.79769313486232e+308</td>\n      <td>1.79769313486232e+308</td>\n      <td>1.79769313486232e+308</td>\n      <td>1.79769313486232e+308</td>\n      <td>1.79769313486232e+308</td>\n      <td>1.79769313486232e+308</td>\n      <td>1.79769313486232e+308</td>\n      <td>1.79769313486232e+308</td>\n      <td>1.79769313486232e+308</td>\n    </tr>\n    <tr>\n      <th>99</th>\n      <td>Ethiopia</td>\n      <td>1989</td>\n      <td>48.50468489</td>\n      <td>4.93373e+07</td>\n      <td>126.800003</td>\n      <td>34</td>\n      <td>14</td>\n      <td>15.0112895965576</td>\n      <td>3.97879600524902</td>\n      <td>18.9900798797607</td>\n      <td>...</td>\n      <td>0.919135987758636</td>\n      <td>2.5445671081543</td>\n      <td>0.135925993323326</td>\n      <td>-0.0909200012683868</td>\n      <td>-0.922819972038269</td>\n      <td>0.01554000005126</td>\n      <td>0.00121000001672655</td>\n      <td>-0.114739999175072</td>\n      <td>0.0564300008118153</td>\n      <td>-3.32821989059448</td>\n    </tr>\n    <tr>\n      <th>228</th>\n      <td>Lesotho</td>\n      <td>1988</td>\n      <td>24.40058125</td>\n      <td>1.68957e+06</td>\n      <td>88.199997</td>\n      <td>107</td>\n      <td>24.2</td>\n      <td>67.3578262329102</td>\n      <td>17.261739730835</td>\n      <td>84.6195831298828</td>\n      <td>...</td>\n      <td>8.38925743103027</td>\n      <td>-1.36620998382568</td>\n      <td>-0.754760026931763</td>\n      <td>-0.180490002036095</td>\n      <td>2.19999504089355</td>\n      <td>-0.662069976329804</td>\n      <td>-0.273030012845993</td>\n      <td>-1.6026200056076</td>\n      <td>0.604721009731293</td>\n      <td>0.780026018619537</td>\n    </tr>\n    <tr>\n      <th>172</th>\n      <td>Kenya</td>\n      <td>1984</td>\n      <td>33.91489131</td>\n      <td>1.93021e+07</td>\n      <td>64.800003</td>\n      <td>102.2</td>\n      <td>20.8</td>\n      <td>20.7450504302978</td>\n      <td>10.9030799865723</td>\n      <td>31.6481304168701</td>\n      <td>...</td>\n      <td>-2.49663996696472</td>\n      <td>-3.95836997032166</td>\n      <td>0.110414996743202</td>\n      <td>0.153242006897926</td>\n      <td>2.12988901138306</td>\n      <td>-0.622720003128052</td>\n      <td>-1.99763000011444</td>\n      <td>0.14376200735569</td>\n      <td>0.651859998703003</td>\n      <td>5.19104719161987</td>\n    </tr>\n    <tr>\n      <th>97</th>\n      <td>Ethiopia</td>\n      <td>1987</td>\n      <td>49.64547916</td>\n      <td>4.60871e+07</td>\n      <td>132.000000</td>\n      <td>34.5</td>\n      <td>13</td>\n      <td>13.8647003173828</td>\n      <td>4.37149715423584</td>\n      <td>18.2362003326416</td>\n      <td>...</td>\n      <td>-1.71854996681213</td>\n      <td>-0.485489994287491</td>\n      <td>-0.029389999806881</td>\n      <td>0.451462000608444</td>\n      <td>-1.4795800447464</td>\n      <td>-1.06228995323181</td>\n      <td>0.707652986049652</td>\n      <td>-0.030850000679493</td>\n      <td>0</td>\n      <td>1.83635902404785</td>\n    </tr>\n    <tr>\n      <th>220</th>\n      <td>Lesotho</td>\n      <td>1980</td>\n      <td>23.58414239</td>\n      <td>1.367e+06</td>\n      <td>108.400002</td>\n      <td>102</td>\n      <td>18</td>\n      <td>109.822998046875</td>\n      <td>14.0071697235107</td>\n      <td>123.830200195312</td>\n      <td>...</td>\n      <td>1.79769313486232e+308</td>\n      <td>1.79769313486232e+308</td>\n      <td>1.79769313486232e+308</td>\n      <td>1.79769313486232e+308</td>\n      <td>1.79769313486232e+308</td>\n      <td>1.79769313486232e+308</td>\n      <td>1.79769313486232e+308</td>\n      <td>1.79769313486232e+308</td>\n      <td>1.79769313486232e+308</td>\n      <td>1.79769313486232e+308</td>\n    </tr>\n    <tr>\n      <th>188</th>\n      <td>Liberia</td>\n      <td>1974</td>\n      <td>32.28125548</td>\n      <td>1.56082e+06</td>\n      <td>175.399994</td>\n      <td>60.8</td>\n      <td>15.6</td>\n      <td>20.0104808807373</td>\n      <td>12.8318300247192</td>\n      <td>32.8423118591309</td>\n      <td>...</td>\n      <td>1.79769313486232e+308</td>\n      <td>1.79769313486232e+308</td>\n      <td>0.397731989622116</td>\n      <td>0.510950982570648</td>\n      <td>0.276378005743027</td>\n      <td>0.448664993047714</td>\n      <td>4.81496095657349</td>\n      <td>0.49244299530983</td>\n      <td>-0.23735000193119</td>\n      <td>-0.220809996128082</td>\n    </tr>\n  </tbody>\n</table>\n<p>10 rows × 50 columns</p>\n</div>"
     },
     "metadata": {},
     "execution_count": 54
    }
   ],
   "source": [
    "dfx = df2f[df2f['infmort']>=50] # so only places where its true are copied to dfx\n",
    "dfx.head(10)"
   ]
  },
  {
   "cell_type": "code",
   "execution_count": 55,
   "metadata": {},
   "outputs": [
    {
     "output_type": "execute_result",
     "data": {
      "text/plain": [
       "            popn\n",
       "168    1.656e+07\n",
       "109  9.38814e+06\n",
       "204    2.435e+06\n",
       "247  8.95146e+06\n",
       "99   4.93373e+07\n",
       "228  1.68957e+06\n",
       "172  1.93021e+07"
      ],
      "text/html": "<div>\n<style scoped>\n    .dataframe tbody tr th:only-of-type {\n        vertical-align: middle;\n    }\n\n    .dataframe tbody tr th {\n        vertical-align: top;\n    }\n\n    .dataframe thead th {\n        text-align: right;\n    }\n</style>\n<table border=\"1\" class=\"dataframe\">\n  <thead>\n    <tr style=\"text-align: right;\">\n      <th></th>\n      <th>popn</th>\n    </tr>\n  </thead>\n  <tbody>\n    <tr>\n      <th>168</th>\n      <td>1.656e+07</td>\n    </tr>\n    <tr>\n      <th>109</th>\n      <td>9.38814e+06</td>\n    </tr>\n    <tr>\n      <th>204</th>\n      <td>2.435e+06</td>\n    </tr>\n    <tr>\n      <th>247</th>\n      <td>8.95146e+06</td>\n    </tr>\n    <tr>\n      <th>99</th>\n      <td>4.93373e+07</td>\n    </tr>\n    <tr>\n      <th>228</th>\n      <td>1.68957e+06</td>\n    </tr>\n    <tr>\n      <th>172</th>\n      <td>1.93021e+07</td>\n    </tr>\n  </tbody>\n</table>\n</div>"
     },
     "metadata": {},
     "execution_count": 55
    }
   ],
   "source": [
    "dfxpopn = dfx[['popn']]\n",
    "dfxpopn.head(7)"
   ]
  },
  {
   "source": [
    "### 2.3. Combining Data"
   ],
   "cell_type": "markdown",
   "metadata": {}
  },
  {
   "cell_type": "code",
   "execution_count": 56,
   "metadata": {},
   "outputs": [
    {
     "output_type": "execute_result",
     "data": {
      "text/plain": [
       "    countryc_left  year_left  agrgdp_left   popn_left infmort_left  \\\n",
       "223       Lesotho       1983  23.91304348   1483270.0           98   \n",
       "150   Gambia, The       1988  31.22936246    841250.0  140.7799988   \n",
       "226       Lesotho       1986  21.14252061   1603960.0           92   \n",
       "296        Malawi       1976  39.20110669   5409980.0        179.8   \n",
       "52       Botswana       1994  5.199306759   1420270.0  55.39999898   \n",
       "..            ...        ...          ...         ...          ...   \n",
       "20   Burkina Faso       1988  48.94457166   8534390.0        107.8   \n",
       "46       Botswana       1988  7.060807251   1195140.0         56.6   \n",
       "158         Kenya       1970  33.29286623  11498000.0          102   \n",
       "230       Lesotho       1990  19.96355858   1783000.0         84.6   \n",
       "179         Kenya       1991  28.14106137  24015140.0         61.4   \n",
       "\n",
       "    schprim_left schsec_left      grtdsbp_left     grlndsbp_left  \\\n",
       "223        106.8          21  87.4762725830078  20.0394096374512   \n",
       "150           65       15.25  113.245697021484  31.0677890777588   \n",
       "226          109        23.4  66.7168197631836  10.6219997406006   \n",
       "296           56           4   14.338809967041  15.4878797531128   \n",
       "52           117          53  58.7042083740234  16.0785007476807   \n",
       "..           ...         ...               ...               ...   \n",
       "20          33.5         6.5  35.4728813171387  10.2006902694702   \n",
       "46        111.75       35.75  135.776702880859  30.8545207977295   \n",
       "158           58           9  9.42126178741455  9.48890781402588   \n",
       "230          105          25  67.9856872558594  26.8740100860596   \n",
       "179           93          28   29.552059173584   21.131010055542   \n",
       "\n",
       "         aiddsbp_left  ... dcurexpp dcapexpp dprirepp dcnlnagp dcnlnenp  \\\n",
       "223  107.515701293945  ...      NaN      NaN      NaN      NaN      NaN   \n",
       "150  144.313400268555  ...      NaN      NaN      NaN      NaN      NaN   \n",
       "226  77.3388137817383  ...      NaN      NaN      NaN      NaN      NaN   \n",
       "296  29.8267002105713  ...      NaN      NaN      NaN      NaN      NaN   \n",
       "52   74.7827072143555  ...      NaN      NaN      NaN      NaN      NaN   \n",
       "..                ...  ...      ...      ...      ...      ...      ...   \n",
       "20   45.6735687255859  ...      NaN      NaN      NaN      NaN      NaN   \n",
       "46   166.631195068359  ...      NaN      NaN      NaN      NaN      NaN   \n",
       "158  18.9101696014404  ...      NaN      NaN      NaN      NaN      NaN   \n",
       "230  94.8597030639648  ...      NaN      NaN      NaN      NaN      NaN   \n",
       "179  50.6830711364746  ...      NaN      NaN      NaN      NaN      NaN   \n",
       "\n",
       "    dcnlninp dcnlntacp dcnlnedup dcnlnhthp dcnlnothp  \n",
       "223      NaN       NaN       NaN       NaN       NaN  \n",
       "150      NaN       NaN       NaN       NaN       NaN  \n",
       "226      NaN       NaN       NaN       NaN       NaN  \n",
       "296      NaN       NaN       NaN       NaN       NaN  \n",
       "52       NaN       NaN       NaN       NaN       NaN  \n",
       "..       ...       ...       ...       ...       ...  \n",
       "20       NaN       NaN       NaN       NaN       NaN  \n",
       "46       NaN       NaN       NaN       NaN       NaN  \n",
       "158      NaN       NaN       NaN       NaN       NaN  \n",
       "230      NaN       NaN       NaN       NaN       NaN  \n",
       "179      NaN       NaN       NaN       NaN       NaN  \n",
       "\n",
       "[75 rows x 100 columns]"
      ],
      "text/html": "<div>\n<style scoped>\n    .dataframe tbody tr th:only-of-type {\n        vertical-align: middle;\n    }\n\n    .dataframe tbody tr th {\n        vertical-align: top;\n    }\n\n    .dataframe thead th {\n        text-align: right;\n    }\n</style>\n<table border=\"1\" class=\"dataframe\">\n  <thead>\n    <tr style=\"text-align: right;\">\n      <th></th>\n      <th>countryc_left</th>\n      <th>year_left</th>\n      <th>agrgdp_left</th>\n      <th>popn_left</th>\n      <th>infmort_left</th>\n      <th>schprim_left</th>\n      <th>schsec_left</th>\n      <th>grtdsbp_left</th>\n      <th>grlndsbp_left</th>\n      <th>aiddsbp_left</th>\n      <th>...</th>\n      <th>dcurexpp</th>\n      <th>dcapexpp</th>\n      <th>dprirepp</th>\n      <th>dcnlnagp</th>\n      <th>dcnlnenp</th>\n      <th>dcnlninp</th>\n      <th>dcnlntacp</th>\n      <th>dcnlnedup</th>\n      <th>dcnlnhthp</th>\n      <th>dcnlnothp</th>\n    </tr>\n  </thead>\n  <tbody>\n    <tr>\n      <th>223</th>\n      <td>Lesotho</td>\n      <td>1983</td>\n      <td>23.91304348</td>\n      <td>1483270.0</td>\n      <td>98</td>\n      <td>106.8</td>\n      <td>21</td>\n      <td>87.4762725830078</td>\n      <td>20.0394096374512</td>\n      <td>107.515701293945</td>\n      <td>...</td>\n      <td>NaN</td>\n      <td>NaN</td>\n      <td>NaN</td>\n      <td>NaN</td>\n      <td>NaN</td>\n      <td>NaN</td>\n      <td>NaN</td>\n      <td>NaN</td>\n      <td>NaN</td>\n      <td>NaN</td>\n    </tr>\n    <tr>\n      <th>150</th>\n      <td>Gambia, The</td>\n      <td>1988</td>\n      <td>31.22936246</td>\n      <td>841250.0</td>\n      <td>140.7799988</td>\n      <td>65</td>\n      <td>15.25</td>\n      <td>113.245697021484</td>\n      <td>31.0677890777588</td>\n      <td>144.313400268555</td>\n      <td>...</td>\n      <td>NaN</td>\n      <td>NaN</td>\n      <td>NaN</td>\n      <td>NaN</td>\n      <td>NaN</td>\n      <td>NaN</td>\n      <td>NaN</td>\n      <td>NaN</td>\n      <td>NaN</td>\n      <td>NaN</td>\n    </tr>\n    <tr>\n      <th>226</th>\n      <td>Lesotho</td>\n      <td>1986</td>\n      <td>21.14252061</td>\n      <td>1603960.0</td>\n      <td>92</td>\n      <td>109</td>\n      <td>23.4</td>\n      <td>66.7168197631836</td>\n      <td>10.6219997406006</td>\n      <td>77.3388137817383</td>\n      <td>...</td>\n      <td>NaN</td>\n      <td>NaN</td>\n      <td>NaN</td>\n      <td>NaN</td>\n      <td>NaN</td>\n      <td>NaN</td>\n      <td>NaN</td>\n      <td>NaN</td>\n      <td>NaN</td>\n      <td>NaN</td>\n    </tr>\n    <tr>\n      <th>296</th>\n      <td>Malawi</td>\n      <td>1976</td>\n      <td>39.20110669</td>\n      <td>5409980.0</td>\n      <td>179.8</td>\n      <td>56</td>\n      <td>4</td>\n      <td>14.338809967041</td>\n      <td>15.4878797531128</td>\n      <td>29.8267002105713</td>\n      <td>...</td>\n      <td>NaN</td>\n      <td>NaN</td>\n      <td>NaN</td>\n      <td>NaN</td>\n      <td>NaN</td>\n      <td>NaN</td>\n      <td>NaN</td>\n      <td>NaN</td>\n      <td>NaN</td>\n      <td>NaN</td>\n    </tr>\n    <tr>\n      <th>52</th>\n      <td>Botswana</td>\n      <td>1994</td>\n      <td>5.199306759</td>\n      <td>1420270.0</td>\n      <td>55.39999898</td>\n      <td>117</td>\n      <td>53</td>\n      <td>58.7042083740234</td>\n      <td>16.0785007476807</td>\n      <td>74.7827072143555</td>\n      <td>...</td>\n      <td>NaN</td>\n      <td>NaN</td>\n      <td>NaN</td>\n      <td>NaN</td>\n      <td>NaN</td>\n      <td>NaN</td>\n      <td>NaN</td>\n      <td>NaN</td>\n      <td>NaN</td>\n      <td>NaN</td>\n    </tr>\n    <tr>\n      <th>...</th>\n      <td>...</td>\n      <td>...</td>\n      <td>...</td>\n      <td>...</td>\n      <td>...</td>\n      <td>...</td>\n      <td>...</td>\n      <td>...</td>\n      <td>...</td>\n      <td>...</td>\n      <td>...</td>\n      <td>...</td>\n      <td>...</td>\n      <td>...</td>\n      <td>...</td>\n      <td>...</td>\n      <td>...</td>\n      <td>...</td>\n      <td>...</td>\n      <td>...</td>\n      <td>...</td>\n    </tr>\n    <tr>\n      <th>20</th>\n      <td>Burkina Faso</td>\n      <td>1988</td>\n      <td>48.94457166</td>\n      <td>8534390.0</td>\n      <td>107.8</td>\n      <td>33.5</td>\n      <td>6.5</td>\n      <td>35.4728813171387</td>\n      <td>10.2006902694702</td>\n      <td>45.6735687255859</td>\n      <td>...</td>\n      <td>NaN</td>\n      <td>NaN</td>\n      <td>NaN</td>\n      <td>NaN</td>\n      <td>NaN</td>\n      <td>NaN</td>\n      <td>NaN</td>\n      <td>NaN</td>\n      <td>NaN</td>\n      <td>NaN</td>\n    </tr>\n    <tr>\n      <th>46</th>\n      <td>Botswana</td>\n      <td>1988</td>\n      <td>7.060807251</td>\n      <td>1195140.0</td>\n      <td>56.6</td>\n      <td>111.75</td>\n      <td>35.75</td>\n      <td>135.776702880859</td>\n      <td>30.8545207977295</td>\n      <td>166.631195068359</td>\n      <td>...</td>\n      <td>NaN</td>\n      <td>NaN</td>\n      <td>NaN</td>\n      <td>NaN</td>\n      <td>NaN</td>\n      <td>NaN</td>\n      <td>NaN</td>\n      <td>NaN</td>\n      <td>NaN</td>\n      <td>NaN</td>\n    </tr>\n    <tr>\n      <th>158</th>\n      <td>Kenya</td>\n      <td>1970</td>\n      <td>33.29286623</td>\n      <td>11498000.0</td>\n      <td>102</td>\n      <td>58</td>\n      <td>9</td>\n      <td>9.42126178741455</td>\n      <td>9.48890781402588</td>\n      <td>18.9101696014404</td>\n      <td>...</td>\n      <td>NaN</td>\n      <td>NaN</td>\n      <td>NaN</td>\n      <td>NaN</td>\n      <td>NaN</td>\n      <td>NaN</td>\n      <td>NaN</td>\n      <td>NaN</td>\n      <td>NaN</td>\n      <td>NaN</td>\n    </tr>\n    <tr>\n      <th>230</th>\n      <td>Lesotho</td>\n      <td>1990</td>\n      <td>19.96355858</td>\n      <td>1783000.0</td>\n      <td>84.6</td>\n      <td>105</td>\n      <td>25</td>\n      <td>67.9856872558594</td>\n      <td>26.8740100860596</td>\n      <td>94.8597030639648</td>\n      <td>...</td>\n      <td>NaN</td>\n      <td>NaN</td>\n      <td>NaN</td>\n      <td>NaN</td>\n      <td>NaN</td>\n      <td>NaN</td>\n      <td>NaN</td>\n      <td>NaN</td>\n      <td>NaN</td>\n      <td>NaN</td>\n    </tr>\n    <tr>\n      <th>179</th>\n      <td>Kenya</td>\n      <td>1991</td>\n      <td>28.14106137</td>\n      <td>24015140.0</td>\n      <td>61.4</td>\n      <td>93</td>\n      <td>28</td>\n      <td>29.552059173584</td>\n      <td>21.131010055542</td>\n      <td>50.6830711364746</td>\n      <td>...</td>\n      <td>NaN</td>\n      <td>NaN</td>\n      <td>NaN</td>\n      <td>NaN</td>\n      <td>NaN</td>\n      <td>NaN</td>\n      <td>NaN</td>\n      <td>NaN</td>\n      <td>NaN</td>\n      <td>NaN</td>\n    </tr>\n  </tbody>\n</table>\n<p>75 rows × 100 columns</p>\n</div>"
     },
     "metadata": {},
     "execution_count": 56
    }
   ],
   "source": [
    "# Joining\n",
    "df5 = df1.join(df2,lsuffix=\"_left\") # Operates only on the columns\n",
    "df5"
   ]
  },
  {
   "cell_type": "code",
   "execution_count": 57,
   "metadata": {},
   "outputs": [
    {
     "output_type": "execute_result",
     "data": {
      "text/plain": [
       "         countryc  year       agrgdp         popn      infmort      schprim  \\\n",
       "223       Lesotho  1983  23.91304348  1.48327e+06           98        106.8   \n",
       "150   Gambia, The  1988  31.22936246       841250  140.7799988           65   \n",
       "226       Lesotho  1986  21.14252061  1.60396e+06           92          109   \n",
       "296        Malawi  1976  39.20110669  5.40998e+06        179.8           56   \n",
       "52       Botswana  1994  5.199306759  1.42027e+06  55.39999898          117   \n",
       "..            ...   ...          ...          ...          ...          ...   \n",
       "240    Madagascar  1974  34.22234966  7.40857e+06        163.2           94   \n",
       "256    Madagascar  1990  32.30721538   1.1672e+07  101.1600006           87   \n",
       "98       Ethiopia  1988  49.15748278  4.76432e+07        129.4        34.25   \n",
       "23   Burkina Faso  1991  34.66403162  9.26991e+06        104.2           37   \n",
       "191       Liberia  1977  31.87008374  1.70816e+06          167  60.66666667   \n",
       "\n",
       "          schsec           grtdsbp          grlndsbp           aiddsbp  ...  \\\n",
       "223           21  87.4762725830078  20.0394096374512  107.515701293945  ...   \n",
       "150        15.25  113.245697021484  31.0677890777588  144.313400268555  ...   \n",
       "226         23.4  66.7168197631836  10.6219997406006  77.3388137817383  ...   \n",
       "296            4   14.338809967041  15.4878797531128  29.8267002105713  ...   \n",
       "52            53  58.7042083740234  16.0785007476807  74.7827072143555  ...   \n",
       "..           ...               ...               ...               ...  ...   \n",
       "240           12  16.4736003875732  9.76997661590576   26.243579864502  ...   \n",
       "256           17  42.6463584899902  13.9560403823853  56.6024017333984  ...   \n",
       "98          13.5  20.3594608306885  5.55403518676758  25.9134902954102  ...   \n",
       "23             8  38.1004219055176   15.298939704895  53.3993606567383  ...   \n",
       "191  18.33333333  20.3501396179199  29.2217292785644  49.5718688964844  ...   \n",
       "\n",
       "                  dcurexpp               dcapexpp               dprirepp  \\\n",
       "223  1.79769313486232e+308  1.79769313486232e+308  1.79769313486232e+308   \n",
       "150  1.79769313486232e+308  1.79769313486232e+308  1.79769313486232e+308   \n",
       "226  1.79769313486232e+308  1.79769313486232e+308  1.79769313486232e+308   \n",
       "296      -3.28504991531372      -12.8143997192383    -0.0718400031328201   \n",
       "52                  -187.5      -19.1625995635986       4.24620914459228   \n",
       "..                     ...                    ...                    ...   \n",
       "240  1.79769313486232e+308  1.79769313486232e+308  1.79769313486232e+308   \n",
       "256       1.14905905723572      0.055357001721859       11.8646697998047   \n",
       "98        4.41632223129272     -0.611379981040955      0.021629000082612   \n",
       "23   1.79769313486232e+308  1.79769313486232e+308  1.79769313486232e+308   \n",
       "191      -4.21390008926392      -13.3078002929688      -1.24118995666504   \n",
       "\n",
       "                  dcnlnagp               dcnlnenp               dcnlninp  \\\n",
       "223  1.79769313486232e+308  1.79769313486232e+308  1.79769313486232e+308   \n",
       "150  1.79769313486232e+308  1.79769313486232e+308  1.79769313486232e+308   \n",
       "226  1.79769313486232e+308  1.79769313486232e+308  1.79769313486232e+308   \n",
       "296     -0.538079977035522      0.749620020389557      -0.12015999853611   \n",
       "52        -3.0890998840332        4.7163348197937      -2.58439993858337   \n",
       "..                     ...                    ...                    ...   \n",
       "240  1.79769313486232e+308  1.79769313486232e+308  1.79769313486232e+308   \n",
       "256       2.95013809204102     -0.822669982910156     -0.921169996261597   \n",
       "98       0.444323003292084      0.412930011749268      0.154944002628326   \n",
       "23   1.79769313486232e+308  1.79769313486232e+308  1.79769313486232e+308   \n",
       "191        1.1413459777832      -2.94400000572205                      0   \n",
       "\n",
       "                 dcnlntacp              dcnlnedup              dcnlnhthp  \\\n",
       "223  1.79769313486232e+308  1.79769313486232e+308  1.79769313486232e+308   \n",
       "150  1.79769313486232e+308  1.79769313486232e+308  1.79769313486232e+308   \n",
       "226  1.79769313486232e+308  1.79769313486232e+308  1.79769313486232e+308   \n",
       "296      -2.48820996284485     -0.187729999423027                      0   \n",
       "52       -1.81132996082306       1.99651896953583     -0.113150000572205   \n",
       "..                     ...                    ...                    ...   \n",
       "240  1.79769313486232e+308  1.79769313486232e+308  1.79769313486232e+308   \n",
       "256      -2.26319003105164      0.278450012207031    -0.0155899999663234   \n",
       "98       -1.32232999801636      0.150712996721268                      0   \n",
       "23   1.79769313486232e+308  1.79769313486232e+308  1.79769313486232e+308   \n",
       "191       3.02864408493042       1.95925498008728                      0   \n",
       "\n",
       "                 dcnlnothp  \n",
       "223  1.79769313486232e+308  \n",
       "150  1.79769313486232e+308  \n",
       "226  1.79769313486232e+308  \n",
       "296      -4.06232023239136  \n",
       "52       -6.56795978546143  \n",
       "..                     ...  \n",
       "240  1.79769313486232e+308  \n",
       "256      -2.74889993667603  \n",
       "98       -6.21179008483887  \n",
       "23   1.79769313486232e+308  \n",
       "191       2.47339510917664  \n",
       "\n",
       "[131 rows x 50 columns]"
      ],
      "text/html": "<div>\n<style scoped>\n    .dataframe tbody tr th:only-of-type {\n        vertical-align: middle;\n    }\n\n    .dataframe tbody tr th {\n        vertical-align: top;\n    }\n\n    .dataframe thead th {\n        text-align: right;\n    }\n</style>\n<table border=\"1\" class=\"dataframe\">\n  <thead>\n    <tr style=\"text-align: right;\">\n      <th></th>\n      <th>countryc</th>\n      <th>year</th>\n      <th>agrgdp</th>\n      <th>popn</th>\n      <th>infmort</th>\n      <th>schprim</th>\n      <th>schsec</th>\n      <th>grtdsbp</th>\n      <th>grlndsbp</th>\n      <th>aiddsbp</th>\n      <th>...</th>\n      <th>dcurexpp</th>\n      <th>dcapexpp</th>\n      <th>dprirepp</th>\n      <th>dcnlnagp</th>\n      <th>dcnlnenp</th>\n      <th>dcnlninp</th>\n      <th>dcnlntacp</th>\n      <th>dcnlnedup</th>\n      <th>dcnlnhthp</th>\n      <th>dcnlnothp</th>\n    </tr>\n  </thead>\n  <tbody>\n    <tr>\n      <th>223</th>\n      <td>Lesotho</td>\n      <td>1983</td>\n      <td>23.91304348</td>\n      <td>1.48327e+06</td>\n      <td>98</td>\n      <td>106.8</td>\n      <td>21</td>\n      <td>87.4762725830078</td>\n      <td>20.0394096374512</td>\n      <td>107.515701293945</td>\n      <td>...</td>\n      <td>1.79769313486232e+308</td>\n      <td>1.79769313486232e+308</td>\n      <td>1.79769313486232e+308</td>\n      <td>1.79769313486232e+308</td>\n      <td>1.79769313486232e+308</td>\n      <td>1.79769313486232e+308</td>\n      <td>1.79769313486232e+308</td>\n      <td>1.79769313486232e+308</td>\n      <td>1.79769313486232e+308</td>\n      <td>1.79769313486232e+308</td>\n    </tr>\n    <tr>\n      <th>150</th>\n      <td>Gambia, The</td>\n      <td>1988</td>\n      <td>31.22936246</td>\n      <td>841250</td>\n      <td>140.7799988</td>\n      <td>65</td>\n      <td>15.25</td>\n      <td>113.245697021484</td>\n      <td>31.0677890777588</td>\n      <td>144.313400268555</td>\n      <td>...</td>\n      <td>1.79769313486232e+308</td>\n      <td>1.79769313486232e+308</td>\n      <td>1.79769313486232e+308</td>\n      <td>1.79769313486232e+308</td>\n      <td>1.79769313486232e+308</td>\n      <td>1.79769313486232e+308</td>\n      <td>1.79769313486232e+308</td>\n      <td>1.79769313486232e+308</td>\n      <td>1.79769313486232e+308</td>\n      <td>1.79769313486232e+308</td>\n    </tr>\n    <tr>\n      <th>226</th>\n      <td>Lesotho</td>\n      <td>1986</td>\n      <td>21.14252061</td>\n      <td>1.60396e+06</td>\n      <td>92</td>\n      <td>109</td>\n      <td>23.4</td>\n      <td>66.7168197631836</td>\n      <td>10.6219997406006</td>\n      <td>77.3388137817383</td>\n      <td>...</td>\n      <td>1.79769313486232e+308</td>\n      <td>1.79769313486232e+308</td>\n      <td>1.79769313486232e+308</td>\n      <td>1.79769313486232e+308</td>\n      <td>1.79769313486232e+308</td>\n      <td>1.79769313486232e+308</td>\n      <td>1.79769313486232e+308</td>\n      <td>1.79769313486232e+308</td>\n      <td>1.79769313486232e+308</td>\n      <td>1.79769313486232e+308</td>\n    </tr>\n    <tr>\n      <th>296</th>\n      <td>Malawi</td>\n      <td>1976</td>\n      <td>39.20110669</td>\n      <td>5.40998e+06</td>\n      <td>179.8</td>\n      <td>56</td>\n      <td>4</td>\n      <td>14.338809967041</td>\n      <td>15.4878797531128</td>\n      <td>29.8267002105713</td>\n      <td>...</td>\n      <td>-3.28504991531372</td>\n      <td>-12.8143997192383</td>\n      <td>-0.0718400031328201</td>\n      <td>-0.538079977035522</td>\n      <td>0.749620020389557</td>\n      <td>-0.12015999853611</td>\n      <td>-2.48820996284485</td>\n      <td>-0.187729999423027</td>\n      <td>0</td>\n      <td>-4.06232023239136</td>\n    </tr>\n    <tr>\n      <th>52</th>\n      <td>Botswana</td>\n      <td>1994</td>\n      <td>5.199306759</td>\n      <td>1.42027e+06</td>\n      <td>55.39999898</td>\n      <td>117</td>\n      <td>53</td>\n      <td>58.7042083740234</td>\n      <td>16.0785007476807</td>\n      <td>74.7827072143555</td>\n      <td>...</td>\n      <td>-187.5</td>\n      <td>-19.1625995635986</td>\n      <td>4.24620914459228</td>\n      <td>-3.0890998840332</td>\n      <td>4.7163348197937</td>\n      <td>-2.58439993858337</td>\n      <td>-1.81132996082306</td>\n      <td>1.99651896953583</td>\n      <td>-0.113150000572205</td>\n      <td>-6.56795978546143</td>\n    </tr>\n    <tr>\n      <th>...</th>\n      <td>...</td>\n      <td>...</td>\n      <td>...</td>\n      <td>...</td>\n      <td>...</td>\n      <td>...</td>\n      <td>...</td>\n      <td>...</td>\n      <td>...</td>\n      <td>...</td>\n      <td>...</td>\n      <td>...</td>\n      <td>...</td>\n      <td>...</td>\n      <td>...</td>\n      <td>...</td>\n      <td>...</td>\n      <td>...</td>\n      <td>...</td>\n      <td>...</td>\n      <td>...</td>\n    </tr>\n    <tr>\n      <th>240</th>\n      <td>Madagascar</td>\n      <td>1974</td>\n      <td>34.22234966</td>\n      <td>7.40857e+06</td>\n      <td>163.2</td>\n      <td>94</td>\n      <td>12</td>\n      <td>16.4736003875732</td>\n      <td>9.76997661590576</td>\n      <td>26.243579864502</td>\n      <td>...</td>\n      <td>1.79769313486232e+308</td>\n      <td>1.79769313486232e+308</td>\n      <td>1.79769313486232e+308</td>\n      <td>1.79769313486232e+308</td>\n      <td>1.79769313486232e+308</td>\n      <td>1.79769313486232e+308</td>\n      <td>1.79769313486232e+308</td>\n      <td>1.79769313486232e+308</td>\n      <td>1.79769313486232e+308</td>\n      <td>1.79769313486232e+308</td>\n    </tr>\n    <tr>\n      <th>256</th>\n      <td>Madagascar</td>\n      <td>1990</td>\n      <td>32.30721538</td>\n      <td>1.1672e+07</td>\n      <td>101.1600006</td>\n      <td>87</td>\n      <td>17</td>\n      <td>42.6463584899902</td>\n      <td>13.9560403823853</td>\n      <td>56.6024017333984</td>\n      <td>...</td>\n      <td>1.14905905723572</td>\n      <td>0.055357001721859</td>\n      <td>11.8646697998047</td>\n      <td>2.95013809204102</td>\n      <td>-0.822669982910156</td>\n      <td>-0.921169996261597</td>\n      <td>-2.26319003105164</td>\n      <td>0.278450012207031</td>\n      <td>-0.0155899999663234</td>\n      <td>-2.74889993667603</td>\n    </tr>\n    <tr>\n      <th>98</th>\n      <td>Ethiopia</td>\n      <td>1988</td>\n      <td>49.15748278</td>\n      <td>4.76432e+07</td>\n      <td>129.4</td>\n      <td>34.25</td>\n      <td>13.5</td>\n      <td>20.3594608306885</td>\n      <td>5.55403518676758</td>\n      <td>25.9134902954102</td>\n      <td>...</td>\n      <td>4.41632223129272</td>\n      <td>-0.611379981040955</td>\n      <td>0.021629000082612</td>\n      <td>0.444323003292084</td>\n      <td>0.412930011749268</td>\n      <td>0.154944002628326</td>\n      <td>-1.32232999801636</td>\n      <td>0.150712996721268</td>\n      <td>0</td>\n      <td>-6.21179008483887</td>\n    </tr>\n    <tr>\n      <th>23</th>\n      <td>Burkina Faso</td>\n      <td>1991</td>\n      <td>34.66403162</td>\n      <td>9.26991e+06</td>\n      <td>104.2</td>\n      <td>37</td>\n      <td>8</td>\n      <td>38.1004219055176</td>\n      <td>15.298939704895</td>\n      <td>53.3993606567383</td>\n      <td>...</td>\n      <td>1.79769313486232e+308</td>\n      <td>1.79769313486232e+308</td>\n      <td>1.79769313486232e+308</td>\n      <td>1.79769313486232e+308</td>\n      <td>1.79769313486232e+308</td>\n      <td>1.79769313486232e+308</td>\n      <td>1.79769313486232e+308</td>\n      <td>1.79769313486232e+308</td>\n      <td>1.79769313486232e+308</td>\n      <td>1.79769313486232e+308</td>\n    </tr>\n    <tr>\n      <th>191</th>\n      <td>Liberia</td>\n      <td>1977</td>\n      <td>31.87008374</td>\n      <td>1.70816e+06</td>\n      <td>167</td>\n      <td>60.66666667</td>\n      <td>18.33333333</td>\n      <td>20.3501396179199</td>\n      <td>29.2217292785644</td>\n      <td>49.5718688964844</td>\n      <td>...</td>\n      <td>-4.21390008926392</td>\n      <td>-13.3078002929688</td>\n      <td>-1.24118995666504</td>\n      <td>1.1413459777832</td>\n      <td>-2.94400000572205</td>\n      <td>0</td>\n      <td>3.02864408493042</td>\n      <td>1.95925498008728</td>\n      <td>0</td>\n      <td>2.47339510917664</td>\n    </tr>\n  </tbody>\n</table>\n<p>131 rows × 50 columns</p>\n</div>"
     },
     "metadata": {},
     "execution_count": 57
    }
   ],
   "source": [
    "# Concatenation\n",
    "df6 = pd.concat([df1, df2], axis=0) # 0: rows, 1: columns \n",
    "df6\n"
   ]
  },
  {
   "source": [
    "![](https://raw.githubusercontent.com/VinitaSilaparasetty/Coursera-Intermediate-Pandas/master/media/inner-join.png)"
   ],
   "cell_type": "markdown",
   "metadata": {}
  },
  {
   "cell_type": "code",
   "execution_count": 75,
   "metadata": {},
   "outputs": [
    {
     "output_type": "execute_result",
     "data": {
      "text/plain": [
       "    countryc  year_x     agrgdp_x     popn_x    infmort_x schprim_x schsec_x  \\\n",
       "0    Lesotho    1983  23.91304348  1483270.0           98     106.8       21   \n",
       "1    Lesotho    1983  23.91304348  1483270.0           98     106.8       21   \n",
       "2    Lesotho    1983  23.91304348  1483270.0           98     106.8       21   \n",
       "3    Lesotho    1983  23.91304348  1483270.0           98     106.8       21   \n",
       "4    Lesotho    1983  23.91304348  1483270.0           98     106.8       21   \n",
       "..       ...     ...          ...        ...          ...       ...      ...   \n",
       "356    Ghana    1970  46.51883327  8614000.0  110.5999985        64       14   \n",
       "357    Ghana    1970  46.51883327  8614000.0  110.5999985        64       14   \n",
       "358    Ghana    1970  46.51883327  8614000.0  110.5999985        64       14   \n",
       "359    Ghana    1970  46.51883327  8614000.0  110.5999985        64       14   \n",
       "360    Ghana    1970  46.51883327  8614000.0  110.5999985        64       14   \n",
       "\n",
       "            grtdsbp_x        grlndsbp_x         aiddsbp_x  ...  \\\n",
       "0    87.4762725830078  20.0394096374512  107.515701293945  ...   \n",
       "1    87.4762725830078  20.0394096374512  107.515701293945  ...   \n",
       "2    87.4762725830078  20.0394096374512  107.515701293945  ...   \n",
       "3    87.4762725830078  20.0394096374512  107.515701293945  ...   \n",
       "4    87.4762725830078  20.0394096374512  107.515701293945  ...   \n",
       "..                ...               ...               ...  ...   \n",
       "356  8.47124862670898  16.3063297271728  24.7775802612305  ...   \n",
       "357  8.47124862670898  16.3063297271728  24.7775802612305  ...   \n",
       "358  8.47124862670898  16.3063297271728  24.7775802612305  ...   \n",
       "359  8.47124862670898  16.3063297271728  24.7775802612305  ...   \n",
       "360  8.47124862670898  16.3063297271728  24.7775802612305  ...   \n",
       "\n",
       "                dcurexpp_y             dcapexpp_y             dprirepp_y  \\\n",
       "0         8.38925743103027      -1.36620998382568     -0.754760026931763   \n",
       "1    1.79769313486232e+308  1.79769313486232e+308  1.79769313486232e+308   \n",
       "2    1.79769313486232e+308  1.79769313486232e+308  1.79769313486232e+308   \n",
       "3    1.79769313486232e+308  1.79769313486232e+308  1.79769313486232e+308   \n",
       "4         21.3133106231689      -16.1940002441406     -0.279320001602173   \n",
       "..                     ...                    ...                    ...   \n",
       "356      -13.4622001647949      -5.45116996765137     -0.186719998717308   \n",
       "357      0.109958998858929     -0.320589989423752       22.0238494873047   \n",
       "358     -0.323130011558533      -2.77907991409302      -1.19852995872498   \n",
       "359       7.33061790466309       2.66432690620422     -0.104589998722076   \n",
       "360  1.79769313486232e+308  1.79769313486232e+308  1.79769313486232e+308   \n",
       "\n",
       "                dcnlnagp_y             dcnlnenp_y             dcnlninp_y  \\\n",
       "0       -0.180490002036095       2.19999504089355     -0.662069976329804   \n",
       "1    1.79769313486232e+308  1.79769313486232e+308  1.79769313486232e+308   \n",
       "2    1.79769313486232e+308  1.79769313486232e+308  1.79769313486232e+308   \n",
       "3    1.79769313486232e+308  1.79769313486232e+308  1.79769313486232e+308   \n",
       "4       -0.149350002408028      -2.39073991775513     -0.880400002002716   \n",
       "..                     ...                    ...                    ...   \n",
       "356   -0.00694000022485852      -3.54000997543335     0.0770640000700951   \n",
       "357      0.776171982288361      0.491468012332916       1.05746495723724   \n",
       "358     -0.863059997558594      -2.37539005279541     -0.272859990596771   \n",
       "359     -0.378439992666244     -0.473159998655319      0.112231999635696   \n",
       "360  1.79769313486232e+308  1.79769313486232e+308  1.79769313486232e+308   \n",
       "\n",
       "               dcnlntacp_y            dcnlnedup_y            dcnlnhthp_y  \\\n",
       "0       -0.273030012845993       -1.6026200056076      0.604721009731293   \n",
       "1    1.79769313486232e+308  1.79769313486232e+308  1.79769313486232e+308   \n",
       "2    1.79769313486232e+308  1.79769313486232e+308  1.79769313486232e+308   \n",
       "3    1.79769313486232e+308  1.79769313486232e+308  1.79769313486232e+308   \n",
       "4        -1.98554003238678     -0.657039999961853       1.33074104785919   \n",
       "..                     ...                    ...                    ...   \n",
       "356    -0.0829199999570846                      0                      0   \n",
       "357      -2.52997994422913      0.101365998387337      0.214107006788254   \n",
       "358      -2.20474004745483     0.0472089983522892    -0.0149400001391768   \n",
       "359       1.02477705478668  -1.70000002981396E-05                      0   \n",
       "360  1.79769313486232e+308  1.79769313486232e+308  1.79769313486232e+308   \n",
       "\n",
       "               dcnlnothp_y  \n",
       "0        0.780026018619537  \n",
       "1    1.79769313486232e+308  \n",
       "2    1.79769313486232e+308  \n",
       "3    1.79769313486232e+308  \n",
       "4         3.51178288459778  \n",
       "..                     ...  \n",
       "356     -0.743390023708344  \n",
       "357     -0.506910026073456  \n",
       "358       1.60827100276947  \n",
       "359      0.398373991250992  \n",
       "360  1.79769313486232e+308  \n",
       "\n",
       "[361 rows x 99 columns]"
      ],
      "text/html": "<div>\n<style scoped>\n    .dataframe tbody tr th:only-of-type {\n        vertical-align: middle;\n    }\n\n    .dataframe tbody tr th {\n        vertical-align: top;\n    }\n\n    .dataframe thead th {\n        text-align: right;\n    }\n</style>\n<table border=\"1\" class=\"dataframe\">\n  <thead>\n    <tr style=\"text-align: right;\">\n      <th></th>\n      <th>countryc</th>\n      <th>year_x</th>\n      <th>agrgdp_x</th>\n      <th>popn_x</th>\n      <th>infmort_x</th>\n      <th>schprim_x</th>\n      <th>schsec_x</th>\n      <th>grtdsbp_x</th>\n      <th>grlndsbp_x</th>\n      <th>aiddsbp_x</th>\n      <th>...</th>\n      <th>dcurexpp_y</th>\n      <th>dcapexpp_y</th>\n      <th>dprirepp_y</th>\n      <th>dcnlnagp_y</th>\n      <th>dcnlnenp_y</th>\n      <th>dcnlninp_y</th>\n      <th>dcnlntacp_y</th>\n      <th>dcnlnedup_y</th>\n      <th>dcnlnhthp_y</th>\n      <th>dcnlnothp_y</th>\n    </tr>\n  </thead>\n  <tbody>\n    <tr>\n      <th>0</th>\n      <td>Lesotho</td>\n      <td>1983</td>\n      <td>23.91304348</td>\n      <td>1483270.0</td>\n      <td>98</td>\n      <td>106.8</td>\n      <td>21</td>\n      <td>87.4762725830078</td>\n      <td>20.0394096374512</td>\n      <td>107.515701293945</td>\n      <td>...</td>\n      <td>8.38925743103027</td>\n      <td>-1.36620998382568</td>\n      <td>-0.754760026931763</td>\n      <td>-0.180490002036095</td>\n      <td>2.19999504089355</td>\n      <td>-0.662069976329804</td>\n      <td>-0.273030012845993</td>\n      <td>-1.6026200056076</td>\n      <td>0.604721009731293</td>\n      <td>0.780026018619537</td>\n    </tr>\n    <tr>\n      <th>1</th>\n      <td>Lesotho</td>\n      <td>1983</td>\n      <td>23.91304348</td>\n      <td>1483270.0</td>\n      <td>98</td>\n      <td>106.8</td>\n      <td>21</td>\n      <td>87.4762725830078</td>\n      <td>20.0394096374512</td>\n      <td>107.515701293945</td>\n      <td>...</td>\n      <td>1.79769313486232e+308</td>\n      <td>1.79769313486232e+308</td>\n      <td>1.79769313486232e+308</td>\n      <td>1.79769313486232e+308</td>\n      <td>1.79769313486232e+308</td>\n      <td>1.79769313486232e+308</td>\n      <td>1.79769313486232e+308</td>\n      <td>1.79769313486232e+308</td>\n      <td>1.79769313486232e+308</td>\n      <td>1.79769313486232e+308</td>\n    </tr>\n    <tr>\n      <th>2</th>\n      <td>Lesotho</td>\n      <td>1983</td>\n      <td>23.91304348</td>\n      <td>1483270.0</td>\n      <td>98</td>\n      <td>106.8</td>\n      <td>21</td>\n      <td>87.4762725830078</td>\n      <td>20.0394096374512</td>\n      <td>107.515701293945</td>\n      <td>...</td>\n      <td>1.79769313486232e+308</td>\n      <td>1.79769313486232e+308</td>\n      <td>1.79769313486232e+308</td>\n      <td>1.79769313486232e+308</td>\n      <td>1.79769313486232e+308</td>\n      <td>1.79769313486232e+308</td>\n      <td>1.79769313486232e+308</td>\n      <td>1.79769313486232e+308</td>\n      <td>1.79769313486232e+308</td>\n      <td>1.79769313486232e+308</td>\n    </tr>\n    <tr>\n      <th>3</th>\n      <td>Lesotho</td>\n      <td>1983</td>\n      <td>23.91304348</td>\n      <td>1483270.0</td>\n      <td>98</td>\n      <td>106.8</td>\n      <td>21</td>\n      <td>87.4762725830078</td>\n      <td>20.0394096374512</td>\n      <td>107.515701293945</td>\n      <td>...</td>\n      <td>1.79769313486232e+308</td>\n      <td>1.79769313486232e+308</td>\n      <td>1.79769313486232e+308</td>\n      <td>1.79769313486232e+308</td>\n      <td>1.79769313486232e+308</td>\n      <td>1.79769313486232e+308</td>\n      <td>1.79769313486232e+308</td>\n      <td>1.79769313486232e+308</td>\n      <td>1.79769313486232e+308</td>\n      <td>1.79769313486232e+308</td>\n    </tr>\n    <tr>\n      <th>4</th>\n      <td>Lesotho</td>\n      <td>1983</td>\n      <td>23.91304348</td>\n      <td>1483270.0</td>\n      <td>98</td>\n      <td>106.8</td>\n      <td>21</td>\n      <td>87.4762725830078</td>\n      <td>20.0394096374512</td>\n      <td>107.515701293945</td>\n      <td>...</td>\n      <td>21.3133106231689</td>\n      <td>-16.1940002441406</td>\n      <td>-0.279320001602173</td>\n      <td>-0.149350002408028</td>\n      <td>-2.39073991775513</td>\n      <td>-0.880400002002716</td>\n      <td>-1.98554003238678</td>\n      <td>-0.657039999961853</td>\n      <td>1.33074104785919</td>\n      <td>3.51178288459778</td>\n    </tr>\n    <tr>\n      <th>...</th>\n      <td>...</td>\n      <td>...</td>\n      <td>...</td>\n      <td>...</td>\n      <td>...</td>\n      <td>...</td>\n      <td>...</td>\n      <td>...</td>\n      <td>...</td>\n      <td>...</td>\n      <td>...</td>\n      <td>...</td>\n      <td>...</td>\n      <td>...</td>\n      <td>...</td>\n      <td>...</td>\n      <td>...</td>\n      <td>...</td>\n      <td>...</td>\n      <td>...</td>\n      <td>...</td>\n    </tr>\n    <tr>\n      <th>356</th>\n      <td>Ghana</td>\n      <td>1970</td>\n      <td>46.51883327</td>\n      <td>8614000.0</td>\n      <td>110.5999985</td>\n      <td>64</td>\n      <td>14</td>\n      <td>8.47124862670898</td>\n      <td>16.3063297271728</td>\n      <td>24.7775802612305</td>\n      <td>...</td>\n      <td>-13.4622001647949</td>\n      <td>-5.45116996765137</td>\n      <td>-0.186719998717308</td>\n      <td>-0.00694000022485852</td>\n      <td>-3.54000997543335</td>\n      <td>0.0770640000700951</td>\n      <td>-0.0829199999570846</td>\n      <td>0</td>\n      <td>0</td>\n      <td>-0.743390023708344</td>\n    </tr>\n    <tr>\n      <th>357</th>\n      <td>Ghana</td>\n      <td>1970</td>\n      <td>46.51883327</td>\n      <td>8614000.0</td>\n      <td>110.5999985</td>\n      <td>64</td>\n      <td>14</td>\n      <td>8.47124862670898</td>\n      <td>16.3063297271728</td>\n      <td>24.7775802612305</td>\n      <td>...</td>\n      <td>0.109958998858929</td>\n      <td>-0.320589989423752</td>\n      <td>22.0238494873047</td>\n      <td>0.776171982288361</td>\n      <td>0.491468012332916</td>\n      <td>1.05746495723724</td>\n      <td>-2.52997994422913</td>\n      <td>0.101365998387337</td>\n      <td>0.214107006788254</td>\n      <td>-0.506910026073456</td>\n    </tr>\n    <tr>\n      <th>358</th>\n      <td>Ghana</td>\n      <td>1970</td>\n      <td>46.51883327</td>\n      <td>8614000.0</td>\n      <td>110.5999985</td>\n      <td>64</td>\n      <td>14</td>\n      <td>8.47124862670898</td>\n      <td>16.3063297271728</td>\n      <td>24.7775802612305</td>\n      <td>...</td>\n      <td>-0.323130011558533</td>\n      <td>-2.77907991409302</td>\n      <td>-1.19852995872498</td>\n      <td>-0.863059997558594</td>\n      <td>-2.37539005279541</td>\n      <td>-0.272859990596771</td>\n      <td>-2.20474004745483</td>\n      <td>0.0472089983522892</td>\n      <td>-0.0149400001391768</td>\n      <td>1.60827100276947</td>\n    </tr>\n    <tr>\n      <th>359</th>\n      <td>Ghana</td>\n      <td>1970</td>\n      <td>46.51883327</td>\n      <td>8614000.0</td>\n      <td>110.5999985</td>\n      <td>64</td>\n      <td>14</td>\n      <td>8.47124862670898</td>\n      <td>16.3063297271728</td>\n      <td>24.7775802612305</td>\n      <td>...</td>\n      <td>7.33061790466309</td>\n      <td>2.66432690620422</td>\n      <td>-0.104589998722076</td>\n      <td>-0.378439992666244</td>\n      <td>-0.473159998655319</td>\n      <td>0.112231999635696</td>\n      <td>1.02477705478668</td>\n      <td>-1.70000002981396E-05</td>\n      <td>0</td>\n      <td>0.398373991250992</td>\n    </tr>\n    <tr>\n      <th>360</th>\n      <td>Ghana</td>\n      <td>1970</td>\n      <td>46.51883327</td>\n      <td>8614000.0</td>\n      <td>110.5999985</td>\n      <td>64</td>\n      <td>14</td>\n      <td>8.47124862670898</td>\n      <td>16.3063297271728</td>\n      <td>24.7775802612305</td>\n      <td>...</td>\n      <td>1.79769313486232e+308</td>\n      <td>1.79769313486232e+308</td>\n      <td>1.79769313486232e+308</td>\n      <td>1.79769313486232e+308</td>\n      <td>1.79769313486232e+308</td>\n      <td>1.79769313486232e+308</td>\n      <td>1.79769313486232e+308</td>\n      <td>1.79769313486232e+308</td>\n      <td>1.79769313486232e+308</td>\n      <td>1.79769313486232e+308</td>\n    </tr>\n  </tbody>\n</table>\n<p>361 rows × 99 columns</p>\n</div>"
     },
     "metadata": {},
     "execution_count": 75
    }
   ],
   "source": [
    "# Inner join: only rows that are common on both df's will be returned\n",
    "df7 = pd.merge(df1, df2, on='countryc') # Countryc stands for country code, on: the column that needs to be common\n",
    "df7 # columns from df1, df2 now have the underscore_x,y after their names. "
   ]
  },
  {
   "source": [
    "![](https://raw.githubusercontent.com/VinitaSilaparasetty/Coursera-Intermediate-Pandas/master/media/full-outer-inclusive-join.png)"
   ],
   "cell_type": "markdown",
   "metadata": {}
  },
  {
   "source": [
    "# Full outer inclusive join: all the rows from both dataframes wil be returned, and join will be applied wherever there are common values. If there are no common values a NaN will be returned instead.\n",
    "df8 = pd.merge(df1, df2, how='outer')\n",
    "df8 "
   ],
   "cell_type": "code",
   "metadata": {},
   "execution_count": 76,
   "outputs": [
    {
     "output_type": "execute_result",
     "data": {
      "text/plain": [
       "         countryc  year       agrgdp        popn      infmort      schprim  \\\n",
       "0         Lesotho  1983  23.91304348   1483270.0           98        106.8   \n",
       "1     Gambia, The  1988  31.22936246    841250.0  140.7799988           65   \n",
       "2         Lesotho  1986  21.14252061   1603960.0           92          109   \n",
       "3          Malawi  1976  39.20110669   5409980.0        179.8           56   \n",
       "4        Botswana  1994  5.199306759   1420270.0  55.39999898          117   \n",
       "..            ...   ...          ...         ...          ...          ...   \n",
       "126    Madagascar  1974  34.22234966   7408570.0        163.2           94   \n",
       "127    Madagascar  1990  32.30721538  11672000.0  101.1600006           87   \n",
       "128      Ethiopia  1988  49.15748278  47643232.0        129.4        34.25   \n",
       "129  Burkina Faso  1991  34.66403162   9269910.0        104.2           37   \n",
       "130       Liberia  1977  31.87008374   1708160.0          167  60.66666667   \n",
       "\n",
       "          schsec           grtdsbp          grlndsbp           aiddsbp  ...  \\\n",
       "0             21  87.4762725830078  20.0394096374512  107.515701293945  ...   \n",
       "1          15.25  113.245697021484  31.0677890777588  144.313400268555  ...   \n",
       "2           23.4  66.7168197631836  10.6219997406006  77.3388137817383  ...   \n",
       "3              4   14.338809967041  15.4878797531128  29.8267002105713  ...   \n",
       "4             53  58.7042083740234  16.0785007476807  74.7827072143555  ...   \n",
       "..           ...               ...               ...               ...  ...   \n",
       "126           12  16.4736003875732  9.76997661590576   26.243579864502  ...   \n",
       "127           17  42.6463584899902  13.9560403823853  56.6024017333984  ...   \n",
       "128         13.5  20.3594608306885  5.55403518676758  25.9134902954102  ...   \n",
       "129            8  38.1004219055176   15.298939704895  53.3993606567383  ...   \n",
       "130  18.33333333  20.3501396179199  29.2217292785644  49.5718688964844  ...   \n",
       "\n",
       "                  dcurexpp               dcapexpp               dprirepp  \\\n",
       "0    1.79769313486232e+308  1.79769313486232e+308  1.79769313486232e+308   \n",
       "1    1.79769313486232e+308  1.79769313486232e+308  1.79769313486232e+308   \n",
       "2    1.79769313486232e+308  1.79769313486232e+308  1.79769313486232e+308   \n",
       "3        -3.28504991531372      -12.8143997192383    -0.0718400031328201   \n",
       "4                   -187.5      -19.1625995635986       4.24620914459228   \n",
       "..                     ...                    ...                    ...   \n",
       "126  1.79769313486232e+308  1.79769313486232e+308  1.79769313486232e+308   \n",
       "127       1.14905905723572      0.055357001721859       11.8646697998047   \n",
       "128       4.41632223129272     -0.611379981040955      0.021629000082612   \n",
       "129  1.79769313486232e+308  1.79769313486232e+308  1.79769313486232e+308   \n",
       "130      -4.21390008926392      -13.3078002929688      -1.24118995666504   \n",
       "\n",
       "                  dcnlnagp               dcnlnenp               dcnlninp  \\\n",
       "0    1.79769313486232e+308  1.79769313486232e+308  1.79769313486232e+308   \n",
       "1    1.79769313486232e+308  1.79769313486232e+308  1.79769313486232e+308   \n",
       "2    1.79769313486232e+308  1.79769313486232e+308  1.79769313486232e+308   \n",
       "3       -0.538079977035522      0.749620020389557      -0.12015999853611   \n",
       "4         -3.0890998840332        4.7163348197937      -2.58439993858337   \n",
       "..                     ...                    ...                    ...   \n",
       "126  1.79769313486232e+308  1.79769313486232e+308  1.79769313486232e+308   \n",
       "127       2.95013809204102     -0.822669982910156     -0.921169996261597   \n",
       "128      0.444323003292084      0.412930011749268      0.154944002628326   \n",
       "129  1.79769313486232e+308  1.79769313486232e+308  1.79769313486232e+308   \n",
       "130        1.1413459777832      -2.94400000572205                      0   \n",
       "\n",
       "                 dcnlntacp              dcnlnedup              dcnlnhthp  \\\n",
       "0    1.79769313486232e+308  1.79769313486232e+308  1.79769313486232e+308   \n",
       "1    1.79769313486232e+308  1.79769313486232e+308  1.79769313486232e+308   \n",
       "2    1.79769313486232e+308  1.79769313486232e+308  1.79769313486232e+308   \n",
       "3        -2.48820996284485     -0.187729999423027                      0   \n",
       "4        -1.81132996082306       1.99651896953583     -0.113150000572205   \n",
       "..                     ...                    ...                    ...   \n",
       "126  1.79769313486232e+308  1.79769313486232e+308  1.79769313486232e+308   \n",
       "127      -2.26319003105164      0.278450012207031    -0.0155899999663234   \n",
       "128      -1.32232999801636      0.150712996721268                      0   \n",
       "129  1.79769313486232e+308  1.79769313486232e+308  1.79769313486232e+308   \n",
       "130       3.02864408493042       1.95925498008728                      0   \n",
       "\n",
       "                 dcnlnothp  \n",
       "0    1.79769313486232e+308  \n",
       "1    1.79769313486232e+308  \n",
       "2    1.79769313486232e+308  \n",
       "3        -4.06232023239136  \n",
       "4        -6.56795978546143  \n",
       "..                     ...  \n",
       "126  1.79769313486232e+308  \n",
       "127      -2.74889993667603  \n",
       "128      -6.21179008483887  \n",
       "129  1.79769313486232e+308  \n",
       "130       2.47339510917664  \n",
       "\n",
       "[131 rows x 50 columns]"
      ],
      "text/html": "<div>\n<style scoped>\n    .dataframe tbody tr th:only-of-type {\n        vertical-align: middle;\n    }\n\n    .dataframe tbody tr th {\n        vertical-align: top;\n    }\n\n    .dataframe thead th {\n        text-align: right;\n    }\n</style>\n<table border=\"1\" class=\"dataframe\">\n  <thead>\n    <tr style=\"text-align: right;\">\n      <th></th>\n      <th>countryc</th>\n      <th>year</th>\n      <th>agrgdp</th>\n      <th>popn</th>\n      <th>infmort</th>\n      <th>schprim</th>\n      <th>schsec</th>\n      <th>grtdsbp</th>\n      <th>grlndsbp</th>\n      <th>aiddsbp</th>\n      <th>...</th>\n      <th>dcurexpp</th>\n      <th>dcapexpp</th>\n      <th>dprirepp</th>\n      <th>dcnlnagp</th>\n      <th>dcnlnenp</th>\n      <th>dcnlninp</th>\n      <th>dcnlntacp</th>\n      <th>dcnlnedup</th>\n      <th>dcnlnhthp</th>\n      <th>dcnlnothp</th>\n    </tr>\n  </thead>\n  <tbody>\n    <tr>\n      <th>0</th>\n      <td>Lesotho</td>\n      <td>1983</td>\n      <td>23.91304348</td>\n      <td>1483270.0</td>\n      <td>98</td>\n      <td>106.8</td>\n      <td>21</td>\n      <td>87.4762725830078</td>\n      <td>20.0394096374512</td>\n      <td>107.515701293945</td>\n      <td>...</td>\n      <td>1.79769313486232e+308</td>\n      <td>1.79769313486232e+308</td>\n      <td>1.79769313486232e+308</td>\n      <td>1.79769313486232e+308</td>\n      <td>1.79769313486232e+308</td>\n      <td>1.79769313486232e+308</td>\n      <td>1.79769313486232e+308</td>\n      <td>1.79769313486232e+308</td>\n      <td>1.79769313486232e+308</td>\n      <td>1.79769313486232e+308</td>\n    </tr>\n    <tr>\n      <th>1</th>\n      <td>Gambia, The</td>\n      <td>1988</td>\n      <td>31.22936246</td>\n      <td>841250.0</td>\n      <td>140.7799988</td>\n      <td>65</td>\n      <td>15.25</td>\n      <td>113.245697021484</td>\n      <td>31.0677890777588</td>\n      <td>144.313400268555</td>\n      <td>...</td>\n      <td>1.79769313486232e+308</td>\n      <td>1.79769313486232e+308</td>\n      <td>1.79769313486232e+308</td>\n      <td>1.79769313486232e+308</td>\n      <td>1.79769313486232e+308</td>\n      <td>1.79769313486232e+308</td>\n      <td>1.79769313486232e+308</td>\n      <td>1.79769313486232e+308</td>\n      <td>1.79769313486232e+308</td>\n      <td>1.79769313486232e+308</td>\n    </tr>\n    <tr>\n      <th>2</th>\n      <td>Lesotho</td>\n      <td>1986</td>\n      <td>21.14252061</td>\n      <td>1603960.0</td>\n      <td>92</td>\n      <td>109</td>\n      <td>23.4</td>\n      <td>66.7168197631836</td>\n      <td>10.6219997406006</td>\n      <td>77.3388137817383</td>\n      <td>...</td>\n      <td>1.79769313486232e+308</td>\n      <td>1.79769313486232e+308</td>\n      <td>1.79769313486232e+308</td>\n      <td>1.79769313486232e+308</td>\n      <td>1.79769313486232e+308</td>\n      <td>1.79769313486232e+308</td>\n      <td>1.79769313486232e+308</td>\n      <td>1.79769313486232e+308</td>\n      <td>1.79769313486232e+308</td>\n      <td>1.79769313486232e+308</td>\n    </tr>\n    <tr>\n      <th>3</th>\n      <td>Malawi</td>\n      <td>1976</td>\n      <td>39.20110669</td>\n      <td>5409980.0</td>\n      <td>179.8</td>\n      <td>56</td>\n      <td>4</td>\n      <td>14.338809967041</td>\n      <td>15.4878797531128</td>\n      <td>29.8267002105713</td>\n      <td>...</td>\n      <td>-3.28504991531372</td>\n      <td>-12.8143997192383</td>\n      <td>-0.0718400031328201</td>\n      <td>-0.538079977035522</td>\n      <td>0.749620020389557</td>\n      <td>-0.12015999853611</td>\n      <td>-2.48820996284485</td>\n      <td>-0.187729999423027</td>\n      <td>0</td>\n      <td>-4.06232023239136</td>\n    </tr>\n    <tr>\n      <th>4</th>\n      <td>Botswana</td>\n      <td>1994</td>\n      <td>5.199306759</td>\n      <td>1420270.0</td>\n      <td>55.39999898</td>\n      <td>117</td>\n      <td>53</td>\n      <td>58.7042083740234</td>\n      <td>16.0785007476807</td>\n      <td>74.7827072143555</td>\n      <td>...</td>\n      <td>-187.5</td>\n      <td>-19.1625995635986</td>\n      <td>4.24620914459228</td>\n      <td>-3.0890998840332</td>\n      <td>4.7163348197937</td>\n      <td>-2.58439993858337</td>\n      <td>-1.81132996082306</td>\n      <td>1.99651896953583</td>\n      <td>-0.113150000572205</td>\n      <td>-6.56795978546143</td>\n    </tr>\n    <tr>\n      <th>...</th>\n      <td>...</td>\n      <td>...</td>\n      <td>...</td>\n      <td>...</td>\n      <td>...</td>\n      <td>...</td>\n      <td>...</td>\n      <td>...</td>\n      <td>...</td>\n      <td>...</td>\n      <td>...</td>\n      <td>...</td>\n      <td>...</td>\n      <td>...</td>\n      <td>...</td>\n      <td>...</td>\n      <td>...</td>\n      <td>...</td>\n      <td>...</td>\n      <td>...</td>\n      <td>...</td>\n    </tr>\n    <tr>\n      <th>126</th>\n      <td>Madagascar</td>\n      <td>1974</td>\n      <td>34.22234966</td>\n      <td>7408570.0</td>\n      <td>163.2</td>\n      <td>94</td>\n      <td>12</td>\n      <td>16.4736003875732</td>\n      <td>9.76997661590576</td>\n      <td>26.243579864502</td>\n      <td>...</td>\n      <td>1.79769313486232e+308</td>\n      <td>1.79769313486232e+308</td>\n      <td>1.79769313486232e+308</td>\n      <td>1.79769313486232e+308</td>\n      <td>1.79769313486232e+308</td>\n      <td>1.79769313486232e+308</td>\n      <td>1.79769313486232e+308</td>\n      <td>1.79769313486232e+308</td>\n      <td>1.79769313486232e+308</td>\n      <td>1.79769313486232e+308</td>\n    </tr>\n    <tr>\n      <th>127</th>\n      <td>Madagascar</td>\n      <td>1990</td>\n      <td>32.30721538</td>\n      <td>11672000.0</td>\n      <td>101.1600006</td>\n      <td>87</td>\n      <td>17</td>\n      <td>42.6463584899902</td>\n      <td>13.9560403823853</td>\n      <td>56.6024017333984</td>\n      <td>...</td>\n      <td>1.14905905723572</td>\n      <td>0.055357001721859</td>\n      <td>11.8646697998047</td>\n      <td>2.95013809204102</td>\n      <td>-0.822669982910156</td>\n      <td>-0.921169996261597</td>\n      <td>-2.26319003105164</td>\n      <td>0.278450012207031</td>\n      <td>-0.0155899999663234</td>\n      <td>-2.74889993667603</td>\n    </tr>\n    <tr>\n      <th>128</th>\n      <td>Ethiopia</td>\n      <td>1988</td>\n      <td>49.15748278</td>\n      <td>47643232.0</td>\n      <td>129.4</td>\n      <td>34.25</td>\n      <td>13.5</td>\n      <td>20.3594608306885</td>\n      <td>5.55403518676758</td>\n      <td>25.9134902954102</td>\n      <td>...</td>\n      <td>4.41632223129272</td>\n      <td>-0.611379981040955</td>\n      <td>0.021629000082612</td>\n      <td>0.444323003292084</td>\n      <td>0.412930011749268</td>\n      <td>0.154944002628326</td>\n      <td>-1.32232999801636</td>\n      <td>0.150712996721268</td>\n      <td>0</td>\n      <td>-6.21179008483887</td>\n    </tr>\n    <tr>\n      <th>129</th>\n      <td>Burkina Faso</td>\n      <td>1991</td>\n      <td>34.66403162</td>\n      <td>9269910.0</td>\n      <td>104.2</td>\n      <td>37</td>\n      <td>8</td>\n      <td>38.1004219055176</td>\n      <td>15.298939704895</td>\n      <td>53.3993606567383</td>\n      <td>...</td>\n      <td>1.79769313486232e+308</td>\n      <td>1.79769313486232e+308</td>\n      <td>1.79769313486232e+308</td>\n      <td>1.79769313486232e+308</td>\n      <td>1.79769313486232e+308</td>\n      <td>1.79769313486232e+308</td>\n      <td>1.79769313486232e+308</td>\n      <td>1.79769313486232e+308</td>\n      <td>1.79769313486232e+308</td>\n      <td>1.79769313486232e+308</td>\n    </tr>\n    <tr>\n      <th>130</th>\n      <td>Liberia</td>\n      <td>1977</td>\n      <td>31.87008374</td>\n      <td>1708160.0</td>\n      <td>167</td>\n      <td>60.66666667</td>\n      <td>18.33333333</td>\n      <td>20.3501396179199</td>\n      <td>29.2217292785644</td>\n      <td>49.5718688964844</td>\n      <td>...</td>\n      <td>-4.21390008926392</td>\n      <td>-13.3078002929688</td>\n      <td>-1.24118995666504</td>\n      <td>1.1413459777832</td>\n      <td>-2.94400000572205</td>\n      <td>0</td>\n      <td>3.02864408493042</td>\n      <td>1.95925498008728</td>\n      <td>0</td>\n      <td>2.47339510917664</td>\n    </tr>\n  </tbody>\n</table>\n<p>131 rows × 50 columns</p>\n</div>"
     },
     "metadata": {},
     "execution_count": 76
    }
   ]
  },
  {
   "source": [
    "![](https://raw.githubusercontent.com/VinitaSilaparasetty/Coursera-Intermediate-Pandas/master/media/left-inclusive-join.png)"
   ],
   "cell_type": "markdown",
   "metadata": {}
  },
  {
   "cell_type": "code",
   "execution_count": 77,
   "metadata": {},
   "outputs": [
    {
     "output_type": "execute_result",
     "data": {
      "text/plain": [
       "        countryc  year       agrgdp        popn      infmort schprim schsec  \\\n",
       "0        Lesotho  1983  23.91304348   1483270.0           98   106.8     21   \n",
       "1    Gambia, The  1988  31.22936246    841250.0  140.7799988      65  15.25   \n",
       "2        Lesotho  1986  21.14252061   1603960.0           92     109   23.4   \n",
       "3         Malawi  1976  39.20110669   5409980.0        179.8      56      4   \n",
       "4       Botswana  1994  5.199306759   1420270.0  55.39999898     117     53   \n",
       "..           ...   ...          ...         ...          ...     ...    ...   \n",
       "70  Burkina Faso  1988  48.94457166   8534390.0        107.8    33.5    6.5   \n",
       "71      Botswana  1988  7.060807251   1195140.0         56.6  111.75  35.75   \n",
       "72         Kenya  1970  33.29286623  11498000.0          102      58      9   \n",
       "73       Lesotho  1990  19.96355858   1783000.0         84.6     105     25   \n",
       "74         Kenya  1991  28.14106137  24015140.0         61.4      93     28   \n",
       "\n",
       "             grtdsbp          grlndsbp           aiddsbp  ...  \\\n",
       "0   87.4762725830078  20.0394096374512  107.515701293945  ...   \n",
       "1   113.245697021484  31.0677890777588  144.313400268555  ...   \n",
       "2   66.7168197631836  10.6219997406006  77.3388137817383  ...   \n",
       "3    14.338809967041  15.4878797531128  29.8267002105713  ...   \n",
       "4   58.7042083740234  16.0785007476807  74.7827072143555  ...   \n",
       "..               ...               ...               ...  ...   \n",
       "70  35.4728813171387  10.2006902694702  45.6735687255859  ...   \n",
       "71  135.776702880859  30.8545207977295  166.631195068359  ...   \n",
       "72  9.42126178741455  9.48890781402588  18.9101696014404  ...   \n",
       "73  67.9856872558594  26.8740100860596  94.8597030639648  ...   \n",
       "74   29.552059173584   21.131010055542  50.6830711364746  ...   \n",
       "\n",
       "                 dcurexpp               dcapexpp               dprirepp  \\\n",
       "0   1.79769313486232e+308  1.79769313486232e+308  1.79769313486232e+308   \n",
       "1   1.79769313486232e+308  1.79769313486232e+308  1.79769313486232e+308   \n",
       "2   1.79769313486232e+308  1.79769313486232e+308  1.79769313486232e+308   \n",
       "3       -3.28504991531372      -12.8143997192383    -0.0718400031328201   \n",
       "4                  -187.5      -19.1625995635986       4.24620914459228   \n",
       "..                    ...                    ...                    ...   \n",
       "70  1.79769313486232e+308  1.79769313486232e+308  1.79769313486232e+308   \n",
       "71       160.910507202148       29.0043907165527      -4.24322986602783   \n",
       "72  1.79769313486232e+308  1.79769313486232e+308  1.79769313486232e+308   \n",
       "73     -0.996479988098144       3.28616809844971     -0.362129986286163   \n",
       "74      -4.14308023452759      -4.25638008117676      -18.8342990875244   \n",
       "\n",
       "                 dcnlnagp               dcnlnenp               dcnlninp  \\\n",
       "0   1.79769313486232e+308  1.79769313486232e+308  1.79769313486232e+308   \n",
       "1   1.79769313486232e+308  1.79769313486232e+308  1.79769313486232e+308   \n",
       "2   1.79769313486232e+308  1.79769313486232e+308  1.79769313486232e+308   \n",
       "3      -0.538079977035522      0.749620020389557      -0.12015999853611   \n",
       "4        -3.0890998840332        4.7163348197937      -2.58439993858337   \n",
       "..                    ...                    ...                    ...   \n",
       "70  1.79769313486232e+308  1.79769313486232e+308  1.79769313486232e+308   \n",
       "71     -0.316520005464554       13.1129302978516        3.4499249458313   \n",
       "72  1.79769313486232e+308  1.79769313486232e+308  1.79769313486232e+308   \n",
       "73       1.02300500869751      0.187684997916222      0.868880987167358   \n",
       "74       1.62289297580719     -0.415060013532639    -0.0189299993216991   \n",
       "\n",
       "                dcnlntacp              dcnlnedup              dcnlnhthp  \\\n",
       "0   1.79769313486232e+308  1.79769313486232e+308  1.79769313486232e+308   \n",
       "1   1.79769313486232e+308  1.79769313486232e+308  1.79769313486232e+308   \n",
       "2   1.79769313486232e+308  1.79769313486232e+308  1.79769313486232e+308   \n",
       "3       -2.48820996284485     -0.187729999423027                      0   \n",
       "4       -1.81132996082306       1.99651896953583     -0.113150000572205   \n",
       "..                    ...                    ...                    ...   \n",
       "70  1.79769313486232e+308  1.79769313486232e+308  1.79769313486232e+308   \n",
       "71      -1.61373996734619      -10.0523996353149    -0.0101199997588992   \n",
       "72  1.79769313486232e+308  1.79769313486232e+308  1.79769313486232e+308   \n",
       "73      -3.24150991439819      0.836112022399902      0.431519985198975   \n",
       "74     -0.304329991340637       1.22138798236847     -0.213339999318123   \n",
       "\n",
       "                dcnlnothp  \n",
       "0   1.79769313486232e+308  \n",
       "1   1.79769313486232e+308  \n",
       "2   1.79769313486232e+308  \n",
       "3       -4.06232023239136  \n",
       "4       -6.56795978546143  \n",
       "..                    ...  \n",
       "70  1.79769313486232e+308  \n",
       "71      -1.93843996524811  \n",
       "72  1.79769313486232e+308  \n",
       "73      -0.85632997751236  \n",
       "74      -4.21381998062134  \n",
       "\n",
       "[75 rows x 50 columns]"
      ],
      "text/html": "<div>\n<style scoped>\n    .dataframe tbody tr th:only-of-type {\n        vertical-align: middle;\n    }\n\n    .dataframe tbody tr th {\n        vertical-align: top;\n    }\n\n    .dataframe thead th {\n        text-align: right;\n    }\n</style>\n<table border=\"1\" class=\"dataframe\">\n  <thead>\n    <tr style=\"text-align: right;\">\n      <th></th>\n      <th>countryc</th>\n      <th>year</th>\n      <th>agrgdp</th>\n      <th>popn</th>\n      <th>infmort</th>\n      <th>schprim</th>\n      <th>schsec</th>\n      <th>grtdsbp</th>\n      <th>grlndsbp</th>\n      <th>aiddsbp</th>\n      <th>...</th>\n      <th>dcurexpp</th>\n      <th>dcapexpp</th>\n      <th>dprirepp</th>\n      <th>dcnlnagp</th>\n      <th>dcnlnenp</th>\n      <th>dcnlninp</th>\n      <th>dcnlntacp</th>\n      <th>dcnlnedup</th>\n      <th>dcnlnhthp</th>\n      <th>dcnlnothp</th>\n    </tr>\n  </thead>\n  <tbody>\n    <tr>\n      <th>0</th>\n      <td>Lesotho</td>\n      <td>1983</td>\n      <td>23.91304348</td>\n      <td>1483270.0</td>\n      <td>98</td>\n      <td>106.8</td>\n      <td>21</td>\n      <td>87.4762725830078</td>\n      <td>20.0394096374512</td>\n      <td>107.515701293945</td>\n      <td>...</td>\n      <td>1.79769313486232e+308</td>\n      <td>1.79769313486232e+308</td>\n      <td>1.79769313486232e+308</td>\n      <td>1.79769313486232e+308</td>\n      <td>1.79769313486232e+308</td>\n      <td>1.79769313486232e+308</td>\n      <td>1.79769313486232e+308</td>\n      <td>1.79769313486232e+308</td>\n      <td>1.79769313486232e+308</td>\n      <td>1.79769313486232e+308</td>\n    </tr>\n    <tr>\n      <th>1</th>\n      <td>Gambia, The</td>\n      <td>1988</td>\n      <td>31.22936246</td>\n      <td>841250.0</td>\n      <td>140.7799988</td>\n      <td>65</td>\n      <td>15.25</td>\n      <td>113.245697021484</td>\n      <td>31.0677890777588</td>\n      <td>144.313400268555</td>\n      <td>...</td>\n      <td>1.79769313486232e+308</td>\n      <td>1.79769313486232e+308</td>\n      <td>1.79769313486232e+308</td>\n      <td>1.79769313486232e+308</td>\n      <td>1.79769313486232e+308</td>\n      <td>1.79769313486232e+308</td>\n      <td>1.79769313486232e+308</td>\n      <td>1.79769313486232e+308</td>\n      <td>1.79769313486232e+308</td>\n      <td>1.79769313486232e+308</td>\n    </tr>\n    <tr>\n      <th>2</th>\n      <td>Lesotho</td>\n      <td>1986</td>\n      <td>21.14252061</td>\n      <td>1603960.0</td>\n      <td>92</td>\n      <td>109</td>\n      <td>23.4</td>\n      <td>66.7168197631836</td>\n      <td>10.6219997406006</td>\n      <td>77.3388137817383</td>\n      <td>...</td>\n      <td>1.79769313486232e+308</td>\n      <td>1.79769313486232e+308</td>\n      <td>1.79769313486232e+308</td>\n      <td>1.79769313486232e+308</td>\n      <td>1.79769313486232e+308</td>\n      <td>1.79769313486232e+308</td>\n      <td>1.79769313486232e+308</td>\n      <td>1.79769313486232e+308</td>\n      <td>1.79769313486232e+308</td>\n      <td>1.79769313486232e+308</td>\n    </tr>\n    <tr>\n      <th>3</th>\n      <td>Malawi</td>\n      <td>1976</td>\n      <td>39.20110669</td>\n      <td>5409980.0</td>\n      <td>179.8</td>\n      <td>56</td>\n      <td>4</td>\n      <td>14.338809967041</td>\n      <td>15.4878797531128</td>\n      <td>29.8267002105713</td>\n      <td>...</td>\n      <td>-3.28504991531372</td>\n      <td>-12.8143997192383</td>\n      <td>-0.0718400031328201</td>\n      <td>-0.538079977035522</td>\n      <td>0.749620020389557</td>\n      <td>-0.12015999853611</td>\n      <td>-2.48820996284485</td>\n      <td>-0.187729999423027</td>\n      <td>0</td>\n      <td>-4.06232023239136</td>\n    </tr>\n    <tr>\n      <th>4</th>\n      <td>Botswana</td>\n      <td>1994</td>\n      <td>5.199306759</td>\n      <td>1420270.0</td>\n      <td>55.39999898</td>\n      <td>117</td>\n      <td>53</td>\n      <td>58.7042083740234</td>\n      <td>16.0785007476807</td>\n      <td>74.7827072143555</td>\n      <td>...</td>\n      <td>-187.5</td>\n      <td>-19.1625995635986</td>\n      <td>4.24620914459228</td>\n      <td>-3.0890998840332</td>\n      <td>4.7163348197937</td>\n      <td>-2.58439993858337</td>\n      <td>-1.81132996082306</td>\n      <td>1.99651896953583</td>\n      <td>-0.113150000572205</td>\n      <td>-6.56795978546143</td>\n    </tr>\n    <tr>\n      <th>...</th>\n      <td>...</td>\n      <td>...</td>\n      <td>...</td>\n      <td>...</td>\n      <td>...</td>\n      <td>...</td>\n      <td>...</td>\n      <td>...</td>\n      <td>...</td>\n      <td>...</td>\n      <td>...</td>\n      <td>...</td>\n      <td>...</td>\n      <td>...</td>\n      <td>...</td>\n      <td>...</td>\n      <td>...</td>\n      <td>...</td>\n      <td>...</td>\n      <td>...</td>\n      <td>...</td>\n    </tr>\n    <tr>\n      <th>70</th>\n      <td>Burkina Faso</td>\n      <td>1988</td>\n      <td>48.94457166</td>\n      <td>8534390.0</td>\n      <td>107.8</td>\n      <td>33.5</td>\n      <td>6.5</td>\n      <td>35.4728813171387</td>\n      <td>10.2006902694702</td>\n      <td>45.6735687255859</td>\n      <td>...</td>\n      <td>1.79769313486232e+308</td>\n      <td>1.79769313486232e+308</td>\n      <td>1.79769313486232e+308</td>\n      <td>1.79769313486232e+308</td>\n      <td>1.79769313486232e+308</td>\n      <td>1.79769313486232e+308</td>\n      <td>1.79769313486232e+308</td>\n      <td>1.79769313486232e+308</td>\n      <td>1.79769313486232e+308</td>\n      <td>1.79769313486232e+308</td>\n    </tr>\n    <tr>\n      <th>71</th>\n      <td>Botswana</td>\n      <td>1988</td>\n      <td>7.060807251</td>\n      <td>1195140.0</td>\n      <td>56.6</td>\n      <td>111.75</td>\n      <td>35.75</td>\n      <td>135.776702880859</td>\n      <td>30.8545207977295</td>\n      <td>166.631195068359</td>\n      <td>...</td>\n      <td>160.910507202148</td>\n      <td>29.0043907165527</td>\n      <td>-4.24322986602783</td>\n      <td>-0.316520005464554</td>\n      <td>13.1129302978516</td>\n      <td>3.4499249458313</td>\n      <td>-1.61373996734619</td>\n      <td>-10.0523996353149</td>\n      <td>-0.0101199997588992</td>\n      <td>-1.93843996524811</td>\n    </tr>\n    <tr>\n      <th>72</th>\n      <td>Kenya</td>\n      <td>1970</td>\n      <td>33.29286623</td>\n      <td>11498000.0</td>\n      <td>102</td>\n      <td>58</td>\n      <td>9</td>\n      <td>9.42126178741455</td>\n      <td>9.48890781402588</td>\n      <td>18.9101696014404</td>\n      <td>...</td>\n      <td>1.79769313486232e+308</td>\n      <td>1.79769313486232e+308</td>\n      <td>1.79769313486232e+308</td>\n      <td>1.79769313486232e+308</td>\n      <td>1.79769313486232e+308</td>\n      <td>1.79769313486232e+308</td>\n      <td>1.79769313486232e+308</td>\n      <td>1.79769313486232e+308</td>\n      <td>1.79769313486232e+308</td>\n      <td>1.79769313486232e+308</td>\n    </tr>\n    <tr>\n      <th>73</th>\n      <td>Lesotho</td>\n      <td>1990</td>\n      <td>19.96355858</td>\n      <td>1783000.0</td>\n      <td>84.6</td>\n      <td>105</td>\n      <td>25</td>\n      <td>67.9856872558594</td>\n      <td>26.8740100860596</td>\n      <td>94.8597030639648</td>\n      <td>...</td>\n      <td>-0.996479988098144</td>\n      <td>3.28616809844971</td>\n      <td>-0.362129986286163</td>\n      <td>1.02300500869751</td>\n      <td>0.187684997916222</td>\n      <td>0.868880987167358</td>\n      <td>-3.24150991439819</td>\n      <td>0.836112022399902</td>\n      <td>0.431519985198975</td>\n      <td>-0.85632997751236</td>\n    </tr>\n    <tr>\n      <th>74</th>\n      <td>Kenya</td>\n      <td>1991</td>\n      <td>28.14106137</td>\n      <td>24015140.0</td>\n      <td>61.4</td>\n      <td>93</td>\n      <td>28</td>\n      <td>29.552059173584</td>\n      <td>21.131010055542</td>\n      <td>50.6830711364746</td>\n      <td>...</td>\n      <td>-4.14308023452759</td>\n      <td>-4.25638008117676</td>\n      <td>-18.8342990875244</td>\n      <td>1.62289297580719</td>\n      <td>-0.415060013532639</td>\n      <td>-0.0189299993216991</td>\n      <td>-0.304329991340637</td>\n      <td>1.22138798236847</td>\n      <td>-0.213339999318123</td>\n      <td>-4.21381998062134</td>\n    </tr>\n  </tbody>\n</table>\n<p>75 rows × 50 columns</p>\n</div>"
     },
     "metadata": {},
     "execution_count": 77
    }
   ],
   "source": [
    "# All rows from left df will be returned, only common rows from right will be returned\n",
    "df9 = pd.merge(df1, df2, how='left')\n",
    "df9"
   ]
  },
  {
   "source": [],
   "cell_type": "markdown",
   "metadata": {}
  },
  {
   "source": [
    "![](https://raw.githubusercontent.com/VinitaSilaparasetty/Coursera-Intermediate-Pandas/master/media/right-inclusive-join.png)"
   ],
   "cell_type": "markdown",
   "metadata": {}
  },
  {
   "cell_type": "code",
   "execution_count": 61,
   "metadata": {},
   "outputs": [
    {
     "output_type": "execute_result",
     "data": {
      "text/plain": [
       "                60.8                   15.6  20.0104808807373   \n",
       "11                     77                     37  39.5492897033691   \n",
       "12                   22.4                    5.6  7.50680685043335   \n",
       "13                     18                      3  56.8610992431641   \n",
       "14                     48                     22  58.6903495788574   \n",
       "15  1.79769313486232e+308  1.79769313486232e+308   16.711820602417   \n",
       "16                   57.2                   11.4  27.8442993164062   \n",
       "17                   15.4                    1.8  38.6305809020996   \n",
       "18                   93.8                   10.6  18.3287105560303   \n",
       "19                  103.2                   47.6  33.3487701416016   \n",
       "20                     79                     15  31.4275207519531   \n",
       "21                   59.6                   14.2  23.8042697906494   \n",
       "22                    104                     17  83.5996475219726   \n",
       "23  1.79769313486232e+308  1.79769313486232e+308  48.4444389343262   \n",
       "24                     42                     12   69.366943359375   \n",
       "25                   20.8                    5.2  4.12413215637207   \n",
       "26                  101.8                   35.4  36.8324813842773   \n",
       "27                    114                     42  125.423896789551   \n",
       "28                     29                      5  27.2893295288086   \n",
       "29                   65.4                    9.8  10.6624298095703   \n",
       "30  1.79769313486232e+308  1.79769313486232e+308  45.2506408691406   \n",
       "31                   98.2            22.16666667   22.578649520874   \n",
       "32                     33                     11  53.4062881469727   \n",
       "33                 102.75                  25.25  20.7212104797363   \n",
       "34                     48                     22  39.3754997253418   \n",
       "35                     38                      8  39.2027893066406   \n",
       "36                     35                      7  28.7813892364502   \n",
       "37                     48                     22  58.0791893005371   \n",
       "38                     17                      2  41.1725006103516   \n",
       "39                     74                     39   22.296459197998   \n",
       "40                    105                     24  59.3357810974121   \n",
       "41                   96.4                   49.2  57.4679794311524   \n",
       "42                     62                     17  24.1224708557129   \n",
       "43                     37                     11  67.2458572387695   \n",
       "44                   76.8                   40.2  15.3000497817993   \n",
       "45                   34.8                   11.2  9.63077259063721   \n",
       "46                  102.2                     27  120.155899047852   \n",
       "47                    109                     53  48.7851715087891   \n",
       "48                     95            22.16666667  58.4292602539062   \n",
       "49                    109                     46  33.2450904846191   \n",
       "50                     80                     40  20.2940006256104   \n",
       "51                     94                     12  16.4736003875732   \n",
       "52                     87                     17  42.6463584899902   \n",
       "53                  34.25                   13.5  20.3594608306885   \n",
       "54                     37                      8  38.1004219055176   \n",
       "55            60.66666667            18.33333333  20.3501396179199   \n",
       "\n",
       "            grlndsbp           aiddsbp  ...               dcurexpp  \\\n",
       "0   17.7571392059326  44.5907592773438  ...      -1.90575003623962   \n",
       "1   7.85923004150391  15.4030504226685  ...      -13.4622001647949   \n",
       "2   16.2881603240967  54.9116592407227  ...  1.79769313486232e+308   \n",
       "3   25.6996097564697  43.5664291381836  ...  1.79769313486232e+308   \n",
       "4   3.97879600524902  18.9900798797607  ...      0.919135987758636   \n",
       "5    17.261739730835  84.6195831298828  ...       8.38925743103027   \n",
       "6   10.9030799865723  31.6481304168701  ...      -2.49663996696472   \n",
       "7   4.37149715423584  18.2362003326416  ...      -1.71854996681213   \n",
       "8   23.7189407348633  54.5535507202148  ...      -60.2523002624512   \n",
       "9   14.0071697235107  123.830200195312  ...  1.79769313486232e+308   \n",
       "10  12.8318300247192  32.8423118591309  ...  1.79769313486232e+308   \n",
       "11  28.9686393737793  68.5179290771484  ...      0.109958998858929   \n",
       "12  3.32927989959717  10.8360900878906  ...  1.79769313486232e+308   \n",
       "13  12.2534103393555  69.1145095825195  ...       8.31790637969971   \n",
       "14  33.4160995483398  92.1064529418945  ...      -28.3581008911133   \n",
       "15  26.5002498626709  43.2120704650879  ...  1.79769313486232e+308   \n",
       "16  7.06708002090454  34.9113807678223  ...  1.79769313486232e+308   \n",
       "17  6.66203498840332  45.2926216125488  ...  1.79769313486232e+308   \n",
       "18  11.2815504074097  29.6102600097656  ...  1.79769313486232e+308   \n",
       "19  30.4584503173828  63.8072204589844  ...      -9.00955963134766   \n",
       "20  19.6668796539307  51.0943984985352  ...      -3.62342000007629   \n",
       "21  2.47919201850891  26.2834606170654  ...  1.79769313486232e+308   \n",
       "22  14.0947799682617  97.6944198608398  ...  1.79769313486232e+308   \n",
       "23  13.5303001403809  61.9747505187988  ...  1.79769313486232e+308   \n",
       "24  47.2372207641602  116.604202270508  ...       1.45608305931091   \n",
       "25  2.60918498039246  6.73331594467163  ...  1.79769313486232e+308   \n",
       "26  15.5214996337891  52.3539695739746  ...  1.79769313486232e+308   \n",
       "27  14.6862802505493  140.110198974609  ...       147.043899536133   \n",
       "28  7.28504705429077  34.5743713378906  ...       -3.7832601070404   \n",
       "29  9.91978454589844  20.5822105407715  ...  1.79769313486232e+308   \n",
       "30                 0  45.2506408691406  ...  1.79769313486232e+308   \n",
       "31  8.99409103393555  31.5727405548096  ...       9.02511215209961   \n",
       "32  31.2830505371094   84.689338684082  ...       23.5382308959961   \n",
       "33  15.4213495254517  36.1425590515137  ...  1.79769313486232e+308   \n",
       "34   19.388219833374   58.763729095459  ...      -9.91783046722412   \n",
       "35  14.1584100723267   53.361198425293  ...  1.79769313486232e+308   \n",
       "36   11.189640045166  39.9710311889648  ...  1.79769313486232e+308   \n",
       "37  38.8035202026367  96.8827133178711  ...       7.22292900085449   \n",
       "38  12.0082502365112  53.1807403564453  ...       6.59807300567627   \n",
       "39  40.3191413879394   62.615608215332  ...     -0.323130011558533   \n",
       "40   19.971170425415  79.3069610595703  ...       21.3133106231689   \n",
       "41  43.1592216491699  100.627197265625  ...       -14.480899810791   \n",
       "42   15.052680015564  39.1751518249512  ...      -10.3713998794556   \n",
       "43  57.7444915771484  124.990303039551  ...       11.6485795974731   \n",
       "44   12.209939956665  27.5099906921387  ...       7.33061790466309   \n",
       "45  2.92819094657898  12.5589599609375  ...      -7.27619981765747   \n",
       "46  24.1652793884277  144.321197509766  ...       70.7853927612305   \n",
       "47  64.7201309204102  113.505302429199  ...       68.0971527099609   \n",
       "48  27.1409492492676  85.5702209472656  ...      -18.3206005096436   \n",
       "49  24.7659702301025   58.011058807373  ...       75.0522918701172   \n",
       "50  26.3794994354248  46.6735000610352  ...  1.79769313486232e+308   \n",
       "51  9.76997661590576   26.243579864502  ...  1.79769313486232e+308   \n",
       "52  13.9560403823853  56.6024017333984  ...       1.14905905723572   \n",
       "53  5.55403518676758  25.9134902954102  ...       4.41632223129272   \n",
       "54   15.298939704895  53.3993606567383  ...  1.79769313486232e+308   \n",
       "55  29.2217292785644  49.5718688964844  ...      -4.21390008926392   \n",
       "\n",
       "                 dcapexpp               dprirepp               dcnlnagp  \\\n",
       "0         4.4354100227356      -0.64258998632431      -0.43707999587059   \n",
       "1       -5.45116996765137     -0.186719998717308   -0.00694000022485852   \n",
       "2   1.79769313486232e+308  1.79769313486232e+308  1.79769313486232e+308   \n",
       "3   1.79769313486232e+308  1.79769313486232e+308  1.79769313486232e+308   \n",
       "4         2.5445671081543      0.135925993323326    -0.0909200012683868   \n",
       "5       -1.36620998382568     -0.754760026931763     -0.180490002036095   \n",
       "6       -3.95836997032166      0.110414996743202      0.153242006897926   \n",
       "7      -0.485489994287491     -0.029389999806881      0.451462000608444   \n",
       "8       -8.94552993774414       2.55853796005249    -0.0776799991726875   \n",
       "9   1.79769313486232e+308  1.79769313486232e+308  1.79769313486232e+308   \n",
       "10  1.79769313486232e+308      0.397731989622116      0.510950982570648   \n",
       "11     -0.320589989423752       22.0238494873047      0.776171982288361   \n",
       "12  1.79769313486232e+308  1.79769313486232e+308  1.79769313486232e+308   \n",
       "13        2.6434850692749       9.84729862213135     -0.657880008220673   \n",
       "14       -13.765700340271      0.466618001461029       11.7785196304321   \n",
       "15  1.79769313486232e+308  1.79769313486232e+308  1.79769313486232e+308   \n",
       "16  1.79769313486232e+308  1.79769313486232e+308  1.79769313486232e+308   \n",
       "17  1.79769313486232e+308  1.79769313486232e+308  1.79769313486232e+308   \n",
       "18  1.79769313486232e+308  1.79769313486232e+308  1.79769313486232e+308   \n",
       "19      -18.8929004669189        1.6323230266571       0.18308499455452   \n",
       "20       -7.8377799987793      -7.99283981323242      -3.62262010574341   \n",
       "21  1.79769313486232e+308  1.79769313486232e+308  1.79769313486232e+308   \n",
       "22  1.79769313486232e+308  1.79769313486232e+308  1.79769313486232e+308   \n",
       "23  1.79769313486232e+308  1.79769313486232e+308  1.79769313486232e+308   \n",
       "24      -28.4806995391846       1.79363894462585       1.67464005947113   \n",
       "25  1.79769313486232e+308  1.79769313486232e+308  1.79769313486232e+308   \n",
       "26  1.79769313486232e+308      0.349462985992432                      0   \n",
       "27       57.2380714416504     -0.408820003271103     -0.127890005707741   \n",
       "28      0.797322988510132     -0.451079994440079     -0.645250022411346   \n",
       "29  1.79769313486232e+308  1.79769313486232e+308  1.79769313486232e+308   \n",
       "30  1.79769313486232e+308  1.79769313486232e+308  1.79769313486232e+308   \n",
       "31      -3.53702998161316      0.500986993312836     -0.060989998281002   \n",
       "32       34.9868087768555     -0.151079997420311     -0.185420006513596   \n",
       "33  1.79769313486232e+308  1.79769313486232e+308  1.79769313486232e+308   \n",
       "34      -6.33763980865478      -3.19457006454468      -12.3737001419067   \n",
       "35  1.79769313486232e+308  1.79769313486232e+308  1.79769313486232e+308   \n",
       "36  1.79769313486232e+308  1.79769313486232e+308  1.79769313486232e+308   \n",
       "37       -2.6494300365448       2.66635704040527       16.7651290893555   \n",
       "38      -1.58264005184174       1.73256599903107       1.09643602371216   \n",
       "39      -2.77907991409302      -1.19852995872498     -0.863059997558594   \n",
       "40      -16.1940002441406     -0.279320001602173     -0.149350002408028   \n",
       "41       -5.9082498550415     -0.061719998717308    -0.0684499964118004   \n",
       "42       17.5614395141602      0.856984972953796    -0.0200200006365776   \n",
       "43       65.5360488891602     -0.560850024223328      0.811302006244659   \n",
       "44       2.66432690620422     -0.104589998722076     -0.378439992666244   \n",
       "45     -0.804390013217926      0.123593002557755     -0.606220006942749   \n",
       "46       16.4736995697022      0.994449019432068      -1.54944002628326   \n",
       "47       20.6014003753662      -0.88577002286911       1.21696698665619   \n",
       "48      0.600035011768341       24.6928691864014       1.63602304458618   \n",
       "49       22.8176898956299      -0.65573000907898       2.04953694343567   \n",
       "50  1.79769313486232e+308  1.79769313486232e+308  1.79769313486232e+308   \n",
       "51  1.79769313486232e+308  1.79769313486232e+308  1.79769313486232e+308   \n",
       "52      0.055357001721859       11.8646697998047       2.95013809204102   \n",
       "53     -0.611379981040955      0.021629000082612      0.444323003292084   \n",
       "54  1.79769313486232e+308  1.79769313486232e+308  1.79769313486232e+308   \n",
       "55      -13.3078002929688      -1.24118995666504        1.1413459777832   \n",
       "\n",
       "                 dcnlnenp               dcnlninp              dcnlntacp  \\\n",
       "0       -2.52485990524292     -0.424710005521774       -3.0382399559021   \n",
       "1       -3.54000997543335     0.0770640000700951    -0.0829199999570846   \n",
       "2   1.79769313486232e+308  1.79769313486232e+308  1.79769313486232e+308   \n",
       "3   1.79769313486232e+308  1.79769313486232e+308  1.79769313486232e+308   \n",
       "4      -0.922819972038269       0.01554000005126    0.00121000001672655   \n",
       "5        2.19999504089355     -0.662069976329804     -0.273030012845993   \n",
       "6        2.12988901138306     -0.622720003128052      -1.99763000011444   \n",
       "7        -1.4795800447464      -1.06228995323181      0.707652986049652   \n",
       "8       -6.83859014511108      0.616131007671356      -4.17440986633301   \n",
       "9   1.79769313486232e+308  1.79769313486232e+308  1.79769313486232e+308   \n",
       "10      0.276378005743027      0.448664993047714       4.81496095657349   \n",
       "11      0.491468012332916       1.05746495723724      -2.52997994422913   \n",
       "12  1.79769313486232e+308  1.79769313486232e+308  1.79769313486232e+308   \n",
       "13     -0.206729993224144      -1.54261004924774      0.545808017253876   \n",
       "14      -2.14861011505127       -5.7590799331665     -0.822440028190613   \n",
       "15  1.79769313486232e+308  1.79769313486232e+308  1.79769313486232e+308   \n",
       "16  1.79769313486232e+308  1.79769313486232e+308  1.79769313486232e+308   \n",
       "17  1.79769313486232e+308  1.79769313486232e+308  1.79769313486232e+308   \n",
       "18  1.79769313486232e+308  1.79769313486232e+308  1.79769313486232e+308   \n",
       "19      -1.68680000305176                      0     -0.067550003528595   \n",
       "20     -0.121169999241829       2.41000390052795      -0.46739000082016   \n",
       "21  1.79769313486232e+308  1.79769313486232e+308  1.79769313486232e+308   \n",
       "22  1.79769313486232e+308  1.79769313486232e+308  1.79769313486232e+308   \n",
       "23  1.79769313486232e+308  1.79769313486232e+308  1.79769313486232e+308   \n",
       "24                      0                      0      -11.4551000595093   \n",
       "25  1.79769313486232e+308  1.79769313486232e+308  1.79769313486232e+308   \n",
       "26                      0      -1.04186999797821                      0   \n",
       "27       2.52362895011902      -8.80912017822266       -8.8169002532959   \n",
       "28     -0.139090001583099      -1.88464999198914       3.56435203552246   \n",
       "29  1.79769313486232e+308  1.79769313486232e+308  1.79769313486232e+308   \n",
       "30  1.79769313486232e+308  1.79769313486232e+308  1.79769313486232e+308   \n",
       "31       1.25068497657776       1.39600598812103       1.19636702537537   \n",
       "32                      0                      0       18.2788696289062   \n",
       "33  1.79769313486232e+308  1.79769313486232e+308  1.79769313486232e+308   \n",
       "34      -1.93944001197815       -1.6367199420929     -0.195979997515678   \n",
       "35  1.79769313486232e+308  1.79769313486232e+308  1.79769313486232e+308   \n",
       "36  1.79769313486232e+308  1.79769313486232e+308  1.79769313486232e+308   \n",
       "37       -3.7468900680542     -0.259299993515015      -8.44779014587402   \n",
       "38      0.568677008152008     -0.884379982948303      0.211830005049706   \n",
       "39      -2.37539005279541     -0.272859990596771      -2.20474004745483   \n",
       "40      -2.39073991775513     -0.880400002002716      -1.98554003238678   \n",
       "41       9.13327217102051      -2.25398993492126       5.07418823242188   \n",
       "42       1.30049300193787      0.744728982448578       3.21796107292175   \n",
       "43                      0                      0       18.5756492614746   \n",
       "44     -0.473159998655319      0.112231999635696       1.02477705478668   \n",
       "45      0.870738983154297      -1.67703998088837     -0.588880002498627   \n",
       "46       9.50464725494385                      0      -10.1120004653931   \n",
       "47       15.4532804489136       1.85779905319214       25.3429203033447   \n",
       "48      0.529443025588989   -0.00626000016927719        1.0068199634552   \n",
       "49                      0     -0.340110003948212       1.86279499530792   \n",
       "50  1.79769313486232e+308  1.79769313486232e+308  1.79769313486232e+308   \n",
       "51  1.79769313486232e+308  1.79769313486232e+308  1.79769313486232e+308   \n",
       "52     -0.822669982910156     -0.921169996261597      -2.26319003105164   \n",
       "53      0.412930011749268      0.154944002628326      -1.32232999801636   \n",
       "54  1.79769313486232e+308  1.79769313486232e+308  1.79769313486232e+308   \n",
       "55      -2.94400000572205                      0       3.02864408493042   \n",
       "\n",
       "                dcnlnedup              dcnlnhthp              dcnlnothp  \n",
       "0     -0.0560100004076958                      0        7.8144268989563  \n",
       "1                       0                      0     -0.743390023708344  \n",
       "2   1.79769313486232e+308  1.79769313486232e+308  1.79769313486232e+308  \n",
       "3   1.79769313486232e+308  1.79769313486232e+308  1.79769313486232e+308  \n",
       "4      -0.114739999175072     0.0564300008118153      -3.32821989059448  \n",
       "5        -1.6026200056076      0.604721009731293      0.780026018619537  \n",
       "6        0.14376200735569      0.651859998703003       5.19104719161987  \n",
       "7      -0.030850000679493                      0       1.83635902404785  \n",
       "8                       0                      0       1.90372800827026  \n",
       "9   1.79769313486232e+308  1.79769313486232e+308  1.79769313486232e+308  \n",
       "10       0.49244299530983      -0.23735000193119     -0.220809996128082  \n",
       "11      0.101365998387337      0.214107006788254     -0.506910026073456  \n",
       "12  1.79769313486232e+308  1.79769313486232e+308  1.79769313486232e+308  \n",
       "13     -0.142000004649162                      0       1.82246601581574  \n",
       "14    0.00567199988290668      0.746308982372284       6.72593688964844  \n",
       "15  1.79769313486232e+308  1.79769313486232e+308  1.79769313486232e+308  \n",
       "16  1.79769313486232e+308  1.79769313486232e+308  1.79769313486232e+308  \n",
       "17  1.79769313486232e+308  1.79769313486232e+308  1.79769313486232e+308  \n",
       "18  1.79769313486232e+308  1.79769313486232e+308  1.79769313486232e+308  \n",
       "19                      0                      0      -3.52765011787415  \n",
       "20     -0.158120006322861     -0.022350000217557       -1.1559100151062  \n",
       "21  1.79769313486232e+308  1.79769313486232e+308  1.79769313486232e+308  \n",
       "22  1.79769313486232e+308  1.79769313486232e+308  1.79769313486232e+308  \n",
       "23  1.79769313486232e+308  1.79769313486232e+308  1.79769313486232e+308  \n",
       "24      0.830413997173309                      0       11.3260898590088  \n",
       "25  1.79769313486232e+308  1.79769313486232e+308  1.79769313486232e+308  \n",
       "26                      0                      0       5.01751089096069  \n",
       "27      -11.6063995361328    -0.0971599966287613       6.63489723205566  \n",
       "28  -0.000750000006519258    -0.0656199976801872     -0.141200006008148  \n",
       "29  1.79769313486232e+308  1.79769313486232e+308  1.79769313486232e+308  \n",
       "30  1.79769313486232e+308  1.79769313486232e+308  1.79769313486232e+308  \n",
       "31     -0.333539992570877    0.00317399995401502      0.745432019233704  \n",
       "32                      0                      0       7.34664916992188  \n",
       "33  1.79769313486232e+308  1.79769313486232e+308  1.79769313486232e+308  \n",
       "34    -0.0305000003427267      -1.40985000133514      -8.33493995666504  \n",
       "35  1.79769313486232e+308  1.79769313486232e+308  1.79769313486232e+308  \n",
       "36  1.79769313486232e+308  1.79769313486232e+308  1.79769313486232e+308  \n",
       "37       0.23641100525856                      0      -0.80647999048233  \n",
       "38    -0.0740099996328354       -1.1761200428009      -3.64057993888855  \n",
       "39     0.0472089983522892    -0.0149400001391768       1.60827100276947  \n",
       "40     -0.657039999961853       1.33074104785919       3.51178288459778  \n",
       "41                      0                      0       5.60927200317383  \n",
       "42      0.203738003969192    -0.0287100002169609       5.81319904327393  \n",
       "43      0.298013001680374                      0      -4.31092977523804  \n",
       "44  -1.70000002981396E-05                      0      0.398373991250992  \n",
       "45    -0.0406900011003017   -0.00022000000171829      -17.7947006225586  \n",
       "46       3.83911204338074     -0.943589985370636     -0.742309987545013  \n",
       "47                      0                      0      -6.37153005599976  \n",
       "48      0.560658991336822    -0.0587599985301495      -3.78778004646301  \n",
       "49       1.88603794574738                      0      -2.88766002655029  \n",
       "50  1.79769313486232e+308  1.79769313486232e+308  1.79769313486232e+308  \n",
       "51  1.79769313486232e+308  1.79769313486232e+308  1.79769313486232e+308  \n",
       "52      0.278450012207031    -0.0155899999663234      -2.74889993667603  \n",
       "53      0.150712996721268                      0      -6.21179008483887  \n",
       "54  1.79769313486232e+308  1.79769313486232e+308  1.79769313486232e+308  \n",
       "55       1.95925498008728                      0       2.47339510917664  \n",
       "\n",
       "[56 rows x 50 columns]"
      ],
      "text/html": "<div>\n<style scoped>\n    .dataframe tbody tr th:only-of-type {\n        vertical-align: middle;\n    }\n\n    .dataframe tbody tr th {\n        vertical-align: top;\n    }\n\n    .dataframe thead th {\n        text-align: right;\n    }\n</style>\n<table border=\"1\" class=\"dataframe\">\n  <thead>\n    <tr style=\"text-align: right;\">\n      <th></th>\n      <th>countryc</th>\n      <th>year</th>\n      <th>agrgdp</th>\n      <th>popn</th>\n      <th>infmort</th>\n      <th>schprim</th>\n      <th>schsec</th>\n      <th>grtdsbp</th>\n      <th>grlndsbp</th>\n      <th>aiddsbp</th>\n      <th>...</th>\n      <th>dcurexpp</th>\n      <th>dcapexpp</th>\n      <th>dprirepp</th>\n      <th>dcnlnagp</th>\n      <th>dcnlnenp</th>\n      <th>dcnlninp</th>\n      <th>dcnlntacp</th>\n      <th>dcnlnedup</th>\n      <th>dcnlnhthp</th>\n      <th>dcnlnothp</th>\n    </tr>\n  </thead>\n  <tbody>\n    <tr>\n      <th>0</th>\n      <td>Kenya</td>\n      <td>1980</td>\n      <td>32.59223808</td>\n      <td>16560000.0</td>\n      <td>72.40000153</td>\n      <td>115</td>\n      <td>20</td>\n      <td>26.8336296081543</td>\n      <td>17.7571392059326</td>\n      <td>44.5907592773438</td>\n      <td>...</td>\n      <td>-1.90575003623962</td>\n      <td>4.4354100227356</td>\n      <td>-0.64258998632431</td>\n      <td>-0.43707999587059</td>\n      <td>-2.52485990524292</td>\n      <td>-0.424710005521774</td>\n      <td>-3.0382399559021</td>\n      <td>-0.0560100004076958</td>\n      <td>0</td>\n      <td>7.8144268989563</td>\n    </tr>\n    <tr>\n      <th>1</th>\n      <td>Ghana</td>\n      <td>1973</td>\n      <td>48.97463727</td>\n      <td>9388140.0</td>\n      <td>106</td>\n      <td>68.2</td>\n      <td>27.8</td>\n      <td>7.54381990432739</td>\n      <td>7.85923004150391</td>\n      <td>15.4030504226685</td>\n      <td>...</td>\n      <td>-13.4622001647949</td>\n      <td>-5.45116996765137</td>\n      <td>-0.186719998717308</td>\n      <td>-0.00694000022485852</td>\n      <td>-3.54000997543335</td>\n      <td>0.0770640000700951</td>\n      <td>-0.0829199999570846</td>\n      <td>0</td>\n      <td>0</td>\n      <td>-0.743390023708344</td>\n    </tr>\n    <tr>\n      <th>2</th>\n      <td>Liberia</td>\n      <td>1990</td>\n      <td>1.79769313486232e+308</td>\n      <td>2435000.0</td>\n      <td>176.8</td>\n      <td>1.79769313486232e+308</td>\n      <td>1.79769313486232e+308</td>\n      <td>38.6235008239746</td>\n      <td>16.2881603240967</td>\n      <td>54.9116592407227</td>\n      <td>...</td>\n      <td>1.79769313486232e+308</td>\n      <td>1.79769313486232e+308</td>\n      <td>1.79769313486232e+308</td>\n      <td>1.79769313486232e+308</td>\n      <td>1.79769313486232e+308</td>\n      <td>1.79769313486232e+308</td>\n      <td>1.79769313486232e+308</td>\n      <td>1.79769313486232e+308</td>\n      <td>1.79769313486232e+308</td>\n      <td>1.79769313486232e+308</td>\n    </tr>\n    <tr>\n      <th>3</th>\n      <td>Madagascar</td>\n      <td>1981</td>\n      <td>33.07584521</td>\n      <td>8951460.0</td>\n      <td>134</td>\n      <td>1.79769313486232e+308</td>\n      <td>1.79769313486232e+308</td>\n      <td>17.8668098449707</td>\n      <td>25.6996097564697</td>\n      <td>43.5664291381836</td>\n      <td>...</td>\n      <td>1.79769313486232e+308</td>\n      <td>1.79769313486232e+308</td>\n      <td>1.79769313486232e+308</td>\n      <td>1.79769313486232e+308</td>\n      <td>1.79769313486232e+308</td>\n      <td>1.79769313486232e+308</td>\n      <td>1.79769313486232e+308</td>\n      <td>1.79769313486232e+308</td>\n      <td>1.79769313486232e+308</td>\n      <td>1.79769313486232e+308</td>\n    </tr>\n    <tr>\n      <th>4</th>\n      <td>Ethiopia</td>\n      <td>1989</td>\n      <td>48.50468489</td>\n      <td>49337260.0</td>\n      <td>126.8</td>\n      <td>34</td>\n      <td>14</td>\n      <td>15.0112895965576</td>\n      <td>3.97879600524902</td>\n      <td>18.9900798797607</td>\n      <td>...</td>\n      <td>0.919135987758636</td>\n      <td>2.5445671081543</td>\n      <td>0.135925993323326</td>\n      <td>-0.0909200012683868</td>\n      <td>-0.922819972038269</td>\n      <td>0.01554000005126</td>\n      <td>0.00121000001672655</td>\n      <td>-0.114739999175072</td>\n      <td>0.0564300008118153</td>\n      <td>-3.32821989059448</td>\n    </tr>\n    <tr>\n      <th>5</th>\n      <td>Lesotho</td>\n      <td>1988</td>\n      <td>24.40058125</td>\n      <td>1689570.0</td>\n      <td>88.2</td>\n      <td>107</td>\n      <td>24.2</td>\n      <td>67.3578262329102</td>\n      <td>17.261739730835</td>\n      <td>84.6195831298828</td>\n      <td>...</td>\n      <td>8.38925743103027</td>\n      <td>-1.36620998382568</td>\n      <td>-0.754760026931763</td>\n      <td>-0.180490002036095</td>\n      <td>2.19999504089355</td>\n      <td>-0.662069976329804</td>\n      <td>-0.273030012845993</td>\n      <td>-1.6026200056076</td>\n      <td>0.604721009731293</td>\n      <td>0.780026018619537</td>\n    </tr>\n    <tr>\n      <th>6</th>\n      <td>Kenya</td>\n      <td>1984</td>\n      <td>33.91489131</td>\n      <td>19302140.0</td>\n      <td>64.8</td>\n      <td>102.2</td>\n      <td>20.8</td>\n      <td>20.7450504302978</td>\n      <td>10.9030799865723</td>\n      <td>31.6481304168701</td>\n      <td>...</td>\n      <td>-2.49663996696472</td>\n      <td>-3.95836997032166</td>\n      <td>0.110414996743202</td>\n      <td>0.153242006897926</td>\n      <td>2.12988901138306</td>\n      <td>-0.622720003128052</td>\n      <td>-1.99763000011444</td>\n      <td>0.14376200735569</td>\n      <td>0.651859998703003</td>\n      <td>5.19104719161987</td>\n    </tr>\n    <tr>\n      <th>7</th>\n      <td>Ethiopia</td>\n      <td>1987</td>\n      <td>49.64547916</td>\n      <td>46087060.0</td>\n      <td>132</td>\n      <td>34.5</td>\n      <td>13</td>\n      <td>13.8647003173828</td>\n      <td>4.37149715423584</td>\n      <td>18.2362003326416</td>\n      <td>...</td>\n      <td>-1.71854996681213</td>\n      <td>-0.485489994287491</td>\n      <td>-0.029389999806881</td>\n      <td>0.451462000608444</td>\n      <td>-1.4795800447464</td>\n      <td>-1.06228995323181</td>\n      <td>0.707652986049652</td>\n      <td>-0.030850000679493</td>\n      <td>0</td>\n      <td>1.83635902404785</td>\n    </tr>\n    <tr>\n      <th>8</th>\n      <td>Mauritius</td>\n      <td>1984</td>\n      <td>14.406639</td>\n      <td>1011330.0</td>\n      <td>26.4</td>\n      <td>106.6</td>\n      <td>46.8</td>\n      <td>30.8346195220947</td>\n      <td>23.7189407348633</td>\n      <td>54.5535507202148</td>\n      <td>...</td>\n      <td>-60.2523002624512</td>\n      <td>-8.94552993774414</td>\n      <td>2.55853796005249</td>\n      <td>-0.0776799991726875</td>\n      <td>-6.83859014511108</td>\n      <td>0.616131007671356</td>\n      <td>-4.17440986633301</td>\n      <td>0</td>\n      <td>0</td>\n      <td>1.90372800827026</td>\n    </tr>\n    <tr>\n      <th>9</th>\n      <td>Lesotho</td>\n      <td>1980</td>\n      <td>23.58414239</td>\n      <td>1367000.0</td>\n      <td>108.4000015</td>\n      <td>102</td>\n      <td>18</td>\n      <td>109.822998046875</td>\n      <td>14.0071697235107</td>\n      <td>123.830200195312</td>\n      <td>...</td>\n      <td>1.79769313486232e+308</td>\n      <td>1.79769313486232e+308</td>\n      <td>1.79769313486232e+308</td>\n      <td>1.79769313486232e+308</td>\n      <td>1.79769313486232e+308</td>\n      <td>1.79769313486232e+308</td>\n      <td>1.79769313486232e+308</td>\n      <td>1.79769313486232e+308</td>\n      <td>1.79769313486232e+308</td>\n      <td>1.79769313486232e+308</td>\n    </tr>\n    <tr>\n      <th>10</th>\n      <td>Liberia</td>\n      <td>1974</td>\n      <td>32.28125548</td>\n      <td>1560820.0</td>\n      <td>175.4</td>\n      <td>60.8</td>\n      <td>15.6</td>\n      <td>20.0104808807373</td>\n      <td>12.8318300247192</td>\n      <td>32.8423118591309</td>\n      <td>...</td>\n      <td>1.79769313486232e+308</td>\n      <td>1.79769313486232e+308</td>\n      <td>0.397731989622116</td>\n      <td>0.510950982570648</td>\n      <td>0.276378005743027</td>\n      <td>0.448664993047714</td>\n      <td>4.81496095657349</td>\n      <td>0.49244299530983</td>\n      <td>-0.23735000193119</td>\n      <td>-0.220809996128082</td>\n    </tr>\n    <tr>\n      <th>11</th>\n      <td>Ghana</td>\n      <td>1990</td>\n      <td>47.85769483</td>\n      <td>14870000.0</td>\n      <td>82.74000092</td>\n      <td>77</td>\n      <td>37</td>\n      <td>39.5492897033691</td>\n      <td>28.9686393737793</td>\n      <td>68.5179290771484</td>\n      <td>...</td>\n      <td>0.109958998858929</td>\n      <td>-0.320589989423752</td>\n      <td>22.0238494873047</td>\n      <td>0.776171982288361</td>\n      <td>0.491468012332916</td>\n      <td>1.05746495723724</td>\n      <td>-2.52997994422913</td>\n      <td>0.101365998387337</td>\n      <td>0.214107006788254</td>\n      <td>-0.506910026073456</td>\n    </tr>\n    <tr>\n      <th>12</th>\n      <td>Ethiopia</td>\n      <td>1974</td>\n      <td>56.27994714</td>\n      <td>32098120.0</td>\n      <td>152.6</td>\n      <td>22.4</td>\n      <td>5.6</td>\n      <td>7.50680685043335</td>\n      <td>3.32927989959717</td>\n      <td>10.8360900878906</td>\n      <td>...</td>\n      <td>1.79769313486232e+308</td>\n      <td>1.79769313486232e+308</td>\n      <td>1.79769313486232e+308</td>\n      <td>1.79769313486232e+308</td>\n      <td>1.79769313486232e+308</td>\n      <td>1.79769313486232e+308</td>\n      <td>1.79769313486232e+308</td>\n      <td>1.79769313486232e+308</td>\n      <td>1.79769313486232e+308</td>\n      <td>1.79769313486232e+308</td>\n    </tr>\n    <tr>\n      <th>13</th>\n      <td>Burkina Faso</td>\n      <td>1979</td>\n      <td>34.21393892</td>\n      <td>6797540.0</td>\n      <td>123</td>\n      <td>18</td>\n      <td>3</td>\n      <td>56.8610992431641</td>\n      <td>12.2534103393555</td>\n      <td>69.1145095825195</td>\n      <td>...</td>\n      <td>8.31790637969971</td>\n      <td>2.6434850692749</td>\n      <td>9.84729862213135</td>\n      <td>-0.657880008220673</td>\n      <td>-0.206729993224144</td>\n      <td>-1.54261004924774</td>\n      <td>0.545808017253876</td>\n      <td>-0.142000004649162</td>\n      <td>0</td>\n      <td>1.82246601581574</td>\n    </tr>\n    <tr>\n      <th>14</th>\n      <td>Liberia</td>\n      <td>1984</td>\n      <td>35.45335614</td>\n      <td>2140800.0</td>\n      <td>148.6</td>\n      <td>48</td>\n      <td>22</td>\n      <td>58.6903495788574</td>\n      <td>33.4160995483398</td>\n      <td>92.1064529418945</td>\n      <td>...</td>\n      <td>-28.3581008911133</td>\n      <td>-13.765700340271</td>\n      <td>0.466618001461029</td>\n      <td>11.7785196304321</td>\n      <td>-2.14861011505127</td>\n      <td>-5.7590799331665</td>\n      <td>-0.822440028190613</td>\n      <td>0.00567199988290668</td>\n      <td>0.746308982372284</td>\n      <td>6.72593688964844</td>\n    </tr>\n    <tr>\n      <th>15</th>\n      <td>Madagascar</td>\n      <td>1986</td>\n      <td>36.78584035</td>\n      <td>10287560.0</td>\n      <td>116.7200012</td>\n      <td>1.79769313486232e+308</td>\n      <td>1.79769313486232e+308</td>\n      <td>16.711820602417</td>\n      <td>26.5002498626709</td>\n      <td>43.2120704650879</td>\n      <td>...</td>\n      <td>1.79769313486232e+308</td>\n      <td>1.79769313486232e+308</td>\n      <td>1.79769313486232e+308</td>\n      <td>1.79769313486232e+308</td>\n      <td>1.79769313486232e+308</td>\n      <td>1.79769313486232e+308</td>\n      <td>1.79769313486232e+308</td>\n      <td>1.79769313486232e+308</td>\n      <td>1.79769313486232e+308</td>\n      <td>1.79769313486232e+308</td>\n    </tr>\n    <tr>\n      <th>16</th>\n      <td>Liberia</td>\n      <td>1971</td>\n      <td>24.425</td>\n      <td>1426840.0</td>\n      <td>179.4000015</td>\n      <td>57.2</td>\n      <td>11.4</td>\n      <td>27.8442993164062</td>\n      <td>7.06708002090454</td>\n      <td>34.9113807678223</td>\n      <td>...</td>\n      <td>1.79769313486232e+308</td>\n      <td>1.79769313486232e+308</td>\n      <td>1.79769313486232e+308</td>\n      <td>1.79769313486232e+308</td>\n      <td>1.79769313486232e+308</td>\n      <td>1.79769313486232e+308</td>\n      <td>1.79769313486232e+308</td>\n      <td>1.79769313486232e+308</td>\n      <td>1.79769313486232e+308</td>\n      <td>1.79769313486232e+308</td>\n    </tr>\n    <tr>\n      <th>17</th>\n      <td>Burkina Faso</td>\n      <td>1974</td>\n      <td>36.48014145</td>\n      <td>6075700.0</td>\n      <td>133</td>\n      <td>15.4</td>\n      <td>1.8</td>\n      <td>38.6305809020996</td>\n      <td>6.66203498840332</td>\n      <td>45.2926216125488</td>\n      <td>...</td>\n      <td>1.79769313486232e+308</td>\n      <td>1.79769313486232e+308</td>\n      <td>1.79769313486232e+308</td>\n      <td>1.79769313486232e+308</td>\n      <td>1.79769313486232e+308</td>\n      <td>1.79769313486232e+308</td>\n      <td>1.79769313486232e+308</td>\n      <td>1.79769313486232e+308</td>\n      <td>1.79769313486232e+308</td>\n      <td>1.79769313486232e+308</td>\n    </tr>\n    <tr>\n      <th>18</th>\n      <td>Cameroon</td>\n      <td>1973</td>\n      <td>30.79282681</td>\n      <td>7021850.0</td>\n      <td>115.6</td>\n      <td>93.8</td>\n      <td>10.6</td>\n      <td>18.3287105560303</td>\n      <td>11.2815504074097</td>\n      <td>29.6102600097656</td>\n      <td>...</td>\n      <td>1.79769313486232e+308</td>\n      <td>1.79769313486232e+308</td>\n      <td>1.79769313486232e+308</td>\n      <td>1.79769313486232e+308</td>\n      <td>1.79769313486232e+308</td>\n      <td>1.79769313486232e+308</td>\n      <td>1.79769313486232e+308</td>\n      <td>1.79769313486232e+308</td>\n      <td>1.79769313486232e+308</td>\n      <td>1.79769313486232e+308</td>\n    </tr>\n    <tr>\n      <th>19</th>\n      <td>Mauritius</td>\n      <td>1983</td>\n      <td>13.8038255</td>\n      <td>1003930.0</td>\n      <td>27.2</td>\n      <td>103.2</td>\n      <td>47.6</td>\n      <td>33.3487701416016</td>\n      <td>30.4584503173828</td>\n      <td>63.8072204589844</td>\n      <td>...</td>\n      <td>-9.00955963134766</td>\n      <td>-18.8929004669189</td>\n      <td>1.6323230266571</td>\n      <td>0.18308499455452</td>\n      <td>-1.68680000305176</td>\n      <td>0</td>\n      <td>-0.067550003528595</td>\n      <td>0</td>\n      <td>0</td>\n      <td>-3.52765011787415</td>\n    </tr>\n    <tr>\n      <th>20</th>\n      <td>Madagascar</td>\n      <td>1991</td>\n      <td>32.98051479</td>\n      <td>12054150.0</td>\n      <td>97.08000031</td>\n      <td>79</td>\n      <td>15</td>\n      <td>31.4275207519531</td>\n      <td>19.6668796539307</td>\n      <td>51.0943984985352</td>\n      <td>...</td>\n      <td>-3.62342000007629</td>\n      <td>-7.8377799987793</td>\n      <td>-7.99283981323242</td>\n      <td>-3.62262010574341</td>\n      <td>-0.121169999241829</td>\n      <td>2.41000390052795</td>\n      <td>-0.46739000082016</td>\n      <td>-0.158120006322861</td>\n      <td>-0.022350000217557</td>\n      <td>-1.1559100151062</td>\n    </tr>\n    <tr>\n      <th>21</th>\n      <td>Liberia</td>\n      <td>1973</td>\n      <td>29.92056487</td>\n      <td>1514530.0</td>\n      <td>178.2</td>\n      <td>59.6</td>\n      <td>14.2</td>\n      <td>23.8042697906494</td>\n      <td>2.47919201850891</td>\n      <td>26.2834606170654</td>\n      <td>...</td>\n      <td>1.79769313486232e+308</td>\n      <td>1.79769313486232e+308</td>\n      <td>1.79769313486232e+308</td>\n      <td>1.79769313486232e+308</td>\n      <td>1.79769313486232e+308</td>\n      <td>1.79769313486232e+308</td>\n      <td>1.79769313486232e+308</td>\n      <td>1.79769313486232e+308</td>\n      <td>1.79769313486232e+308</td>\n      <td>1.79769313486232e+308</td>\n    </tr>\n    <tr>\n      <th>22</th>\n      <td>Lesotho</td>\n      <td>1979</td>\n      <td>30.48723898</td>\n      <td>1328910.0</td>\n      <td>112.600001</td>\n      <td>104</td>\n      <td>17</td>\n      <td>83.5996475219726</td>\n      <td>14.0947799682617</td>\n      <td>97.6944198608398</td>\n      <td>...</td>\n      <td>1.79769313486232e+308</td>\n      <td>1.79769313486232e+308</td>\n      <td>1.79769313486232e+308</td>\n      <td>1.79769313486232e+308</td>\n      <td>1.79769313486232e+308</td>\n      <td>1.79769313486232e+308</td>\n      <td>1.79769313486232e+308</td>\n      <td>1.79769313486232e+308</td>\n      <td>1.79769313486232e+308</td>\n      <td>1.79769313486232e+308</td>\n    </tr>\n    <tr>\n      <th>23</th>\n      <td>Lesotho</td>\n      <td>1995</td>\n      <td>10.08687856</td>\n      <td>1980000.0</td>\n      <td>75.59999847</td>\n      <td>1.79769313486232e+308</td>\n      <td>1.79769313486232e+308</td>\n      <td>48.4444389343262</td>\n      <td>13.5303001403809</td>\n      <td>61.9747505187988</td>\n      <td>...</td>\n      <td>1.79769313486232e+308</td>\n      <td>1.79769313486232e+308</td>\n      <td>1.79769313486232e+308</td>\n      <td>1.79769313486232e+308</td>\n      <td>1.79769313486232e+308</td>\n      <td>1.79769313486232e+308</td>\n      <td>1.79769313486232e+308</td>\n      <td>1.79769313486232e+308</td>\n      <td>1.79769313486232e+308</td>\n      <td>1.79769313486232e+308</td>\n    </tr>\n    <tr>\n      <th>24</th>\n      <td>Gambia, The</td>\n      <td>1979</td>\n      <td>31.23783032</td>\n      <td>622460.0</td>\n      <td>161.799998</td>\n      <td>42</td>\n      <td>12</td>\n      <td>69.366943359375</td>\n      <td>47.2372207641602</td>\n      <td>116.604202270508</td>\n      <td>...</td>\n      <td>1.45608305931091</td>\n      <td>-28.4806995391846</td>\n      <td>1.79363894462585</td>\n      <td>1.67464005947113</td>\n      <td>0</td>\n      <td>0</td>\n      <td>-11.4551000595093</td>\n      <td>0.830413997173309</td>\n      <td>0</td>\n      <td>11.3260898590088</td>\n    </tr>\n    <tr>\n      <th>25</th>\n      <td>Ethiopia</td>\n      <td>1973</td>\n      <td>56.27994714</td>\n      <td>31273540.0</td>\n      <td>153.8</td>\n      <td>20.8</td>\n      <td>5.2</td>\n      <td>4.12413215637207</td>\n      <td>2.60918498039246</td>\n      <td>6.73331594467163</td>\n      <td>...</td>\n      <td>1.79769313486232e+308</td>\n      <td>1.79769313486232e+308</td>\n      <td>1.79769313486232e+308</td>\n      <td>1.79769313486232e+308</td>\n      <td>1.79769313486232e+308</td>\n      <td>1.79769313486232e+308</td>\n      <td>1.79769313486232e+308</td>\n      <td>1.79769313486232e+308</td>\n      <td>1.79769313486232e+308</td>\n      <td>1.79769313486232e+308</td>\n    </tr>\n    <tr>\n      <th>26</th>\n      <td>Mauritius</td>\n      <td>1973</td>\n      <td>19.9317554</td>\n      <td>859470.0</td>\n      <td>51.6</td>\n      <td>101.8</td>\n      <td>35.4</td>\n      <td>36.8324813842773</td>\n      <td>15.5214996337891</td>\n      <td>52.3539695739746</td>\n      <td>...</td>\n      <td>1.79769313486232e+308</td>\n      <td>1.79769313486232e+308</td>\n      <td>0.349462985992432</td>\n      <td>0</td>\n      <td>0</td>\n      <td>-1.04186999797821</td>\n      <td>0</td>\n      <td>0</td>\n      <td>0</td>\n      <td>5.01751089096069</td>\n    </tr>\n    <tr>\n      <th>27</th>\n      <td>Botswana</td>\n      <td>1990</td>\n      <td>5.456680968</td>\n      <td>NaN</td>\n      <td>55.8</td>\n      <td>114</td>\n      <td>42</td>\n      <td>125.423896789551</td>\n      <td>14.6862802505493</td>\n      <td>140.110198974609</td>\n      <td>...</td>\n      <td>147.043899536133</td>\n      <td>57.2380714416504</td>\n      <td>-0.408820003271103</td>\n      <td>-0.127890005707741</td>\n      <td>2.52362895011902</td>\n      <td>-8.80912017822266</td>\n      <td>-8.8169002532959</td>\n      <td>-11.6063995361328</td>\n      <td>-0.0971599966287613</td>\n      <td>6.63489723205566</td>\n    </tr>\n    <tr>\n      <th>28</th>\n      <td>Burkina Faso</td>\n      <td>1985</td>\n      <td>37.93019376</td>\n      <td>7881000.0</td>\n      <td>112.2</td>\n      <td>29</td>\n      <td>5</td>\n      <td>27.2893295288086</td>\n      <td>7.28504705429077</td>\n      <td>34.5743713378906</td>\n      <td>...</td>\n      <td>-3.7832601070404</td>\n      <td>0.797322988510132</td>\n      <td>-0.451079994440079</td>\n      <td>-0.645250022411346</td>\n      <td>-0.139090001583099</td>\n      <td>-1.88464999198914</td>\n      <td>3.56435203552246</td>\n      <td>-0.000750000006519258</td>\n      <td>-0.0656199976801872</td>\n      <td>-0.141200006008148</td>\n    </tr>\n    <tr>\n      <th>29</th>\n      <td>Kenya</td>\n      <td>1971</td>\n      <td>31.37739887</td>\n      <td>11903370.0</td>\n      <td>100</td>\n      <td>65.4</td>\n      <td>9.8</td>\n      <td>10.6624298095703</td>\n      <td>9.91978454589844</td>\n      <td>20.5822105407715</td>\n      <td>...</td>\n      <td>1.79769313486232e+308</td>\n      <td>1.79769313486232e+308</td>\n      <td>1.79769313486232e+308</td>\n      <td>1.79769313486232e+308</td>\n      <td>1.79769313486232e+308</td>\n      <td>1.79769313486232e+308</td>\n      <td>1.79769313486232e+308</td>\n      <td>1.79769313486232e+308</td>\n      <td>1.79769313486232e+308</td>\n      <td>1.79769313486232e+308</td>\n    </tr>\n    <tr>\n      <th>30</th>\n      <td>Liberia</td>\n      <td>1995</td>\n      <td>1.79769313486232e+308</td>\n      <td>2733000.0</td>\n      <td>171.8000031</td>\n      <td>1.79769313486232e+308</td>\n      <td>1.79769313486232e+308</td>\n      <td>45.2506408691406</td>\n      <td>0</td>\n      <td>45.2506408691406</td>\n      <td>...</td>\n      <td>1.79769313486232e+308</td>\n      <td>1.79769313486232e+308</td>\n      <td>1.79769313486232e+308</td>\n      <td>1.79769313486232e+308</td>\n      <td>1.79769313486232e+308</td>\n      <td>1.79769313486232e+308</td>\n      <td>1.79769313486232e+308</td>\n      <td>1.79769313486232e+308</td>\n      <td>1.79769313486232e+308</td>\n      <td>1.79769313486232e+308</td>\n    </tr>\n    <tr>\n      <th>31</th>\n      <td>Kenya</td>\n      <td>1986</td>\n      <td>33.04255174</td>\n      <td>20683850.0</td>\n      <td>63.6</td>\n      <td>98.2</td>\n      <td>22.16666667</td>\n      <td>22.578649520874</td>\n      <td>8.99409103393555</td>\n      <td>31.5727405548096</td>\n      <td>...</td>\n      <td>9.02511215209961</td>\n      <td>-3.53702998161316</td>\n      <td>0.500986993312836</td>\n      <td>-0.060989998281002</td>\n      <td>1.25068497657776</td>\n      <td>1.39600598812103</td>\n      <td>1.19636702537537</td>\n      <td>-0.333539992570877</td>\n      <td>0.00317399995401502</td>\n      <td>0.745432019233704</td>\n    </tr>\n    <tr>\n      <th>32</th>\n      <td>Gambia, The</td>\n      <td>1977</td>\n      <td>33.64667747</td>\n      <td>585370.0</td>\n      <td>167</td>\n      <td>33</td>\n      <td>11</td>\n      <td>53.4062881469727</td>\n      <td>31.2830505371094</td>\n      <td>84.689338684082</td>\n      <td>...</td>\n      <td>23.5382308959961</td>\n      <td>34.9868087768555</td>\n      <td>-0.151079997420311</td>\n      <td>-0.185420006513596</td>\n      <td>0</td>\n      <td>0</td>\n      <td>18.2788696289062</td>\n      <td>0</td>\n      <td>0</td>\n      <td>7.34664916992188</td>\n    </tr>\n    <tr>\n      <th>33</th>\n      <td>Cameroon</td>\n      <td>1988</td>\n      <td>23.9429277</td>\n      <td>10835870.0</td>\n      <td>71.4</td>\n      <td>102.75</td>\n      <td>25.25</td>\n      <td>20.7212104797363</td>\n      <td>15.4213495254517</td>\n      <td>36.1425590515137</td>\n      <td>...</td>\n      <td>1.79769313486232e+308</td>\n      <td>1.79769313486232e+308</td>\n      <td>1.79769313486232e+308</td>\n      <td>1.79769313486232e+308</td>\n      <td>1.79769313486232e+308</td>\n      <td>1.79769313486232e+308</td>\n      <td>1.79769313486232e+308</td>\n      <td>1.79769313486232e+308</td>\n      <td>1.79769313486232e+308</td>\n      <td>1.79769313486232e+308</td>\n    </tr>\n    <tr>\n      <th>34</th>\n      <td>Liberia</td>\n      <td>1985</td>\n      <td>36.52958877</td>\n      <td>2199000.0</td>\n      <td>146.4</td>\n      <td>48</td>\n      <td>22</td>\n      <td>39.3754997253418</td>\n      <td>19.388219833374</td>\n      <td>58.763729095459</td>\n      <td>...</td>\n      <td>-9.91783046722412</td>\n      <td>-6.33763980865478</td>\n      <td>-3.19457006454468</td>\n      <td>-12.3737001419067</td>\n      <td>-1.93944001197815</td>\n      <td>-1.6367199420929</td>\n      <td>-0.195979997515678</td>\n      <td>-0.0305000003427267</td>\n      <td>-1.40985000133514</td>\n      <td>-8.33493995666504</td>\n    </tr>\n    <tr>\n      <th>35</th>\n      <td>Burkina Faso</td>\n      <td>1993</td>\n      <td>34.90956072</td>\n      <td>9804460.0</td>\n      <td>101.8000005</td>\n      <td>38</td>\n      <td>8</td>\n      <td>39.2027893066406</td>\n      <td>14.1584100723267</td>\n      <td>53.361198425293</td>\n      <td>...</td>\n      <td>1.79769313486232e+308</td>\n      <td>1.79769313486232e+308</td>\n      <td>1.79769313486232e+308</td>\n      <td>1.79769313486232e+308</td>\n      <td>1.79769313486232e+308</td>\n      <td>1.79769313486232e+308</td>\n      <td>1.79769313486232e+308</td>\n      <td>1.79769313486232e+308</td>\n      <td>1.79769313486232e+308</td>\n      <td>1.79769313486232e+308</td>\n    </tr>\n    <tr>\n      <th>36</th>\n      <td>Burkina Faso</td>\n      <td>1989</td>\n      <td>31.72235372</td>\n      <td>8770560.0</td>\n      <td>106.6</td>\n      <td>35</td>\n      <td>7</td>\n      <td>28.7813892364502</td>\n      <td>11.189640045166</td>\n      <td>39.9710311889648</td>\n      <td>...</td>\n      <td>1.79769313486232e+308</td>\n      <td>1.79769313486232e+308</td>\n      <td>1.79769313486232e+308</td>\n      <td>1.79769313486232e+308</td>\n      <td>1.79769313486232e+308</td>\n      <td>1.79769313486232e+308</td>\n      <td>1.79769313486232e+308</td>\n      <td>1.79769313486232e+308</td>\n      <td>1.79769313486232e+308</td>\n      <td>1.79769313486232e+308</td>\n    </tr>\n    <tr>\n      <th>37</th>\n      <td>Liberia</td>\n      <td>1981</td>\n      <td>31.56142828</td>\n      <td>1941970.0</td>\n      <td>155.8000031</td>\n      <td>48</td>\n      <td>22</td>\n      <td>58.0791893005371</td>\n      <td>38.8035202026367</td>\n      <td>96.8827133178711</td>\n      <td>...</td>\n      <td>7.22292900085449</td>\n      <td>-2.6494300365448</td>\n      <td>2.66635704040527</td>\n      <td>16.7651290893555</td>\n      <td>-3.7468900680542</td>\n      <td>-0.259299993515015</td>\n      <td>-8.44779014587402</td>\n      <td>0.23641100525856</td>\n      <td>0</td>\n      <td>-0.80647999048233</td>\n    </tr>\n    <tr>\n      <th>38</th>\n      <td>Burkina Faso</td>\n      <td>1978</td>\n      <td>36.08594394</td>\n      <td>6639120.0</td>\n      <td>125</td>\n      <td>17</td>\n      <td>2</td>\n      <td>41.1725006103516</td>\n      <td>12.0082502365112</td>\n      <td>53.1807403564453</td>\n      <td>...</td>\n      <td>6.59807300567627</td>\n      <td>-1.58264005184174</td>\n      <td>1.73256599903107</td>\n      <td>1.09643602371216</td>\n      <td>0.568677008152008</td>\n      <td>-0.884379982948303</td>\n      <td>0.211830005049706</td>\n      <td>-0.0740099996328354</td>\n      <td>-1.1761200428009</td>\n      <td>-3.64057993888855</td>\n    </tr>\n    <tr>\n      <th>39</th>\n      <td>Ghana</td>\n      <td>1989</td>\n      <td>48.96733723</td>\n      <td>14425360.0</td>\n      <td>85.16000061</td>\n      <td>74</td>\n      <td>39</td>\n      <td>22.296459197998</td>\n      <td>40.3191413879394</td>\n      <td>62.615608215332</td>\n      <td>...</td>\n      <td>-0.323130011558533</td>\n      <td>-2.77907991409302</td>\n      <td>-1.19852995872498</td>\n      <td>-0.863059997558594</td>\n      <td>-2.37539005279541</td>\n      <td>-0.272859990596771</td>\n      <td>-2.20474004745483</td>\n      <td>0.0472089983522892</td>\n      <td>-0.0149400001391768</td>\n      <td>1.60827100276947</td>\n    </tr>\n    <tr>\n      <th>40</th>\n      <td>Lesotho</td>\n      <td>1991</td>\n      <td>12.096718</td>\n      <td>1820770.0</td>\n      <td>82.8</td>\n      <td>105</td>\n      <td>24</td>\n      <td>59.3357810974121</td>\n      <td>19.971170425415</td>\n      <td>79.3069610595703</td>\n      <td>...</td>\n      <td>21.3133106231689</td>\n      <td>-16.1940002441406</td>\n      <td>-0.279320001602173</td>\n      <td>-0.149350002408028</td>\n      <td>-2.39073991775513</td>\n      <td>-0.880400002002716</td>\n      <td>-1.98554003238678</td>\n      <td>-0.657039999961853</td>\n      <td>1.33074104785919</td>\n      <td>3.51178288459778</td>\n    </tr>\n    <tr>\n      <th>41</th>\n      <td>Mauritius</td>\n      <td>1981</td>\n      <td>14.34112949</td>\n      <td>981170.0</td>\n      <td>30</td>\n      <td>96.4</td>\n      <td>49.2</td>\n      <td>57.4679794311524</td>\n      <td>43.1592216491699</td>\n      <td>100.627197265625</td>\n      <td>...</td>\n      <td>-14.480899810791</td>\n      <td>-5.9082498550415</td>\n      <td>-0.061719998717308</td>\n      <td>-0.0684499964118004</td>\n      <td>9.13327217102051</td>\n      <td>-2.25398993492126</td>\n      <td>5.07418823242188</td>\n      <td>0</td>\n      <td>0</td>\n      <td>5.60927200317383</td>\n    </tr>\n    <tr>\n      <th>42</th>\n      <td>Liberia</td>\n      <td>1975</td>\n      <td>26.59668835</td>\n      <td>1609000.0</td>\n      <td>172.6</td>\n      <td>62</td>\n      <td>17</td>\n      <td>24.1224708557129</td>\n      <td>15.052680015564</td>\n      <td>39.1751518249512</td>\n      <td>...</td>\n      <td>-10.3713998794556</td>\n      <td>17.5614395141602</td>\n      <td>0.856984972953796</td>\n      <td>-0.0200200006365776</td>\n      <td>1.30049300193787</td>\n      <td>0.744728982448578</td>\n      <td>3.21796107292175</td>\n      <td>0.203738003969192</td>\n      <td>-0.0287100002169609</td>\n      <td>5.81319904327393</td>\n    </tr>\n    <tr>\n      <th>43</th>\n      <td>Gambia, The</td>\n      <td>1978</td>\n      <td>30.6446491</td>\n      <td>603960.0</td>\n      <td>164.399999</td>\n      <td>37</td>\n      <td>11</td>\n      <td>67.2458572387695</td>\n      <td>57.7444915771484</td>\n      <td>124.990303039551</td>\n      <td>...</td>\n      <td>11.6485795974731</td>\n      <td>65.5360488891602</td>\n      <td>-0.560850024223328</td>\n      <td>0.811302006244659</td>\n      <td>0</td>\n      <td>0</td>\n      <td>18.5756492614746</td>\n      <td>0.298013001680374</td>\n      <td>0</td>\n      <td>-4.31092977523804</td>\n    </tr>\n    <tr>\n      <th>44</th>\n      <td>Ghana</td>\n      <td>1984</td>\n      <td>49.24249984</td>\n      <td>12167740.0</td>\n      <td>94.8</td>\n      <td>76.8</td>\n      <td>40.2</td>\n      <td>15.3000497817993</td>\n      <td>12.209939956665</td>\n      <td>27.5099906921387</td>\n      <td>...</td>\n      <td>7.33061790466309</td>\n      <td>2.66432690620422</td>\n      <td>-0.104589998722076</td>\n      <td>-0.378439992666244</td>\n      <td>-0.473159998655319</td>\n      <td>0.112231999635696</td>\n      <td>1.02477705478668</td>\n      <td>-1.70000002981396E-05</td>\n      <td>0</td>\n      <td>0.398373991250992</td>\n    </tr>\n    <tr>\n      <th>45</th>\n      <td>Ethiopia</td>\n      <td>1984</td>\n      <td>48.82879875</td>\n      <td>42152320.0</td>\n      <td>148.2</td>\n      <td>34.8</td>\n      <td>11.2</td>\n      <td>9.63077259063721</td>\n      <td>2.92819094657898</td>\n      <td>12.5589599609375</td>\n      <td>...</td>\n      <td>-7.27619981765747</td>\n      <td>-0.804390013217926</td>\n      <td>0.123593002557755</td>\n      <td>-0.606220006942749</td>\n      <td>0.870738983154297</td>\n      <td>-1.67703998088837</td>\n      <td>-0.588880002498627</td>\n      <td>-0.0406900011003017</td>\n      <td>-0.00022000000171829</td>\n      <td>-17.7947006225586</td>\n    </tr>\n    <tr>\n      <th>46</th>\n      <td>Botswana</td>\n      <td>1984</td>\n      <td>7.441225106</td>\n      <td>1037290.0</td>\n      <td>61.2</td>\n      <td>102.2</td>\n      <td>27</td>\n      <td>120.155899047852</td>\n      <td>24.1652793884277</td>\n      <td>144.321197509766</td>\n      <td>...</td>\n      <td>70.7853927612305</td>\n      <td>16.4736995697022</td>\n      <td>0.994449019432068</td>\n      <td>-1.54944002628326</td>\n      <td>9.50464725494385</td>\n      <td>0</td>\n      <td>-10.1120004653931</td>\n      <td>3.83911204338074</td>\n      <td>-0.943589985370636</td>\n      <td>-0.742309987545013</td>\n    </tr>\n    <tr>\n      <th>47</th>\n      <td>Mauritius</td>\n      <td>1990</td>\n      <td>12.10414774</td>\n      <td>1057000.0</td>\n      <td>20.4</td>\n      <td>109</td>\n      <td>53</td>\n      <td>48.7851715087891</td>\n      <td>64.7201309204102</td>\n      <td>113.505302429199</td>\n      <td>...</td>\n      <td>68.0971527099609</td>\n      <td>20.6014003753662</td>\n      <td>-0.88577002286911</td>\n      <td>1.21696698665619</td>\n      <td>15.4532804489136</td>\n      <td>1.85779905319214</td>\n      <td>25.3429203033447</td>\n      <td>0</td>\n      <td>0</td>\n      <td>-6.37153005599976</td>\n    </tr>\n    <tr>\n      <th>48</th>\n      <td>Kenya</td>\n      <td>1990</td>\n      <td>29.51903784</td>\n      <td>23354000.0</td>\n      <td>61.8</td>\n      <td>95</td>\n      <td>22.16666667</td>\n      <td>58.4292602539062</td>\n      <td>27.1409492492676</td>\n      <td>85.5702209472656</td>\n      <td>...</td>\n      <td>-18.3206005096436</td>\n      <td>0.600035011768341</td>\n      <td>24.6928691864014</td>\n      <td>1.63602304458618</td>\n      <td>0.529443025588989</td>\n      <td>-0.00626000016927719</td>\n      <td>1.0068199634552</td>\n      <td>0.560658991336822</td>\n      <td>-0.0587599985301495</td>\n      <td>-3.78778004646301</td>\n    </tr>\n    <tr>\n      <th>49</th>\n      <td>Mauritius</td>\n      <td>1977</td>\n      <td>19.66080402</td>\n      <td>913710.0</td>\n      <td>38</td>\n      <td>109</td>\n      <td>46</td>\n      <td>33.2450904846191</td>\n      <td>24.7659702301025</td>\n      <td>58.011058807373</td>\n      <td>...</td>\n      <td>75.0522918701172</td>\n      <td>22.8176898956299</td>\n      <td>-0.65573000907898</td>\n      <td>2.04953694343567</td>\n      <td>0</td>\n      <td>-0.340110003948212</td>\n      <td>1.86279499530792</td>\n      <td>1.88603794574738</td>\n      <td>0</td>\n      <td>-2.88766002655029</td>\n    </tr>\n    <tr>\n      <th>50</th>\n      <td>Ghana</td>\n      <td>1995</td>\n      <td>46.27585233</td>\n      <td>17075000.0</td>\n      <td>72.73999786</td>\n      <td>80</td>\n      <td>40</td>\n      <td>20.2940006256104</td>\n      <td>26.3794994354248</td>\n      <td>46.6735000610352</td>\n      <td>...</td>\n      <td>1.79769313486232e+308</td>\n      <td>1.79769313486232e+308</td>\n      <td>1.79769313486232e+308</td>\n      <td>1.79769313486232e+308</td>\n      <td>1.79769313486232e+308</td>\n      <td>1.79769313486232e+308</td>\n      <td>1.79769313486232e+308</td>\n      <td>1.79769313486232e+308</td>\n      <td>1.79769313486232e+308</td>\n      <td>1.79769313486232e+308</td>\n    </tr>\n    <tr>\n      <th>51</th>\n      <td>Madagascar</td>\n      <td>1974</td>\n      <td>34.22234966</td>\n      <td>7408570.0</td>\n      <td>163.2</td>\n      <td>94</td>\n      <td>12</td>\n      <td>16.4736003875732</td>\n      <td>9.76997661590576</td>\n      <td>26.243579864502</td>\n      <td>...</td>\n      <td>1.79769313486232e+308</td>\n      <td>1.79769313486232e+308</td>\n      <td>1.79769313486232e+308</td>\n      <td>1.79769313486232e+308</td>\n      <td>1.79769313486232e+308</td>\n      <td>1.79769313486232e+308</td>\n      <td>1.79769313486232e+308</td>\n      <td>1.79769313486232e+308</td>\n      <td>1.79769313486232e+308</td>\n      <td>1.79769313486232e+308</td>\n    </tr>\n    <tr>\n      <th>52</th>\n      <td>Madagascar</td>\n      <td>1990</td>\n      <td>32.30721538</td>\n      <td>11672000.0</td>\n      <td>101.1600006</td>\n      <td>87</td>\n      <td>17</td>\n      <td>42.6463584899902</td>\n      <td>13.9560403823853</td>\n      <td>56.6024017333984</td>\n      <td>...</td>\n      <td>1.14905905723572</td>\n      <td>0.055357001721859</td>\n      <td>11.8646697998047</td>\n      <td>2.95013809204102</td>\n      <td>-0.822669982910156</td>\n      <td>-0.921169996261597</td>\n      <td>-2.26319003105164</td>\n      <td>0.278450012207031</td>\n      <td>-0.0155899999663234</td>\n      <td>-2.74889993667603</td>\n    </tr>\n    <tr>\n      <th>53</th>\n      <td>Ethiopia</td>\n      <td>1988</td>\n      <td>49.15748278</td>\n      <td>47643232.0</td>\n      <td>129.4</td>\n      <td>34.25</td>\n      <td>13.5</td>\n      <td>20.3594608306885</td>\n      <td>5.55403518676758</td>\n      <td>25.9134902954102</td>\n      <td>...</td>\n      <td>4.41632223129272</td>\n      <td>-0.611379981040955</td>\n      <td>0.021629000082612</td>\n      <td>0.444323003292084</td>\n      <td>0.412930011749268</td>\n      <td>0.154944002628326</td>\n      <td>-1.32232999801636</td>\n      <td>0.150712996721268</td>\n      <td>0</td>\n      <td>-6.21179008483887</td>\n    </tr>\n    <tr>\n      <th>54</th>\n      <td>Burkina Faso</td>\n      <td>1991</td>\n      <td>34.66403162</td>\n      <td>9269910.0</td>\n      <td>104.2</td>\n      <td>37</td>\n      <td>8</td>\n      <td>38.1004219055176</td>\n      <td>15.298939704895</td>\n      <td>53.3993606567383</td>\n      <td>...</td>\n      <td>1.79769313486232e+308</td>\n      <td>1.79769313486232e+308</td>\n      <td>1.79769313486232e+308</td>\n      <td>1.79769313486232e+308</td>\n      <td>1.79769313486232e+308</td>\n      <td>1.79769313486232e+308</td>\n      <td>1.79769313486232e+308</td>\n      <td>1.79769313486232e+308</td>\n      <td>1.79769313486232e+308</td>\n      <td>1.79769313486232e+308</td>\n    </tr>\n    <tr>\n      <th>55</th>\n      <td>Liberia</td>\n      <td>1977</td>\n      <td>31.87008374</td>\n      <td>1708160.0</td>\n      <td>167</td>\n      <td>60.66666667</td>\n      <td>18.33333333</td>\n      <td>20.3501396179199</td>\n      <td>29.2217292785644</td>\n      <td>49.5718688964844</td>\n      <td>...</td>\n      <td>-4.21390008926392</td>\n      <td>-13.3078002929688</td>\n      <td>-1.24118995666504</td>\n      <td>1.1413459777832</td>\n      <td>-2.94400000572205</td>\n      <td>0</td>\n      <td>3.02864408493042</td>\n      <td>1.95925498008728</td>\n      <td>0</td>\n      <td>2.47339510917664</td>\n    </tr>\n  </tbody>\n</table>\n<p>56 rows × 50 columns</p>\n</div>"
     },
     "metadata": {},
     "execution_count": 61
    }
   ],
   "source": [
    "df10 = pd.merge(df1, df2, how='right')\n",
    "df10"
   ]
  },
  {
   "source": [
    "Problem: Generate a new df which contains information only from those african countries with the same 'Agriculture as a share of gdp'"
   ],
   "cell_type": "markdown",
   "metadata": {}
  },
  {
   "cell_type": "code",
   "execution_count": null,
   "metadata": {},
   "outputs": [],
   "source": [
    "# solution: inner join\n",
    "df11 = pd.merge(df1, df2, on='agrgdp') # Does this really solve the problem..? I think this 'intermediate-pandas-python-library-data-science' course on coursera is quite bad. does the problem ask us to join only the first to quartiles.. ? :/// no.....\n",
    "df11"
   ]
  },
  {
   "source": [
    "### 2.4. Sorting"
   ],
   "cell_type": "markdown",
   "metadata": {}
  },
  {
   "cell_type": "code",
   "execution_count": 62,
   "metadata": {},
   "outputs": [
    {
     "output_type": "execute_result",
     "data": {
      "text/plain": [
       "      countryc  year                 agrgdp        popn      infmort  \\\n",
       "81    Ethiopia  1971  1.79769313486232e+308  29698260.0  156.4000015   \n",
       "205    Liberia  1991  1.79769313486232e+308   2483450.0        188.4   \n",
       "285  Mauritius  1992            10.82725922   1081000.0           18   \n",
       "282  Mauritius  1989            12.32418189   1048560.0         21.6   \n",
       "234    Lesotho  1994            13.69297806   1938930.0  77.39999898   \n",
       "..         ...   ...                    ...         ...          ...   \n",
       "90    Ethiopia  1980            56.27994714  37717000.0          155   \n",
       "118      Ghana  1982            57.34115279  11366410.0           98   \n",
       "101   Ethiopia  1991            59.13332578  52954000.0        121.6   \n",
       "46    Botswana  1988            7.060807251   1195140.0         56.6   \n",
       "286  Mauritius  1993            9.715403179   1097000.0  17.35999997   \n",
       "\n",
       "                   schprim                 schsec           grtdsbp  \\\n",
       "81                    17.6                    4.4  2.73099207878113   \n",
       "205  1.79769313486232e+308  1.79769313486232e+308  70.8964462280274   \n",
       "285                    107                     57  32.6669311523438   \n",
       "282                  109.2                   51.6  44.3517112731934   \n",
       "234  1.79769313486232e+308  1.79769313486232e+308   43.487491607666   \n",
       "..                     ...                    ...               ...   \n",
       "90                      34                      8  7.98918008804321   \n",
       "118                   78.4                   40.6  8.70774555206299   \n",
       "101                     25                     12  20.6525192260742   \n",
       "46                  111.75                  35.75  135.776702880859   \n",
       "286                    106                     59  31.8793106079102   \n",
       "\n",
       "               grlndsbp           aiddsbp  ...               dcurexpp  \\\n",
       "81     2.62460398674011  5.35559606552124  ...  1.79769313486232e+308   \n",
       "205  0.0222931001335382  70.9187469482422  ...  1.79769313486232e+308   \n",
       "285     35.577751159668  68.2446670532226  ...       47.5250587463379   \n",
       "282    42.4502716064453  86.8019790649414  ...       2.31061792373657   \n",
       "234    22.0319690704346  65.5194625854492  ...  1.79769313486232e+308   \n",
       "..                  ...               ...  ...                    ...   \n",
       "90      2.2627329826355  10.2519102096558  ...  1.79769313486232e+308   \n",
       "118    13.2136096954346  21.9213600158691  ...     -0.204300001263618   \n",
       "101    2.57341003417969  23.2259292602539  ...      -6.62943983078003   \n",
       "46     30.8545207977295  166.631195068359  ...       160.910507202148   \n",
       "286    24.5195999145508  56.3989105224609  ...      -61.5862998962402   \n",
       "\n",
       "                  dcapexpp               dprirepp               dcnlnagp  \\\n",
       "81   1.79769313486232e+308  1.79769313486232e+308  1.79769313486232e+308   \n",
       "205  1.79769313486232e+308  1.79769313486232e+308  1.79769313486232e+308   \n",
       "285       31.1174602508545        4.0041389465332       0.32574000954628   \n",
       "282        -11.21399974823       1.78416705131531      -2.27994990348816   \n",
       "234  1.79769313486232e+308  1.79769313486232e+308  1.79769313486232e+308   \n",
       "..                     ...                    ...                    ...   \n",
       "90   1.79769313486232e+308  1.79769313486232e+308  1.79769313486232e+308   \n",
       "118      -6.10494995117188       0.78505802154541      0.631519019603729   \n",
       "101      -1.22353994846344     -0.141739994287491     -0.345849990844727   \n",
       "46        29.0043907165527      -4.24322986602783     -0.316520005464554   \n",
       "286                -17.375       8.73153114318848       3.22284603118896   \n",
       "\n",
       "                  dcnlnenp               dcnlninp              dcnlntacp  \\\n",
       "81   1.79769313486232e+308  1.79769313486232e+308  1.79769313486232e+308   \n",
       "205  1.79769313486232e+308  1.79769313486232e+308  1.79769313486232e+308   \n",
       "285      -19.9955005645752      0.353338003158569      -3.39756989479065   \n",
       "282       -12.795599937439        1.2982120513916       9.45594692230225   \n",
       "234  1.79769313486232e+308  1.79769313486232e+308  1.79769313486232e+308   \n",
       "..                     ...                    ...                    ...   \n",
       "90   1.79769313486232e+308  1.79769313486232e+308  1.79769313486232e+308   \n",
       "118       1.76289999485016     -0.414970010519028     -0.630389988422394   \n",
       "101     -0.177410006523132     -0.289270013570786    0.00526400003582239   \n",
       "46        13.1129302978516        3.4499249458313      -1.61373996734619   \n",
       "286      -13.5272998809814     -0.161929994821548      -3.19396996498108   \n",
       "\n",
       "                 dcnlnedup              dcnlnhthp              dcnlnothp  \n",
       "81   1.79769313486232e+308  1.79769313486232e+308  1.79769313486232e+308  \n",
       "205  1.79769313486232e+308  1.79769313486232e+308  1.79769313486232e+308  \n",
       "285                      0                      0       4.77696514129639  \n",
       "282                      0                      0      -5.25025987625122  \n",
       "234  1.79769313486232e+308  1.79769313486232e+308  1.79769313486232e+308  \n",
       "..                     ...                    ...                    ...  \n",
       "90   1.79769313486232e+308  1.79769313486232e+308  1.79769313486232e+308  \n",
       "118   -0.00036000000545755                      0      -3.22194004058838  \n",
       "101     0.0324780009686947   -0.00949000008404255      -2.77762007713318  \n",
       "46       -10.0523996353149    -0.0101199997588992      -1.93843996524811  \n",
       "286                      0                      0       3.52519607543945  \n",
       "\n",
       "[75 rows x 50 columns]"
      ],
      "text/html": "<div>\n<style scoped>\n    .dataframe tbody tr th:only-of-type {\n        vertical-align: middle;\n    }\n\n    .dataframe tbody tr th {\n        vertical-align: top;\n    }\n\n    .dataframe thead th {\n        text-align: right;\n    }\n</style>\n<table border=\"1\" class=\"dataframe\">\n  <thead>\n    <tr style=\"text-align: right;\">\n      <th></th>\n      <th>countryc</th>\n      <th>year</th>\n      <th>agrgdp</th>\n      <th>popn</th>\n      <th>infmort</th>\n      <th>schprim</th>\n      <th>schsec</th>\n      <th>grtdsbp</th>\n      <th>grlndsbp</th>\n      <th>aiddsbp</th>\n      <th>...</th>\n      <th>dcurexpp</th>\n      <th>dcapexpp</th>\n      <th>dprirepp</th>\n      <th>dcnlnagp</th>\n      <th>dcnlnenp</th>\n      <th>dcnlninp</th>\n      <th>dcnlntacp</th>\n      <th>dcnlnedup</th>\n      <th>dcnlnhthp</th>\n      <th>dcnlnothp</th>\n    </tr>\n  </thead>\n  <tbody>\n    <tr>\n      <th>81</th>\n      <td>Ethiopia</td>\n      <td>1971</td>\n      <td>1.79769313486232e+308</td>\n      <td>29698260.0</td>\n      <td>156.4000015</td>\n      <td>17.6</td>\n      <td>4.4</td>\n      <td>2.73099207878113</td>\n      <td>2.62460398674011</td>\n      <td>5.35559606552124</td>\n      <td>...</td>\n      <td>1.79769313486232e+308</td>\n      <td>1.79769313486232e+308</td>\n      <td>1.79769313486232e+308</td>\n      <td>1.79769313486232e+308</td>\n      <td>1.79769313486232e+308</td>\n      <td>1.79769313486232e+308</td>\n      <td>1.79769313486232e+308</td>\n      <td>1.79769313486232e+308</td>\n      <td>1.79769313486232e+308</td>\n      <td>1.79769313486232e+308</td>\n    </tr>\n    <tr>\n      <th>205</th>\n      <td>Liberia</td>\n      <td>1991</td>\n      <td>1.79769313486232e+308</td>\n      <td>2483450.0</td>\n      <td>188.4</td>\n      <td>1.79769313486232e+308</td>\n      <td>1.79769313486232e+308</td>\n      <td>70.8964462280274</td>\n      <td>0.0222931001335382</td>\n      <td>70.9187469482422</td>\n      <td>...</td>\n      <td>1.79769313486232e+308</td>\n      <td>1.79769313486232e+308</td>\n      <td>1.79769313486232e+308</td>\n      <td>1.79769313486232e+308</td>\n      <td>1.79769313486232e+308</td>\n      <td>1.79769313486232e+308</td>\n      <td>1.79769313486232e+308</td>\n      <td>1.79769313486232e+308</td>\n      <td>1.79769313486232e+308</td>\n      <td>1.79769313486232e+308</td>\n    </tr>\n    <tr>\n      <th>285</th>\n      <td>Mauritius</td>\n      <td>1992</td>\n      <td>10.82725922</td>\n      <td>1081000.0</td>\n      <td>18</td>\n      <td>107</td>\n      <td>57</td>\n      <td>32.6669311523438</td>\n      <td>35.577751159668</td>\n      <td>68.2446670532226</td>\n      <td>...</td>\n      <td>47.5250587463379</td>\n      <td>31.1174602508545</td>\n      <td>4.0041389465332</td>\n      <td>0.32574000954628</td>\n      <td>-19.9955005645752</td>\n      <td>0.353338003158569</td>\n      <td>-3.39756989479065</td>\n      <td>0</td>\n      <td>0</td>\n      <td>4.77696514129639</td>\n    </tr>\n    <tr>\n      <th>282</th>\n      <td>Mauritius</td>\n      <td>1989</td>\n      <td>12.32418189</td>\n      <td>1048560.0</td>\n      <td>21.6</td>\n      <td>109.2</td>\n      <td>51.6</td>\n      <td>44.3517112731934</td>\n      <td>42.4502716064453</td>\n      <td>86.8019790649414</td>\n      <td>...</td>\n      <td>2.31061792373657</td>\n      <td>-11.21399974823</td>\n      <td>1.78416705131531</td>\n      <td>-2.27994990348816</td>\n      <td>-12.795599937439</td>\n      <td>1.2982120513916</td>\n      <td>9.45594692230225</td>\n      <td>0</td>\n      <td>0</td>\n      <td>-5.25025987625122</td>\n    </tr>\n    <tr>\n      <th>234</th>\n      <td>Lesotho</td>\n      <td>1994</td>\n      <td>13.69297806</td>\n      <td>1938930.0</td>\n      <td>77.39999898</td>\n      <td>1.79769313486232e+308</td>\n      <td>1.79769313486232e+308</td>\n      <td>43.487491607666</td>\n      <td>22.0319690704346</td>\n      <td>65.5194625854492</td>\n      <td>...</td>\n      <td>1.79769313486232e+308</td>\n      <td>1.79769313486232e+308</td>\n      <td>1.79769313486232e+308</td>\n      <td>1.79769313486232e+308</td>\n      <td>1.79769313486232e+308</td>\n      <td>1.79769313486232e+308</td>\n      <td>1.79769313486232e+308</td>\n      <td>1.79769313486232e+308</td>\n      <td>1.79769313486232e+308</td>\n      <td>1.79769313486232e+308</td>\n    </tr>\n    <tr>\n      <th>...</th>\n      <td>...</td>\n      <td>...</td>\n      <td>...</td>\n      <td>...</td>\n      <td>...</td>\n      <td>...</td>\n      <td>...</td>\n      <td>...</td>\n      <td>...</td>\n      <td>...</td>\n      <td>...</td>\n      <td>...</td>\n      <td>...</td>\n      <td>...</td>\n      <td>...</td>\n      <td>...</td>\n      <td>...</td>\n      <td>...</td>\n      <td>...</td>\n      <td>...</td>\n      <td>...</td>\n    </tr>\n    <tr>\n      <th>90</th>\n      <td>Ethiopia</td>\n      <td>1980</td>\n      <td>56.27994714</td>\n      <td>37717000.0</td>\n      <td>155</td>\n      <td>34</td>\n      <td>8</td>\n      <td>7.98918008804321</td>\n      <td>2.2627329826355</td>\n      <td>10.2519102096558</td>\n      <td>...</td>\n      <td>1.79769313486232e+308</td>\n      <td>1.79769313486232e+308</td>\n      <td>1.79769313486232e+308</td>\n      <td>1.79769313486232e+308</td>\n      <td>1.79769313486232e+308</td>\n      <td>1.79769313486232e+308</td>\n      <td>1.79769313486232e+308</td>\n      <td>1.79769313486232e+308</td>\n      <td>1.79769313486232e+308</td>\n      <td>1.79769313486232e+308</td>\n    </tr>\n    <tr>\n      <th>118</th>\n      <td>Ghana</td>\n      <td>1982</td>\n      <td>57.34115279</td>\n      <td>11366410.0</td>\n      <td>98</td>\n      <td>78.4</td>\n      <td>40.6</td>\n      <td>8.70774555206299</td>\n      <td>13.2136096954346</td>\n      <td>21.9213600158691</td>\n      <td>...</td>\n      <td>-0.204300001263618</td>\n      <td>-6.10494995117188</td>\n      <td>0.78505802154541</td>\n      <td>0.631519019603729</td>\n      <td>1.76289999485016</td>\n      <td>-0.414970010519028</td>\n      <td>-0.630389988422394</td>\n      <td>-0.00036000000545755</td>\n      <td>0</td>\n      <td>-3.22194004058838</td>\n    </tr>\n    <tr>\n      <th>101</th>\n      <td>Ethiopia</td>\n      <td>1991</td>\n      <td>59.13332578</td>\n      <td>52954000.0</td>\n      <td>121.6</td>\n      <td>25</td>\n      <td>12</td>\n      <td>20.6525192260742</td>\n      <td>2.57341003417969</td>\n      <td>23.2259292602539</td>\n      <td>...</td>\n      <td>-6.62943983078003</td>\n      <td>-1.22353994846344</td>\n      <td>-0.141739994287491</td>\n      <td>-0.345849990844727</td>\n      <td>-0.177410006523132</td>\n      <td>-0.289270013570786</td>\n      <td>0.00526400003582239</td>\n      <td>0.0324780009686947</td>\n      <td>-0.00949000008404255</td>\n      <td>-2.77762007713318</td>\n    </tr>\n    <tr>\n      <th>46</th>\n      <td>Botswana</td>\n      <td>1988</td>\n      <td>7.060807251</td>\n      <td>1195140.0</td>\n      <td>56.6</td>\n      <td>111.75</td>\n      <td>35.75</td>\n      <td>135.776702880859</td>\n      <td>30.8545207977295</td>\n      <td>166.631195068359</td>\n      <td>...</td>\n      <td>160.910507202148</td>\n      <td>29.0043907165527</td>\n      <td>-4.24322986602783</td>\n      <td>-0.316520005464554</td>\n      <td>13.1129302978516</td>\n      <td>3.4499249458313</td>\n      <td>-1.61373996734619</td>\n      <td>-10.0523996353149</td>\n      <td>-0.0101199997588992</td>\n      <td>-1.93843996524811</td>\n    </tr>\n    <tr>\n      <th>286</th>\n      <td>Mauritius</td>\n      <td>1993</td>\n      <td>9.715403179</td>\n      <td>1097000.0</td>\n      <td>17.35999997</td>\n      <td>106</td>\n      <td>59</td>\n      <td>31.8793106079102</td>\n      <td>24.5195999145508</td>\n      <td>56.3989105224609</td>\n      <td>...</td>\n      <td>-61.5862998962402</td>\n      <td>-17.375</td>\n      <td>8.73153114318848</td>\n      <td>3.22284603118896</td>\n      <td>-13.5272998809814</td>\n      <td>-0.161929994821548</td>\n      <td>-3.19396996498108</td>\n      <td>0</td>\n      <td>0</td>\n      <td>3.52519607543945</td>\n    </tr>\n  </tbody>\n</table>\n<p>75 rows × 50 columns</p>\n</div>"
     },
     "metadata": {},
     "execution_count": 62
    }
   ],
   "source": [
    "# Sort vlaues by a single column\n",
    "\n",
    "df1.sort_values(by=['agrgdp'], ascending=True) # It seems 286 Mauritus should've been higher up.. Dunno why it isn't..."
   ]
  },
  {
   "cell_type": "code",
   "execution_count": 64,
   "metadata": {},
   "outputs": [
    {
     "output_type": "execute_result",
     "data": {
      "text/plain": [
       "         countryc  year       agrgdp       popn      infmort schprim schsec  \\\n",
       "5    Burkina Faso  1973  34.83428571  5958700.0          135    14.8    1.6   \n",
       "7    Burkina Faso  1975  34.27100776  6202000.0          131      16      2   \n",
       "8    Burkina Faso  1976  34.80431988        NaN          129      15      2   \n",
       "12   Burkina Faso  1980  33.24267254  6962000.0          121      18      3   \n",
       "15   Burkina Faso  1983   31.9042673  7490710.0        115.4    24.6    4.2   \n",
       "..            ...   ...          ...        ...          ...     ...    ...   \n",
       "285     Mauritius  1992  10.82725922  1081000.0           18     107     57   \n",
       "286     Mauritius  1993  9.715403179  1097000.0  17.35999997     106     59   \n",
       "294        Malawi  1974  41.17239788  5087140.0        185.4    51.6      4   \n",
       "295        Malawi  1975  37.23468769  5244000.0        182.6    53.8      4   \n",
       "296        Malawi  1976  39.20110669  5409980.0        179.8      56      4   \n",
       "\n",
       "              grtdsbp          grlndsbp           aiddsbp  ...  \\\n",
       "5    25.9791507720947  3.87817406654358  29.8573207855225  ...   \n",
       "7    30.4486293792725  7.36860179901123  37.8172302246094  ...   \n",
       "8    24.3181304931641  8.15182018280029  32.4699592590332  ...   \n",
       "12   41.1754417419434  14.5752201080322  55.7506484985352  ...   \n",
       "15   27.2162609100342   9.1533613204956  36.3696212768555  ...   \n",
       "..                ...               ...               ...  ...   \n",
       "285  32.6669311523438   35.577751159668  68.2446670532226  ...   \n",
       "286  31.8793106079102  24.5195999145508  56.3989105224609  ...   \n",
       "294  8.73302841186524  15.7701101303101  24.5031394958496  ...   \n",
       "295  10.5895004272461   22.165210723877   32.754711151123  ...   \n",
       "296   14.338809967041  15.4878797531128  29.8267002105713  ...   \n",
       "\n",
       "                  dcurexpp               dcapexpp             dprirepp  \\\n",
       "5    1.79769313486232e+308  1.79769313486232e+308    -4.26292991638184   \n",
       "7         5.94059085845947     0.0831290036439896    0.118987999856472   \n",
       "8       0.0346110016107559       2.13481593132019  -0.0604999996721744   \n",
       "12       -3.46266007423401       2.54042410850525    -10.8857002258301   \n",
       "15       -10.6338996887207      -2.52524995803833   -0.175799995660782   \n",
       "..                     ...                    ...                  ...   \n",
       "285       47.5250587463379       31.1174602508545      4.0041389465332   \n",
       "286      -61.5862998962402                -17.375     8.73153114318848   \n",
       "294       0.46765199303627       7.48967599868774  -0.0427899993956089   \n",
       "295      0.515770971775055       10.8334703445435    0.043698001652956   \n",
       "296      -3.28504991531372      -12.8143997192383  -0.0718400031328201   \n",
       "\n",
       "               dcnlnagp            dcnlnenp            dcnlninp  \\\n",
       "5     0.290098994970322  0.0578910000622272    2.53049802780151   \n",
       "7     0.262962996959686   0.517924010753632   -2.78498005867004   \n",
       "8     0.739816009998322  -0.850790023803711  -0.320169985294342   \n",
       "12    0.478792995214462   0.321274012327194  0.0279569998383522   \n",
       "15   -0.105319999158382  0.0590809993445873   0.223771005868912   \n",
       "..                  ...                 ...                 ...   \n",
       "285    0.32574000954628   -19.9955005645752   0.353338003158569   \n",
       "286    3.22284603118896   -13.5272998809814  -0.161929994821548   \n",
       "294    1.00035405158997    0.44098699092865                   0   \n",
       "295  -0.280800014734268   0.483336985111237   0.184547007083893   \n",
       "296  -0.538079977035522   0.749620020389557   -0.12015999853611   \n",
       "\n",
       "             dcnlntacp           dcnlnedup            dcnlnhthp  \\\n",
       "5    -0.38238000869751                   0                    0   \n",
       "7    0.806988000869751  0.0681129992008209                    0   \n",
       "8    0.252671003341675  0.0882859975099564                    0   \n",
       "12   -1.57395005226135   0.079134002327919                    0   \n",
       "15    2.36123299598694   0.161394998431206  0.00619200011715293   \n",
       "..                 ...                 ...                  ...   \n",
       "285  -3.39756989479065                   0                    0   \n",
       "286  -3.19396996498108                   0                    0   \n",
       "294   1.25282204151154    0.21764700114727                    0   \n",
       "295   7.19747400283814   -0.14614999294281                    0   \n",
       "296  -2.48820996284485  -0.187729999423027                    0   \n",
       "\n",
       "               dcnlnothp  \n",
       "5      -0.11642000079155  \n",
       "7       2.65820407867432  \n",
       "8      0.984821021556854  \n",
       "12     0.573574006557465  \n",
       "15   -0.0402799993753433  \n",
       "..                   ...  \n",
       "285     4.77696514129639  \n",
       "286     3.52519607543945  \n",
       "294    -4.72225999832153  \n",
       "295    0.320367008447647  \n",
       "296    -4.06232023239136  \n",
       "\n",
       "[75 rows x 50 columns]"
      ],
      "text/html": "<div>\n<style scoped>\n    .dataframe tbody tr th:only-of-type {\n        vertical-align: middle;\n    }\n\n    .dataframe tbody tr th {\n        vertical-align: top;\n    }\n\n    .dataframe thead th {\n        text-align: right;\n    }\n</style>\n<table border=\"1\" class=\"dataframe\">\n  <thead>\n    <tr style=\"text-align: right;\">\n      <th></th>\n      <th>countryc</th>\n      <th>year</th>\n      <th>agrgdp</th>\n      <th>popn</th>\n      <th>infmort</th>\n      <th>schprim</th>\n      <th>schsec</th>\n      <th>grtdsbp</th>\n      <th>grlndsbp</th>\n      <th>aiddsbp</th>\n      <th>...</th>\n      <th>dcurexpp</th>\n      <th>dcapexpp</th>\n      <th>dprirepp</th>\n      <th>dcnlnagp</th>\n      <th>dcnlnenp</th>\n      <th>dcnlninp</th>\n      <th>dcnlntacp</th>\n      <th>dcnlnedup</th>\n      <th>dcnlnhthp</th>\n      <th>dcnlnothp</th>\n    </tr>\n  </thead>\n  <tbody>\n    <tr>\n      <th>5</th>\n      <td>Burkina Faso</td>\n      <td>1973</td>\n      <td>34.83428571</td>\n      <td>5958700.0</td>\n      <td>135</td>\n      <td>14.8</td>\n      <td>1.6</td>\n      <td>25.9791507720947</td>\n      <td>3.87817406654358</td>\n      <td>29.8573207855225</td>\n      <td>...</td>\n      <td>1.79769313486232e+308</td>\n      <td>1.79769313486232e+308</td>\n      <td>-4.26292991638184</td>\n      <td>0.290098994970322</td>\n      <td>0.0578910000622272</td>\n      <td>2.53049802780151</td>\n      <td>-0.38238000869751</td>\n      <td>0</td>\n      <td>0</td>\n      <td>-0.11642000079155</td>\n    </tr>\n    <tr>\n      <th>7</th>\n      <td>Burkina Faso</td>\n      <td>1975</td>\n      <td>34.27100776</td>\n      <td>6202000.0</td>\n      <td>131</td>\n      <td>16</td>\n      <td>2</td>\n      <td>30.4486293792725</td>\n      <td>7.36860179901123</td>\n      <td>37.8172302246094</td>\n      <td>...</td>\n      <td>5.94059085845947</td>\n      <td>0.0831290036439896</td>\n      <td>0.118987999856472</td>\n      <td>0.262962996959686</td>\n      <td>0.517924010753632</td>\n      <td>-2.78498005867004</td>\n      <td>0.806988000869751</td>\n      <td>0.0681129992008209</td>\n      <td>0</td>\n      <td>2.65820407867432</td>\n    </tr>\n    <tr>\n      <th>8</th>\n      <td>Burkina Faso</td>\n      <td>1976</td>\n      <td>34.80431988</td>\n      <td>NaN</td>\n      <td>129</td>\n      <td>15</td>\n      <td>2</td>\n      <td>24.3181304931641</td>\n      <td>8.15182018280029</td>\n      <td>32.4699592590332</td>\n      <td>...</td>\n      <td>0.0346110016107559</td>\n      <td>2.13481593132019</td>\n      <td>-0.0604999996721744</td>\n      <td>0.739816009998322</td>\n      <td>-0.850790023803711</td>\n      <td>-0.320169985294342</td>\n      <td>0.252671003341675</td>\n      <td>0.0882859975099564</td>\n      <td>0</td>\n      <td>0.984821021556854</td>\n    </tr>\n    <tr>\n      <th>12</th>\n      <td>Burkina Faso</td>\n      <td>1980</td>\n      <td>33.24267254</td>\n      <td>6962000.0</td>\n      <td>121</td>\n      <td>18</td>\n      <td>3</td>\n      <td>41.1754417419434</td>\n      <td>14.5752201080322</td>\n      <td>55.7506484985352</td>\n      <td>...</td>\n      <td>-3.46266007423401</td>\n      <td>2.54042410850525</td>\n      <td>-10.8857002258301</td>\n      <td>0.478792995214462</td>\n      <td>0.321274012327194</td>\n      <td>0.0279569998383522</td>\n      <td>-1.57395005226135</td>\n      <td>0.079134002327919</td>\n      <td>0</td>\n      <td>0.573574006557465</td>\n    </tr>\n    <tr>\n      <th>15</th>\n      <td>Burkina Faso</td>\n      <td>1983</td>\n      <td>31.9042673</td>\n      <td>7490710.0</td>\n      <td>115.4</td>\n      <td>24.6</td>\n      <td>4.2</td>\n      <td>27.2162609100342</td>\n      <td>9.1533613204956</td>\n      <td>36.3696212768555</td>\n      <td>...</td>\n      <td>-10.6338996887207</td>\n      <td>-2.52524995803833</td>\n      <td>-0.175799995660782</td>\n      <td>-0.105319999158382</td>\n      <td>0.0590809993445873</td>\n      <td>0.223771005868912</td>\n      <td>2.36123299598694</td>\n      <td>0.161394998431206</td>\n      <td>0.00619200011715293</td>\n      <td>-0.0402799993753433</td>\n    </tr>\n    <tr>\n      <th>...</th>\n      <td>...</td>\n      <td>...</td>\n      <td>...</td>\n      <td>...</td>\n      <td>...</td>\n      <td>...</td>\n      <td>...</td>\n      <td>...</td>\n      <td>...</td>\n      <td>...</td>\n      <td>...</td>\n      <td>...</td>\n      <td>...</td>\n      <td>...</td>\n      <td>...</td>\n      <td>...</td>\n      <td>...</td>\n      <td>...</td>\n      <td>...</td>\n      <td>...</td>\n      <td>...</td>\n    </tr>\n    <tr>\n      <th>285</th>\n      <td>Mauritius</td>\n      <td>1992</td>\n      <td>10.82725922</td>\n      <td>1081000.0</td>\n      <td>18</td>\n      <td>107</td>\n      <td>57</td>\n      <td>32.6669311523438</td>\n      <td>35.577751159668</td>\n      <td>68.2446670532226</td>\n      <td>...</td>\n      <td>47.5250587463379</td>\n      <td>31.1174602508545</td>\n      <td>4.0041389465332</td>\n      <td>0.32574000954628</td>\n      <td>-19.9955005645752</td>\n      <td>0.353338003158569</td>\n      <td>-3.39756989479065</td>\n      <td>0</td>\n      <td>0</td>\n      <td>4.77696514129639</td>\n    </tr>\n    <tr>\n      <th>286</th>\n      <td>Mauritius</td>\n      <td>1993</td>\n      <td>9.715403179</td>\n      <td>1097000.0</td>\n      <td>17.35999997</td>\n      <td>106</td>\n      <td>59</td>\n      <td>31.8793106079102</td>\n      <td>24.5195999145508</td>\n      <td>56.3989105224609</td>\n      <td>...</td>\n      <td>-61.5862998962402</td>\n      <td>-17.375</td>\n      <td>8.73153114318848</td>\n      <td>3.22284603118896</td>\n      <td>-13.5272998809814</td>\n      <td>-0.161929994821548</td>\n      <td>-3.19396996498108</td>\n      <td>0</td>\n      <td>0</td>\n      <td>3.52519607543945</td>\n    </tr>\n    <tr>\n      <th>294</th>\n      <td>Malawi</td>\n      <td>1974</td>\n      <td>41.17239788</td>\n      <td>5087140.0</td>\n      <td>185.4</td>\n      <td>51.6</td>\n      <td>4</td>\n      <td>8.73302841186524</td>\n      <td>15.7701101303101</td>\n      <td>24.5031394958496</td>\n      <td>...</td>\n      <td>0.46765199303627</td>\n      <td>7.48967599868774</td>\n      <td>-0.0427899993956089</td>\n      <td>1.00035405158997</td>\n      <td>0.44098699092865</td>\n      <td>0</td>\n      <td>1.25282204151154</td>\n      <td>0.21764700114727</td>\n      <td>0</td>\n      <td>-4.72225999832153</td>\n    </tr>\n    <tr>\n      <th>295</th>\n      <td>Malawi</td>\n      <td>1975</td>\n      <td>37.23468769</td>\n      <td>5244000.0</td>\n      <td>182.6</td>\n      <td>53.8</td>\n      <td>4</td>\n      <td>10.5895004272461</td>\n      <td>22.165210723877</td>\n      <td>32.754711151123</td>\n      <td>...</td>\n      <td>0.515770971775055</td>\n      <td>10.8334703445435</td>\n      <td>0.043698001652956</td>\n      <td>-0.280800014734268</td>\n      <td>0.483336985111237</td>\n      <td>0.184547007083893</td>\n      <td>7.19747400283814</td>\n      <td>-0.14614999294281</td>\n      <td>0</td>\n      <td>0.320367008447647</td>\n    </tr>\n    <tr>\n      <th>296</th>\n      <td>Malawi</td>\n      <td>1976</td>\n      <td>39.20110669</td>\n      <td>5409980.0</td>\n      <td>179.8</td>\n      <td>56</td>\n      <td>4</td>\n      <td>14.338809967041</td>\n      <td>15.4878797531128</td>\n      <td>29.8267002105713</td>\n      <td>...</td>\n      <td>-3.28504991531372</td>\n      <td>-12.8143997192383</td>\n      <td>-0.0718400031328201</td>\n      <td>-0.538079977035522</td>\n      <td>0.749620020389557</td>\n      <td>-0.12015999853611</td>\n      <td>-2.48820996284485</td>\n      <td>-0.187729999423027</td>\n      <td>0</td>\n      <td>-4.06232023239136</td>\n    </tr>\n  </tbody>\n</table>\n<p>75 rows × 50 columns</p>\n</div>"
     },
     "metadata": {},
     "execution_count": 64
    }
   ],
   "source": [
    "# Sort by row labels (row indexes)\n",
    "df1.sort_index(axis=0, ascending=True)"
   ]
  },
  {
   "source": [
    "### 2.5. Selecting and slicing"
   ],
   "cell_type": "markdown",
   "metadata": {}
  },
  {
   "cell_type": "code",
   "execution_count": 66,
   "metadata": {},
   "outputs": [
    {
     "output_type": "execute_result",
     "data": {
      "text/plain": [
       "         countryc  year\n",
       "223       Lesotho  1983\n",
       "150   Gambia, The  1988\n",
       "226       Lesotho  1986\n",
       "296        Malawi  1976\n",
       "52       Botswana  1994\n",
       "..            ...   ...\n",
       "20   Burkina Faso  1988\n",
       "46       Botswana  1988\n",
       "158         Kenya  1970\n",
       "230       Lesotho  1990\n",
       "179         Kenya  1991\n",
       "\n",
       "[75 rows x 2 columns]"
      ],
      "text/html": "<div>\n<style scoped>\n    .dataframe tbody tr th:only-of-type {\n        vertical-align: middle;\n    }\n\n    .dataframe tbody tr th {\n        vertical-align: top;\n    }\n\n    .dataframe thead th {\n        text-align: right;\n    }\n</style>\n<table border=\"1\" class=\"dataframe\">\n  <thead>\n    <tr style=\"text-align: right;\">\n      <th></th>\n      <th>countryc</th>\n      <th>year</th>\n    </tr>\n  </thead>\n  <tbody>\n    <tr>\n      <th>223</th>\n      <td>Lesotho</td>\n      <td>1983</td>\n    </tr>\n    <tr>\n      <th>150</th>\n      <td>Gambia, The</td>\n      <td>1988</td>\n    </tr>\n    <tr>\n      <th>226</th>\n      <td>Lesotho</td>\n      <td>1986</td>\n    </tr>\n    <tr>\n      <th>296</th>\n      <td>Malawi</td>\n      <td>1976</td>\n    </tr>\n    <tr>\n      <th>52</th>\n      <td>Botswana</td>\n      <td>1994</td>\n    </tr>\n    <tr>\n      <th>...</th>\n      <td>...</td>\n      <td>...</td>\n    </tr>\n    <tr>\n      <th>20</th>\n      <td>Burkina Faso</td>\n      <td>1988</td>\n    </tr>\n    <tr>\n      <th>46</th>\n      <td>Botswana</td>\n      <td>1988</td>\n    </tr>\n    <tr>\n      <th>158</th>\n      <td>Kenya</td>\n      <td>1970</td>\n    </tr>\n    <tr>\n      <th>230</th>\n      <td>Lesotho</td>\n      <td>1990</td>\n    </tr>\n    <tr>\n      <th>179</th>\n      <td>Kenya</td>\n      <td>1991</td>\n    </tr>\n  </tbody>\n</table>\n<p>75 rows × 2 columns</p>\n</div>"
     },
     "metadata": {},
     "execution_count": 66
    }
   ],
   "source": [
    "# Selection by names\n",
    "df1[['countryc', 'year']]"
   ]
  },
  {
   "source": [],
   "cell_type": "markdown",
   "metadata": {}
  },
  {
   "cell_type": "code",
   "execution_count": 69,
   "metadata": {},
   "outputs": [
    {
     "output_type": "execute_result",
     "data": {
      "text/plain": [
       "     year       agrgdp       popn      infmort schprim schsec  \\\n",
       "223  1983  23.91304348  1483270.0           98   106.8     21   \n",
       "150  1988  31.22936246   841250.0  140.7799988      65  15.25   \n",
       "226  1986  21.14252061  1603960.0           92     109   23.4   \n",
       "296  1976  39.20110669  5409980.0        179.8      56      4   \n",
       "52   1994  5.199306759  1420270.0  55.39999898     117     53   \n",
       "\n",
       "              grtdsbp  \n",
       "223  87.4762725830078  \n",
       "150  113.245697021484  \n",
       "226  66.7168197631836  \n",
       "296   14.338809967041  \n",
       "52   58.7042083740234  "
      ],
      "text/html": "<div>\n<style scoped>\n    .dataframe tbody tr th:only-of-type {\n        vertical-align: middle;\n    }\n\n    .dataframe tbody tr th {\n        vertical-align: top;\n    }\n\n    .dataframe thead th {\n        text-align: right;\n    }\n</style>\n<table border=\"1\" class=\"dataframe\">\n  <thead>\n    <tr style=\"text-align: right;\">\n      <th></th>\n      <th>year</th>\n      <th>agrgdp</th>\n      <th>popn</th>\n      <th>infmort</th>\n      <th>schprim</th>\n      <th>schsec</th>\n      <th>grtdsbp</th>\n    </tr>\n  </thead>\n  <tbody>\n    <tr>\n      <th>223</th>\n      <td>1983</td>\n      <td>23.91304348</td>\n      <td>1483270.0</td>\n      <td>98</td>\n      <td>106.8</td>\n      <td>21</td>\n      <td>87.4762725830078</td>\n    </tr>\n    <tr>\n      <th>150</th>\n      <td>1988</td>\n      <td>31.22936246</td>\n      <td>841250.0</td>\n      <td>140.7799988</td>\n      <td>65</td>\n      <td>15.25</td>\n      <td>113.245697021484</td>\n    </tr>\n    <tr>\n      <th>226</th>\n      <td>1986</td>\n      <td>21.14252061</td>\n      <td>1603960.0</td>\n      <td>92</td>\n      <td>109</td>\n      <td>23.4</td>\n      <td>66.7168197631836</td>\n    </tr>\n    <tr>\n      <th>296</th>\n      <td>1976</td>\n      <td>39.20110669</td>\n      <td>5409980.0</td>\n      <td>179.8</td>\n      <td>56</td>\n      <td>4</td>\n      <td>14.338809967041</td>\n    </tr>\n    <tr>\n      <th>52</th>\n      <td>1994</td>\n      <td>5.199306759</td>\n      <td>1420270.0</td>\n      <td>55.39999898</td>\n      <td>117</td>\n      <td>53</td>\n      <td>58.7042083740234</td>\n    </tr>\n  </tbody>\n</table>\n</div>"
     },
     "metadata": {},
     "execution_count": 69
    }
   ],
   "source": [
    "# Selection by indexes\n",
    "\n",
    "df1[df1.columns[1:8]].head()"
   ]
  },
  {
   "cell_type": "code",
   "execution_count": 70,
   "metadata": {},
   "outputs": [
    {
     "output_type": "execute_result",
     "data": {
      "text/plain": [
       "       countryc  year       agrgdp       popn      infmort schprim schsec  \\\n",
       "0  Burkina Faso  1970  35.44188862  5633000.0  141.3999939      13      1   \n",
       "1  Burkina Faso  1970  35.44188862  5633000.0  141.3999939      13      1   \n",
       "2  Burkina Faso  1971  36.16739069  5740700.0  139.1999969    13.6    1.2   \n",
       "\n",
       "            grtdsbp           grlndsbp           aiddsbp  ...  \\\n",
       "0  13.3182802200317   1.02303504943848  14.3413200378418  ...   \n",
       "1  13.3182802200317   1.02303504943848  14.3413200378418  ...   \n",
       "2  16.7043991088867  0.655763506889343  17.3601703643799  ...   \n",
       "\n",
       "                dcurexpp               dcapexpp               dprirepp  \\\n",
       "0  1.79769313486232e+308  1.79769313486232e+308  1.79769313486232e+308   \n",
       "1  1.79769313486232e+308  1.79769313486232e+308  1.79769313486232e+308   \n",
       "2  1.79769313486232e+308  1.79769313486232e+308  1.79769313486232e+308   \n",
       "\n",
       "                dcnlnagp               dcnlnenp               dcnlninp  \\\n",
       "0  1.79769313486232e+308  1.79769313486232e+308  1.79769313486232e+308   \n",
       "1  1.79769313486232e+308  1.79769313486232e+308  1.79769313486232e+308   \n",
       "2  1.79769313486232e+308  1.79769313486232e+308  1.79769313486232e+308   \n",
       "\n",
       "               dcnlntacp              dcnlnedup              dcnlnhthp  \\\n",
       "0  1.79769313486232e+308  1.79769313486232e+308  1.79769313486232e+308   \n",
       "1  1.79769313486232e+308  1.79769313486232e+308  1.79769313486232e+308   \n",
       "2  1.79769313486232e+308  1.79769313486232e+308  1.79769313486232e+308   \n",
       "\n",
       "               dcnlnothp  \n",
       "0  1.79769313486232e+308  \n",
       "1  1.79769313486232e+308  \n",
       "2  1.79769313486232e+308  \n",
       "\n",
       "[3 rows x 50 columns]"
      ],
      "text/html": "<div>\n<style scoped>\n    .dataframe tbody tr th:only-of-type {\n        vertical-align: middle;\n    }\n\n    .dataframe tbody tr th {\n        vertical-align: top;\n    }\n\n    .dataframe thead th {\n        text-align: right;\n    }\n</style>\n<table border=\"1\" class=\"dataframe\">\n  <thead>\n    <tr style=\"text-align: right;\">\n      <th></th>\n      <th>countryc</th>\n      <th>year</th>\n      <th>agrgdp</th>\n      <th>popn</th>\n      <th>infmort</th>\n      <th>schprim</th>\n      <th>schsec</th>\n      <th>grtdsbp</th>\n      <th>grlndsbp</th>\n      <th>aiddsbp</th>\n      <th>...</th>\n      <th>dcurexpp</th>\n      <th>dcapexpp</th>\n      <th>dprirepp</th>\n      <th>dcnlnagp</th>\n      <th>dcnlnenp</th>\n      <th>dcnlninp</th>\n      <th>dcnlntacp</th>\n      <th>dcnlnedup</th>\n      <th>dcnlnhthp</th>\n      <th>dcnlnothp</th>\n    </tr>\n  </thead>\n  <tbody>\n    <tr>\n      <th>0</th>\n      <td>Burkina Faso</td>\n      <td>1970</td>\n      <td>35.44188862</td>\n      <td>5633000.0</td>\n      <td>141.3999939</td>\n      <td>13</td>\n      <td>1</td>\n      <td>13.3182802200317</td>\n      <td>1.02303504943848</td>\n      <td>14.3413200378418</td>\n      <td>...</td>\n      <td>1.79769313486232e+308</td>\n      <td>1.79769313486232e+308</td>\n      <td>1.79769313486232e+308</td>\n      <td>1.79769313486232e+308</td>\n      <td>1.79769313486232e+308</td>\n      <td>1.79769313486232e+308</td>\n      <td>1.79769313486232e+308</td>\n      <td>1.79769313486232e+308</td>\n      <td>1.79769313486232e+308</td>\n      <td>1.79769313486232e+308</td>\n    </tr>\n    <tr>\n      <th>1</th>\n      <td>Burkina Faso</td>\n      <td>1970</td>\n      <td>35.44188862</td>\n      <td>5633000.0</td>\n      <td>141.3999939</td>\n      <td>13</td>\n      <td>1</td>\n      <td>13.3182802200317</td>\n      <td>1.02303504943848</td>\n      <td>14.3413200378418</td>\n      <td>...</td>\n      <td>1.79769313486232e+308</td>\n      <td>1.79769313486232e+308</td>\n      <td>1.79769313486232e+308</td>\n      <td>1.79769313486232e+308</td>\n      <td>1.79769313486232e+308</td>\n      <td>1.79769313486232e+308</td>\n      <td>1.79769313486232e+308</td>\n      <td>1.79769313486232e+308</td>\n      <td>1.79769313486232e+308</td>\n      <td>1.79769313486232e+308</td>\n    </tr>\n    <tr>\n      <th>2</th>\n      <td>Burkina Faso</td>\n      <td>1971</td>\n      <td>36.16739069</td>\n      <td>5740700.0</td>\n      <td>139.1999969</td>\n      <td>13.6</td>\n      <td>1.2</td>\n      <td>16.7043991088867</td>\n      <td>0.655763506889343</td>\n      <td>17.3601703643799</td>\n      <td>...</td>\n      <td>1.79769313486232e+308</td>\n      <td>1.79769313486232e+308</td>\n      <td>1.79769313486232e+308</td>\n      <td>1.79769313486232e+308</td>\n      <td>1.79769313486232e+308</td>\n      <td>1.79769313486232e+308</td>\n      <td>1.79769313486232e+308</td>\n      <td>1.79769313486232e+308</td>\n      <td>1.79769313486232e+308</td>\n      <td>1.79769313486232e+308</td>\n    </tr>\n  </tbody>\n</table>\n<p>3 rows × 50 columns</p>\n</div>"
     },
     "metadata": {},
     "execution_count": 70
    }
   ],
   "source": [
    "# Slicing: The process of selecting a range of rwos within the dataset using alloc and loc function. Can be done on columns aswell but is mostly done on rows\n",
    "df.iloc[:3]"
   ]
  },
  {
   "cell_type": "code",
   "execution_count": 71,
   "metadata": {},
   "outputs": [
    {
     "output_type": "execute_result",
     "data": {
      "text/plain": [
       "       countryc  year       agrgdp       popn      infmort schprim schsec  \\\n",
       "0  Burkina Faso  1970  35.44188862  5633000.0  141.3999939      13      1   \n",
       "1  Burkina Faso  1970  35.44188862  5633000.0  141.3999939      13      1   \n",
       "2  Burkina Faso  1971  36.16739069  5740700.0  139.1999969    13.6    1.2   \n",
       "3  Burkina Faso  1972  37.51058767  5848380.0          137    14.2    1.4   \n",
       "\n",
       "            grtdsbp           grlndsbp           aiddsbp  ...  \\\n",
       "0  13.3182802200317   1.02303504943848  14.3413200378418  ...   \n",
       "1  13.3182802200317   1.02303504943848  14.3413200378418  ...   \n",
       "2  16.7043991088867  0.655763506889343  17.3601703643799  ...   \n",
       "3  20.9176502227783   2.97720909118652  23.8948593139648  ...   \n",
       "\n",
       "                dcurexpp               dcapexpp               dprirepp  \\\n",
       "0  1.79769313486232e+308  1.79769313486232e+308  1.79769313486232e+308   \n",
       "1  1.79769313486232e+308  1.79769313486232e+308  1.79769313486232e+308   \n",
       "2  1.79769313486232e+308  1.79769313486232e+308  1.79769313486232e+308   \n",
       "3  1.79769313486232e+308  1.79769313486232e+308  1.79769313486232e+308   \n",
       "\n",
       "                dcnlnagp               dcnlnenp               dcnlninp  \\\n",
       "0  1.79769313486232e+308  1.79769313486232e+308  1.79769313486232e+308   \n",
       "1  1.79769313486232e+308  1.79769313486232e+308  1.79769313486232e+308   \n",
       "2  1.79769313486232e+308  1.79769313486232e+308  1.79769313486232e+308   \n",
       "3  1.79769313486232e+308  1.79769313486232e+308  1.79769313486232e+308   \n",
       "\n",
       "               dcnlntacp              dcnlnedup              dcnlnhthp  \\\n",
       "0  1.79769313486232e+308  1.79769313486232e+308  1.79769313486232e+308   \n",
       "1  1.79769313486232e+308  1.79769313486232e+308  1.79769313486232e+308   \n",
       "2  1.79769313486232e+308  1.79769313486232e+308  1.79769313486232e+308   \n",
       "3  1.79769313486232e+308  1.79769313486232e+308  1.79769313486232e+308   \n",
       "\n",
       "               dcnlnothp  \n",
       "0  1.79769313486232e+308  \n",
       "1  1.79769313486232e+308  \n",
       "2  1.79769313486232e+308  \n",
       "3  1.79769313486232e+308  \n",
       "\n",
       "[4 rows x 50 columns]"
      ],
      "text/html": "<div>\n<style scoped>\n    .dataframe tbody tr th:only-of-type {\n        vertical-align: middle;\n    }\n\n    .dataframe tbody tr th {\n        vertical-align: top;\n    }\n\n    .dataframe thead th {\n        text-align: right;\n    }\n</style>\n<table border=\"1\" class=\"dataframe\">\n  <thead>\n    <tr style=\"text-align: right;\">\n      <th></th>\n      <th>countryc</th>\n      <th>year</th>\n      <th>agrgdp</th>\n      <th>popn</th>\n      <th>infmort</th>\n      <th>schprim</th>\n      <th>schsec</th>\n      <th>grtdsbp</th>\n      <th>grlndsbp</th>\n      <th>aiddsbp</th>\n      <th>...</th>\n      <th>dcurexpp</th>\n      <th>dcapexpp</th>\n      <th>dprirepp</th>\n      <th>dcnlnagp</th>\n      <th>dcnlnenp</th>\n      <th>dcnlninp</th>\n      <th>dcnlntacp</th>\n      <th>dcnlnedup</th>\n      <th>dcnlnhthp</th>\n      <th>dcnlnothp</th>\n    </tr>\n  </thead>\n  <tbody>\n    <tr>\n      <th>0</th>\n      <td>Burkina Faso</td>\n      <td>1970</td>\n      <td>35.44188862</td>\n      <td>5633000.0</td>\n      <td>141.3999939</td>\n      <td>13</td>\n      <td>1</td>\n      <td>13.3182802200317</td>\n      <td>1.02303504943848</td>\n      <td>14.3413200378418</td>\n      <td>...</td>\n      <td>1.79769313486232e+308</td>\n      <td>1.79769313486232e+308</td>\n      <td>1.79769313486232e+308</td>\n      <td>1.79769313486232e+308</td>\n      <td>1.79769313486232e+308</td>\n      <td>1.79769313486232e+308</td>\n      <td>1.79769313486232e+308</td>\n      <td>1.79769313486232e+308</td>\n      <td>1.79769313486232e+308</td>\n      <td>1.79769313486232e+308</td>\n    </tr>\n    <tr>\n      <th>1</th>\n      <td>Burkina Faso</td>\n      <td>1970</td>\n      <td>35.44188862</td>\n      <td>5633000.0</td>\n      <td>141.3999939</td>\n      <td>13</td>\n      <td>1</td>\n      <td>13.3182802200317</td>\n      <td>1.02303504943848</td>\n      <td>14.3413200378418</td>\n      <td>...</td>\n      <td>1.79769313486232e+308</td>\n      <td>1.79769313486232e+308</td>\n      <td>1.79769313486232e+308</td>\n      <td>1.79769313486232e+308</td>\n      <td>1.79769313486232e+308</td>\n      <td>1.79769313486232e+308</td>\n      <td>1.79769313486232e+308</td>\n      <td>1.79769313486232e+308</td>\n      <td>1.79769313486232e+308</td>\n      <td>1.79769313486232e+308</td>\n    </tr>\n    <tr>\n      <th>2</th>\n      <td>Burkina Faso</td>\n      <td>1971</td>\n      <td>36.16739069</td>\n      <td>5740700.0</td>\n      <td>139.1999969</td>\n      <td>13.6</td>\n      <td>1.2</td>\n      <td>16.7043991088867</td>\n      <td>0.655763506889343</td>\n      <td>17.3601703643799</td>\n      <td>...</td>\n      <td>1.79769313486232e+308</td>\n      <td>1.79769313486232e+308</td>\n      <td>1.79769313486232e+308</td>\n      <td>1.79769313486232e+308</td>\n      <td>1.79769313486232e+308</td>\n      <td>1.79769313486232e+308</td>\n      <td>1.79769313486232e+308</td>\n      <td>1.79769313486232e+308</td>\n      <td>1.79769313486232e+308</td>\n      <td>1.79769313486232e+308</td>\n    </tr>\n    <tr>\n      <th>3</th>\n      <td>Burkina Faso</td>\n      <td>1972</td>\n      <td>37.51058767</td>\n      <td>5848380.0</td>\n      <td>137</td>\n      <td>14.2</td>\n      <td>1.4</td>\n      <td>20.9176502227783</td>\n      <td>2.97720909118652</td>\n      <td>23.8948593139648</td>\n      <td>...</td>\n      <td>1.79769313486232e+308</td>\n      <td>1.79769313486232e+308</td>\n      <td>1.79769313486232e+308</td>\n      <td>1.79769313486232e+308</td>\n      <td>1.79769313486232e+308</td>\n      <td>1.79769313486232e+308</td>\n      <td>1.79769313486232e+308</td>\n      <td>1.79769313486232e+308</td>\n      <td>1.79769313486232e+308</td>\n      <td>1.79769313486232e+308</td>\n    </tr>\n  </tbody>\n</table>\n<p>4 rows × 50 columns</p>\n</div>"
     },
     "metadata": {},
     "execution_count": 71
    }
   ],
   "source": [
    "df.loc[:3] # We got 1 more row on this "
   ]
  },
  {
   "source": [
    "Problem: Select only those values in df4 that relate to the concessionary loans (as described on the variable description file) to various sectors in africa"
   ],
   "cell_type": "markdown",
   "metadata": {}
  },
  {
   "cell_type": "code",
   "execution_count": 65,
   "metadata": {},
   "outputs": [
    {
     "output_type": "execute_result",
     "data": {
      "text/plain": [
       "              cnlnenp            cnlninp             cnlntacp  \\\n",
       "0                   0  0.320718288421631  0.00690389983355999   \n",
       "1                   0  0.320718288421631  0.00690389983355999   \n",
       "2                   0  0.317928194999695  0.00292750005610287   \n",
       "3                   0  0.185248598456383    0.567323684692383   \n",
       "13  0.703820884227753   2.31013488769531    0.713891804218292   \n",
       "\n",
       "             cnlnedup           cnlnhthp           cnlnothp  \n",
       "0                   0                  0  0.289336889982224  \n",
       "1                   0                  0  0.289336889982224  \n",
       "2                   0                  0  0.124712198972702  \n",
       "3                   0                  0  0.616943776607513  \n",
       "13  0.320209890604019  0.201189801096916   3.35064506530762  "
      ],
      "text/html": "<div>\n<style scoped>\n    .dataframe tbody tr th:only-of-type {\n        vertical-align: middle;\n    }\n\n    .dataframe tbody tr th {\n        vertical-align: top;\n    }\n\n    .dataframe thead th {\n        text-align: right;\n    }\n</style>\n<table border=\"1\" class=\"dataframe\">\n  <thead>\n    <tr style=\"text-align: right;\">\n      <th></th>\n      <th>cnlnenp</th>\n      <th>cnlninp</th>\n      <th>cnlntacp</th>\n      <th>cnlnedup</th>\n      <th>cnlnhthp</th>\n      <th>cnlnothp</th>\n    </tr>\n  </thead>\n  <tbody>\n    <tr>\n      <th>0</th>\n      <td>0</td>\n      <td>0.320718288421631</td>\n      <td>0.00690389983355999</td>\n      <td>0</td>\n      <td>0</td>\n      <td>0.289336889982224</td>\n    </tr>\n    <tr>\n      <th>1</th>\n      <td>0</td>\n      <td>0.320718288421631</td>\n      <td>0.00690389983355999</td>\n      <td>0</td>\n      <td>0</td>\n      <td>0.289336889982224</td>\n    </tr>\n    <tr>\n      <th>2</th>\n      <td>0</td>\n      <td>0.317928194999695</td>\n      <td>0.00292750005610287</td>\n      <td>0</td>\n      <td>0</td>\n      <td>0.124712198972702</td>\n    </tr>\n    <tr>\n      <th>3</th>\n      <td>0</td>\n      <td>0.185248598456383</td>\n      <td>0.567323684692383</td>\n      <td>0</td>\n      <td>0</td>\n      <td>0.616943776607513</td>\n    </tr>\n    <tr>\n      <th>13</th>\n      <td>0.703820884227753</td>\n      <td>2.31013488769531</td>\n      <td>0.713891804218292</td>\n      <td>0.320209890604019</td>\n      <td>0.201189801096916</td>\n      <td>3.35064506530762</td>\n    </tr>\n  </tbody>\n</table>\n</div>"
     },
     "metadata": {},
     "execution_count": 65
    }
   ],
   "source": [
    "# Solution\n",
    "df4[df4.columns[23:29]].head()"
   ]
  },
  {
   "source": [
    "### 2.6. Grouping, Calculation of Aggregate & Bining"
   ],
   "cell_type": "markdown",
   "metadata": {}
  },
  {
   "cell_type": "code",
   "execution_count": 78,
   "metadata": {},
   "outputs": [
    {
     "output_type": "execute_result",
     "data": {
      "text/plain": [
       "{('Botswana', 1976): [34], ('Botswana', 1987): [45], ('Botswana', 1988): [46], ('Botswana', 1994): [52], ('Burkina Faso', 1973): [5], ('Burkina Faso', 1975): [7], ('Burkina Faso', 1976): [8], ('Burkina Faso', 1980): [12], ('Burkina Faso', 1983): [15], ('Burkina Faso', 1988): [20], ('Burkina Faso', 1990): [22], ('Burkina Faso', 1994): [26], ('Cameroon', 1971): [55], ('Cameroon', 1975): [59], ('Cameroon', 1979): [63], ('Cameroon', 1980): [64], ('Cameroon', 1982): [66], ('Cameroon', 1989): [73], ('Cameroon', 1990): [74], ('Ethiopia', 1971): [81], ('Ethiopia', 1979): [89], ('Ethiopia', 1980): [90], ('Ethiopia', 1982): [92], ('Ethiopia', 1991): [101], ('Gambia, The', 1971): [133], ('Gambia, The', 1974): [136], ('Gambia, The', 1975): [137], ('Gambia, The', 1982): [144], ('Gambia, The', 1988): [150], ('Gambia, The', 1990): [152], ('Ghana', 1970): [106], ('Ghana', 1972): [108], ('Ghana', 1975): [111], ('Ghana', 1982): [118], ('Ghana', 1986): [122], ('Ghana', 1993): [129], ('Kenya', 1970): [158], ('Kenya', 1978): [166], ('Kenya', 1985): [173], ('Kenya', 1987): [175], ('Kenya', 1988): [176], ('Kenya', 1991): [179], ('Kenya', 1994): [182], ('Lesotho', 1972): [212], ('Lesotho', 1974): [214], ('Lesotho', 1975): [215], ('Lesotho', 1976): [216], ('Lesotho', 1981): [221], ('Lesotho', 1983): [223], ('Lesotho', 1984): [224], ('Lesotho', 1985): [225], ('Lesotho', 1986): [226], ('Lesotho', 1987): [227], ('Lesotho', 1990): [230], ('Lesotho', 1994): [234], ('Liberia', 1970): [184], ('Liberia', 1976): [190], ('Liberia', 1987): [201], ('Liberia', 1991): [205], ('Madagascar', 1972): [238], ('Madagascar', 1973): [239], ('Madagascar', 1975): [241], ('Madagascar', 1980): [246], ('Madagascar', 1984): [250], ('Madagascar', 1987): [253], ('Madagascar', 1988): [254], ('Madagascar', 1995): [261], ('Malawi', 1974): [294], ('Malawi', 1975): [295], ('Malawi', 1976): [296], ('Mauritius', 1970): [263], ('Mauritius', 1978): [271], ('Mauritius', 1989): [282], ('Mauritius', 1992): [285], ('Mauritius', 1993): [286]}"
      ]
     },
     "metadata": {},
     "execution_count": 78
    }
   ],
   "source": [
    "# Group by multiple columns\n",
    "df1.groupby(['countryc', 'year']).groups\n"
   ]
  },
  {
   "cell_type": "code",
   "execution_count": 79,
   "metadata": {},
   "outputs": [
    {
     "output_type": "execute_result",
     "data": {
      "text/plain": [
       "                        popn\n",
       "countryc     year           \n",
       "Botswana     1976   782650.0\n",
       "             1987  1154280.0\n",
       "             1988  1195140.0\n",
       "             1994  1420270.0\n",
       "Burkina Faso 1973  5958700.0\n",
       "...                      ...\n",
       "Mauritius    1970   829000.0\n",
       "             1978   930800.0\n",
       "             1989  1048560.0\n",
       "             1992  1081000.0\n",
       "             1993  1097000.0\n",
       "\n",
       "[75 rows x 1 columns]"
      ],
      "text/html": "<div>\n<style scoped>\n    .dataframe tbody tr th:only-of-type {\n        vertical-align: middle;\n    }\n\n    .dataframe tbody tr th {\n        vertical-align: top;\n    }\n\n    .dataframe thead th {\n        text-align: right;\n    }\n</style>\n<table border=\"1\" class=\"dataframe\">\n  <thead>\n    <tr style=\"text-align: right;\">\n      <th></th>\n      <th></th>\n      <th>popn</th>\n    </tr>\n    <tr>\n      <th>countryc</th>\n      <th>year</th>\n      <th></th>\n    </tr>\n  </thead>\n  <tbody>\n    <tr>\n      <th rowspan=\"4\" valign=\"top\">Botswana</th>\n      <th>1976</th>\n      <td>782650.0</td>\n    </tr>\n    <tr>\n      <th>1987</th>\n      <td>1154280.0</td>\n    </tr>\n    <tr>\n      <th>1988</th>\n      <td>1195140.0</td>\n    </tr>\n    <tr>\n      <th>1994</th>\n      <td>1420270.0</td>\n    </tr>\n    <tr>\n      <th>Burkina Faso</th>\n      <th>1973</th>\n      <td>5958700.0</td>\n    </tr>\n    <tr>\n      <th>...</th>\n      <th>...</th>\n      <td>...</td>\n    </tr>\n    <tr>\n      <th rowspan=\"5\" valign=\"top\">Mauritius</th>\n      <th>1970</th>\n      <td>829000.0</td>\n    </tr>\n    <tr>\n      <th>1978</th>\n      <td>930800.0</td>\n    </tr>\n    <tr>\n      <th>1989</th>\n      <td>1048560.0</td>\n    </tr>\n    <tr>\n      <th>1992</th>\n      <td>1081000.0</td>\n    </tr>\n    <tr>\n      <th>1993</th>\n      <td>1097000.0</td>\n    </tr>\n  </tbody>\n</table>\n<p>75 rows × 1 columns</p>\n</div>"
     },
     "metadata": {},
     "execution_count": 79
    }
   ],
   "source": [
    "# Calculate the Aggregate of a group\n",
    "df1.groupby(['countryc', 'year']).agg(np.mean)"
   ]
  },
  {
   "source": [
    "![](https://raw.githubusercontent.com/VinitaSilaparasetty/Coursera-Intermediate-Pandas/master/media/binning%20data.gif)\n",
    "\n",
    "If a data scientist is working with demographic data for example, there might be different age gruops. Each age group can be considered a bin. Each individual will go into their respective bin"
   ],
   "cell_type": "markdown",
   "metadata": {}
  },
  {
   "cell_type": "code",
   "execution_count": 81,
   "metadata": {},
   "outputs": [
    {
     "output_type": "execute_result",
     "data": {
      "text/plain": [
       "(301, 50)"
      ]
     },
     "metadata": {},
     "execution_count": 81
    }
   ],
   "source": [
    "# qcut function calculatesthe size of each bin to ensure that the distribution of the data in the bins is equal\n",
    "\n",
    "# We need to understand the number of bins we require \n",
    "# > To get a good estimation for that we need to understaand the shape of the data\n",
    "df.shape # numRows, numColumns"
   ]
  },
  {
   "cell_type": "code",
   "execution_count": 84,
   "metadata": {},
   "outputs": [
    {
     "output_type": "execute_result",
     "data": {
      "text/plain": [
       "(16616600.0, 56404000.0]       43\n",
       "(2652272.857, 7886652.857]     43\n",
       "(463999.999, 953097.143]       43\n",
       "(10664697.143, 16616600.0]     42\n",
       "(7886652.857, 10664697.143]    42\n",
       "(1377285.714, 2652272.857]     42\n",
       "(953097.143, 1377285.714]      42\n",
       "Name: popn, dtype: int64"
      ]
     },
     "metadata": {},
     "execution_count": 84
    }
   ],
   "source": [
    "pd.qcut(df['popn'], q=7 ).value_counts() # Because 301 is a multiple of 7"
   ]
  },
  {
   "source": [
    "so we have 3 bins with 43 values and 4 bins with 42 values."
   ],
   "cell_type": "markdown",
   "metadata": {}
  }
 ],
 "metadata": {
  "kernelspec": {
   "display_name": "Python 3",
   "language": "python",
   "name": "python3"
  },
  "language_info": {
   "codemirror_mode": {
    "name": "ipython",
    "version": 3
   },
   "file_extension": ".py",
   "mimetype": "text/x-python",
   "name": "python",
   "nbconvert_exporter": "python",
   "pygments_lexer": "ipython3",
   "version": "3.8.6-final"
  }
 },
 "nbformat": 4,
 "nbformat_minor": 4
}